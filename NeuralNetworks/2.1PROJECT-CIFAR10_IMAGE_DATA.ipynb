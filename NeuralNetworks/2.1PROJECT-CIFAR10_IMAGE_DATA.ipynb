{
 "cells": [
  {
   "cell_type": "markdown",
   "metadata": {},
   "source": [
    "In this notebook I evaluated the CIFAR10 dataset and trained an necessarily large Deep Neural Network using several bad practices and some good ones. The purpose behind this exercise was to demonstrate which combination of acitvation functions and optimizers help produce a faster, more accurate model. \n",
    "\n",
    "The aim of the notebook was: \n",
    "1. Use Tensorboard to help find the learning rate whenever you change the network architecture\n",
    "2. I used ELU and SELU as the activation functions.\n",
    "3. Explore what Batch Normalization does and its affect on speeding up trying by allowing a larger learning rate.\n",
    "4. Apply AlphaDropout regularization with SELU as the activation function model and then use Monte Carlo (MC) Dropout. \n",
    "5. Use 1Cycle Scheduling \n",
    "6. Understand the importance of convergence speed and finding the best model with few epochs.  \n",
    "\n",
    "\n",
    "<i>Please be mindful, in order for me to reduce run time of training the deep neural networks, I have reduced the batch_size and have only kept the best learning rates within the notebook, based on the 5 learning rates I applied per neural network architecture change. The purpose of this notebook is to understand what can be done to improve wall time and convergence rather than sitting around waiting for your model to train. I have kept one example below on how I searched for the best learning rate, by simply using a for loop and observing the best model (i.e. High Accuracy and Low Loss) for only 10 epochs. Furthermore, the accuracy of the models presented here can be signifcantly improved by reducing the number of layers and using a Conventional Neural Network."
   ]
  },
  {
   "cell_type": "code",
   "execution_count": 1,
   "metadata": {},
   "outputs": [],
   "source": [
    "#useful imports\n",
    "import pandas as pd\n",
    "import numpy as np\n",
    "import matplotlib.pyplot as plt\n",
    "from tensorflow import keras\n",
    "import tensorflow as tf\n",
    "import os\n",
    "tf.random.set_seed(42)\n",
    "np.random.seed(42)"
   ]
  },
  {
   "cell_type": "markdown",
   "metadata": {},
   "source": [
    "# Load Data"
   ]
  },
  {
   "cell_type": "code",
   "execution_count": 2,
   "metadata": {},
   "outputs": [],
   "source": [
    "(X_train_val, y_train_val), (X_test, y_test) = keras.datasets.cifar10.load_data()"
   ]
  },
  {
   "cell_type": "markdown",
   "metadata": {},
   "source": [
    "# Explore Data"
   ]
  },
  {
   "cell_type": "code",
   "execution_count": 3,
   "metadata": {},
   "outputs": [
    {
     "name": "stdout",
     "output_type": "stream",
     "text": [
      "(50000, 32, 32, 3)\n",
      "(10000, 32, 32, 3)\n",
      "(32, 32, 3)\n"
     ]
    }
   ],
   "source": [
    "print(X_train_val.shape)\n",
    "print(X_test.shape)\n",
    "print(X_train_val[1].shape)"
   ]
  },
  {
   "cell_type": "code",
   "execution_count": 4,
   "metadata": {},
   "outputs": [
    {
     "data": {
      "image/png": "[encoded data removed]",
      "text/plain": [
       "<Figure size 108x108 with 1 Axes>"
      ]
     },
     "metadata": {
      "needs_background": "light"
     },
     "output_type": "display_data"
    }
   ],
   "source": [
    "plt.figure(figsize= (1.5, 1.5))\n",
    "plt.imshow(X_train_val[1]) #Image of a Truck\n",
    "plt.axis('off')\n",
    "plt.show()"
   ]
  },
  {
   "cell_type": "code",
   "execution_count": 5,
   "metadata": {
    "scrolled": true
   },
   "outputs": [
    {
     "data": {
      "text/plain": [
       "array([[[154, 177, 187],\n",
       "        [126, 137, 136],\n",
       "        [105, 104,  95],\n",
       "        ...,\n",
       "        [ 91,  95,  71],\n",
       "        [ 87,  90,  71],\n",
       "        [ 79,  81,  70]],\n",
       "\n",
       "       [[140, 160, 169],\n",
       "        [145, 153, 154],\n",
       "        [125, 125, 118],\n",
       "        ...,\n",
       "        [ 96,  99,  78],\n",
       "        [ 77,  80,  62],\n",
       "        [ 71,  73,  61]],\n",
       "\n",
       "       [[140, 155, 164],\n",
       "        [139, 146, 149],\n",
       "        [115, 115, 112],\n",
       "        ...,\n",
       "        [ 79,  82,  64],\n",
       "        [ 68,  70,  55],\n",
       "        [ 67,  69,  55]],\n",
       "\n",
       "       ...,\n",
       "\n",
       "       [[175, 167, 166],\n",
       "        [156, 154, 160],\n",
       "        [154, 160, 170],\n",
       "        ...,\n",
       "        [ 42,  34,  36],\n",
       "        [ 61,  53,  57],\n",
       "        [ 93,  83,  91]],\n",
       "\n",
       "       [[165, 154, 128],\n",
       "        [156, 152, 130],\n",
       "        [159, 161, 142],\n",
       "        ...,\n",
       "        [103,  93,  96],\n",
       "        [123, 114, 120],\n",
       "        [131, 121, 131]],\n",
       "\n",
       "       [[163, 148, 120],\n",
       "        [158, 148, 122],\n",
       "        [163, 156, 133],\n",
       "        ...,\n",
       "        [143, 133, 139],\n",
       "        [143, 134, 142],\n",
       "        [143, 133, 144]]], dtype=uint8)"
      ]
     },
     "execution_count": 5,
     "metadata": {},
     "output_type": "execute_result"
    }
   ],
   "source": [
    "X_train_val[1]"
   ]
  },
  {
   "cell_type": "code",
   "execution_count": 6,
   "metadata": {},
   "outputs": [
    {
     "data": {
      "text/plain": [
       "255"
      ]
     },
     "execution_count": 6,
     "metadata": {},
     "output_type": "execute_result"
    }
   ],
   "source": [
    "X_train_val.max() #confirm that the max value is 255, as with all RGB images"
   ]
  },
  {
   "cell_type": "code",
   "execution_count": 7,
   "metadata": {},
   "outputs": [
    {
     "data": {
      "text/plain": [
       "0"
      ]
     },
     "execution_count": 7,
     "metadata": {},
     "output_type": "execute_result"
    }
   ],
   "source": [
    "X_train_val.min() #confirm that the min value is 0, as with all RGB images"
   ]
  },
  {
   "cell_type": "code",
   "execution_count": 8,
   "metadata": {},
   "outputs": [
    {
     "data": {
      "text/plain": [
       "(32, 32, 3)"
      ]
     },
     "execution_count": 8,
     "metadata": {},
     "output_type": "execute_result"
    }
   ],
   "source": [
    "X_train_val[1].shape #32 x 32 pixel RGB image"
   ]
  },
  {
   "cell_type": "code",
   "execution_count": 9,
   "metadata": {},
   "outputs": [
    {
     "data": {
      "image/png": "[encoded data removed]",
      "text/plain": [
       "<Figure size 108x108 with 1 Axes>"
      ]
     },
     "metadata": {
      "needs_background": "light"
     },
     "output_type": "display_data"
    }
   ],
   "source": [
    "X_train_val[1][30]\n",
    "\n",
    "plt.figure(figsize= (1.5, 1.5))\n",
    "plt.imshow(X_train_val[1][31]) #Slice of the Truck above (there are 32 slices)\n",
    "plt.axis('off')\n",
    "plt.show()"
   ]
  },
  {
   "cell_type": "code",
   "execution_count": 10,
   "metadata": {},
   "outputs": [
    {
     "data": {
      "text/plain": [
       "(32, 3)"
      ]
     },
     "execution_count": 10,
     "metadata": {},
     "output_type": "execute_result"
    }
   ],
   "source": [
    "X_train_val[1][31].shape #Each slide has an RGB column vectors"
   ]
  },
  {
   "cell_type": "code",
   "execution_count": 11,
   "metadata": {},
   "outputs": [
    {
     "data": {
      "text/plain": [
       "array([[6],\n",
       "       [9],\n",
       "       [9],\n",
       "       [4],\n",
       "       [1],\n",
       "       [1],\n",
       "       [2],\n",
       "       [7],\n",
       "       [8],\n",
       "       [3],\n",
       "       [4],\n",
       "       [7],\n",
       "       [7],\n",
       "       [2],\n",
       "       [9],\n",
       "       [9],\n",
       "       [9],\n",
       "       [3],\n",
       "       [2],\n",
       "       [6]], dtype=uint8)"
      ]
     },
     "execution_count": 11,
     "metadata": {},
     "output_type": "execute_result"
    }
   ],
   "source": [
    "y_train_val[:20] #y values contain classes"
   ]
  },
  {
   "cell_type": "markdown",
   "metadata": {},
   "source": [
    "# Split Data into Train, Validation and Test"
   ]
  },
  {
   "cell_type": "code",
   "execution_count": 12,
   "metadata": {},
   "outputs": [],
   "source": [
    "X_train, X_val = X_train_val[5000:], X_train_val[:5000]\n",
    "y_train, y_val = y_train_val[5000:], y_train_val[:5000]"
   ]
  },
  {
   "cell_type": "markdown",
   "metadata": {},
   "source": [
    "# Build Neural Network \n",
    "The first model will be larger than required but will provide a few good learning points."
   ]
  },
  {
   "cell_type": "code",
   "execution_count": 13,
   "metadata": {},
   "outputs": [
    {
     "name": "stdout",
     "output_type": "stream",
     "text": [
      "Model: \"sequential\"\n",
      "_________________________________________________________________\n",
      "Layer (type)                 Output Shape              Param #   \n",
      "=================================================================\n",
      "flatten (Flatten)            (None, 3072)              0         \n",
      "_________________________________________________________________\n",
      "dense (Dense)                (None, 100)               307300    \n",
      "_________________________________________________________________\n",
      "dense_1 (Dense)              (None, 100)               10100     \n",
      "_________________________________________________________________\n",
      "dense_2 (Dense)              (None, 100)               10100     \n",
      "_________________________________________________________________\n",
      "dense_3 (Dense)              (None, 100)               10100     \n",
      "_________________________________________________________________\n",
      "dense_4 (Dense)              (None, 100)               10100     \n",
      "_________________________________________________________________\n",
      "dense_5 (Dense)              (None, 100)               10100     \n",
      "_________________________________________________________________\n",
      "dense_6 (Dense)              (None, 100)               10100     \n",
      "_________________________________________________________________\n",
      "dense_7 (Dense)              (None, 100)               10100     \n",
      "_________________________________________________________________\n",
      "dense_8 (Dense)              (None, 100)               10100     \n",
      "_________________________________________________________________\n",
      "dense_9 (Dense)              (None, 100)               10100     \n",
      "_________________________________________________________________\n",
      "dense_10 (Dense)             (None, 100)               10100     \n",
      "_________________________________________________________________\n",
      "dense_11 (Dense)             (None, 100)               10100     \n",
      "_________________________________________________________________\n",
      "dense_12 (Dense)             (None, 100)               10100     \n",
      "_________________________________________________________________\n",
      "dense_13 (Dense)             (None, 100)               10100     \n",
      "_________________________________________________________________\n",
      "dense_14 (Dense)             (None, 100)               10100     \n",
      "_________________________________________________________________\n",
      "dense_15 (Dense)             (None, 100)               10100     \n",
      "_________________________________________________________________\n",
      "dense_16 (Dense)             (None, 100)               10100     \n",
      "_________________________________________________________________\n",
      "dense_17 (Dense)             (None, 100)               10100     \n",
      "_________________________________________________________________\n",
      "dense_18 (Dense)             (None, 100)               10100     \n",
      "_________________________________________________________________\n",
      "dense_19 (Dense)             (None, 100)               10100     \n",
      "_________________________________________________________________\n",
      "dense_20 (Dense)             (None, 10)                1010      \n",
      "=================================================================\n",
      "Total params: 500,210\n",
      "Trainable params: 500,210\n",
      "Non-trainable params: 0\n",
      "_________________________________________________________________\n"
     ]
    }
   ],
   "source": [
    "from functools import partial\n",
    "\n",
    "He_ELU_layer = partial(keras.layers.Dense,  kernel_initializer= 'he_normal', activation= 'elu')\n",
    "\n",
    "model = keras.models.Sequential()\n",
    "model.add(keras.layers.Flatten(input_shape= [32, 32, 3]))\n",
    "for layer in range(20):\n",
    "    model.add(He_ELU_layer(100))\n",
    "\n",
    "model.add(keras.layers.Dense(10, activation= 'softmax'))\n",
    "model.summary()"
   ]
  },
  {
   "cell_type": "markdown",
   "metadata": {},
   "source": [
    "# Compile Model - Callbacks, Optimizers, Loss, Metrics\n",
    "First, create callbacks Tensor board, EarlyStopping and ModelCheckpoint\n",
    "\n",
    "We will then use Nadam as the optimizer, where we will have to find the right learning rate."
   ]
  },
  {
   "cell_type": "code",
   "execution_count": 14,
   "metadata": {},
   "outputs": [],
   "source": [
    "#Early stopping and Model checkpoint Callbacks are easy to implement\n",
    "early_stoppping_cb= keras.callbacks.EarlyStopping(patience=10)\n",
    "model_checkpoint_cb= keras.callbacks.ModelCheckpoint('CIFA10_model.h5', save_best_only=True) #save the best model\n",
    "\n",
    "run_index=6 #change values of the run index so we can plot all learning curves on tensorboard \n",
    "#create log directory\n",
    "run_log = os.path.join(os.curdir, 'CIFAR10_data_logs', \"run_{:03d}\".format(run_index))\n",
    "\n",
    "tensorboard_cb = keras.callbacks.TensorBoard(run_log) \n",
    "callbacks = [early_stoppping_cb, model_checkpoint_cb, tensorboard_cb]"
   ]
  },
  {
   "cell_type": "markdown",
   "metadata": {},
   "source": [
    "Now, let's find the right learning rate for Nadam using the tensorboard learning rate plot for the first 10 epochs.\n",
    "\n",
    "__Fire up the tensorboard__ by first setting the file path to the Jupyter notebook's directory then through the command line load tensorboard,  with the flag --logdir=< The location of your log files > and --port=6006.\n",
    "\n",
    "I used Tensorboard to find the learning rate used (below). My previous Runs has learning rates 0.001, 0.003, 0.0001, 0.0003, 0.00001, 0.00003,  \n",
    "\n",
    "__note__: If you have loaded a previous tensorboard server before - through Jupyter notebook OR command line - ensure that this is closed. You can make sure by closing the notebook (plus powershell) and starting it again. I learnt this the hard way. You can also see the location of the current working directory that the tensorboard is using on the bottom left, ensure this the location of where you are saving your logs."
   ]
  },
  {
   "cell_type": "code",
   "execution_count": 15,
   "metadata": {},
   "outputs": [],
   "source": [
    "optimizer =  keras.optimizers.Nadam(learning_rate= 5e-5)\n",
    "\n",
    "model.compile(optimizer= optimizer,\n",
    "             loss= 'sparse_categorical_crossentropy',\n",
    "             metrics= ['accuracy'])"
   ]
  },
  {
   "cell_type": "markdown",
   "metadata": {},
   "source": [
    "# Train ELU Model with Epochs, Validation Data, Callbacks"
   ]
  },
  {
   "cell_type": "code",
   "execution_count": 16,
   "metadata": {},
   "outputs": [
    {
     "name": "stdout",
     "output_type": "stream",
     "text": [
      "Epoch 1/10\n",
      "   2/1407 [..............................] - ETA: 31:44 - loss: 133.4806 - accuracy: 0.1250WARNING:tensorflow:Method (on_train_batch_end) is slow compared to the batch update (1.409046). Check your callbacks.\n",
      "WARNING:tensorflow:Method (on_train_batch_end) is slow compared to the batch update (0.198579). Check your callbacks.\n",
      "1407/1407 [==============================] - 29s 21ms/step - loss: 4.0040 - accuracy: 0.1692 - val_loss: 2.2040 - val_accuracy: 0.2220\n",
      "Epoch 2/10\n",
      "1407/1407 [==============================] - 26s 18ms/step - loss: 2.0494 - accuracy: 0.2545 - val_loss: 1.9715 - val_accuracy: 0.2738\n",
      "Epoch 3/10\n",
      "1407/1407 [==============================] - 29s 20ms/step - loss: 1.9249 - accuracy: 0.2970 - val_loss: 1.9274 - val_accuracy: 0.2976\n",
      "Epoch 4/10\n",
      "1407/1407 [==============================] - 24s 17ms/step - loss: 1.8480 - accuracy: 0.3286 - val_loss: 1.9271 - val_accuracy: 0.3064\n",
      "Epoch 5/10\n",
      "1407/1407 [==============================] - 23s 17ms/step - loss: 1.7850 - accuracy: 0.3526 - val_loss: 1.8405 - val_accuracy: 0.3282\n",
      "Epoch 6/10\n",
      "1407/1407 [==============================] - 26s 18ms/step - loss: 1.7365 - accuracy: 0.3735 - val_loss: 1.7234 - val_accuracy: 0.3660\n",
      "Epoch 7/10\n",
      "1407/1407 [==============================] - 23s 17ms/step - loss: 1.6839 - accuracy: 0.3920 - val_loss: 1.6635 - val_accuracy: 0.3906\n",
      "Epoch 8/10\n",
      "1407/1407 [==============================] - 23s 17ms/step - loss: 1.6457 - accuracy: 0.4091 - val_loss: 1.6351 - val_accuracy: 0.4064\n",
      "Epoch 9/10\n",
      "1407/1407 [==============================] - 23s 16ms/step - loss: 1.6131 - accuracy: 0.4182 - val_loss: 1.6440 - val_accuracy: 0.4094\n",
      "Epoch 10/10\n",
      "1407/1407 [==============================] - 23s 16ms/step - loss: 1.5870 - accuracy: 0.4295 - val_loss: 1.6597 - val_accuracy: 0.3970\n"
     ]
    },
    {
     "data": {
      "text/plain": [
       "<tensorflow.python.keras.callbacks.History at 0x2890235bc40>"
      ]
     },
     "execution_count": 16,
     "metadata": {},
     "output_type": "execute_result"
    }
   ],
   "source": [
    "model.fit(X_train, y_train, epochs= 10,\n",
    "                   validation_data=(X_val, y_val),\n",
    "                    callbacks= [callbacks])"
   ]
  },
  {
   "cell_type": "code",
   "execution_count": 17,
   "metadata": {},
   "outputs": [
    {
     "name": "stdout",
     "output_type": "stream",
     "text": [
      "157/157 [==============================] - 1s 4ms/step - loss: 1.6351 - accuracy: 0.4064\n"
     ]
    },
    {
     "data": {
      "text/plain": [
       "[1.6350537538528442, 0.40639999508857727]"
      ]
     },
     "execution_count": 17,
     "metadata": {},
     "output_type": "execute_result"
    }
   ],
   "source": [
    "#load best model \n",
    "model = keras.models.load_model('CIFA10_model.h5')\n",
    "model.evaluate(X_val, y_val)"
   ]
  },
  {
   "cell_type": "markdown",
   "metadata": {},
   "source": [
    "I started training the above before dinner and the accuracy had not improved much, considering the long training time length there was no point continuing training. This model is clearly not great for our dataset. We should try adding Batch Normalization. \n",
    "\n",
    "Note, I will now save the logs to a new directory called RunNB. "
   ]
  },
  {
   "cell_type": "code",
   "execution_count": 18,
   "metadata": {},
   "outputs": [],
   "source": [
    "keras.backend.clear_session()"
   ]
  },
  {
   "cell_type": "markdown",
   "metadata": {},
   "source": [
    "# ELU with Batch Normalization \n",
    "BN with ELU will help reduce wall time so let's add this into the layers.\n",
    "I will add the code in one cell for convenience. \n",
    "\n",
    "There is debate about implementing BN before the Dense layer or activation function, to save a bit of typing let's try before and after. The code looks more beautiful to me. "
   ]
  },
  {
   "cell_type": "code",
   "execution_count": 19,
   "metadata": {},
   "outputs": [
    {
     "name": "stdout",
     "output_type": "stream",
     "text": [
      "Epoch 1/10\n",
      "   2/1407 [..............................] - ETA: 2:29:05 - loss: 3.1042 - accuracy: 0.1562WARNING:tensorflow:Method (on_train_batch_end) is slow compared to the batch update (6.354290). Check your callbacks.\n",
      "1407/1407 [==============================] - 54s 39ms/step - loss: 2.1339 - accuracy: 0.2428 - val_loss: 1.8305 - val_accuracy: 0.3358\n",
      "Epoch 2/10\n",
      "1407/1407 [==============================] - 40s 29ms/step - loss: 1.8540 - accuracy: 0.3354 - val_loss: 1.7101 - val_accuracy: 0.3798\n",
      "Epoch 3/10\n",
      "1407/1407 [==============================] - 40s 29ms/step - loss: 1.7573 - accuracy: 0.3717 - val_loss: 1.6322 - val_accuracy: 0.4084\n",
      "Epoch 4/10\n",
      "1407/1407 [==============================] - 41s 29ms/step - loss: 1.6908 - accuracy: 0.3953 - val_loss: 1.5784 - val_accuracy: 0.4340\n",
      "Epoch 5/10\n",
      "1407/1407 [==============================] - 40s 28ms/step - loss: 1.6394 - accuracy: 0.4166 - val_loss: 1.5385 - val_accuracy: 0.4512\n",
      "Epoch 6/10\n",
      "1407/1407 [==============================] - 39s 28ms/step - loss: 1.5962 - accuracy: 0.4320 - val_loss: 1.4991 - val_accuracy: 0.4610\n",
      "Epoch 7/10\n",
      "1407/1407 [==============================] - 39s 28ms/step - loss: 1.5567 - accuracy: 0.4464 - val_loss: 1.4941 - val_accuracy: 0.4700\n",
      "Epoch 8/10\n",
      "1407/1407 [==============================] - 41s 29ms/step - loss: 1.5217 - accuracy: 0.4586 - val_loss: 1.4720 - val_accuracy: 0.4692\n",
      "Epoch 9/10\n",
      "1407/1407 [==============================] - 43s 30ms/step - loss: 1.4924 - accuracy: 0.4714 - val_loss: 1.4368 - val_accuracy: 0.4858\n",
      "Epoch 10/10\n",
      "1407/1407 [==============================] - 41s 29ms/step - loss: 1.4671 - accuracy: 0.4788 - val_loss: 1.4184 - val_accuracy: 0.4924\n",
      "Epoch 1/10\n",
      "   2/1407 [..............................] - ETA: 2:45:16 - loss: 1.4163 - accuracy: 0.4844WARNING:tensorflow:Method (on_train_batch_end) is slow compared to the batch update (7.047533). Check your callbacks.\n",
      "1407/1407 [==============================] - 54s 38ms/step - loss: 1.5422 - accuracy: 0.4528 - val_loss: 1.5112 - val_accuracy: 0.4664\n",
      "Epoch 2/10\n",
      "1407/1407 [==============================] - 40s 28ms/step - loss: 1.5029 - accuracy: 0.4669 - val_loss: 1.5613 - val_accuracy: 0.4408\n",
      "Epoch 3/10\n",
      "1407/1407 [==============================] - 40s 28ms/step - loss: 1.4671 - accuracy: 0.4804 - val_loss: 1.4306 - val_accuracy: 0.4848\n",
      "Epoch 4/10\n",
      "1407/1407 [==============================] - 41s 29ms/step - loss: 1.4387 - accuracy: 0.4895 - val_loss: 1.4116 - val_accuracy: 0.4996\n",
      "Epoch 5/10\n",
      "1407/1407 [==============================] - 40s 29ms/step - loss: 1.4077 - accuracy: 0.5040 - val_loss: 1.4103 - val_accuracy: 0.5042\n",
      "Epoch 6/10\n",
      "1407/1407 [==============================] - 44s 31ms/step - loss: 1.3843 - accuracy: 0.5101 - val_loss: 1.3791 - val_accuracy: 0.5076\n",
      "Epoch 7/10\n",
      "1407/1407 [==============================] - 40s 29ms/step - loss: 1.3573 - accuracy: 0.5216 - val_loss: 1.3861 - val_accuracy: 0.5118\n",
      "Epoch 8/10\n",
      "1407/1407 [==============================] - 40s 29ms/step - loss: 1.3372 - accuracy: 0.5263 - val_loss: 1.3650 - val_accuracy: 0.5146\n",
      "Epoch 9/10\n",
      "1407/1407 [==============================] - 39s 28ms/step - loss: 1.3220 - accuracy: 0.5306 - val_loss: 1.3475 - val_accuracy: 0.5200\n",
      "Epoch 10/10\n",
      "1407/1407 [==============================] - 39s 28ms/step - loss: 1.2992 - accuracy: 0.5402 - val_loss: 1.3475 - val_accuracy: 0.5254\n",
      "Epoch 1/10\n",
      "   2/1407 [..............................] - ETA: 2:50:44 - loss: 1.1518 - accuracy: 0.5781WARNING:tensorflow:Method (on_train_batch_end) is slow compared to the batch update (7.279200). Check your callbacks.\n",
      "1407/1407 [==============================] - 54s 39ms/step - loss: 1.3443 - accuracy: 0.5280 - val_loss: 1.4107 - val_accuracy: 0.5024\n",
      "Epoch 2/10\n",
      "1407/1407 [==============================] - 41s 29ms/step - loss: 1.3272 - accuracy: 0.5312 - val_loss: 1.3764 - val_accuracy: 0.5194\n",
      "Epoch 3/10\n",
      "1407/1407 [==============================] - 42s 30ms/step - loss: 1.3088 - accuracy: 0.5388 - val_loss: 1.4118 - val_accuracy: 0.4980\n",
      "Epoch 4/10\n",
      "1407/1407 [==============================] - 39s 28ms/step - loss: 1.2943 - accuracy: 0.5426 - val_loss: 1.3985 - val_accuracy: 0.5168\n",
      "Epoch 5/10\n",
      "1407/1407 [==============================] - 38s 27ms/step - loss: 1.2722 - accuracy: 0.5543 - val_loss: 1.3712 - val_accuracy: 0.5108\n",
      "Epoch 6/10\n",
      "1407/1407 [==============================] - 39s 27ms/step - loss: 1.2555 - accuracy: 0.5561 - val_loss: 1.3858 - val_accuracy: 0.5092\n",
      "Epoch 7/10\n",
      "1407/1407 [==============================] - 39s 28ms/step - loss: 1.2383 - accuracy: 0.5628 - val_loss: 1.3632 - val_accuracy: 0.5192\n",
      "Epoch 8/10\n",
      "1407/1407 [==============================] - 38s 27ms/step - loss: 1.2127 - accuracy: 0.5742 - val_loss: 1.3790 - val_accuracy: 0.5238\n",
      "Epoch 9/10\n",
      "1407/1407 [==============================] - 39s 28ms/step - loss: 1.2107 - accuracy: 0.5770 - val_loss: 1.3457 - val_accuracy: 0.5386\n",
      "Epoch 10/10\n",
      "1407/1407 [==============================] - 39s 28ms/step - loss: 1.1900 - accuracy: 0.5835 - val_loss: 1.3479 - val_accuracy: 0.5332\n",
      "Epoch 1/10\n",
      "   2/1407 [..............................] - ETA: 3:01:03 - loss: 1.0124 - accuracy: 0.6406WARNING:tensorflow:Method (on_train_batch_end) is slow compared to the batch update (7.720670). Check your callbacks.\n",
      "1407/1407 [==============================] - 55s 39ms/step - loss: 1.3084 - accuracy: 0.5442 - val_loss: 1.4856 - val_accuracy: 0.4994\n",
      "Epoch 2/10\n",
      "1407/1407 [==============================] - 38s 27ms/step - loss: 1.2989 - accuracy: 0.5470 - val_loss: 1.4728 - val_accuracy: 0.4908\n",
      "Epoch 3/10\n",
      "1407/1407 [==============================] - 38s 27ms/step - loss: 1.2807 - accuracy: 0.5539 - val_loss: 1.4014 - val_accuracy: 0.5130\n",
      "Epoch 4/10\n",
      "1407/1407 [==============================] - 38s 27ms/step - loss: 1.2723 - accuracy: 0.5548 - val_loss: 1.4430 - val_accuracy: 0.5108\n",
      "Epoch 5/10\n",
      "1407/1407 [==============================] - 38s 27ms/step - loss: 1.2542 - accuracy: 0.5647 - val_loss: 1.4395 - val_accuracy: 0.5082\n",
      "Epoch 6/10\n",
      "1407/1407 [==============================] - 38s 27ms/step - loss: 1.2411 - accuracy: 0.5651 - val_loss: 1.3946 - val_accuracy: 0.5150\n",
      "Epoch 7/10\n",
      "1407/1407 [==============================] - 39s 28ms/step - loss: 1.2175 - accuracy: 0.5730 - val_loss: 1.4139 - val_accuracy: 0.5210\n",
      "Epoch 8/10\n",
      "1407/1407 [==============================] - 41s 29ms/step - loss: 1.1979 - accuracy: 0.5845 - val_loss: 1.4004 - val_accuracy: 0.5272\n",
      "Epoch 9/10\n",
      "1407/1407 [==============================] - 38s 27ms/step - loss: 1.1883 - accuracy: 0.5903 - val_loss: 1.3666 - val_accuracy: 0.5306\n",
      "Epoch 10/10\n",
      "1407/1407 [==============================] - 38s 27ms/step - loss: 1.1726 - accuracy: 0.5925 - val_loss: 1.3626 - val_accuracy: 0.5270\n",
      "Epoch 1/10\n",
      "   2/1407 [..............................] - ETA: 2:21:01 - loss: 0.9865 - accuracy: 0.6719WARNING:tensorflow:Method (on_train_batch_end) is slow compared to the batch update (6.011150). Check your callbacks.\n",
      "1407/1407 [==============================] - 52s 37ms/step - loss: 1.4690 - accuracy: 0.4946 - val_loss: 1.5543 - val_accuracy: 0.4826\n",
      "Epoch 2/10\n",
      "1407/1407 [==============================] - 39s 28ms/step - loss: 1.4376 - accuracy: 0.5041 - val_loss: 1.5241 - val_accuracy: 0.4744\n",
      "Epoch 3/10\n",
      "1407/1407 [==============================] - 39s 28ms/step - loss: 1.4027 - accuracy: 0.5128 - val_loss: 1.5457 - val_accuracy: 0.4752\n",
      "Epoch 4/10\n",
      "1407/1407 [==============================] - 42s 30ms/step - loss: 1.3765 - accuracy: 0.5231 - val_loss: 1.4817 - val_accuracy: 0.4978\n",
      "Epoch 5/10\n",
      "1407/1407 [==============================] - 42s 30ms/step - loss: 1.3462 - accuracy: 0.5330 - val_loss: 1.4488 - val_accuracy: 0.4956\n",
      "Epoch 6/10\n",
      "1407/1407 [==============================] - 41s 29ms/step - loss: 1.3217 - accuracy: 0.5461 - val_loss: 1.4369 - val_accuracy: 0.5056\n",
      "Epoch 7/10\n",
      "1407/1407 [==============================] - 42s 30ms/step - loss: 1.3002 - accuracy: 0.5468 - val_loss: 1.5014 - val_accuracy: 0.4858\n",
      "Epoch 8/10\n",
      "1407/1407 [==============================] - 40s 29ms/step - loss: 1.2715 - accuracy: 0.5592 - val_loss: 1.4606 - val_accuracy: 0.5098\n",
      "Epoch 9/10\n"
     ]
    },
    {
     "name": "stdout",
     "output_type": "stream",
     "text": [
      "1407/1407 [==============================] - 39s 28ms/step - loss: 1.2589 - accuracy: 0.5647 - val_loss: 1.4005 - val_accuracy: 0.5230\n",
      "Epoch 10/10\n",
      "1407/1407 [==============================] - 39s 27ms/step - loss: 1.2354 - accuracy: 0.5729 - val_loss: 1.3931 - val_accuracy: 0.5302\n"
     ]
    }
   ],
   "source": [
    "model = keras.models.Sequential()\n",
    "model.add(keras.layers.Flatten(input_shape= [32, 32, 3]))\n",
    "\n",
    "#20 hidden layers with BN before\n",
    "for _ in range(20):\n",
    "    model.add(keras.layers.BatchNormalization())\n",
    "    model.add(He_ELU_layer(100))\n",
    "\n",
    "model.add(keras.layers.BatchNormalization())\n",
    "model.add(keras.layers.Dense(10, activation= 'softmax'))\n",
    "\n",
    "#callbacks\n",
    "early_stopping_cb =keras.callbacks.EarlyStopping(patience=10)\n",
    "checkpoint_cb = keras.callbacks.ModelCheckpoint('CIFAR10_BN_ELU.h5', save_best_only=True)\n",
    "\n",
    "for lr in (1e-4, 3e-4, 5e-4, 1e-3, 3e-3):\n",
    "    run_nb = os.path.join('CIFAR10_data_logs', 'Run_NB_LR_{}'.format(lr))\n",
    "    #compile model \n",
    "    tensorboard_cb = keras.callbacks.TensorBoard(run_nb)\n",
    "    \n",
    "    optimizer= keras.optimizers.Nadam(learning_rate= lr)\n",
    "    \n",
    "    model.compile(loss= keras.losses.sparse_categorical_crossentropy, metrics= ['accuracy'], optimizer=optimizer)\n",
    "    \n",
    "    model.fit(X_train, y_train, epochs= 10, validation_data= (X_val, y_val), \n",
    "              callbacks= [early_stopping_cb, checkpoint_cb, tensorboard_cb])\n",
    "    keras.backend.clear_session()\n"
   ]
  },
  {
   "cell_type": "code",
   "execution_count": 20,
   "metadata": {},
   "outputs": [
    {
     "name": "stdout",
     "output_type": "stream",
     "text": [
      "157/157 [==============================] - 1s 5ms/step - loss: 1.3457 - accuracy: 0.5386\n"
     ]
    },
    {
     "data": {
      "text/plain": [
       "[1.3457212448120117, 0.5386000275611877]"
      ]
     },
     "execution_count": 20,
     "metadata": {},
     "output_type": "execute_result"
    }
   ],
   "source": [
    "model = keras.models.load_model('CIFAR10_BN_ELU.h5')\n",
    "model.evaluate(X_val, y_val)"
   ]
  },
  {
   "cell_type": "markdown",
   "metadata": {},
   "source": [
    "A bigger gain (but still not great~52%) and Batch Normalization provided a faster convergence due to the larger learning rate.\n",
    "\n",
    "# SELU Activation\n",
    "First we need to do a bit of preprocessing, by using standardizing the inputs and using LeCun normal initialization"
   ]
  },
  {
   "cell_type": "markdown",
   "metadata": {},
   "source": [
    "\n",
    "## Preprocessing Step - Standardizing Features\n",
    "Before we train a network that uses the selu activation function we need the input values need to be scaled, as the values vary from 0 to 255."
   ]
  },
  {
   "cell_type": "code",
   "execution_count": 21,
   "metadata": {},
   "outputs": [],
   "source": [
    "pixel_means = X_train.mean(axis=0)\n",
    "pixel_std = X_train.std(axis=0)\n",
    "\n",
    "X_train_scaled = (X_train - pixel_means)/pixel_std\n",
    "X_val_scaled = (X_val - pixel_means)/pixel_std\n",
    "X_test_scaled = (X_test - pixel_means)/pixel_std"
   ]
  },
  {
   "cell_type": "markdown",
   "metadata": {},
   "source": [
    "## Build Model \n",
    "Specify SELU as the activation function and LeCun Normal as the initializer"
   ]
  },
  {
   "cell_type": "code",
   "execution_count": 22,
   "metadata": {},
   "outputs": [
    {
     "name": "stdout",
     "output_type": "stream",
     "text": [
      "Epoch 1/10\n",
      "   2/1407 [..............................] - ETA: 2:28:15 - loss: 3.1100 - accuracy: 0.0625WARNING:tensorflow:Method (on_train_batch_end) is slow compared to the batch update (6.322376). Check your callbacks.\n",
      "1407/1407 [==============================] - 40s 28ms/step - loss: 1.9229 - accuracy: 0.3109 - val_loss: 1.8449 - val_accuracy: 0.33780s - loss: 1.9233 - accuracy: 0.\n",
      "Epoch 2/10\n",
      "1407/1407 [==============================] - 27s 19ms/step - loss: 1.7000 - accuracy: 0.3983 - val_loss: 1.7956 - val_accuracy: 0.3634\n",
      "Epoch 3/10\n",
      "1407/1407 [==============================] - 28s 20ms/step - loss: 1.6089 - accuracy: 0.4330 - val_loss: 1.7202 - val_accuracy: 0.3852\n",
      "Epoch 4/10\n",
      "1407/1407 [==============================] - 25s 18ms/step - loss: 1.5438 - accuracy: 0.4567 - val_loss: 1.6349 - val_accuracy: 0.4362\n",
      "Epoch 5/10\n",
      "1407/1407 [==============================] - 25s 18ms/step - loss: 1.4876 - accuracy: 0.4797 - val_loss: 1.5665 - val_accuracy: 0.4538\n",
      "Epoch 6/10\n",
      "1407/1407 [==============================] - 25s 18ms/step - loss: 1.4426 - accuracy: 0.4986 - val_loss: 1.5138 - val_accuracy: 0.4788\n",
      "Epoch 7/10\n",
      "1407/1407 [==============================] - 27s 19ms/step - loss: 1.4007 - accuracy: 0.5110 - val_loss: 1.5594 - val_accuracy: 0.4708\n",
      "Epoch 8/10\n",
      "1407/1407 [==============================] - 30s 21ms/step - loss: 1.3592 - accuracy: 0.5281 - val_loss: 1.4522 - val_accuracy: 0.5034\n",
      "Epoch 9/10\n",
      "1407/1407 [==============================] - 26s 18ms/step - loss: 1.3293 - accuracy: 0.5382 - val_loss: 1.5132 - val_accuracy: 0.4670\n",
      "Epoch 10/10\n",
      "1407/1407 [==============================] - 26s 18ms/step - loss: 1.3043 - accuracy: 0.5502 - val_loss: 1.5231 - val_accuracy: 0.4766\n"
     ]
    },
    {
     "data": {
      "text/plain": [
       "<tensorflow.python.keras.callbacks.History at 0x289378c0ac0>"
      ]
     },
     "execution_count": 22,
     "metadata": {},
     "output_type": "execute_result"
    }
   ],
   "source": [
    "keras.backend.clear_session()\n",
    "\n",
    "model = keras.models.Sequential()\n",
    "model.add(keras.layers.Flatten(input_shape= [32, 32, 3]))\n",
    "\n",
    "for _ in range(20):\n",
    "    model.add(keras.layers.Dense(100, activation= 'selu', kernel_initializer= 'lecun_normal'))\n",
    "\n",
    "model.add(keras.layers.Dense(10, activation= 'softmax'))\n",
    "\n",
    "\n",
    "optimizer = keras.optimizers.Nadam(lr= 7e-4)\n",
    "\n",
    "model.compile(loss= 'sparse_categorical_crossentropy', metrics= ['accuracy'], optimizer= optimizer)\n",
    "\n",
    "#callbacks\n",
    "early_stopping_cb =keras.callbacks.EarlyStopping(patience=10)\n",
    "checkpoint_cb = keras.callbacks.ModelCheckpoint('CIFAR10_SELU.h5', save_best_only=True)\n",
    "\n",
    "run_selu = os.path.join('CIFAR10_data_logs', 'Run_SELU')\n",
    "tensorboard_cb = keras.callbacks.TensorBoard(run_nb)\n",
    "\n",
    "model.fit(X_train_scaled, y_train, validation_data= (X_val_scaled, y_val), epochs=10,\n",
    "         callbacks= [early_stopping_cb, checkpoint_cb, tensorboard_cb])"
   ]
  },
  {
   "cell_type": "code",
   "execution_count": 23,
   "metadata": {},
   "outputs": [
    {
     "name": "stdout",
     "output_type": "stream",
     "text": [
      "157/157 [==============================] - 1s 5ms/step - loss: 1.4522 - accuracy: 0.5034\n"
     ]
    },
    {
     "data": {
      "text/plain": [
       "[1.4522297382354736, 0.5034000277519226]"
      ]
     },
     "execution_count": 23,
     "metadata": {},
     "output_type": "execute_result"
    }
   ],
   "source": [
    "model = keras.models.load_model('CIFAR10_SELU.h5')\n",
    "model.evaluate(X_val_scaled, y_val)"
   ]
  },
  {
   "cell_type": "markdown",
   "metadata": {},
   "source": [
    "Not much of a gain in performance when compared with the model that had the BN layers but it was better than the original elu model and it definetly did converge faster - both in terms of number of epochs and training time per epoch. \n",
    "\n",
    "#### Applying Alpha Dropout \n",
    "As we are using SELU we need to apply Alpha Dropout. "
   ]
  },
  {
   "cell_type": "code",
   "execution_count": 24,
   "metadata": {},
   "outputs": [
    {
     "name": "stdout",
     "output_type": "stream",
     "text": [
      "Epoch 1/10\n",
      "   2/1407 [..............................] - ETA: 1:21:46 - loss: 8.7964 - accuracy: 0.1406WARNING:tensorflow:Method (on_train_batch_end) is slow compared to the batch update (3.483204). Check your callbacks.\n",
      "1407/1407 [==============================] - 34s 24ms/step - loss: 2.1196 - accuracy: 0.2286 - val_loss: 1.8628 - val_accuracy: 0.2972\n",
      "Epoch 2/10\n",
      "1407/1407 [==============================] - 35s 25ms/step - loss: 1.8733 - accuracy: 0.3000 - val_loss: 1.8414 - val_accuracy: 0.3102\n",
      "Epoch 3/10\n",
      "1407/1407 [==============================] - 29s 20ms/step - loss: 1.7901 - accuracy: 0.3407 - val_loss: 1.9635 - val_accuracy: 0.3236\n",
      "Epoch 4/10\n",
      "1407/1407 [==============================] - 27s 19ms/step - loss: 1.7256 - accuracy: 0.3648 - val_loss: 1.7505 - val_accuracy: 0.3758\n",
      "Epoch 5/10\n",
      "1407/1407 [==============================] - 25s 18ms/step - loss: 1.7456 - accuracy: 0.3576 - val_loss: 1.7706 - val_accuracy: 0.3842\n",
      "Epoch 6/10\n",
      "1407/1407 [==============================] - 25s 18ms/step - loss: 1.6727 - accuracy: 0.3960 - val_loss: 1.6914 - val_accuracy: 0.4046\n",
      "Epoch 7/10\n",
      "1407/1407 [==============================] - 25s 18ms/step - loss: 1.6171 - accuracy: 0.4197 - val_loss: 1.6802 - val_accuracy: 0.4164\n",
      "Epoch 8/10\n",
      "1407/1407 [==============================] - 25s 18ms/step - loss: 1.5757 - accuracy: 0.4354 - val_loss: 1.6448 - val_accuracy: 0.4126\n",
      "Epoch 9/10\n",
      "1407/1407 [==============================] - 25s 18ms/step - loss: 1.5402 - accuracy: 0.4548 - val_loss: 1.6442 - val_accuracy: 0.4330\n",
      "Epoch 10/10\n",
      "1407/1407 [==============================] - 25s 18ms/step - loss: 1.4988 - accuracy: 0.4658 - val_loss: 1.6731 - val_accuracy: 0.4282\n"
     ]
    },
    {
     "data": {
      "text/plain": [
       "<tensorflow.python.keras.callbacks.History at 0x28912cfbb80>"
      ]
     },
     "execution_count": 24,
     "metadata": {},
     "output_type": "execute_result"
    }
   ],
   "source": [
    "keras.backend.clear_session()\n",
    "tf.random.set_seed(42)\n",
    "np.random.seed(42)\n",
    "\n",
    "#build model\n",
    "model = keras.models.Sequential()\n",
    "model.add(keras.layers.Flatten(input_shape= [32, 32, 3]))\n",
    "\n",
    "for _ in range(20):\n",
    "    model.add(keras.layers.Dense(100,activation='selu', kernel_initializer= 'he_normal'))\n",
    "model.add(keras.layers.AlphaDropout(rate=0.2))\n",
    "model.add(keras.layers.Dense(10, activation= 'softmax'))\n",
    "\n",
    "#compile build\n",
    "lr= 1e-3 #change this and use tensorboard to find the best learning rate\n",
    "optimizer= keras.optimizers.Nadam(learning_rate= lr)\n",
    "model.compile(optimizer= optimizer, loss= 'sparse_categorical_crossentropy', metrics= ['accuracy'])\n",
    "\n",
    "#callbacks\n",
    "early_stopping_cb = keras.callbacks.EarlyStopping(patience=5)\n",
    "checkpoint_cb = keras.callbacks.ModelCheckpoint('CIFAR10_data_ADrop.h5', save_best_only=True)\n",
    "\n",
    "alpha_dir = os.path.join('CIFAR10_data_logs', 'Run_lr={}'.format(lr))\n",
    "tensorboard_cb = keras.callbacks.TensorBoard(alpha_dir)\n",
    "\n",
    "model.fit(X_train_scaled, y_train, epochs=10, validation_data= (X_val_scaled, y_val),\n",
    "         callbacks= [early_stopping_cb, checkpoint_cb, tensorboard_cb])\n"
   ]
  },
  {
   "cell_type": "code",
   "execution_count": 25,
   "metadata": {},
   "outputs": [
    {
     "name": "stdout",
     "output_type": "stream",
     "text": [
      "157/157 [==============================] - 1s 5ms/step - loss: 1.6442 - accuracy: 0.4330\n"
     ]
    },
    {
     "data": {
      "text/plain": [
       "[1.6441736221313477, 0.43299999833106995]"
      ]
     },
     "execution_count": 25,
     "metadata": {},
     "output_type": "execute_result"
    }
   ],
   "source": [
    "model = keras.models.load_model('CIFAR10_data_ADrop.h5')\n",
    "model.evaluate(X_val_scaled, y_val)"
   ]
  },
  {
   "cell_type": "markdown",
   "metadata": {},
   "source": [
    "Not much of an improvement with the data, we should try use MCDropout too, but I do not think this will improve the performance much. "
   ]
  },
  {
   "cell_type": "code",
   "execution_count": 26,
   "metadata": {},
   "outputs": [],
   "source": [
    "#create MCDropout class\n",
    "\n",
    "class MCAlphaDropout(keras.layers.AlphaDropout):\n",
    "    def call(self, inputs):\n",
    "        return super().call(inputs, training=True)\n",
    "\n",
    "#create a model using the Alpha Dropout model just trained\n",
    "# We create an identical model but replace all Alphadropout layers with MCAlpha Dropout\n",
    "mc_model = keras.models.Sequential([\n",
    "    MCAlphaDropout(layer.rate) if isinstance(layer, keras.layers.AlphaDropout) else layer for layer in model.layers\n",
    "])\n"
   ]
  },
  {
   "cell_type": "code",
   "execution_count": 27,
   "metadata": {},
   "outputs": [
    {
     "name": "stdout",
     "output_type": "stream",
     "text": [
      "Model: \"sequential_1\"\n",
      "_________________________________________________________________\n",
      "Layer (type)                 Output Shape              Param #   \n",
      "=================================================================\n",
      "flatten (Flatten)            (None, 3072)              0         \n",
      "_________________________________________________________________\n",
      "dense (Dense)                (None, 100)               307300    \n",
      "_________________________________________________________________\n",
      "dense_1 (Dense)              (None, 100)               10100     \n",
      "_________________________________________________________________\n",
      "dense_2 (Dense)              (None, 100)               10100     \n",
      "_________________________________________________________________\n",
      "dense_3 (Dense)              (None, 100)               10100     \n",
      "_________________________________________________________________\n",
      "dense_4 (Dense)              (None, 100)               10100     \n",
      "_________________________________________________________________\n",
      "dense_5 (Dense)              (None, 100)               10100     \n",
      "_________________________________________________________________\n",
      "dense_6 (Dense)              (None, 100)               10100     \n",
      "_________________________________________________________________\n",
      "dense_7 (Dense)              (None, 100)               10100     \n",
      "_________________________________________________________________\n",
      "dense_8 (Dense)              (None, 100)               10100     \n",
      "_________________________________________________________________\n",
      "dense_9 (Dense)              (None, 100)               10100     \n",
      "_________________________________________________________________\n",
      "dense_10 (Dense)             (None, 100)               10100     \n",
      "_________________________________________________________________\n",
      "dense_11 (Dense)             (None, 100)               10100     \n",
      "_________________________________________________________________\n",
      "dense_12 (Dense)             (None, 100)               10100     \n",
      "_________________________________________________________________\n",
      "dense_13 (Dense)             (None, 100)               10100     \n",
      "_________________________________________________________________\n",
      "dense_14 (Dense)             (None, 100)               10100     \n",
      "_________________________________________________________________\n",
      "dense_15 (Dense)             (None, 100)               10100     \n",
      "_________________________________________________________________\n",
      "dense_16 (Dense)             (None, 100)               10100     \n",
      "_________________________________________________________________\n",
      "dense_17 (Dense)             (None, 100)               10100     \n",
      "_________________________________________________________________\n",
      "dense_18 (Dense)             (None, 100)               10100     \n",
      "_________________________________________________________________\n",
      "dense_19 (Dense)             (None, 100)               10100     \n",
      "_________________________________________________________________\n",
      "mc_alpha_dropout (MCAlphaDro (None, 100)               0         \n",
      "_________________________________________________________________\n",
      "dense_20 (Dense)             (None, 10)                1010      \n",
      "=================================================================\n",
      "Total params: 500,210\n",
      "Trainable params: 500,210\n",
      "Non-trainable params: 0\n",
      "_________________________________________________________________\n"
     ]
    }
   ],
   "source": [
    "mc_model.summary()"
   ]
  },
  {
   "cell_type": "code",
   "execution_count": 28,
   "metadata": {},
   "outputs": [],
   "source": [
    "#Lets add 2 functions that helps find the mean class prediction and using that mean returns the class for that instance\n",
    "\n",
    "def mc_dropout_predict_probas(model, X, n_samples=10):\n",
    "    Y_proba = [model.predict(X) for sample in range(n_samples)] #run the prediction n_samples, different neurons will dropout\n",
    "    return np.mean(Y_proba, axis=0)\n",
    "\n",
    "def mc_dropout_predict_class(model, X, n_samples=10):\n",
    "    Y_proba = mc_dropout_predict_probas(model, X, n_samples=10)\n",
    "    return np.argmax(Y_proba, axis=1)"
   ]
  },
  {
   "cell_type": "code",
   "execution_count": 29,
   "metadata": {},
   "outputs": [
    {
     "data": {
      "text/plain": [
       "0.4326"
      ]
     },
     "execution_count": 29,
     "metadata": {},
     "output_type": "execute_result"
    }
   ],
   "source": [
    "keras.backend.clear_session()\n",
    "tf.random.set_seed(42)\n",
    "np.random.seed(42)\n",
    "\n",
    "y_pred = mc_dropout_predict_class(mc_model, X_val_scaled)\n",
    "np.mean(y_pred == y_val.reshape(1,-1)[0])"
   ]
  },
  {
   "cell_type": "markdown",
   "metadata": {},
   "source": [
    "The accuracy did not improve from 43.29% to 43.26%. The best model we have is Batch Normalization with ELU. \n",
    "\n",
    "1Cycle is known to speed up convergence and accuracy so we will give that a go.\n",
    "\n",
    "### 1Cycle Learning Rate Scheduling "
   ]
  },
  {
   "cell_type": "code",
   "execution_count": 30,
   "metadata": {},
   "outputs": [],
   "source": [
    "#Make a 1Cycle Scheduling "
   ]
  },
  {
   "cell_type": "code",
   "execution_count": 31,
   "metadata": {},
   "outputs": [],
   "source": [
    "class OneCycleScheduler(keras.callbacks.Callback):\n",
    "    def __init__(self, iterations, max_rate, start_rate= None, last_iterations= None, last_rate= None):\n",
    "        self.iterations= iterations\n",
    "        self.max_rate= max_rate\n",
    "        self.start_rate= start_rate or max_rate/10\n",
    "        self.last_iterations= last_iterations or iterations//10 + 1\n",
    "        self.half_iteration= (iterations - self.last_iterations) // 2\n",
    "        self.last_rate= last_rate or self.start_rate/1000\n",
    "        self.iteration = 0\n",
    "        \n",
    "    def _interpolate(self, iter1, iter2, rate1, rate2):\n",
    "        return ((rate2 - rate1) * (self.iteration - iter1) / (iter2 - iter1) + rate1)\n",
    "    \n",
    "    def on_batch_begin(self, batch, logs):\n",
    "        if self.iteration < self.half_iteration:\n",
    "            rate = self._interpolate(0, self.half_iteration, self.start_rate, self.max_rate)\n",
    "        \n",
    "        elif self.iteration < 2 * self.half_iteration:\n",
    "            rate = self._interpolate(self.half_iteration, 2*self.half_iteration, self.max_rate, self.start_rate)\n",
    "        \n",
    "        else:\n",
    "            rate = self._interpolate(2*self.half_iteration, self.iterations, self.start_rate, self.last_rate)\n",
    "            \n",
    "            rate= max(rate, self.last_rate)\n",
    "        self.iteration+=1\n",
    "        keras.backend.set_value(self.model.optimizer.lr, rate)"
   ]
  },
  {
   "cell_type": "code",
   "execution_count": 32,
   "metadata": {},
   "outputs": [],
   "source": [
    "keras.backend.clear_session()\n",
    "tf.random.set_seed(42)\n",
    "np.random.seed(42)\n",
    "\n",
    "model = keras.models.Sequential()\n",
    "model.add(keras.layers.Flatten(input_shape=[32, 32, 3]))\n",
    "for _ in range(20):\n",
    "    model.add(keras.layers.Dense(100,\n",
    "                                 kernel_initializer=\"lecun_normal\",\n",
    "                                 activation=\"selu\"))\n",
    "\n",
    "model.add(keras.layers.AlphaDropout(rate=0.1))\n",
    "model.add(keras.layers.Dense(10, activation=\"softmax\"))\n",
    "\n",
    "optimizer = keras.optimizers.Nadam(lr= 1e-3)\n",
    "model.compile(optimizer= optimizer, loss= 'sparse_categorical_crossentropy', metrics= ['accuracy'])\n"
   ]
  },
  {
   "cell_type": "markdown",
   "metadata": {},
   "source": [
    "The code below can be copied to apply on any  model. "
   ]
  },
  {
   "cell_type": "code",
   "execution_count": 33,
   "metadata": {},
   "outputs": [],
   "source": [
    "#To plot the losses and lr-rates we need tensorflow to return these values at the end of each batch. So we use a callback.\n",
    "class ExponentialLearningRate(keras.callbacks.Callback):\n",
    "    def __init__(self, factor):\n",
    "        self.factor = factor\n",
    "        self.rates = []\n",
    "        self.losses = []\n",
    "    def on_batch_end(self, batch, logs):\n",
    "        self.rates.append(keras.backend.get_value(self.model.optimizer.lr))\n",
    "        self.losses.append(logs[\"loss\"])\n",
    "        keras.backend.set_value(self.model.optimizer.lr, self.model.optimizer.lr * self.factor)\n",
    "\n",
    "\n",
    "# before we train the model we need to plot the best learning rates, let's define function to plot that\n",
    "def find_learning_rate(model, X, y, epochs=1, batch_size=32, min_rate= 10**-5, max_rate=10):\n",
    "    init_weights = model.get_weights()\n",
    "    iterations = len(X) //batch_size * epochs\n",
    "    factor = np.exp(np.log(max_rate/min_rate)/iterations)\n",
    "    init_lr = keras.backend.get_value(model.optimizer.lr)\n",
    "    keras.backend.set_value(model.optimizer.lr, min_rate)\n",
    "    exp_lr = ExponentialLearningRate(factor)\n",
    "    history = model.fit(X, y, epochs=epochs, batch_size= batch_size, callbacks= [exp_lr])\n",
    "    keras.backend.set_value(model.optimizer.lr, init_lr)\n",
    "    model.set_weights(init_weights)\n",
    "    return exp_lr.rates, exp_lr.losses\n",
    "\n",
    "def plot_lr_vs_loss(rates, losses):\n",
    "    plt.plot(rates, losses)\n",
    "    plt.gca().set_xscale('log')\n",
    "    plt.hlines(min(losses), min(rates), max(rates))\n",
    "    plt.axis([min(rates), max(rates), min(losses), losses[0]+min(losses)/2])\n",
    "    plt.xlabel('Learning Rate')\n",
    "    plt.ylabel('Losses')"
   ]
  },
  {
   "cell_type": "code",
   "execution_count": 34,
   "metadata": {},
   "outputs": [
    {
     "name": "stdout",
     "output_type": "stream",
     "text": [
      "352/352 [==============================] - 11s 30ms/step - loss: 86.8612 - accuracy: 0.1418\n"
     ]
    },
    {
     "data": {
      "image/png": "[encoded data removed]",
      "text/plain": [
       "<Figure size 432x288 with 1 Axes>"
      ]
     },
     "metadata": {
      "needs_background": "light"
     },
     "output_type": "display_data"
    }
   ],
   "source": [
    "rates, losses = find_learning_rate(model, X_train_scaled, y_train, epochs=1, batch_size= 128)\n",
    "plot_lr_vs_loss(rates, losses)"
   ]
  },
  {
   "cell_type": "code",
   "execution_count": 35,
   "metadata": {},
   "outputs": [],
   "source": [
    "keras.backend.clear_session()\n",
    "tf.random.set_seed(42)\n",
    "np.random.seed(42)\n",
    "\n",
    "model = keras.models.Sequential()\n",
    "model.add(keras.layers.Flatten(input_shape=[32, 32, 3]))\n",
    "for _ in range(20):\n",
    "    model.add(keras.layers.Dense(100,\n",
    "                                 kernel_initializer=\"lecun_normal\",\n",
    "                                 activation=\"selu\"))\n",
    "    \n",
    "model.add(keras.layers.AlphaDropout(rate= 0.1))\n",
    "model.add(keras.layers.Dense(10, activation= 'softmax'))\n",
    "\n",
    "optimizer= keras.optimizers.Nadam(lr= 0.01)\n",
    "model.compile(optimizer= optimizer, loss= 'sparse_categorical_crossentropy', metrics= ['accuracy'])\n"
   ]
  },
  {
   "cell_type": "code",
   "execution_count": 36,
   "metadata": {},
   "outputs": [
    {
     "name": "stdout",
     "output_type": "stream",
     "text": [
      "Epoch 1/20\n",
      "1407/1407 [==============================] - 26s 18ms/step - loss: 1357660502884352.0000 - accuracy: 0.1050 - val_loss: 3.0146 - val_accuracy: 0.1038\n",
      "Epoch 2/20\n",
      "1407/1407 [==============================] - 25s 18ms/step - loss: 2.5525 - accuracy: 0.1001 - val_loss: 3.7573 - val_accuracy: 0.1040\n",
      "Epoch 3/20\n",
      "1407/1407 [==============================] - 25s 18ms/step - loss: 2.4269 - accuracy: 0.0993 - val_loss: 2.6997 - val_accuracy: 0.0920\n",
      "Epoch 4/20\n",
      "1407/1407 [==============================] - 28s 20ms/step - loss: 2.3238 - accuracy: 0.0996 - val_loss: 2.3070 - val_accuracy: 0.1010\n",
      "Epoch 5/20\n",
      "1407/1407 [==============================] - 26s 18ms/step - loss: 2.3034 - accuracy: 0.1007 - val_loss: 2.3049 - val_accuracy: 0.1010\n",
      "Epoch 6/20\n",
      "1407/1407 [==============================] - 26s 19ms/step - loss: 2.3028 - accuracy: 0.0994 - val_loss: 2.3044 - val_accuracy: 0.1010\n",
      "Epoch 7/20\n",
      "1407/1407 [==============================] - 26s 18ms/step - loss: 2.3027 - accuracy: 0.1006 - val_loss: 2.3043 - val_accuracy: 0.1010\n",
      "Epoch 8/20\n",
      "1407/1407 [==============================] - 30s 22ms/step - loss: 2.3027 - accuracy: 0.0984 - val_loss: 2.3041 - val_accuracy: 0.1010\n",
      "Epoch 9/20\n",
      "1407/1407 [==============================] - 29s 21ms/step - loss: 2.3027 - accuracy: 0.0978 - val_loss: 2.3042 - val_accuracy: 0.1010\n",
      "Epoch 10/20\n",
      "1407/1407 [==============================] - 31s 22ms/step - loss: 2.3027 - accuracy: 0.0989 - val_loss: 2.3041 - val_accuracy: 0.1010\n",
      "Epoch 11/20\n",
      "1407/1407 [==============================] - 29s 20ms/step - loss: 2.3027 - accuracy: 0.1001 - val_loss: 2.3040 - val_accuracy: 0.1010\n",
      "Epoch 12/20\n",
      "1407/1407 [==============================] - 28s 20ms/step - loss: 2.3027 - accuracy: 0.0983 - val_loss: 2.3041 - val_accuracy: 0.1010\n",
      "Epoch 13/20\n",
      "1407/1407 [==============================] - 30s 21ms/step - loss: 2.3027 - accuracy: 0.0986 - val_loss: 2.3041 - val_accuracy: 0.1010\n",
      "Epoch 14/20\n",
      "1407/1407 [==============================] - 29s 20ms/step - loss: 2.3027 - accuracy: 0.0972 - val_loss: 2.3043 - val_accuracy: 0.1010\n",
      "Epoch 15/20\n",
      "1407/1407 [==============================] - 31s 22ms/step - loss: 2.3027 - accuracy: 0.0970 - val_loss: 2.3040 - val_accuracy: 0.1010\n",
      "Epoch 16/20\n",
      "1407/1407 [==============================] - 29s 21ms/step - loss: 2.3027 - accuracy: 0.0992 - val_loss: 2.3043 - val_accuracy: 0.1010\n",
      "Epoch 17/20\n",
      "1407/1407 [==============================] - 29s 20ms/step - loss: 2.3027 - accuracy: 0.0980 - val_loss: 2.3043 - val_accuracy: 0.1010\n",
      "Epoch 18/20\n",
      "1407/1407 [==============================] - 28s 20ms/step - loss: 2.3027 - accuracy: 0.0983 - val_loss: 2.3042 - val_accuracy: 0.1010\n",
      "Epoch 19/20\n",
      "1407/1407 [==============================] - 27s 19ms/step - loss: 2.3027 - accuracy: 0.1001 - val_loss: 2.3044 - val_accuracy: 0.1010\n",
      "Epoch 20/20\n",
      "1407/1407 [==============================] - 28s 20ms/step - loss: 2.3027 - accuracy: 0.0975 - val_loss: 2.3042 - val_accuracy: 0.1010\n"
     ]
    }
   ],
   "source": [
    "#call the 1Cycle class\n",
    "# number of instances/ batchsize*epochs\n",
    "onecycle= OneCycleScheduler(len(X_train_scaled)//128*15, max_rate= 0.05)\n",
    "\n",
    "history = model.fit(X_train_scaled, y_train, validation_data= (X_val_scaled, y_val),\n",
    "                   epochs=20, callbacks=[onecycle])"
   ]
  },
  {
   "cell_type": "code",
   "execution_count": 37,
   "metadata": {},
   "outputs": [
    {
     "name": "stdout",
     "output_type": "stream",
     "text": [
      "157/157 [==============================] - 1s 4ms/step - loss: 2.3042 - accuracy: 0.1010\n"
     ]
    },
    {
     "data": {
      "text/plain": [
       "[2.304230213165283, 0.10100000351667404]"
      ]
     },
     "execution_count": 37,
     "metadata": {},
     "output_type": "execute_result"
    }
   ],
   "source": [
    "model.evaluate(X_val_scaled, y_val)"
   ]
  },
  {
   "cell_type": "markdown",
   "metadata": {},
   "source": [
    "The model is training faster than previously, we saw 36 seconds per epoch without 1Cycle and now we are seeing around ~26seconds. This is almost a 30% increase in speed and almost half as fast compared to Batch Normalization with ELU ~50seconds. \n",
    "\n",
    "Alebit all models were trained with small batchsizes, you can still identify which combination of initialization, normalization, activation function, optimizer and learning rate scheduling helps reduce the number of epochs and convergence time.\n",
    "\n",
    "The question to ask, does faster convergence time offset the increase in accuracy? In reality, and under a production environment, I would be cautious with the hyperparameter tuning and the hopefully use some sort of cloud based platform to help speed up training. \n",
    "\n",
    "## In summary\n",
    "\n",
    "For Deep Neural networks use the following configuration (<i>as a rule of thumb, this may change based on application</i>):\n",
    "<li>Kernal Initializer = <b>LeCun Initializer</b> </li>\n",
    "<li>Activation Function = <b>SELU</b></li>\n",
    "<li>Normalization = <b>None</b></li>\n",
    "<li>Regularization = <b>AlphaDropout</b></li>\n",
    "<li>Optimizer = <b>Momentum Optimization (or RM Prop or Nadam</b></li>\n",
    "<li>Learning Rate Schedule = <b>1Cycle</b></li>\n",
    "\n",
    "Don't forget to add in ModelCheckpoint and Tensorboard Callbacks."
   ]
  }
 ],
 "metadata": {
  "kernelspec": {
   "display_name": "Python 3",
   "language": "python",
   "name": "python3"
  },
  "language_info": {
   "codemirror_mode": {
    "name": "ipython",
    "version": 3
   },
   "file_extension": ".py",
   "mimetype": "text/x-python",
   "name": "python",
   "nbconvert_exporter": "python",
   "pygments_lexer": "ipython3",
   "version": "3.8.3"
  }
 },
 "nbformat": 4,
 "nbformat_minor": 4
}
