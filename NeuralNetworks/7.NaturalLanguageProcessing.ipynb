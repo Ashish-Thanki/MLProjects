{
  "nbformat": 4,
  "nbformat_minor": 0,
  "metadata": {
    "colab": {
      "name": "7.NaturalLanguageProcessing.ipynb",
      "provenance": [],
      "collapsed_sections": []
    },
    "kernelspec": {
      "name": "python3",
      "display_name": "Python 3"
    },
    "language_info": {
      "name": "python"
    }
  },
  "cells": [
    {
      "cell_type": "markdown",
      "metadata": {
        "id": "0Hw1Pl00Na84"
      },
      "source": [
        "Alan Turing's famous Turning test helps evaulate whether a machine's intelligence matches a human's intelligence. This test was called the imitation game. Where a machine has to try fool the human into thinking it is a human. \n",
        "\n",
        "A common approach to language tasks are Recurrent Neural Networks (RNNs), but there are many other types that have other use cases:\n",
        "\n",
        "- Character RNN used to predict the next character in an sentence, using a Stateless RNN and then a Stateful RNN.\n",
        "- Sentiment Analysis by extracting a feeling within a sentence\n",
        "- Neural Machine Translation (NMT) capable of tranlating languages. \n",
        "\n",
        "We will also look at how we can boost the RNN performance by using Attention Mechanisms and Encoder-Decoder architecture, which allows the network to focus on a select part of the inputs at each time step. \n",
        "\n",
        "Finally, we will then look at a Transformer, a very succesful NLP architecture, before discussing GPT-2 and BERT. "
      ]
    },
    {
      "cell_type": "code",
      "metadata": {
        "id": "jrLup-cUU73q"
      },
      "source": [
        "import sys \n",
        "sys.version_info > (3, 5)\n",
        "\n",
        "import numpy as np\n",
        "import tensorflow as tf\n",
        "assert tf.__version__ > \"2.0\"\n",
        "from tensorflow import keras\n",
        "import matplotlib.pyplot as plt"
      ],
      "execution_count": 1,
      "outputs": []
    },
    {
      "cell_type": "markdown",
      "metadata": {
        "id": "EYAjixdeXYNW"
      },
      "source": [
        "# Shakespeare Dataset"
      ]
    },
    {
      "cell_type": "markdown",
      "metadata": {
        "id": "2gimYliCaEXP"
      },
      "source": [
        "Below is an example of how we would work with text data by converting it using a tokenizer, how to split text data because we cannot shuffle the data as we do with tabular data, "
      ]
    },
    {
      "cell_type": "code",
      "metadata": {
        "id": "abW18r3CVfvw"
      },
      "source": [
        "shakespeare_url = \"https://raw.githubusercontent.com/karpathy/char-rnn/master/data/tinyshakespeare/input.txt\"\n",
        "filepath = keras.utils.get_file(\"shakespeare.txt\", shakespeare_url)\n",
        "with open(filepath) as f:\n",
        "    shakespeare_text = f.read()"
      ],
      "execution_count": 2,
      "outputs": []
    },
    {
      "cell_type": "code",
      "metadata": {
        "colab": {
          "base_uri": "https://localhost:8080/"
        },
        "id": "nczol5YSVfm0",
        "outputId": "61cd6fd1-10cc-466c-afba-bbdd46f5ea25"
      },
      "source": [
        "print(shakespeare_text[60:250])"
      ],
      "execution_count": 3,
      "outputs": [
        {
          "output_type": "stream",
          "text": [
            "\n",
            "\n",
            "All:\n",
            "Speak, speak.\n",
            "\n",
            "First Citizen:\n",
            "You are all resolved rather to die than to famish?\n",
            "\n",
            "All:\n",
            "Resolved. resolved.\n",
            "\n",
            "First Citizen:\n",
            "First, you know Caius Marcius is chief enemy to the people.\n",
            "\n"
          ],
          "name": "stdout"
        }
      ]
    },
    {
      "cell_type": "code",
      "metadata": {
        "colab": {
          "base_uri": "https://localhost:8080/",
          "height": 35
        },
        "id": "ChbHiyu1Vfcz",
        "outputId": "fef30f1a-e212-4f79-a9ca-5a51635dafcf"
      },
      "source": [
        "\"\".join(sorted(set(shakespeare_text.lower()))) # list of characters within dataset"
      ],
      "execution_count": 4,
      "outputs": [
        {
          "output_type": "execute_result",
          "data": {
            "application/vnd.google.colaboratory.intrinsic+json": {
              "type": "string"
            },
            "text/plain": [
              "\"\\n !$&',-.3:;?abcdefghijklmnopqrstuvwxyz\""
            ]
          },
          "metadata": {
            "tags": []
          },
          "execution_count": 4
        }
      ]
    },
    {
      "cell_type": "code",
      "metadata": {
        "id": "eOY8bdfKYGSP"
      },
      "source": [
        "# convert all characters into a unique character ID\n",
        "tokenizer = keras.preprocessing.text.Tokenizer(char_level=True)\n",
        "tokenizer.fit_on_texts(shakespeare_text)"
      ],
      "execution_count": 5,
      "outputs": []
    },
    {
      "cell_type": "code",
      "metadata": {
        "colab": {
          "base_uri": "https://localhost:8080/"
        },
        "id": "i5lJiaXRYjzv",
        "outputId": "ac9b2206-63cb-49f5-ac2f-3f5187bbc2d7"
      },
      "source": [
        "tokenizer.texts_to_sequences('Romeo')"
      ],
      "execution_count": 6,
      "outputs": [
        {
          "output_type": "execute_result",
          "data": {
            "text/plain": [
              "[[9], [4], [15], [2], [4]]"
            ]
          },
          "metadata": {
            "tags": []
          },
          "execution_count": 6
        }
      ]
    },
    {
      "cell_type": "code",
      "metadata": {
        "colab": {
          "base_uri": "https://localhost:8080/",
          "height": 35
        },
        "id": "ghLYG3d5YvkV",
        "outputId": "00db6fc6-9328-436a-86c0-0805be852e83"
      },
      "source": [
        "\"\".join(tokenizer.sequences_to_texts([[9], [4], [15], [2], [4]]))"
      ],
      "execution_count": 7,
      "outputs": [
        {
          "output_type": "execute_result",
          "data": {
            "application/vnd.google.colaboratory.intrinsic+json": {
              "type": "string"
            },
            "text/plain": [
              "'romeo'"
            ]
          },
          "metadata": {
            "tags": []
          },
          "execution_count": 7
        }
      ]
    },
    {
      "cell_type": "code",
      "metadata": {
        "id": "u6g6QfaRZJ7z"
      },
      "source": [
        "max_id = len(tokenizer.word_index) # number of distinct characters\n",
        "dataset_size = tokenizer.document_count"
      ],
      "execution_count": 8,
      "outputs": []
    },
    {
      "cell_type": "markdown",
      "metadata": {
        "id": "uOy1BJcFZmHX"
      },
      "source": [
        "Note, the word encoder sets the IDs from 1 to 39 so when we convert the entire text to ID we need to -1 so we can get IDs from 0 to 38."
      ]
    },
    {
      "cell_type": "code",
      "metadata": {
        "id": "7usNmIcIZJvA"
      },
      "source": [
        "[encoded] = np.array(tokenizer.texts_to_matrix([shakespeare_text])) - 1"
      ],
      "execution_count": 9,
      "outputs": []
    },
    {
      "cell_type": "markdown",
      "metadata": {
        "id": "FVfhCd9Vaf17"
      },
      "source": [
        "--- \n",
        "#TO DO"
      ]
    },
    {
      "cell_type": "markdown",
      "metadata": {
        "id": "5Dw6iSeUaBJT"
      },
      "source": [
        "## Split data"
      ]
    },
    {
      "cell_type": "code",
      "metadata": {
        "id": "dLymbjaqZ8_B"
      },
      "source": [
        ""
      ],
      "execution_count": 9,
      "outputs": []
    },
    {
      "cell_type": "markdown",
      "metadata": {
        "id": "SvwLLHRxOk4y"
      },
      "source": [
        "# Char RNN"
      ]
    },
    {
      "cell_type": "markdown",
      "metadata": {
        "id": "QCE2tb78U4OF"
      },
      "source": [
        "We can train a model on all of Shakespeare's work and then use to predict a character in a sentence. This can be used to produce novel text and is pretty fun to read about. \n",
        "\n",
        "Read this blog by Andrej Karapthy: https://karpathy.github.io/2015/05/21/rnn-effectiveness/"
      ]
    },
    {
      "cell_type": "code",
      "metadata": {
        "id": "4rQxwqu7Onrs"
      },
      "source": [
        ""
      ],
      "execution_count": 9,
      "outputs": []
    },
    {
      "cell_type": "code",
      "metadata": {
        "id": "3bbKCLynOnjJ"
      },
      "source": [
        ""
      ],
      "execution_count": 9,
      "outputs": []
    },
    {
      "cell_type": "markdown",
      "metadata": {
        "id": "hs97p2A0OnD2"
      },
      "source": [
        "# Stateful RNN"
      ]
    },
    {
      "cell_type": "code",
      "metadata": {
        "id": "R77feIJ9IZHS"
      },
      "source": [
        ""
      ],
      "execution_count": 9,
      "outputs": []
    },
    {
      "cell_type": "markdown",
      "metadata": {
        "id": "E3UZ0iHfOgee"
      },
      "source": [
        "# Sentiment Analysis\n"
      ]
    },
    {
      "cell_type": "code",
      "metadata": {
        "id": "a0RhicOhOuNk"
      },
      "source": [
        ""
      ],
      "execution_count": 9,
      "outputs": []
    },
    {
      "cell_type": "code",
      "metadata": {
        "id": "MALdKjMaOuFa"
      },
      "source": [
        ""
      ],
      "execution_count": 9,
      "outputs": []
    },
    {
      "cell_type": "markdown",
      "metadata": {
        "id": "Nn9ohtPDOtsQ"
      },
      "source": [
        "# Bidirectional RNNs"
      ]
    },
    {
      "cell_type": "code",
      "metadata": {
        "id": "pkQQqYzUOxvG"
      },
      "source": [
        ""
      ],
      "execution_count": 9,
      "outputs": []
    },
    {
      "cell_type": "code",
      "metadata": {
        "id": "GDUqSzbROyDo"
      },
      "source": [
        ""
      ],
      "execution_count": 9,
      "outputs": []
    },
    {
      "cell_type": "markdown",
      "metadata": {
        "id": "lXieoFmmOyXN"
      },
      "source": [
        "# Attention Mechanisms"
      ]
    },
    {
      "cell_type": "code",
      "metadata": {
        "id": "-SWk1KrlO-al"
      },
      "source": [
        ""
      ],
      "execution_count": 9,
      "outputs": []
    }
  ]
}