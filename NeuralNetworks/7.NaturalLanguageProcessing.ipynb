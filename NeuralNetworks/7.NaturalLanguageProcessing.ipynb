{
  "nbformat": 4,
  "nbformat_minor": 0,
  "metadata": {
    "colab": {
      "name": "7.NaturalLanguageProcessing.ipynb",
      "provenance": [],
      "collapsed_sections": []
    },
    "kernelspec": {
      "name": "python3",
      "display_name": "Python 3"
    },
    "language_info": {
      "name": "python"
    }
  },
  "cells": [
    {
      "cell_type": "markdown",
      "metadata": {
        "id": "0Hw1Pl00Na84"
      },
      "source": [
        "Alan Turing's famous Turning test helps evaulate whether a machine's intelligence matches a human's intelligence. This test was called the imitation game. Where a machine has to try fool the human into thinking it is a human. \n",
        "\n",
        "A common approach to language tasks are Recurrent Neural Networks (RNNs), but there are many other types that have other use cases:\n",
        "\n",
        "- Character RNN used to predict the next character in an sentence, using a Stateless RNN and then a Stateful RNN.\n",
        "- Sentiment Analysis by extracting a feeling within a sentence\n",
        "- Neural Machine Translation (NMT) capable of tranlating languages. \n",
        "\n",
        "We will also look at how we can boost the RNN performance by using Attention Mechanisms and Encoder-Decoder architecture, which allows the network to focus on a select part of the inputs at each time step. \n",
        "\n",
        "Finally, we will then look at a Transformer, a very succesful NLP architecture, before discussing GPT-2 and BERT. "
      ]
    },
    {
      "cell_type": "code",
      "metadata": {
        "id": "jrLup-cUU73q"
      },
      "source": [
        "import sys \n",
        "sys.version_info > (3, 5)\n",
        "\n",
        "import numpy as np\n",
        "import tensorflow as tf\n",
        "assert tf.__version__ > \"2.0\"\n",
        "from tensorflow import keras\n",
        "import matplotlib.pyplot as plt"
      ],
      "execution_count": 1,
      "outputs": []
    },
    {
      "cell_type": "markdown",
      "metadata": {
        "id": "EYAjixdeXYNW"
      },
      "source": [
        "# Shakespeare Dataset"
      ]
    },
    {
      "cell_type": "markdown",
      "metadata": {
        "id": "2gimYliCaEXP"
      },
      "source": [
        "Below is an example of how we would work with text data by converting it using a tokenizer, how to split text data because we cannot shuffle the data as we do with tabular data, "
      ]
    },
    {
      "cell_type": "code",
      "metadata": {
        "id": "abW18r3CVfvw"
      },
      "source": [
        "shakespeare_url = \"https://raw.githubusercontent.com/karpathy/char-rnn/master/data/tinyshakespeare/input.txt\"\n",
        "filepath = keras.utils.get_file(\"shakespeare.txt\", shakespeare_url)\n",
        "with open(filepath) as f:\n",
        "    shakespeare_text = f.read()"
      ],
      "execution_count": 2,
      "outputs": []
    },
    {
      "cell_type": "code",
      "metadata": {
        "colab": {
          "base_uri": "https://localhost:8080/"
        },
        "id": "nczol5YSVfm0",
        "outputId": "cc91915c-234a-477d-aefb-9775bfd034a5"
      },
      "source": [
        "print(shakespeare_text[60:250])"
      ],
      "execution_count": 3,
      "outputs": [
        {
          "output_type": "stream",
          "text": [
            "\n",
            "\n",
            "All:\n",
            "Speak, speak.\n",
            "\n",
            "First Citizen:\n",
            "You are all resolved rather to die than to famish?\n",
            "\n",
            "All:\n",
            "Resolved. resolved.\n",
            "\n",
            "First Citizen:\n",
            "First, you know Caius Marcius is chief enemy to the people.\n",
            "\n"
          ],
          "name": "stdout"
        }
      ]
    },
    {
      "cell_type": "code",
      "metadata": {
        "colab": {
          "base_uri": "https://localhost:8080/",
          "height": 35
        },
        "id": "ChbHiyu1Vfcz",
        "outputId": "5ed97b0b-acb2-4cb8-916c-d4f1603037d0"
      },
      "source": [
        "\"\".join(sorted(set(shakespeare_text.lower()))) # list of characters within dataset"
      ],
      "execution_count": 4,
      "outputs": [
        {
          "output_type": "execute_result",
          "data": {
            "application/vnd.google.colaboratory.intrinsic+json": {
              "type": "string"
            },
            "text/plain": [
              "\"\\n !$&',-.3:;?abcdefghijklmnopqrstuvwxyz\""
            ]
          },
          "metadata": {
            "tags": []
          },
          "execution_count": 4
        }
      ]
    },
    {
      "cell_type": "markdown",
      "metadata": {
        "id": "-YMmVDYDMVeB"
      },
      "source": [
        "## Tokenize Text data"
      ]
    },
    {
      "cell_type": "code",
      "metadata": {
        "id": "eOY8bdfKYGSP"
      },
      "source": [
        "# convert all characters into a unique character ID\n",
        "tokenizer = keras.preprocessing.text.Tokenizer(char_level=True)\n",
        "tokenizer.fit_on_texts(shakespeare_text)"
      ],
      "execution_count": 5,
      "outputs": []
    },
    {
      "cell_type": "code",
      "metadata": {
        "colab": {
          "base_uri": "https://localhost:8080/"
        },
        "id": "i5lJiaXRYjzv",
        "outputId": "588dc928-638c-4f24-a81c-c04d1a2f1391"
      },
      "source": [
        "tokenizer.texts_to_sequences('Romeo')"
      ],
      "execution_count": 6,
      "outputs": [
        {
          "output_type": "execute_result",
          "data": {
            "text/plain": [
              "[[9], [4], [15], [2], [4]]"
            ]
          },
          "metadata": {
            "tags": []
          },
          "execution_count": 6
        }
      ]
    },
    {
      "cell_type": "code",
      "metadata": {
        "colab": {
          "base_uri": "https://localhost:8080/",
          "height": 35
        },
        "id": "ghLYG3d5YvkV",
        "outputId": "fd292cfe-e648-42a3-9236-e12af881816a"
      },
      "source": [
        "\"\".join(tokenizer.sequences_to_texts([[9], [4], [15], [2], [4]]))"
      ],
      "execution_count": 7,
      "outputs": [
        {
          "output_type": "execute_result",
          "data": {
            "application/vnd.google.colaboratory.intrinsic+json": {
              "type": "string"
            },
            "text/plain": [
              "'romeo'"
            ]
          },
          "metadata": {
            "tags": []
          },
          "execution_count": 7
        }
      ]
    },
    {
      "cell_type": "code",
      "metadata": {
        "id": "u6g6QfaRZJ7z"
      },
      "source": [
        "max_id = len(tokenizer.word_index) # number of distinct characters\n",
        "dataset_size = tokenizer.document_count"
      ],
      "execution_count": 8,
      "outputs": []
    },
    {
      "cell_type": "markdown",
      "metadata": {
        "id": "uOy1BJcFZmHX"
      },
      "source": [
        "Note, the word encoder sets the IDs from 1 to 39 so when we convert the entire text to ID we need to subtract 1 so we can get IDs from 0 to 38.\n"
      ]
    },
    {
      "cell_type": "code",
      "metadata": {
        "id": "7usNmIcIZJvA"
      },
      "source": [
        "[encoded] = np.array(tokenizer.texts_to_sequences([shakespeare_text])) - 1"
      ],
      "execution_count": 9,
      "outputs": []
    },
    {
      "cell_type": "markdown",
      "metadata": {
        "id": "9dx7gJR1Ntgp"
      },
      "source": [
        "Before we talk about how we can split the text data into training, validation and test set, lets first talk about how we can split the time series data.\n",
        "\n",
        "##### Splitting Time series data\n",
        "\n",
        "The safest way is to split the data up across time. For example, take the years 2000 to 2016 as the training, 2017 to 2019 as the validation and leaving 2020 to 2021 as the test set. Ensure there is no overlap in the sets. \n",
        "\n",
        "There are two problems: correlation between time series data and assuming your data is a stationary. \n",
        "- **Correlation** between variables can lead to an optimisitically biased generalization error, because the training and test set, both contain time series data which are correlated. In these scenarios we should avoid having correlated time series across the training and test set.s\n",
        "\n",
        "- Assuming that your data is a **Stationary** time series (i.e. the mean, variance and autocorrelation does not change). This assumption works well for most time series data but some time series data has disappearing patterns over time. In these scenarios we would benefit by training the data on short time spans. You can plot the model's error on the validation set, and if you observe increasing errors towards the end of the data then you know the data is not stationary enough.\n",
        "\n",
        "For example, if you have financial data for many companies, some companies are well correlated because of the sectors that they are in. Traders would exploit these correlations once they realise it, however patterns may soon disappear because of it. The correlation, alongside the unstationary nature, of the data prevents us from obtaining a generalizable model.\n",
        "\n",
        "Ultimately, how you split time series data depends on the task at hand. \n",
        "\n",
        "\n"
      ]
    },
    {
      "cell_type": "markdown",
      "metadata": {
        "id": "5Dw6iSeUaBJT"
      },
      "source": [
        "## Splitting Sequential Text data\n",
        "\n",
        "Splitting text data is pretty simple, in that we must have no overlap between the sets and introduce a gap to avoid paragraph overlapping. "
      ]
    },
    {
      "cell_type": "code",
      "metadata": {
        "id": "dLymbjaqZ8_B"
      },
      "source": [
        "train_size = dataset_size * 90 // 100 # take 90% of the data and // 100 to get steps of 100\n",
        "dataset = tf.data.Dataset.from_tensor_slices(encoded[:train_size])"
      ],
      "execution_count": 10,
      "outputs": []
    },
    {
      "cell_type": "markdown",
      "metadata": {
        "id": "sFboo1mPYgl5"
      },
      "source": [
        "The `dataset` now is a single sequence of over one million characters. Recall how RNNs work on the previous notebook. If we were to train the neural network it would be equivalent to training a deep neural network with over a million layers - with only one (very long) instance!\n",
        "\n",
        "Instead, we need to convert this dataset into smaller windows of text. The length of the window size is the maximum pattern length the RNN will learn. The RNN will unrolled over the length of the substrings, this is called **Truncated Backpropagation Through Time (TBPTT)**. Read [this](https://www.quora.com/Whats-the-key-difference-between-backprop-and-truncated-backprop-through-time) Quora answer to understand the difference between backpropagation through time and truncated.\n"
      ]
    },
    {
      "cell_type": "code",
      "metadata": {
        "id": "hfdl7EziMaJJ"
      },
      "source": [
        "n_steps = 100\n",
        "window_length = n_steps + 1\n",
        "dataset = dataset.window(size=window_length, shift=1, drop_remainder=True)"
      ],
      "execution_count": 11,
      "outputs": []
    },
    {
      "cell_type": "markdown",
      "metadata": {
        "id": "PlIYyUuDdeoJ"
      },
      "source": [
        "The `shift` argument causes the difference between the next window to be 1 character. For example, the first window will be 0 to 100 the next will be 1 to 101 etc.. Setting the `drop_remainder=True` argument makes every window size equal to `size` argument. Otherwise, the last windows will go from 100 to 1 characters in length. "
      ]
    },
    {
      "cell_type": "code",
      "metadata": {
        "colab": {
          "base_uri": "https://localhost:8080/"
        },
        "id": "_ACj-8o7MaA2",
        "outputId": "e52fa4c9-f3c3-458c-f995-0e6030e1df2c"
      },
      "source": [
        "dataset # datasets within a dataset"
      ],
      "execution_count": 12,
      "outputs": [
        {
          "output_type": "execute_result",
          "data": {
            "text/plain": [
              "<WindowDataset shapes: DatasetSpec(TensorSpec(shape=(), dtype=tf.int64, name=None), TensorShape([])), types: DatasetSpec(TensorSpec(shape=(), dtype=tf.int64, name=None), TensorShape([]))>"
            ]
          },
          "metadata": {
            "tags": []
          },
          "execution_count": 12
        }
      ]
    },
    {
      "cell_type": "code",
      "metadata": {
        "id": "MnsHmIUtedgQ"
      },
      "source": [
        "# we now need to flatten it, as the model only accepts tensors\n",
        "dataset = dataset.flat_map(lambda window: window.batch(window_length))\n",
        "\n",
        "# the flat_map function flattens the dataset\n",
        "# the lambda function forces it to create tensors of window_size length\n",
        "\n",
        "# for example, if \n",
        "# example = {{1, 2}, {3, 4, 6, 7}, {8, 9, 10}}\n",
        "# then example.flat_map(lambda eg: eg.batch(2)), would become\n",
        "# {{1, 2}, {3, 4}, {5, 6}, {7, 8}, {9, 10}}"
      ],
      "execution_count": 13,
      "outputs": []
    },
    {
      "cell_type": "markdown",
      "metadata": {
        "id": "xV9Kp0x0gxfB"
      },
      "source": [
        "Now that the dataset is in the right shape we can shuffle these windows so that gradient descent can have instances that are indepenedent and identically distributed across the training set. "
      ]
    },
    {
      "cell_type": "code",
      "metadata": {
        "id": "5G1i1ar9gw1p"
      },
      "source": [
        "batch_size = 32\n",
        "dataset = dataset.shuffle(10000, seed=42).batch(batch_size)\n",
        "dataset = dataset.map(lambda windows: (windows[:, :-1], windows[:, 1:])) # X, y"
      ],
      "execution_count": 14,
      "outputs": []
    },
    {
      "cell_type": "code",
      "metadata": {
        "colab": {
          "base_uri": "https://localhost:8080/"
        },
        "id": "672i78RZh_cm",
        "outputId": "fe113a3c-29f0-40ad-e074-d47632bef65c"
      },
      "source": [
        "z = [1, 2, 3, 4, 5]\n",
        "(z[: -1], z[1: ]) # we are trying to predict the next window size"
      ],
      "execution_count": 15,
      "outputs": [
        {
          "output_type": "execute_result",
          "data": {
            "text/plain": [
              "([1, 2, 3, 4], [2, 3, 4, 5])"
            ]
          },
          "metadata": {
            "tags": []
          },
          "execution_count": 15
        }
      ]
    },
    {
      "cell_type": "code",
      "metadata": {
        "id": "sM1cnC4oiSxw"
      },
      "source": [
        "# one hot encode the dataset as there are not many unique characters ~ 39\n",
        "dataset = dataset.map(\n",
        "    lambda X_batch, y_batch: (tf.one_hot(X_batch, depth=max_id), y_batch))\n",
        "\n",
        "# calling prefetch allows later elements to be prepared while the current element is being processed\n",
        "dataset = dataset.prefetch(1)"
      ],
      "execution_count": 16,
      "outputs": []
    },
    {
      "cell_type": "code",
      "metadata": {
        "colab": {
          "base_uri": "https://localhost:8080/"
        },
        "id": "5Un36huVkxHM",
        "outputId": "8d925062-f346-4fe0-92b0-73d89443ee3f"
      },
      "source": [
        "for X_batch, y_batch in dataset.take(1):\n",
        "  print(X_batch.shape, y_batch.shape)"
      ],
      "execution_count": 17,
      "outputs": [
        {
          "output_type": "stream",
          "text": [
            "(32, 100, 39) (32, 100)\n"
          ],
          "name": "stdout"
        }
      ]
    },
    {
      "cell_type": "markdown",
      "metadata": {
        "id": "Qhur-vGXlmTn"
      },
      "source": [
        "---\n",
        "\n",
        "# To do "
      ]
    },
    {
      "cell_type": "markdown",
      "metadata": {
        "id": "SvwLLHRxOk4y"
      },
      "source": [
        "## Build Model - Char RNN"
      ]
    },
    {
      "cell_type": "markdown",
      "metadata": {
        "id": "QCE2tb78U4OF"
      },
      "source": [
        "We can train a model on all of Shakespeare's work and then use to predict a character in a sentence. This can be used to produce novel text and is pretty fun to read about. \n",
        "\n",
        "Read this blog by Andrej Karapthy: https://karpathy.github.io/2015/05/21/rnn-effectiveness/"
      ]
    },
    {
      "cell_type": "code",
      "metadata": {
        "id": "4rQxwqu7Onrs"
      },
      "source": [
        ""
      ],
      "execution_count": 17,
      "outputs": []
    },
    {
      "cell_type": "code",
      "metadata": {
        "id": "3bbKCLynOnjJ"
      },
      "source": [
        ""
      ],
      "execution_count": 17,
      "outputs": []
    },
    {
      "cell_type": "markdown",
      "metadata": {
        "id": "hs97p2A0OnD2"
      },
      "source": [
        "# Stateful RNN"
      ]
    },
    {
      "cell_type": "code",
      "metadata": {
        "id": "R77feIJ9IZHS"
      },
      "source": [
        ""
      ],
      "execution_count": 17,
      "outputs": []
    },
    {
      "cell_type": "markdown",
      "metadata": {
        "id": "E3UZ0iHfOgee"
      },
      "source": [
        "# Sentiment Analysis\n"
      ]
    },
    {
      "cell_type": "code",
      "metadata": {
        "id": "a0RhicOhOuNk"
      },
      "source": [
        ""
      ],
      "execution_count": 17,
      "outputs": []
    },
    {
      "cell_type": "code",
      "metadata": {
        "id": "MALdKjMaOuFa"
      },
      "source": [
        ""
      ],
      "execution_count": 17,
      "outputs": []
    },
    {
      "cell_type": "markdown",
      "metadata": {
        "id": "Nn9ohtPDOtsQ"
      },
      "source": [
        "# Bidirectional RNNs"
      ]
    },
    {
      "cell_type": "code",
      "metadata": {
        "id": "pkQQqYzUOxvG"
      },
      "source": [
        ""
      ],
      "execution_count": 17,
      "outputs": []
    },
    {
      "cell_type": "code",
      "metadata": {
        "id": "GDUqSzbROyDo"
      },
      "source": [
        ""
      ],
      "execution_count": 17,
      "outputs": []
    },
    {
      "cell_type": "markdown",
      "metadata": {
        "id": "lXieoFmmOyXN"
      },
      "source": [
        "# Attention Mechanisms"
      ]
    },
    {
      "cell_type": "code",
      "metadata": {
        "id": "-SWk1KrlO-al"
      },
      "source": [
        ""
      ],
      "execution_count": 17,
      "outputs": []
    }
  ]
}