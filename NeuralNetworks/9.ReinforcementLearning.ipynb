{
  "nbformat": 4,
  "nbformat_minor": 0,
  "metadata": {
    "colab": {
      "name": "9.ReinforcementLearning.ipynb",
      "provenance": [],
      "collapsed_sections": [],
      "toc_visible": true
    },
    "kernelspec": {
      "name": "python3",
      "display_name": "Python 3"
    },
    "language_info": {
      "name": "python"
    }
  },
  "cells": [
    {
      "cell_type": "markdown",
      "metadata": {
        "id": "sBdfQgN8EBbG"
      },
      "source": [
        "Reinforcement learning is one of the most exciting fields in Machine Learning. It is one of the oldest, starting in 1950s, but took in 2013 when a British startup called DeepMind played many Atari games from scratch and beating humans. It later was responsible for beating the Go champion, a landmark moment in the world of machine learning. DeepMind applied Deep Learning to the field of Reinforcement Learning and it worked beyond imgination.\n",
        "\n",
        "This notebook look is a brief overview of key concepts and ideas in Reinforcement learning, for further reading check [this](http://www.incompleteideas.net/book/the-book-2nd.html) book out for a detailed Introduction. \n",
        "\n",
        "### Optimizing Rewards \n",
        "\n",
        "In RL, an **agent** makes **observations** and takes **actions** within an **environment** which results in **rewards**. The aim of the agent is to maximize rewards (i.e. max pleasure and min pain). The agent learns how to act in the environment through trial and error to maximize rewards. "
      ]
    },
    {
      "cell_type": "markdown",
      "metadata": {
        "id": "ew2qFWOOGUh3"
      },
      "source": [
        "# Policy Search\n",
        "\n"
      ]
    },
    {
      "cell_type": "markdown",
      "metadata": {
        "id": "C1giMLYMpE4U"
      },
      "source": [
        "The algorithm used to determine which action the software agent takes is called its Policy. Think of it has a neural network where the input are rewards and observations and the output are actions to take; although, it can be any algorithm or even a probability.\n",
        "\n",
        "In order to obtain the best algorithm we need to try many different values for the policy parameters (think of grid search), but this can often be extremely large - i.e. the **policy space**. Alternatively, we could search using **genetic algorithms**, where the best algorithms produce offspring to find policy parameters that are composed of parts of the best parameters.\n",
        "\n",
        "WAIT! In order for us to train the policy, we first need to create the environment that it sits in! That's where the module `gym` comes in.\n"
      ]
    },
    {
      "cell_type": "markdown",
      "metadata": {
        "id": "COF0HhTTtMxo"
      },
      "source": [
        "### OpenAI Gym\n",
        "\n",
        "One of the biggest challenges with RL is creating the environment that the agent sits in. For 3D physics simulations, you can use `PyBullet` and `MuJoCo`. A popular toolkit is `OpenAI`, it provides a wide variety of simulated environments such as Atari games, Board game, 2D and 3D simulations and more! "
      ]
    },
    {
      "cell_type": "code",
      "metadata": {
        "colab": {
          "base_uri": "https://localhost:8080/"
        },
        "id": "6-wg5qbjxqi_",
        "outputId": "da5b97b1-fb03-4782-b9ce-750b9fd3d053"
      },
      "source": [
        "!!apt update && apt install -y libpq-dev libsdl2-dev swig xorg-dev xvfb\n",
        "%pip install -U pyvirtualdisplay"
      ],
      "execution_count": null,
      "outputs": [
        {
          "output_type": "stream",
          "name": "stdout",
          "text": [
            "Collecting pyvirtualdisplay\n",
            "  Downloading PyVirtualDisplay-2.2-py3-none-any.whl (15 kB)\n",
            "Collecting EasyProcess\n",
            "  Downloading EasyProcess-1.1-py3-none-any.whl (8.7 kB)\n",
            "Installing collected packages: EasyProcess, pyvirtualdisplay\n",
            "Successfully installed EasyProcess-1.1 pyvirtualdisplay-2.2\n"
          ]
        }
      ]
    },
    {
      "cell_type": "code",
      "metadata": {
        "id": "i5iEPGIsg1ab"
      },
      "source": [
        "import gym\n",
        "import numpy as np\n",
        "from pyvirtualdisplay import Display # required because this notebook is running on google collab.\n",
        "display = Display(visible=0, size=(400, 300))\n",
        "display.start()\n",
        "\n",
        "import matplotlib.pyplot as plt"
      ],
      "execution_count": null,
      "outputs": []
    },
    {
      "cell_type": "markdown",
      "metadata": {
        "id": "ohOp17fX0hDV"
      },
      "source": [
        "If the above cell does not work check out [this](https://stackoverflow.com/questions/53472940/nameerror-name-base-is-not-defined-openai-gym) StackOverFlow post. "
      ]
    },
    {
      "cell_type": "code",
      "metadata": {
        "id": "iKJvKj0fvmmS"
      },
      "source": [
        "# list all available environments\n",
        "# gym.envs.registry.all()"
      ],
      "execution_count": null,
      "outputs": []
    },
    {
      "cell_type": "code",
      "metadata": {
        "colab": {
          "base_uri": "https://localhost:8080/"
        },
        "id": "wG0y3C5KvVOU",
        "outputId": "28d3419c-0a84-4063-cada-37ee822844c1"
      },
      "source": [
        "env = gym.make('CartPole-v1') # create environment \n",
        "env.seed(42)\n",
        "obs = env.reset() # initialize the environment \n",
        "obs # [horizontal position, velocity, angle of the pole, angular velocity]"
      ],
      "execution_count": null,
      "outputs": [
        {
          "output_type": "execute_result",
          "data": {
            "text/plain": [
              "array([-0.01258566, -0.00156614,  0.04207708, -0.00180545])"
            ]
          },
          "metadata": {},
          "execution_count": 4
        }
      ]
    },
    {
      "cell_type": "code",
      "metadata": {
        "colab": {
          "base_uri": "https://localhost:8080/"
        },
        "id": "nlYuOvRawhLD",
        "outputId": "09482e90-d171-412e-bcc8-2ea0d716ac76"
      },
      "source": [
        "env.render() #  render"
      ],
      "execution_count": null,
      "outputs": [
        {
          "output_type": "execute_result",
          "data": {
            "text/plain": [
              "True"
            ]
          },
          "metadata": {},
          "execution_count": 5
        }
      ]
    },
    {
      "cell_type": "code",
      "metadata": {
        "colab": {
          "base_uri": "https://localhost:8080/"
        },
        "id": "VgiO9kMNwBL6",
        "outputId": "b3532605-a9b7-4888-e4fb-b90452f6d031"
      },
      "source": [
        "img = env.render(mode='rgb_array')\n",
        "img.shape"
      ],
      "execution_count": null,
      "outputs": [
        {
          "output_type": "execute_result",
          "data": {
            "text/plain": [
              "(400, 600, 3)"
            ]
          },
          "metadata": {},
          "execution_count": 6
        }
      ]
    },
    {
      "cell_type": "code",
      "metadata": {
        "id": "7Nf_e4H91twm"
      },
      "source": [
        "def plot_environment(env, figsize=(5,4)):\n",
        "    plt.figure(figsize=figsize)\n",
        "    img = env.render(mode=\"rgb_array\")\n",
        "    plt.imshow(img)\n",
        "    plt.axis(\"off\")\n",
        "    return img"
      ],
      "execution_count": null,
      "outputs": []
    },
    {
      "cell_type": "code",
      "metadata": {
        "colab": {
          "base_uri": "https://localhost:8080/",
          "height": 217
        },
        "id": "sCduceeIwBAq",
        "outputId": "2d23f403-8975-4bf2-a944-0c9b38592d45"
      },
      "source": [
        "plot_environment(env)\n",
        "plt.show()"
      ],
      "execution_count": null,
      "outputs": [
        {
          "output_type": "display_data",
          "data": {
            "image/png": "[encoded data removed]",
            "text/plain": [
              "<Figure size 360x288 with 1 Axes>"
            ]
          },
          "metadata": {
            "needs_background": "light"
          }
        }
      ]
    },
    {
      "cell_type": "code",
      "metadata": {
        "colab": {
          "base_uri": "https://localhost:8080/"
        },
        "id": "10XU07rz0JmX",
        "outputId": "62ef4d76-e664-4b24-f882-12c11561685b"
      },
      "source": [
        "# what are the actions from the image above? 2 = left or right\n",
        "env.action_space"
      ],
      "execution_count": null,
      "outputs": [
        {
          "output_type": "execute_result",
          "data": {
            "text/plain": [
              "Discrete(2)"
            ]
          },
          "metadata": {},
          "execution_count": 9
        }
      ]
    },
    {
      "cell_type": "code",
      "metadata": {
        "colab": {
          "base_uri": "https://localhost:8080/"
        },
        "id": "k67BC82h0JjF",
        "outputId": "dbe7a110-a33d-4c05-9736-cc85085bdf02"
      },
      "source": [
        "# define action we want pole to take\n",
        "action = 1 # move so that pole balances\n",
        "\n",
        "# execute the action we want to take\n",
        "obs, reward, done, info = env.step(action)\n",
        "print(\"obs: \", obs) # new observation based on action\n",
        "print(\"reward: \", reward) # get a reward regardless of what we do, we just want to keep the pole balanced\n",
        "print(\"done: \", done) # when action leads to the episode being over, i.e. pole falls or if you won\n",
        "print(\"info: \", info) # additional information the environment gives; environment specific"
      ],
      "execution_count": null,
      "outputs": [
        {
          "output_type": "stream",
          "name": "stdout",
          "text": [
            "obs:  [-0.01261699  0.19292789  0.04204097 -0.28092127]\n",
            "reward:  1.0\n",
            "done:  False\n",
            "info:  {}\n"
          ]
        }
      ]
    },
    {
      "cell_type": "code",
      "metadata": {
        "colab": {
          "base_uri": "https://localhost:8080/",
          "height": 217
        },
        "id": "6qzArfOD0Jft",
        "outputId": "efa32275-0263-40bc-d9ac-e69673ab2a54"
      },
      "source": [
        "plot_environment(env)\n",
        "plt.show()"
      ],
      "execution_count": null,
      "outputs": [
        {
          "output_type": "display_data",
          "data": {
            "image/png": "[encoded data removed]",
            "text/plain": [
              "<Figure size 360x288 with 1 Axes>"
            ]
          },
          "metadata": {
            "needs_background": "light"
          }
        }
      ]
    },
    {
      "cell_type": "code",
      "metadata": {
        "id": "WPG9aUuw16ZF"
      },
      "source": [
        "env.close() # free resources"
      ],
      "execution_count": null,
      "outputs": []
    },
    {
      "cell_type": "code",
      "metadata": {
        "id": "rTzbvTpo16OW"
      },
      "source": [
        "# To get smooth animations\n",
        "import matplotlib as mpl\n",
        "import matplotlib.animation as animation\n",
        "mpl.rc('animation', html='jshtml')\n",
        "\n",
        "def basic_policy(obs):\n",
        "  \"\"\"\n",
        "  A simple hard coded policy that moves the\n",
        "  pole in the opposite direction to what it is leaning in.\"\"\"\n",
        "  angle = obs[2]\n",
        "  return 0 if angle < 0 else 1\n",
        "\n",
        "\n",
        "\n",
        "frames = []\n",
        "# create environment and apply policy\n",
        "obs = env.reset()\n",
        "for step in range(200):\n",
        "    img = env.render(mode=\"rgb_array\")\n",
        "    frames.append(img)\n",
        "    action = basic_policy(obs) # apply policy \n",
        "\n",
        "    obs, reward, done, info = env.step(action)\n",
        "    if done:\n",
        "        break"
      ],
      "execution_count": null,
      "outputs": []
    },
    {
      "cell_type": "code",
      "metadata": {
        "id": "X9cQcKfh3OMb"
      },
      "source": [
        "def update_scene(num, frames, patch):\n",
        "    patch.set_data(frames[num])\n",
        "    return patch,\n",
        "\n",
        "def plot_animation(frames, repeat=False, interval=40):\n",
        "    fig = plt.figure()\n",
        "    patch = plt.imshow(frames[0])\n",
        "    plt.axis('off')\n",
        "    anim = animation.FuncAnimation(\n",
        "        fig, update_scene, fargs=(frames, patch),\n",
        "        frames=len(frames), repeat=repeat, interval=interval)\n",
        "    plt.close()\n",
        "    return anim"
      ],
      "execution_count": null,
      "outputs": []
    },
    {
      "cell_type": "code",
      "metadata": {
        "colab": {
          "base_uri": "https://localhost:8080/",
          "height": 386
        },
        "id": "NFgK3LkY3UPM",
        "outputId": "9aa78bd0-4948-44bc-8b7b-465dc5590737"
      },
      "source": [
        "plot_animation(frames, interval=40)"
      ],
      "execution_count": null,
      "outputs": [
        {
          "output_type": "execute_result",
          "data": {
            "text/html": [
              "\n",
              "<link rel=\"stylesheet\"\n",
              "href=\"https://maxcdn.bootstrapcdn.com/font-awesome/4.4.0/\n",
              "css/font-awesome.min.css\">\n",
              "<script language=\"javascript\">\n",
              "  function isInternetExplorer() {\n",
              "    ua = navigator.userAgent;\n",
              "    /* MSIE used to detect old browsers and Trident used to newer ones*/\n",
              "    return ua.indexOf(\"MSIE \") > -1 || ua.indexOf(\"Trident/\") > -1;\n",
              "  }\n",
              "\n",
              "  /* Define the Animation class */\n",
              "  function Animation(frames, img_id, slider_id, interval, loop_select_id){\n",
              "    this.img_id = img_id;\n",
              "    this.slider_id = slider_id;\n",
              "    this.loop_select_id = loop_select_id;\n",
              "    this.interval = interval;\n",
              "    this.current_frame = 0;\n",
              "    this.direction = 0;\n",
              "    this.timer = null;\n",
              "    this.frames = new Array(frames.length);\n",
              "\n",
              "    for (var i=0; i<frames.length; i++)\n",
              "    {\n",
              "     this.frames[i] = new Image();\n",
              "     this.frames[i].src = frames[i];\n",
              "    }\n",
              "    var slider = document.getElementById(this.slider_id);\n",
              "    slider.max = this.frames.length - 1;\n",
              "    if (isInternetExplorer()) {\n",
              "        // switch from oninput to onchange because IE <= 11 does not conform\n",
              "        // with W3C specification. It ignores oninput and onchange behaves\n",
              "        // like oninput. In contrast, Mircosoft Edge behaves correctly.\n",
              "        slider.setAttribute('onchange', slider.getAttribute('oninput'));\n",
              "        slider.setAttribute('oninput', null);\n",
              "    }\n",
              "    this.set_frame(this.current_frame);\n",
              "  }\n",
              "\n",
              "  Animation.prototype.get_loop_state = function(){\n",
              "    var button_group = document[this.loop_select_id].state;\n",
              "    for (var i = 0; i < button_group.length; i++) {\n",
              "        var button = button_group[i];\n",
              "        if (button.checked) {\n",
              "            return button.value;\n",
              "        }\n",
              "    }\n",
              "    return undefined;\n",
              "  }\n",
              "\n",
              "  Animation.prototype.set_frame = function(frame){\n",
              "    this.current_frame = frame;\n",
              "    document.getElementById(this.img_id).src =\n",
              "            this.frames[this.current_frame].src;\n",
              "    document.getElementById(this.slider_id).value = this.current_frame;\n",
              "  }\n",
              "\n",
              "  Animation.prototype.next_frame = function()\n",
              "  {\n",
              "    this.set_frame(Math.min(this.frames.length - 1, this.current_frame + 1));\n",
              "  }\n",
              "\n",
              "  Animation.prototype.previous_frame = function()\n",
              "  {\n",
              "    this.set_frame(Math.max(0, this.current_frame - 1));\n",
              "  }\n",
              "\n",
              "  Animation.prototype.first_frame = function()\n",
              "  {\n",
              "    this.set_frame(0);\n",
              "  }\n",
              "\n",
              "  Animation.prototype.last_frame = function()\n",
              "  {\n",
              "    this.set_frame(this.frames.length - 1);\n",
              "  }\n",
              "\n",
              "  Animation.prototype.slower = function()\n",
              "  {\n",
              "    this.interval /= 0.7;\n",
              "    if(this.direction > 0){this.play_animation();}\n",
              "    else if(this.direction < 0){this.reverse_animation();}\n",
              "  }\n",
              "\n",
              "  Animation.prototype.faster = function()\n",
              "  {\n",
              "    this.interval *= 0.7;\n",
              "    if(this.direction > 0){this.play_animation();}\n",
              "    else if(this.direction < 0){this.reverse_animation();}\n",
              "  }\n",
              "\n",
              "  Animation.prototype.anim_step_forward = function()\n",
              "  {\n",
              "    this.current_frame += 1;\n",
              "    if(this.current_frame < this.frames.length){\n",
              "      this.set_frame(this.current_frame);\n",
              "    }else{\n",
              "      var loop_state = this.get_loop_state();\n",
              "      if(loop_state == \"loop\"){\n",
              "        this.first_frame();\n",
              "      }else if(loop_state == \"reflect\"){\n",
              "        this.last_frame();\n",
              "        this.reverse_animation();\n",
              "      }else{\n",
              "        this.pause_animation();\n",
              "        this.last_frame();\n",
              "      }\n",
              "    }\n",
              "  }\n",
              "\n",
              "  Animation.prototype.anim_step_reverse = function()\n",
              "  {\n",
              "    this.current_frame -= 1;\n",
              "    if(this.current_frame >= 0){\n",
              "      this.set_frame(this.current_frame);\n",
              "    }else{\n",
              "      var loop_state = this.get_loop_state();\n",
              "      if(loop_state == \"loop\"){\n",
              "        this.last_frame();\n",
              "      }else if(loop_state == \"reflect\"){\n",
              "        this.first_frame();\n",
              "        this.play_animation();\n",
              "      }else{\n",
              "        this.pause_animation();\n",
              "        this.first_frame();\n",
              "      }\n",
              "    }\n",
              "  }\n",
              "\n",
              "  Animation.prototype.pause_animation = function()\n",
              "  {\n",
              "    this.direction = 0;\n",
              "    if (this.timer){\n",
              "      clearInterval(this.timer);\n",
              "      this.timer = null;\n",
              "    }\n",
              "  }\n",
              "\n",
              "  Animation.prototype.play_animation = function()\n",
              "  {\n",
              "    this.pause_animation();\n",
              "    this.direction = 1;\n",
              "    var t = this;\n",
              "    if (!this.timer) this.timer = setInterval(function() {\n",
              "        t.anim_step_forward();\n",
              "    }, this.interval);\n",
              "  }\n",
              "\n",
              "  Animation.prototype.reverse_animation = function()\n",
              "  {\n",
              "    this.pause_animation();\n",
              "    this.direction = -1;\n",
              "    var t = this;\n",
              "    if (!this.timer) this.timer = setInterval(function() {\n",
              "        t.anim_step_reverse();\n",
              "    }, this.interval);\n",
              "  }\n",
              "</script>\n",
              "\n",
              "<style>\n",
              ".animation {\n",
              "    display: inline-block;\n",
              "    text-align: center;\n",
              "}\n",
              "input[type=range].anim-slider {\n",
              "    width: 374px;\n",
              "    margin-left: auto;\n",
              "    margin-right: auto;\n",
              "}\n",
              ".anim-buttons {\n",
              "    margin: 8px 0px;\n",
              "}\n",
              ".anim-buttons button {\n",
              "    padding: 0;\n",
              "    width: 36px;\n",
              "}\n",
              ".anim-state label {\n",
              "    margin-right: 8px;\n",
              "}\n",
              ".anim-state input {\n",
              "    margin: 0;\n",
              "    vertical-align: middle;\n",
              "}\n",
              "</style>\n",
              "\n",
              "<div class=\"animation\">\n",
              "  <img id=\"_anim_img882f8e3fd6774a3892cf110f9c3cb804\">\n",
              "  <div class=\"anim-controls\">\n",
              "    <input id=\"_anim_slider882f8e3fd6774a3892cf110f9c3cb804\" type=\"range\" class=\"anim-slider\"\n",
              "           name=\"points\" min=\"0\" max=\"1\" step=\"1\" value=\"0\"\n",
              "           oninput=\"anim882f8e3fd6774a3892cf110f9c3cb804.set_frame(parseInt(this.value));\"></input>\n",
              "    <div class=\"anim-buttons\">\n",
              "      <button onclick=\"anim882f8e3fd6774a3892cf110f9c3cb804.slower()\"><i class=\"fa fa-minus\"></i></button>\n",
              "      <button onclick=\"anim882f8e3fd6774a3892cf110f9c3cb804.first_frame()\"><i class=\"fa fa-fast-backward\">\n",
              "          </i></button>\n",
              "      <button onclick=\"anim882f8e3fd6774a3892cf110f9c3cb804.previous_frame()\">\n",
              "          <i class=\"fa fa-step-backward\"></i></button>\n",
              "      <button onclick=\"anim882f8e3fd6774a3892cf110f9c3cb804.reverse_animation()\">\n",
              "          <i class=\"fa fa-play fa-flip-horizontal\"></i></button>\n",
              "      <button onclick=\"anim882f8e3fd6774a3892cf110f9c3cb804.pause_animation()\"><i class=\"fa fa-pause\">\n",
              "          </i></button>\n",
              "      <button onclick=\"anim882f8e3fd6774a3892cf110f9c3cb804.play_animation()\"><i class=\"fa fa-play\"></i>\n",
              "          </button>\n",
              "      <button onclick=\"anim882f8e3fd6774a3892cf110f9c3cb804.next_frame()\"><i class=\"fa fa-step-forward\">\n",
              "          </i></button>\n",
              "      <button onclick=\"anim882f8e3fd6774a3892cf110f9c3cb804.last_frame()\"><i class=\"fa fa-fast-forward\">\n",
              "          </i></button>\n",
              "      <button onclick=\"anim882f8e3fd6774a3892cf110f9c3cb804.faster()\"><i class=\"fa fa-plus\"></i></button>\n",
              "    </div>\n",
              "    <form action=\"#n\" name=\"_anim_loop_select882f8e3fd6774a3892cf110f9c3cb804\" class=\"anim-state\">\n",
              "      <input type=\"radio\" name=\"state\" value=\"once\" id=\"_anim_radio1_882f8e3fd6774a3892cf110f9c3cb804\"\n",
              "             checked>\n",
              "      <label for=\"_anim_radio1_882f8e3fd6774a3892cf110f9c3cb804\">Once</label>\n",
              "      <input type=\"radio\" name=\"state\" value=\"loop\" id=\"_anim_radio2_882f8e3fd6774a3892cf110f9c3cb804\"\n",
              "             >\n",
              "      <label for=\"_anim_radio2_882f8e3fd6774a3892cf110f9c3cb804\">Loop</label>\n",
              "      <input type=\"radio\" name=\"state\" value=\"reflect\" id=\"_anim_radio3_882f8e3fd6774a3892cf110f9c3cb804\"\n",
              "             >\n",
              "      <label for=\"_anim_radio3_882f8e3fd6774a3892cf110f9c3cb804\">Reflect</label>\n",
              "    </form>\n",
              "  </div>\n",
              "</div>\n",
              "\n",
              "\n",
              "<script language=\"javascript\">\n",
              "  /* Instantiate the Animation class. */\n",
              "  /* The IDs given should match those used in the template above. */\n",
              "  (function() {\n",
              "    var img_id = \"_anim_img882f8e3fd6774a3892cf110f9c3cb804\";\n",
              "    var slider_id = \"_anim_slider882f8e3fd6774a3892cf110f9c3cb804\";\n",
              "    var loop_select_id = \"_anim_loop_select882f8e3fd6774a3892cf110f9c3cb804\";\n",
              "    var frames = new Array(25);\n",
              "    \n",
              "  frames[0] = \"data:image/png;base64,iVBORw0KGgoAAAANSUhEUgAAAbAAAAEgCAYAAADVKCZpAAAABHNCSVQICAgIfAhkiAAAAAlwSFlz\\\n",
              "AAALEgAACxIB0t1+/AAAADh0RVh0U29mdHdhcmUAbWF0cGxvdGxpYiB2ZXJzaW9uMy4yLjIsIGh0\\\n",
              "dHA6Ly9tYXRwbG90bGliLm9yZy+WH4yJAAAG6ElEQVR4nO3dzW6UZRzG4f+01LQ1fKhYqxIIhqiJ\\\n",
              "GBIXSFwZ40ZX7FwRj4Kwd8sJsPQQuiXEjRtrNJGaikAUE1JE+ZQWKNDpjAuCUtDQoDNv7rfXtePJ\\\n",
              "JM+9mMkvfTNhOv1+v18AEGak6QEA8DQEDIBIAgZAJAEDIJKAARBJwACIJGAARBIwACIJGACRBAyA\\\n",
              "SAIGQCQBAyCSgAEQScAAiCRgAEQSMAAiCRgAkQQMgEgCBkAkAQMgkoABEEnAAIgkYABEEjAAIgkY\\\n",
              "AJEEDIBIAgZAJAEDIJKAARBJwACIJGAARBIwACIJGACRBAyASAIGQCQBAyCSgAEQScAAiCRgAEQS\\\n",
              "MAAiCRgAkQQMgEgCBkAkAQMgkoABEEnAAIgkYABEEjAAIgkYAJEEDIBIAgZAJAEDIJKAARBJwACI\\\n",
              "JGAARBIwACIJGACRBAyASAIGQCQBAyCSgAEQScAAiCRgAEQSMAAiCRgAkQQMgEgCBkAkAQMgkoAB\\\n",
              "EEnAAIgkYABEEjAAIgkYAJEEDIBIAgZAJAEDIJKAARBJwACIJGAARBIwACIJGACRBAyASAIGQCQB\\\n",
              "AyCSgAEQScAAiCRgAEQSMAAiCRgAkQQMgEgCBkAkAQMgkoABEEnAAIgkYABEEjAAIgkYAJEEDIBI\\\n",
              "AgZAJAEDIJKAARBJwACIJGAARBIwACIJGACRBAyASAIGQCQBAyCSgAEQScAAiCRgAEQSMAAiCRgA\\\n",
              "kQQMgEgCBkAkAQMgkoABEEnAAIgkYABEEjAAIgkYAJEEDIBIAgZAJAEDIJKAARBJwACIJGAwRL3V\\\n",
              "bt387afqrXabngLxNjU9ANrsxvn5ujT/xV//7q126/aV87X3k89qZHJrg8sgn4DBAK3eu12LF05X\\\n",
              "9Xt/H3ZG6vov39XUW+83tgvawCNEGKBtu9+p8a1Taw/7vVq+utDMIGgRAYMB6nR8xGBQfLoAiCRg\\\n",
              "AEQSMAAiCRgAkQQMgEgCBkAkAQMgkoABEEnAAIgkYABEEjAAIgkYAJEEDBpwd/Fyrd5bbnoGRBMw\\\n",
              "GKROp6b2fvDY8dLFM7Vy+0YDg6A9BAwGqNPp1NjktqZnQCsJGACRBAyASAIGQCQBAyCSgAEQScAA\\\n",
              "iCRgAEQSMAAiCRgAkQQMgEgCBkAkAQMgkoDBgI2MPVOd0U1rD/tV3Tu3mhkELSFgMGCbX3mzJrfv\\\n",
              "euS0X79/f6KRPdAWAgYD1ul0/vG83+8NeQm0i4ABEEnAAIgkYABEEjAAIgkYAJEEDIBIAgZAJAED\\\n",
              "IJKAARBJwACIJGAARBIwACIJGAzBv/+Hvv0hL4H2EDAYgqm3P3zsbOnXM7V8daGBNdAOAgZDMDax\\\n",
              "5bGz3sqd6nXvNbAG2kHAAIgkYABEEjAAIgkYAJEEDIBIAgZAJAEDIJKAARBJwACIJGAARBIwACIJ\\\n",
              "GACROn2/5wBP7dixY3X8+PEnvm7HtrH69MBz9eivqnz+1fVa+GNlXXcdOHCgjhw58jQzoZU2NT0A\\\n",
              "ks3NzdXMzMwTX/f8lol6b8fHtfvV6er173/sRjqrNbp0vmZmvl7XXSMjHpjAwwQMhuDa4nKdu7Ra\\\n",
              "lyc+qsXuC1VV9ezojdqz62pVrS9gwFoCBkNyeund2rPyUlXdf4642N1eK3d2NzsKgnkmAUPS7Y/V\\\n",
              "g3g9cPHOa82MgRYQMBiSidGbVbX2O1O7Jk81MwZawCNEGJI3Nn9T2yder2t3X6wLVxZrYuRaPXPr\\\n",
              "x6ZnQSwBgyGZ+XKuXv7hXHVX+3Xi25/r7kq3Hv2LDFi/DROwo0ePNj2BFjp58uS6Xzt7auE/3XX2\\\n",
              "7FnvY/53hw8fbnrCU9swATt06FDTE2ih+fn5mp2dHcpdO3fu9D6Gh2yYgE1PTzc9gRaanJwc2l3j\\\n",
              "4+Pex/AQ30IEIJKAARBJwACIJGAARBIwACJtmG8hwiDs27evDh48OJS79u/fP5R7IIUftAQgkkeI\\\n",
              "AEQSMAAiCRgAkQQMgEgCBkAkAQMgkoABEEnAAIgkYABEEjAAIgkYAJEEDIBIAgZAJAEDIJKAARBJ\\\n",
              "wACIJGAARBIwACIJGACRBAyASAIGQCQBAyCSgAEQScAAiCRgAEQSMAAiCRgAkQQMgEgCBkAkAQMg\\\n",
              "koABEEnAAIgkYABEEjAAIgkYAJEEDIBIAgZAJAEDIJKAARBJwACIJGAARBIwACIJGACRBAyASAIG\\\n",
              "QCQBAyCSgAEQScAAiCRgAEQSMAAiCRgAkQQMgEgCBkAkAQMgkoABEEnAAIgkYABEEjAAIgkYAJEE\\\n",
              "DIBIAgZAJAEDIJKAARBJwACIJGAARBIwACIJGACRBAyASAIGQCQBAyCSgAEQScAAiCRgAEQSMAAi\\\n",
              "CRgAkQQMgEgCBkAkAQMgkoABEEnAAIgkYABE+hODtLhPh+EvAQAAAABJRU5ErkJggg==\\\n",
              "\"\n",
              "  frames[1] = \"data:image/png;base64,iVBORw0KGgoAAAANSUhEUgAAAbAAAAEgCAYAAADVKCZpAAAABHNCSVQICAgIfAhkiAAAAAlwSFlz\\\n",
              "AAALEgAACxIB0t1+/AAAADh0RVh0U29mdHdhcmUAbWF0cGxvdGxpYiB2ZXJzaW9uMy4yLjIsIGh0\\\n",
              "dHA6Ly9tYXRwbG90bGliLm9yZy+WH4yJAAAGxklEQVR4nO3dTY9VdwHH8f8dnoZBabXQ4kKqtT4k\\\n",
              "GlkYkbhyZeKOnSteBmGvS94AW98BxhUxbroi1USIY1VSNWlpMLaM4UGmlJm5LkyVkYWInXvyvXw+\\\n",
              "u/nnTM5vcSbfzMlN7mw+n88HAMSsTD0AAJ6FgAGQJGAAJAkYAEkCBkCSgAGQJGAAJAkYAEkCBkCS\\\n",
              "gAGQJGAAJAkYAEkCBkCSgAGQJGAAJAkYAEkCBkCSgAGQJGAAJAkYAEkCBkCSgAGQJGAAJAkYAEkC\\\n",
              "BkCSgAGQJGAAJAkYAEkCBkCSgAGQJGAAJAkYAEkCBkCSgAGQJGAAJAkYAEkCBkCSgAGQJGAAJAkY\\\n",
              "AEkCBkCSgAGQJGAAJAkYAEkCBkCSgAGQJGAAJAkYAEkCBkCSgAGQJGAAJAkYAEkCBkCSgAGQJGAA\\\n",
              "JAkYAEkCBkCSgAGQJGAAJAkYAEkCBkCSgAGQJGAAJAkYAEkCBkCSgAGQJGAAJAkYAEkCBkCSgAGQ\\\n",
              "JGAAJAkYAEkCBkCSgAGQJGAAJAkYAEkCBkCSgAGQJGAAJAkYAEkCBkCSgAGQJGAAJAkYAEkCBkCS\\\n",
              "gAGQJGAAJAkYAEkCBkCSgAGQJGAAJAkYAEkCBkCSgAGQJGAAJAkYAEkCBkCSgAGQJGAAJAkYAEkC\\\n",
              "BkCSgAGQJGAAJAkYAEkCBkCSgAGQJGAAJAkYAEkCBkCSgAGQJGAAJAkYAEkCBkCSgAGQJGAAJAkY\\\n",
              "AEkCBkCSgAGQJGAAJAkYAEkCBkCSgAGQJGAAJAkYAEkCBkCSgAGQJGCwQDvbW+P+X94eO9tbU0+B\\\n",
              "vP1TD4Bldued9fHX9V/86+ed7a3x4IN3xjd++KOxsvbChMugT8BgDx06emxsbrw3Hj248+/D2cr4\\\n",
              "259/PV7++vcm2wXLwCtE2EOHjr489h08vPtwvjM2b9+cZhAsEQEDIEnAAEgSMACSBAyAJAEDIEnA\\\n",
              "AEgSMACSBAyAJAEDIEnAAEgSMACSBAyAJAEDIEnAYC/NZuPwS59/4vjh3ffH9kebEwyC5SFgsIdm\\\n",
              "s9n47Je+/cT5vVt/2P0dYcD/TMAASBIwAJIEDIAkAQMgScAASBIwAJIEDIAkAQMgScAASBIwAJIE\\\n",
              "DIAkAQMgScAASBIw2GNrx18dh154ZffhfD423n5zmkGwJAQM9tjBIy+O/aufeuL8we2bE6yB5SFg\\\n",
              "ACQJGABJAgZAkoABkCRgACQJGABJAgZAkoABkCRgACQJGABJAgZAkoABkCRgACQJGCzAkeNfeOLs\\\n",
              "o/sb49Hm3cWPgSUhYLAAn3ntW0+cbd5+dzy88/4Ea2A5CBgASQIGQJKAAZAkYAAkCRgASQIGQJKA\\\n",
              "AZAkYAAkCRgASQIGQJKAAZAkYAAkCRgASbP5fD6fegRUXbp0aVy5cuW/Xnf8yGycO/3iWFs9sOv8\\\n",
              "p+ub4zfv3nuqe505c2ZcuHDhmXbCMto/9QAou379+rh8+fJTXfu1o98f3/3ml8fO/J9/diuz7XHy\\\n",
              "0K3x48s/e6rfX1nxwgQeJ2CwIJvba+PNjR+Mu1svjTHGOLLvzjiw85OJV0GXgMGC/P7ed8brj14Z\\\n",
              "Y8zGGGPc3To2Hn34xWlHQZh3ErAgW/MD4+N4fezWh69NMwaWgIDBghzed3+MsfszU6+uvTXNGFgC\\\n",
              "XiHCgnz1078cxw5/ZWw8PD7e++DuOLyyMQ7+/XdTz4IsAYMFufzG9fG53/5pbG3Px89/9cfx8NHW\\\n",
              "+M//yICn99wE7OLFi1NPYAldu3btqa+9+tbN/+teN27c8BzziTt//vzUE57ZcxOwc+fOTT2BJbS+\\\n",
              "vj6uXr26kHudPHnScwyPeW4CduLEiaknsITW1tYWdq/V1VXPMTzGpxABSBIwAJIEDIAkAQMgScAA\\\n",
              "SHpuPoUIe+HUqVPj7NmzC7nX6dOnF3IfqPCFlgAkeYUIQJKAAZAkYAAkCRgASQIGQJKAAZAkYAAk\\\n",
              "CRgASQIGQJKAAZAkYAAkCRgASQIGQJKAAZAkYAAkCRgASQIGQJKAAZAkYAAkCRgASQIGQJKAAZAk\\\n",
              "YAAkCRgASQIGQJKAAZAkYAAkCRgASQIGQJKAAZAkYAAkCRgASQIGQJKAAZAkYAAkCRgASQIGQJKA\\\n",
              "AZAkYAAkCRgASQIGQJKAAZAkYAAkCRgASQIGQJKAAZAkYAAkCRgASQIGQJKAAZAkYAAkCRgASQIG\\\n",
              "QJKAAZAkYAAkCRgASQIGQJKAAZAkYAAkCRgASQIGQJKAAZAkYAAkCRgASQIGQJKAAZAkYAAkCRgA\\\n",
              "SQIGQJKAAZAkYAAkCRgASQIGQJKAAZAkYAAkCRgASQIGQJKAAZAkYAAkCRgASQIGQNI/AMk7q+KK\\\n",
              "+V8XAAAAAElFTkSuQmCC\\\n",
              "\"\n",
              "  frames[2] = \"data:image/png;base64,iVBORw0KGgoAAAANSUhEUgAAAbAAAAEgCAYAAADVKCZpAAAABHNCSVQICAgIfAhkiAAAAAlwSFlz\\\n",
              "AAALEgAACxIB0t1+/AAAADh0RVh0U29mdHdhcmUAbWF0cGxvdGxpYiB2ZXJzaW9uMy4yLjIsIGh0\\\n",
              "dHA6Ly9tYXRwbG90bGliLm9yZy+WH4yJAAAG/0lEQVR4nO3cz25UdRjH4Xemf4AwCIRGC9GY1JjA\\\n",
              "QuNK2cjaHV6A0TtgxzWwYMlWEjfsTAy3UBbGuNKYoEY0qaDVYqH0D6Wlc9wZa0kKhZnjd/o8yzed\\\n",
              "zJt0Jp+053dOp2mapgAgTLftBQBgLwQMgEgCBkAkAQMgkoABEEnAAIgkYABEEjAAIgkYAJEEDIBI\\\n",
              "AgZAJAEDIJKAARBJwACIJGAARBIwACIJGACRBAyASAIGQCQBAyCSgAEQScAAiCRgAEQSMAAiCRgA\\\n",
              "kQQMgEgCBkAkAQMgkoABEEnAAIgkYABEEjAAIgkYAJEEDIBIAgZAJAEDIJKAARBJwACIJGAARBIw\\\n",
              "ACIJGACRBAyASAIGQCQBAyCSgAEQScAAiCRgAEQSMAAiCRgAkQQMgEgCBkAkAQMgkoABEEnAAIgk\\\n",
              "YABEEjAAIgkYAJEEDIBIAgZAJAEDIJKAARBJwACIJGAARBIwACIJGACRBAyASAIGQCQBAyCSgAEQ\\\n",
              "ScAAiCRgAEQSMAAiCRgAkQQMgEgCBkAkAQMgkoABEEnAAIgkYABEEjAAIgkYAJEEDIBIAgZAJAED\\\n",
              "IJKAARBJwACIJGAARBIwACIJGACRBAyASAIGQCQBAyCSgAEQScAAiCRgAEQSMAAiCRgAkQQMgEgC\\\n",
              "BkAkAQMgkoABEEnAAIgkYABEEjAAIgkYAJEEDIBIAgZAJAEDIJKAARBJwACIJGAARBIwACIJGACR\\\n",
              "BAyASAIGQCQBAyCSgAEQScAAiCRgAEQSMAAiCRgAkQQMgEgCBkAkAQMgkoABEEnAAIg03vYCsJ+s\\\n",
              "35+vjdX7NXn4WB08Nt32OhBNwGCAmqZfczeu1cbKYlVVPbz3e22u3qup0+/X6+c+ank7yCZgMEhN\\\n",
              "1cr8T7V+f77tTWDkuAYGQCQBAyCSgAEQScAAiCRgAEQSMAAiCRgAkQQMgEgCBkAkAQMgkoABEEnA\\\n",
              "AIgkYABEEjAYpE6neiff3DF+uHinHq+vtrAQjA4BgwHqdDp19LW3dsxXF36px+vLLWwEo0PAAIgk\\\n",
              "YABEEjAAIgkYAJEEDIBIAgZAJAEDIJKAARBJwACIJGAARBIwACIJGACRBAyASAIGQCQBAyCSgAEQ\\\n",
              "ScBgwA4cfbkmDh/bPmyaWv7tx3YWghEhYDBgh46frMneiR3zpV+/a2EbGB0CBkAkAQMgkoABEEnA\\\n",
              "AIgkYABEEjAAIgkYAJEEDIBIAgZAJAEDIJKAARBJwACIJGAARBIwACIJGACRBAyGYGziwI5Z039c\\\n",
              "TX+rhW1gNAgYDMH0Ox/smD24fbPW7s61sA2MBgGDIeh0x3cOm341/f7wl4ERIWAARBIwACIJGACR\\\n",
              "BAyASAIGQCQBAyCSgAEQScAAiNRpmqZpewlIdOfOnbpw4UL1n+Jm5FePTdQnZ49Xp7N9/tmX9+r2\\\n",
              "/c1dX9/tduvKlSt16tSpva4LI+cJjwcAnsbKykpdv369trZ2f57h2zOv1MdnP6yNrYP/zCa66zU7\\\n",
              "O1vf/vzHrq8fGxurS5cuPde+MGoEDIZkbu1M3Vx+t6o6VdXU6SNfV1PX214LYrkGBkPwqH+o5tZO\\\n",
              "11YzWVvNRG01k3XzwXu1tDnV9moQS8BgCNa2XqqlzRPbZv0ar8ZXEPbMtweG4Mj4Yp2YnN82m+is\\\n",
              "11hn9wMcwJO5BgZDMN7ZrDd639TG8sG6t/yollYf1pkjX9WB5s+2V4NYAgZDcHvhQX36+bVq6lr9\\\n",
              "MPdXfT93tzrVVN9dLLBn+yZgly9fbnsFRszCwsJT3QNWVbW4/LC+uHFz2+xZ0tXv9+vq1as1NeXQ\\\n",
              "By/WxYsX215hz/bNjczz8/O7/xA8g1u3btW5c+eeOmLPY2xsrGZnZ2tmZmbg78X+Mj093fYKe7Zv\\\n",
              "/gJL/iXx/7S0tFSd/z5aY4CmpqZ8juFfnEIEIJKAARBJwACIJGAARBIwACLtm1OI8KL1er06f/78\\\n",
              "UI7Rd7vd6vV6A38fSLJv7gMDYLT4FyIAkQQMgEgCBkAkAQMgkoABEEnAAIgkYABEEjAAIgkYAJEE\\\n",
              "DIBIAgZAJAEDIJKAARBJwACIJGAARBIwACIJGACRBAyASAIGQCQBAyCSgAEQScAAiCRgAEQSMAAi\\\n",
              "CRgAkQQMgEgCBkAkAQMgkoABEEnAAIgkYABEEjAAIgkYAJEEDIBIAgZAJAEDIJKAARBJwACIJGAA\\\n",
              "RBIwACIJGACRBAyASAIGQCQBAyCSgAEQScAAiCRgAEQSMAAiCRgAkQQMgEgCBkAkAQMgkoABEEnA\\\n",
              "AIgkYABEEjAAIgkYAJEEDIBIAgZAJAEDIJKAARBJwACIJGAARBIwACIJGACRBAyASAIGQCQBAyCS\\\n",
              "gAEQScAAiCRgAEQSMAAiCRgAkQQMgEgCBkAkAQMgkoABEEnAAIgkYABEEjAAIgkYAJH+BvDH2COg\\\n",
              "T2ktAAAAAElFTkSuQmCC\\\n",
              "\"\n",
              "  frames[3] = \"data:image/png;base64,iVBORw0KGgoAAAANSUhEUgAAAbAAAAEgCAYAAADVKCZpAAAABHNCSVQICAgIfAhkiAAAAAlwSFlz\\\n",
              "AAALEgAACxIB0t1+/AAAADh0RVh0U29mdHdhcmUAbWF0cGxvdGxpYiB2ZXJzaW9uMy4yLjIsIGh0\\\n",
              "dHA6Ly9tYXRwbG90bGliLm9yZy+WH4yJAAAGkklEQVR4nO3dT4tddwHH4d9NJnEyxSYhipNFLCoG\\\n",
              "d1lJ3Og6i+IrMLjMK8iLCHkdguBm1v4hogsTEYkwlJYoVKVMrNbENLGTPzPHbdO4mEbnHj53nmf5\\\n",
              "41zOd3Hhw8w5cBfTNE0DAGKOzT0AAF6HgAGQJGAAJAkYAEkCBkCSgAGQJGAAJAkYAEkCBkCSgAGQ\\\n",
              "JGAAJAkYAEkCBkCSgAGQJGAAJAkYAEkCBkCSgAGQJGAAJAkYAEkCBkCSgAGQJGAAJAkYAEkCBkCS\\\n",
              "gAGQJGAAJAkYAEkCBkCSgAGQJGAAJAkYAEkCBkCSgAGQJGAAJAkYAEkCBkCSgAGQJGAAJAkYAEkC\\\n",
              "BkCSgAGQJGAAJAkYAEkCBkCSgAGQJGAAJAkYAEkCBkCSgAGQJGAAJAkYAEkCBkCSgAGQJGAAJAkY\\\n",
              "AEkCBkCSgAGQJGAAJAkYAEkCBkCSgAGQJGAAJAkYAEkCBkCSgAGQJGAAJAkYAEkCBkCSgAGQJGAA\\\n",
              "JAkYAEkCBkCSgAGQJGAAJAkYAEkCBkCSgAGQJGAAJAkYAEkCBkCSgAGQJGAAJAkYAEkCBkCSgAGQ\\\n",
              "JGAAJAkYAEkCBkCSgAGQJGAAJAkYAEkCBkCSgAGQJGAAJAkYAEkCBkCSgAGQJGAAJAkYAEkCBkCS\\\n",
              "gAGQJGAAJAkYAEkCBkCSgAGQJGAAJAkYAEkCBkCSgAGQJGAAJAkYAEkCBkCSgAGQJGAAJAkYAEkC\\\n",
              "BkCSgAGQJGAAJAkYAEkCBkCSgAGQJGAAJAkYAEkCBkCSgAGQtDb3ADhKdh/eH8+ePBwn3zgz1s9s\\\n",
              "zj0H0gQMDtE07Y+//PpH49njf44xxvjkwc54/uTB+NK3vjve+t4PZl4HbQIGh2ka4/H9P47dh/fn\\\n",
              "XgIrxzMwAJIEDIAkAQMgScAASBIwAJIEDIAkAQMgScAASBIwAJIEDIAkAQMgScDgMC0W4+w3vv3K\\\n",
              "8cc7741nTx7OMAhWh4DBIVosFmPj3IVXzp8++vvYf747wyJYHQIGQJKAAZAkYAAkCRgASQIGQJKA\\\n",
              "AZAkYAAkCRgASQIGQJKAAZAkYAAkCRgASQIGQJKAAZAkYAAkCRgASQIGQJKAAZAkYAAkCRgASQIG\\\n",
              "QJKAAZAkYAAkCRgASQIGQJKAwWFb/PfjaZqWuwNWjIDBIfvi+Yvj1LkLLx9O0/hw+xfzDIIVIWBw\\\n",
              "yI6fPDWOrZ185fz5vx/NsAZWh4ABkCRgACQJGABJAgZAkoABkCRgACQJGABJAgZAkoABkCRgACQJ\\\n",
              "GABJAgZAkoABkCRgACQJGABJAgZAkoABkCRgACQtpmma5h4BRTdu3Bi3b98+0LU//M6ZceHsyZfO\\\n",
              "3vvb0/GT3//rQJ+/cuXKuHbt2ufeCKtsbe4BUHXnzp2xtbV1oGvf/ub3x+bpr4796fgYY4xjixdj\\\n",
              "Z+f9sbX10wN9/vz586+5ElaXgMESfLL3xvjNR2+PJ3unxxhjvLn20djd+2DmVdDmGRgswf3dr41H\\\n",
              "L86NvenE2JtOjAfPvzLe/fjy3LMgTcBgCXZ2vz7GWHzqZDFeTCfmmgMrQcBgCd7aeGeM8en3paZx\\\n",
              "6vjjuebASvAMDJbgy1/46zi2/v54+PT0+OAfj8bptQ/H2Re/nHsWpAkYLMGPf/7bce7N7bH7bG/8\\\n",
              "7Hd/Gnv7++Plv8iAz+vIBOzmzZtzT2DF3Lt378DX/uoPf/6f7nX37l3fYQ7F9evX557w2o5MwK5e\\\n",
              "vTr3BFbMrVu3xvb29lLudfHiRd9h+IwjE7DNzc25J7Bi1tfXl3avjY0N32H4DG8hApAkYAAkCRgA\\\n",
              "SQIGQJKAAZB0ZN5ChP+3y5cvj2X9nN6lS5eWch8o8YOWACT5FyIASQIGQJKAAZAkYAAkCRgASQIG\\\n",
              "QJKAAZAkYAAkCRgASQIGQJKAAZAkYAAkCRgASQIGQJKAAZAkYAAkCRgASQIGQJKAAZAkYAAkCRgA\\\n",
              "SQIGQJKAAZAkYAAkCRgASQIGQJKAAZAkYAAkCRgASQIGQJKAAZAkYAAkCRgASQIGQJKAAZAkYAAk\\\n",
              "CRgASQIGQJKAAZAkYAAkCRgASQIGQJKAAZAkYAAkCRgASQIGQJKAAZAkYAAkCRgASQIGQJKAAZAk\\\n",
              "YAAkCRgASQIGQJKAAZAkYAAkCRgASQIGQJKAAZAkYAAkCRgASQIGQJKAAZAkYAAkCRgASQIGQJKA\\\n",
              "AZAkYAAkCRgASQIGQJKAAZAkYAAkCRgASQIGQJKAAZAkYAAkCRgASQIGQJKAAZAkYAAkCRgASf8B\\\n",
              "prambrUkp/cAAAAASUVORK5CYII=\\\n",
              "\"\n",
              "  frames[4] = \"data:image/png;base64,iVBORw0KGgoAAAANSUhEUgAAAbAAAAEgCAYAAADVKCZpAAAABHNCSVQICAgIfAhkiAAAAAlwSFlz\\\n",
              "AAALEgAACxIB0t1+/AAAADh0RVh0U29mdHdhcmUAbWF0cGxvdGxpYiB2ZXJzaW9uMy4yLjIsIGh0\\\n",
              "dHA6Ly9tYXRwbG90bGliLm9yZy+WH4yJAAAGeUlEQVR4nO3bz2udaRmA4edMMibYaCTWUHChKxcq\\\n",
              "/tyKe6GLLtT/pNCl+64LdaX+AYMFt93NLLopCIJSnREKg5OBaSajjZ1kbI4bEboY0mlNjndzXcuX\\\n",
              "9+N94Cxuzjnvt1gul8sBgJjXVj0AALwIAQMgScAASBIwAJIEDIAkAQMgScAASBIwAJIEDIAkAQMg\\\n",
              "ScAASBIwAJIEDIAkAQMgScAASBIwAJIEDIAkAQMgScAASBIwAJIEDIAkAQMgScAASBIwAJIEDIAk\\\n",
              "AQMgScAASBIwAJIEDIAkAQMgScAASBIwAJIEDIAkAQMgScAASBIwAJIEDIAkAQMgScAASBIwAJIE\\\n",
              "DIAkAQMgScAASBIwAJIEDIAkAQMgScAASBIwAJIEDIAkAQMgScAASBIwAJIEDIAkAQMgScAASBIw\\\n",
              "AJIEDIAkAQMgScAASBIwAJIEDIAkAQMgScAASBIwAJIEDIAkAQMgScAASBIwAJIEDIAkAQMgScAA\\\n",
              "SBIwAJIEDIAkAQMgScAASBIwAJIEDIAkAQMgScAASBIwAJIEDIAkAQMgScAASBIwAJIEDIAkAQMg\\\n",
              "ScAASBIwAJIEDIAkAQMgScAASBIwAJIEDIAkAQMgScAASBIwAJIEDIAkAQMgScAASBIwAJIEDIAk\\\n",
              "AQMgScAASBIwAJIEDIAkAQMgScAASBIwAJIEDIAkAQMgScAASBIwAJIEDIAkAQMgScAASBIwAJIE\\\n",
              "DIAkAQMgScAASBIwAJIEDIAkAQMgScAASBIwAJIEDIAkAQMgaX3VA8BF8vHB3hwfHsxisZjPf+Xr\\\n",
              "s/b6xqpHgiwBgzP2+P2/znv3fzczM08+fG8+OfxwZrGYb/3sF7P2pSsrng66BAzO2L+e/GP+/u4f\\\n",
              "Vz0GvHL8BwZAkoABkCRgACQJGABJAgZAkoABkCRgACQJGABJAgZAkoABkCRgACQJGABJAgZAkoAB\\\n",
              "kCRgACQJGABJAgZAkoABkCRgACQJGABJAgZAkoABkCRgACQJGABJAgZAkoABkCRgACQJGABJAgZA\\\n",
              "koABkCRgACQJGABJAgZAkoABkCRgACQJGABJAgZAkoABkCRgACQJGABJAgZAkoABkCRgACQJGABJ\\\n",
              "AgZAkoABkCRgACQJGABJAgZAkoABkCRgACQJGABJAgZAkoABkCRgACQJGABJAgZAkoABkCRgACQt\\\n",
              "lsvlctVDQM2DBw/mxo0bz7X3G7sb8/Mfbj+zdrJczi/f3J9Hh09PfX5zc3Nu374929vbp+6Fi2R9\\\n",
              "1QNA0f7+/ty5c+e59v74O1+bn/7gJ/PJycZ/Vpazvngyd+/enYfvf3Tq81tbW3N0dPQS08KrScDg\\\n",
              "jC1nMW8//t68c/jdmZlZzMl88wtvzcxitYNBnIDBGfvg6Kvzl8ffn+Ws/XftDx/9aP759Iszc7C6\\\n",
              "wSDOJQ44Yyez9ky8ZmaeLtfnZOkbGLwMAYMz9vriaNYXx8+sbbz2ZNYWp1/gAD6dgMEZ2/nc3nx7\\\n",
              "+625tHYwHx/+bR598M58+eiNWZ/TL3AAn85/YHDG/vzuo/nNG7+a5fx6fv/23jzcO5jFLOfEGyzw\\\n",
              "Ui5MwG7evLnqEXiFPHz48Ln37u0/nt+++adn1j5Luo6Pj+fWrVuztbX1GZ6C53P9+vVVj/DCLsyL\\\n",
              "zHt7e6segVfI/fv35+rVq+dy1qVLl+bevXtz+fLlczmPi+XKlSurHuGFXZhvYOUPif8/Ozs753bW\\\n",
              "YrGY3d3d2d3dPbczocAlDgCSBAyAJAEDIEnAAEgSMACSLswtRPhf2tnZmWvXrp3LWZubm7OxsXH6\\\n",
              "RrhgLsx7YAC8WvyECECSgAGQJGAAJAkYAEkCBkCSgAGQJGAAJAkYAEkCBkCSgAGQJGAAJAkYAEkC\\\n",
              "BkCSgAGQJGAAJAkYAEkCBkCSgAGQJGAAJAkYAEkCBkCSgAGQJGAAJAkYAEkCBkCSgAGQJGAAJAkY\\\n",
              "AEkCBkCSgAGQJGAAJAkYAEkCBkCSgAGQJGAAJAkYAEkCBkCSgAGQJGAAJAkYAEkCBkCSgAGQJGAA\\\n",
              "JAkYAEkCBkCSgAGQJGAAJAkYAEkCBkCSgAGQJGAAJAkYAEkCBkCSgAGQJGAAJAkYAEkCBkCSgAGQ\\\n",
              "JGAAJAkYAEkCBkCSgAGQJGAAJAkYAEkCBkCSgAGQJGAAJAkYAEkCBkCSgAGQJGAAJAkYAEkCBkCS\\\n",
              "gAGQJGAAJAkYAEkCBkCSgAGQJGAAJAkYAEkCBkDSvwHBCZx8d2pmcgAAAABJRU5ErkJggg==\\\n",
              "\"\n",
              "  frames[5] = \"data:image/png;base64,iVBORw0KGgoAAAANSUhEUgAAAbAAAAEgCAYAAADVKCZpAAAABHNCSVQICAgIfAhkiAAAAAlwSFlz\\\n",
              "AAALEgAACxIB0t1+/AAAADh0RVh0U29mdHdhcmUAbWF0cGxvdGxpYiB2ZXJzaW9uMy4yLjIsIGh0\\\n",
              "dHA6Ly9tYXRwbG90bGliLm9yZy+WH4yJAAAG3UlEQVR4nO3cv29VBRzG4e+57W1pKQRK8NIYo0aj\\\n",
              "KA46sWjCaOLCbsJ/we7EwsJi/w42ooAmLpgQfwwGTAyGKDHFiCFNaW3p7XEgDpVEoHp7fG+fZ+vJ\\\n",
              "OTlv0jSftOfcNm3btgUAYXpdDwCAnRAwACIJGACRBAyASAIGQCQBAyCSgAEQScAAiCRgAEQSMAAi\\\n",
              "CRgAkQQMgEgCBkAkAQMgkoABEEnAAIgkYABEEjAAIgkYAJEEDIBIAgZAJAEDIJKAARBJwACIJGAA\\\n",
              "RBIwACIJGACRBAyASAIGQCQBAyCSgAEQScAAiCRgAEQSMAAiCRgAkQQMgEgCBkAkAQMgkoABEEnA\\\n",
              "AIgkYABEEjAAIgkYAJEEDIBIAgZAJAEDIJKAARBJwACIJGAARBIwACIJGACRBAyASAIGQCQBAyCS\\\n",
              "gAEQScAAiCRgAEQSMAAiCRgAkQQMgEgCBkAkAQMgkoABEEnAAIgkYABEEjAAIgkYAJEEDIBIAgZA\\\n",
              "JAEDIJKAARBJwACIJGAARBIwACIJGACRBAyASAIGQCQBAyCSgAEQScAAiCRgAEQSMAAiCRgAkQQM\\\n",
              "gEgCBkAkAQMgkoABEEnAAIgkYABEEjAAIgkYAJEEDIBIAgZAJAEDIJKAARBJwACIJGAARBIwACIJ\\\n",
              "GACRBAyASAIGQCQBAyCSgAEQScAAiCRgAEQSMAAiCRgAkQQMgEgCBkAkAQMgkoABEEnAAIgkYABE\\\n",
              "EjAAIgkYAJEEDIBIAgZAJAEDIJKAARBJwACIJGAARBIwACIJGACRBAyASAIGQCQBAyDSZNcDYNxt\\\n",
              "/rFSq/fuVG9yqvY/93I1TdP1JBgLAgYjtrJ0q259uli9yamaO/bqo4NNr15878OampvvdhwEEzDY\\\n",
              "JVubG7V858ajL5qmtjY3uh0E4TwDAyCSgAEQScAAiCRgAEQSMAAiCRgAkQQMgEgCBkAkAQMgkoAB\\\n",
              "EEnAAIgkYABEEjAAIgkYAJEEDIBIAgZAJAEDIJKAARBJwACIJGAARBIwACIJGACRBAxGqG3berh6\\\n",
              "/7Hjk9Nz1UxMdrAIxoeAwSi1bf363WePHT700ts1NXekg0EwPgQMOtI0TdcTIJqAARBJwACIJGAA\\\n",
              "RBIwACIJGACRBAyASAIGQCQBAyCSgAEQScAAiCRgAEQSMAAiCRgAkQQMgEgCBkAkAQMgkoABEEnA\\\n",
              "AIgkYABEEjAAIgkYAJEEDIBIAgZAJAEDIJKAARBJwKALTdcDIJ+AwQjdv/1NrS//tu1YM9Gvo2+e\\\n",
              "6mYQjBEBgxHaXF+tdmtz27Gmaao/c6CjRTA+BAyASAIGQCQBAyCSgAEQScAAiCRgAERq2rZtux4B\\\n",
              "Sa5fv17nzp17qnPfeWFfffDWwW3HNjbb+viLe/VgfeuJ18/Pz9fi4mJNT0/vaCuMs8muB0Cau3fv\\\n",
              "1sWLF5/u5HeP1/snTtXm1l8Bams4XKlLly7V78trT7x8YWGhhsPhzsfCGBMwGKG2evX98sn6ae14\\\n",
              "VVVNNA/r9ZkrHa+C8eAZGIzQL2uv1O3VEzVs+zVs+7WxNVvf3j9VG1szXU+DeAIGIzRsJ6r924/Z\\\n",
              "sO2XJ8/w7wkYjNB0b616tf1/Ie6beFC95skvcAD/zDMwGKH97Q81u/pJ3V49UUcP7a+DM229duBq\\\n",
              "9XvrXU+DeAIGI3Tlqx/r6tcfVVVTJ994vhaOzNXnw616sLbR9TSIt2cCdv78+a4nMCZu3rz5TOc/\\\n",
              "+qhlW1/e+PmZ77WyslIXLlyofr//zNfC0zh79mzXE3Zsz3yQeWlpqesJjInLly/XmTNnduVeg8Gg\\\n",
              "rl27VjMz3lpkNI4dO9b1hB3bM7+BJX+T+H85fPjwrt2r1+vVYDCo2dnZXbsnpPAWIgCRBAyASAIG\\\n",
              "QCQBAyCSgAEQac+8hQj/lcFgUKdPn96Ve83Pz9fExMSu3AvS7JnPgQEwXvwJEYBIAgZAJAEDIJKA\\\n",
              "ARBJwACIJGAARBIwACIJGACRBAyASAIGQCQBAyCSgAEQScAAiCRgAEQSMAAiCRgAkQQMgEgCBkAk\\\n",
              "AQMgkoABEEnAAIgkYABEEjAAIgkYAJEEDIBIAgZAJAEDIJKAARBJwACIJGAARBIwACIJGACRBAyA\\\n",
              "SAIGQCQBAyCSgAEQScAAiCRgAEQSMAAiCRgAkQQMgEgCBkAkAQMgkoABEEnAAIgkYABEEjAAIgkY\\\n",
              "AJEEDIBIAgZAJAEDIJKAARBJwACIJGAARBIwACIJGACRBAyASAIGQCQBAyCSgAEQScAAiCRgAEQS\\\n",
              "MAAiCRgAkQQMgEgCBkAkAQMgkoABEEnAAIgkYABEEjAAIgkYAJEEDIBIAgZAJAEDIJKAARBJwACI\\\n",
              "JGAARBIwACIJGACRBAyASH8Cn4awfx9ewQ4AAAAASUVORK5CYII=\\\n",
              "\"\n",
              "  frames[6] = \"data:image/png;base64,iVBORw0KGgoAAAANSUhEUgAAAbAAAAEgCAYAAADVKCZpAAAABHNCSVQICAgIfAhkiAAAAAlwSFlz\\\n",
              "AAALEgAACxIB0t1+/AAAADh0RVh0U29mdHdhcmUAbWF0cGxvdGxpYiB2ZXJzaW9uMy4yLjIsIGh0\\\n",
              "dHA6Ly9tYXRwbG90bGliLm9yZy+WH4yJAAAHVUlEQVR4nO3dz4/U9R3H8ff8WHRZJcSqS2oWQsRE\\\n",
              "TOrBHjxY4sH0pAf+APgzuPU/ICRcuPUfaLiQkN4wTXvwQhPTakxbowXUSJW1oV1gF2fm00NTkmWL\\\n",
              "i7rf/eY1+3jc9r0z+b4v3zwnM9/5zqC11goAwgz7XgAAfggBAyCSgAEQScAAiCRgAEQSMAAiCRgA\\\n",
              "kQQMgEgCBkAkAQMgkoABEEnAAIgkYABEEjAAIgkYAJEEDIBIAgZAJAEDIJKAARBJwACIJGAARBIw\\\n",
              "ACIJGACRBAyASAIGQCQBAyCSgAEQScAAiCRgAEQSMAAiCRgAkQQMgEgCBkAkAQMgkoABEEnAAIgk\\\n",
              "YABEEjAAIgkYAJEEDIBIAgZAJAEDIJKAARBJwACIJGAARBIwACIJGACRBAyASAIGQCQBAyCSgAEQ\\\n",
              "ScAAiCRgAEQSMAAiCRgAkQQMgEgCBkAkAQMgkoABEEnAAIgkYABEEjAAIgkYAJEEDIBIAgZAJAED\\\n",
              "IJKAARBJwACIJGAARBIwACIJGACRBAyASAIGQCQBAyCSgAEQScAAiCRgAEQSMAAiCRgAkQQMgEgC\\\n",
              "BkAkAQMgkoABEEnAAIgkYABEEjAAIgkYAJEEDIBIAgZAJAEDIJKAARBJwACIJGAARBIwACIJGACR\\\n",
              "BAyASAIGQCQBAyCSgAEQScAAiCRgAEQSMAAiCRgAkQQMgEgCBkAkAQMgkoABEEnAAIgkYABEEjAA\\\n",
              "IgkYAJEEDIBIAgZAJAEDIJKAARBJwACIJGAARBIwACIJGACRBAyASAIGQCQBAyCSgAEQScAAiCRg\\\n",
              "AEQSMAAiCRjsgjtfX6+1f3xarbW+V4G5Me57AdgLPnvvN3Vv9bN66tCxB7Ol5Rfrpz9/p8etIJuA\\\n",
              "wS6ZTe7Xvz7/6MHfg9FCj9tAPm8hAhBJwACIJGAARBIwACIJGACRBAyASAIGQCQBg461NquqrXfg\\\n",
              "GAydfvBjOIOgY//+4q9199aNh6aDWn71l73sA/NCwKBjs8n9atPJ5uGgavzEUj8LwZwQMAAiCRgA\\\n",
              "kQQMgEgCBkAkAQMgkoABEEnAAIgkYABEEjAAIgkYdKi1Vms3P94yX3zmhRq5Ewf8KAIGXWqtbt/4\\\n",
              "YMt46bmjtbD4dA8LwfwQMAAiCRgAkQQMgEgCBkAkAQMgkoABEEnAAIgkYABEEjAAIgkYdKjNJtXa\\\n",
              "bMt8ON7XwzYwXwQMOvTNJ3+sjdtfb5oNx/vq+Z+91dNGMD8EDDrUZtOqalvmw9F495eBOSNgAEQS\\\n",
              "MAAiCRgAkQQMgEgCBkAkAQMgkoABEEnAAIgkYABEEjDoyGw6qds3Ptgyf/qFl2u0b7GHjWC+CBh0\\\n",
              "pM2mdeerv2+Z73/2sJv5wg4QMAAiCRgAkQQMgEgCBkAkAQMgkoABEEnAAIgkYABEEjAAIgkYdGS6\\\n",
              "cbeqzTYPB8Ma7dvfz0IwZwQMOrL6t/dqsr62aTZ+8ql69uU3etoI5ouAQUdaa4/4z2BX94B5JWAA\\\n",
              "RBIwACIJGACRBu3Rb9QDD7ly5UpduHDhsR574thSvfnS0qbZ2sa0Lvz+m/p2uv1pt7KyUufPn6/h\\\n",
              "0OtM+H/GfS8ASa5fv16XLl16rMc+9/Zr9Ytjr9dk9t8frxwMZrW+/s+6fPlyrd+fbPv848ePf8eF\\\n",
              "IICAQUembVx/vn2ibq4fraqqhcFGHR09XvyA7QkYdOTa3Vfq8L2X6n+XzU/bQt3YOF7NR8+wI5xJ\\\n",
              "0JFpW6iHv/N1c/1IzZrTDnaCMwk68uToTg1quml2eP9fajiYPuIZwPchYNCBxSfG9eaLX9XC2u/q\\\n",
              "1q1rNZ7dqmcWvqyPPvxtfTvZ/gIOYHs+A4MO3NuY1K9+/W61ereqBnXi1cP1kwOL9f7HX9Zs5spC\\\n",
              "2Al7JmBnz57tewXmwNWrVx/7sbMHl8C3+sOfrn3vY62urta5c+dqMHDvRLpz5syZvlf4wfZMwE6f\\\n",
              "Pt33CsyB8XhcFy9e3JVjHTx4sE6dOuWLzPAIeyZghw4d6nsF5sCBAwd27Vij0aiWl5drNBrt2jEh\\\n",
              "iZd2AEQSMAAiCRgAkQQMgEgCBkCkPXMVIuyEI0eO1MmTJ3flWCsrK74DBt/BD1oCEMlbiABEEjAA\\\n",
              "IgkYAJEEDIBIAgZAJAEDIJKAARBJwACIJGAARBIwACIJGACRBAyASAIGQCQBAyCSgAEQScAAiCRg\\\n",
              "AEQSMAAiCRgAkQQMgEgCBkAkAQMgkoABEEnAAIgkYABEEjAAIgkYAJEEDIBIAgZAJAEDIJKAARBJ\\\n",
              "wACIJGAARBIwACIJGACRBAyASAIGQCQBAyCSgAEQScAAiCRgAEQSMAAiCRgAkQQMgEgCBkAkAQMg\\\n",
              "koABEEnAAIgkYABEEjAAIgkYAJEEDIBIAgZAJAEDIJKAARBJwACIJGAARBIwACIJGACRBAyASAIG\\\n",
              "QCQBAyCSgAEQScAAiCRgAEQSMAAiCRgAkQQMgEgCBkAkAQMgkoABEEnAAIgkYABEEjAAIgkYAJEE\\\n",
              "DIBIAgZAJAEDIJKAARBJwACIJGAARPoPDW3W4OTBMBAAAAAASUVORK5CYII=\\\n",
              "\"\n",
              "  frames[7] = \"data:image/png;base64,iVBORw0KGgoAAAANSUhEUgAAAbAAAAEgCAYAAADVKCZpAAAABHNCSVQICAgIfAhkiAAAAAlwSFlz\\\n",
              "AAALEgAACxIB0t1+/AAAADh0RVh0U29mdHdhcmUAbWF0cGxvdGxpYiB2ZXJzaW9uMy4yLjIsIGh0\\\n",
              "dHA6Ly9tYXRwbG90bGliLm9yZy+WH4yJAAAHo0lEQVR4nO3dTW9cdxnG4WfG9sR2nJKaJg0hDYqC\\\n",
              "CBYCVF6EEKzoil1W7PIpUL5CNlmz4AsEoWzSTaVIiFVaCSQQC95MASFqlajyhBQ78evMYVGxcAYU\\\n",
              "k/j46B5f1/LRSOdZnNFPPj6af69pmqYAIEy/6wUA4EUIGACRBAyASAIGQCQBAyCSgAEQScAAiCRg\\\n",
              "AEQSMAAiCRgAkQQMgEgCBkAkAQMgkoABEEnAAIgkYABEEjAAIgkYAJEEDIBIAgZAJAEDIJKAARBJ\\\n",
              "wACIJGAARBIwACIJGACRBAyASAIGQCQBAyCSgAEQScAAiCRgAEQSMAAiCRgAkQQMgEgCBkAkAQMg\\\n",
              "koABEEnAAIgkYABEEjAAIgkYAJEEDIBIAgZAJAEDIJKAARBJwACIJGAARBIwACIJGACRBAyASAIG\\\n",
              "QCQBAyCSgAEQScAAiCRgAEQSMAAiCRgAkQQMgEgCBkAkAQMgkoABEEnAAIgkYABEEjAAIgkYAJEE\\\n",
              "DIBIAgZAJAEDIJKAARBJwACIJGAARBIwACIJGACRBAyASAIGQCQBAyCSgAEQScAAiCRgAEQSMAAi\\\n",
              "CRgAkQQMgEgCBkAkAQMgkoABEEnAAIgkYABEEjAAIgkYAJEEDIBIAgZAJAEDIJKAARBJwACIJGAA\\\n",
              "RBIwACIJGACRBAyASAIGQCQBAyCSgAEQScAAiCRgAEQSMAAiCRgAkQQMgEgCBkAkAQMgkoABEEnA\\\n",
              "AIgkYABEEjAAIgkYAJEEDIBIAgZAJAEDIJKAARBJwACIJGAARBIwACIJGACRBAyASAIGQCQBAyCS\\\n",
              "gAEQScDgGIx2t2pva6PrNWCqzHa9AJwEW48+rL+/+5OaWzhzYH7p2z+ohVc/09FWkE3A4JhsDT+o\\\n",
              "rWdmo52nnewC08AjRAAiCRgAkQQMgEgCBsfgo9/+fGI2O79UM4OFDraB6SBgcAx2n/xzYnb69au1\\\n",
              "sHyxg21gOggYAJEEDIBIAgZAJAEDIJKAARBJwKBlo92tGu/vdL0GTB0Bg5ZtfPin2hquPTPt1fLV\\\n",
              "b3ayD0wLAYMu9KoWX3uj6y0gmoABEEnAAIgkYABEEjAAIgkYAJEEDFrUNE2NR7sT815/tqrX62Aj\\\n",
              "mB4CBq1q6uFv7k9Ml69+o069cq6DfWB6CBi0qalqRnsT415/tno9Xz94Gb5BAEQSMAAiCRgAkQQM\\\n",
              "gEgCBkAkAYMW7fzroxrtbh0c9vq18OlL3SwEU0TAoEUb/3i/9p5+fGDWn5mtV6+82dFGMD0EDIBI\\\n",
              "AgZAJAEDIJKAARBJwACIJGAARBIwaMl4f6+Gq+9NzOcWP1W9/kwHG8F0ETBoSdOMa2djfWK+/Plv\\\n",
              "1cyp0x1sBNNFwOC49ap6TmOGlyZgAEQSMAAiCRgAkQQMgEgCBi0Z7T6tasZdrwFTS8CgJcPV92p/\\\n",
              "e/PArD83X2cufrGjjWC6CBi0pGmaiVl/dlCLr13uYBuYPgIGQCQBAyCSgAEQScAAiCRgAEQSMGhB\\\n",
              "0zTVjEcTc8eowNERMGjB/vZmrf/xwcT89S+/Vf3ZQQcbwfQRMGhD09R4b3ti3J+bd5QKHBEBAyCS\\\n",
              "gAEQScAAiCRgAEQSMAAiCRi0YPvjh9U8cxZYf/ZUDZaWO9oIpo+AQQse/fmX1Yz2D8zmTp+tVz67\\\n",
              "0tFGMH16zX87tAiYcPfu3bpz586hPvv9L52pr19eODBb39yvHz94VIf5xq2srNStW7deZE04MWa7\\\n",
              "XgBSrK6u1r179w712ZXT362vXvpKjZq5qqrq9ca1ufm43r73do0PUbD19fWX2hVOAgGDFuyNT9Wv\\\n",
              "H79Vw92LVVU1339S5/Z/2vFWMF0EDFrw/uabtbRzuao++dmoJ6OztbP1hfK8Ho6OlzigBZ88Ojz4\\\n",
              "m4cPt69MzIAXJ2DQgvmZzao6+Br95xZ/X+VvMDgyAgZH7OzSfH3njb9Wb+PdWl//Ww1qWOcGH9T8\\\n",
              "/u9KwODo+B8YHLHHm9v1wx+9U029U73q1fe+dqXOLA7qF39YO9Qr9MDhnJiA3b59u+sVCPfgweQB\\\n",
              "lf/Lf16Vb6qpn/3qL//3tdbW1tyzHIubN292vcILOzEBu3HjRtcrEG44HNb9+/eP5Vrnz593z8Jz\\\n",
              "nJiAXbhwoesVCLe0tHRs1xoMBu5ZeA4vcQAQScAAiCRgAEQSMAAiCRgAkU7MW4jwsq5du1bXr18/\\\n",
              "lmutrDj4Ep7HgZYARPIIEYBIAgZAJAEDIJKAARBJwACIJGAARBIwACIJGACRBAyASAIGQCQBAyCS\\\n",
              "gAEQScAAiCRgAEQSMAAiCRgAkQQMgEgCBkAkAQMgkoABEEnAAIgkYABEEjAAIgkYAJEEDIBIAgZA\\\n",
              "JAEDIJKAARBJwACIJGAARBIwACIJGACRBAyASAIGQCQBAyCSgAEQScAAiCRgAEQSMAAiCRgAkQQM\\\n",
              "gEgCBkAkAQMgkoABEEnAAIgkYABEEjAAIgkYAJEEDIBIAgZAJAEDIJKAARBJwACIJGAARBIwACIJ\\\n",
              "GACRBAyASAIGQCQBAyCSgAEQScAAiCRgAEQSMAAiCRgAkQQMgEgCBkAkAQMgkoABEEnAAIgkYABE\\\n",
              "EjAAIgkYAJEEDIBIAgZAJAEDIJKAARBJwACIJGAARBIwACIJGACRBAyASP8GCr/vESaqf/IAAAAA\\\n",
              "SUVORK5CYII=\\\n",
              "\"\n",
              "  frames[8] = \"data:image/png;base64,iVBORw0KGgoAAAANSUhEUgAAAbAAAAEgCAYAAADVKCZpAAAABHNCSVQICAgIfAhkiAAAAAlwSFlz\\\n",
              "AAALEgAACxIB0t1+/AAAADh0RVh0U29mdHdhcmUAbWF0cGxvdGxpYiB2ZXJzaW9uMy4yLjIsIGh0\\\n",
              "dHA6Ly9tYXRwbG90bGliLm9yZy+WH4yJAAAH7UlEQVR4nO3dO49UhxnG8ffMXlixNjYmyyURcWyL\\\n",
              "wgVCwpZWiZQmN6WkSRXRpMknQOI7UKTmK7iiiBSiyIUtRdiWE0ESYgmCc0PGQMDeNayzl5mTItV6\\\n",
              "IoXgmTl5zv5+5atB8xQz+mt3h92mbdu2ACDMoOsBAPA0BAyASAIGQCQBAyCSgAEQScAAiCRgAEQS\\\n",
              "MAAiCRgAkQQMgEgCBkAkAQMgkoABEEnAAIgkYABEEjAAIgkYAJEEDIBIAgZAJAEDIJKAARBJwACI\\\n",
              "JGAARBIwACIJGACRBAyASAIGQCQBAyCSgAEQScAAiCRgAEQSMAAiCRgAkQQMgEgCBkAkAQMgkoAB\\\n",
              "EEnAAIgkYABEEjAAIgkYAJEEDIBIAgZAJAEDIJKAARBJwACIJGAARBIwACIJGACRBAyASAIGQCQB\\\n",
              "AyCSgAEQScAAiCRgAEQSMAAiCRgAkQQMgEgCBkAkAQMgkoABEEnAAIgkYABEEjAAIgkYAJEEDIBI\\\n",
              "AgZAJAEDIJKAARBJwACIJGAARBIwACIJGACRBAyASAIGQCQBAyCSgAEQScAAiCRgAEQSMAAiCRgA\\\n",
              "kQQMgEgCBkAkAQMgkoABEEnAAIgkYABEEjAAIgkYAJEEDIBIAgZAJAEDIJKAARBJwACIJGAARBIw\\\n",
              "ACIJGACRBAyASAIGQCQBAyCSgAEQScAAiCRgAEQSMAAiCRgAkQQMgEgCBkAkAQMgkoABEEnAAIgk\\\n",
              "YABEEjAAIgkYAJEEDIBIAgZAJAEDIJKAARBJwACIJGAARBIwACIJGACRBAyASAIGQCQBAyCSgAEQ\\\n",
              "ScAAiCRgAESa73oA7BUf/ebn9fjurV23pYNfrePf/FFHiyCbgMEMjIbb9fjurVq//cdd92Yw19Ei\\\n",
              "yOdbiDADG//4e63f/mDsfuTUDzpYA/0gYDALbVtV7di5aXwFBk9LwACIJGAARBIwACIJGMzAcGuj\\\n",
              "6wnQOwIGM/DxtV+O3ZYOHqvFZw91sAb6QcBgBtrRaOy278DhWlx+voM10A8CBkAkAQMgkoABEEnA\\\n",
              "AIgkYDBlnz/8qLY+ezB2f+7rJztYA/0hYDBlm+v3a3vj093Hpqlnj53oZhD0hIABEEnAAIgkYABE\\\n",
              "EjAAIgkYTFHbtrX2t9+N3ZvBfFXTdLAI+kPAYJrath59/Kex8wuvvF77Dqx0MAj6Q8CgA81gvprG\\\n",
              "2w++DO8gACIJGACRBAyASAIGU9SOdqptx/+Y5WB+oYM10C8CBlP08Nb7tbl2f9dtML9Yh09+r6NF\\\n",
              "0B8CBlPUjoZV1Y7dB3Pzsx8DPSNgAEQSMAAiCRgAkQQMpqRt2xrtbHU9A3pLwGBK2uF23fv9m2P3\\\n",
              "5cMv1WB+XweLoF8EDKakbdsaDbfH7s8cO1Fzi0sdLIJ+ETAAIgkYAJEEDIBIAgZAJAGDKdm4/5ca\\\n",
              "7Wzuug3mF2t55aWOFkG/CBhMyWd3btZo+wsBW1iqZ46d6GgR9IuAARBJwACIJGAARBIwACIJGEzB\\\n",
              "cHuzHt/7cOzeDOY6WAP9JGAwBaPtzXp05+bY/cjJ79ZgfrGDRdA/AgYzNFhYqqZpup4BvSBgAEQS\\\n",
              "MAAiCRgAkQQMpqAdDf/jvWm85WBSvJtgCu794c0a7Wztuu07sFIHX36to0XQPwIGUzDc/uf4sRn4\\\n",
              "CD1MkIABEEnAAIgkYABEEjCYsLZtqx2Nup4BvSdgMGGb6/frkw/fH7svr3yjyq+RgokRMJi0djT2\\\n",
              "EfqqqoMvn/Z7EGGCBAyASE3btm3XI+D/3cWLF+vy5ctP9NhDy3P102+/UIMvfLX1xm/X6sbdzf/6\\\n",
              "71dXV+v8+fNPtRP2kvmuB0CCa9eu1aVLl57osS8eea5+8q0fVzULVVU1aIa1MNiqd995p9669tdp\\\n",
              "zoQ9RcBgwrZGS/XeJz+sR8OVqqpanluv1w7+quNV0D9+BgYTtnLsdH26fbSG7UIN24Va3zlUb98+\\\n",
              "XXcePOp6GvSKgMGEvfrqd8Z+6/yf735eN24/6GgR9JOAwYS9uP+Dqtr92aj98776gknzMzCYsJ2N\\\n",
              "W7Wz9l6t7Rypr33lQD2/uFZHD/y661nQOwIGE/azN96qqrdrbjCo77/+Si0tztXD9Y2uZ0Hv7JmA\\\n",
              "XbhwoesJBLt69eoTP/bf/7OyrZ3hsH7x7o3/+blu3rzp9crMnDt3rusJT23PBOzs2bNdTyDY9evX\\\n",
              "68qVKzN5ruPHj3u9whPYMwE7evRo1xMItn///pk919LSktcrPAGfQgQgkoABEEnAAIgkYABEEjAA\\\n",
              "Iu2ZTyHCl3Hq1Kk6c+bMTJ5rdXV1Js8D6fxBSwAi+RYiAJEEDIBIAgZAJAEDIJKAARBJwACIJGAA\\\n",
              "RBIwACIJGACRBAyASAIGQCQBAyCSgAEQScAAiCRgAEQSMAAiCRgAkQQMgEgCBkAkAQMgkoABEEnA\\\n",
              "AIgkYABEEjAAIgkYAJEEDIBIAgZAJAEDIJKAARBJwACIJGAARBIwACIJGACRBAyASAIGQCQBAyCS\\\n",
              "gAEQScAAiCRgAEQSMAAiCRgAkQQMgEgCBkAkAQMgkoABEEnAAIgkYABEEjAAIgkYAJEEDIBIAgZA\\\n",
              "JAEDIJKAARBJwACIJGAARBIwACIJGACRBAyASAIGQCQBAyCSgAEQScAAiCRgAEQSMAAiCRgAkQQM\\\n",
              "gEgCBkAkAQMgkoABEEnAAIgkYABEEjAAIgkYAJEEDIBIAgZAJAEDIJKAARBJwACIJGAARBIwACIJ\\\n",
              "GACR/gW9aP95GB1bXQAAAABJRU5ErkJggg==\\\n",
              "\"\n",
              "  frames[9] = \"data:image/png;base64,iVBORw0KGgoAAAANSUhEUgAAAbAAAAEgCAYAAADVKCZpAAAABHNCSVQICAgIfAhkiAAAAAlwSFlz\\\n",
              "AAALEgAACxIB0t1+/AAAADh0RVh0U29mdHdhcmUAbWF0cGxvdGxpYiB2ZXJzaW9uMy4yLjIsIGh0\\\n",
              "dHA6Ly9tYXRwbG90bGliLm9yZy+WH4yJAAAIT0lEQVR4nO3dX4tcBxnH8efM7G6adjdp0qxJDWnU\\\n",
              "Rrq1aEGKgkgu9bJX4qvIZd5CEII3vc+F+AZa8UZEJBeFFhGkVI0WI41pSJNN0m42/3Z35nghCNsR\\\n",
              "m2xm9vA7+/nc7cMs88Du8GXOnHOmadu2LQAIM+h6AQDYCQEDIJKAARBJwACIJGAARBIwACIJGACR\\\n",
              "BAyASAIGQCQBAyCSgAEQScAAiCRgAEQSMAAiCRgAkQQMgEgCBkAkAQMgkoABEEnAAIgkYABEEjAA\\\n",
              "IgkYAJEEDIBIAgZAJAEDIJKAARBJwACIJGAARBIwACIJGACRBAyASAIGQCQBAyCSgAEQScAAiCRg\\\n",
              "AEQSMAAiCRgAkQQMgEgCBkAkAQMgkoABEEnAAIgkYABEEjAAIgkYAJEEDIBIAgZAJAEDIJKAARBJ\\\n",
              "wACIJGAARBIwACIJGACRBAyASAIGQCQBAyCSgAEQScAAiCRgAEQSMAAiCRgAkQQMgEgCBkAkAQMg\\\n",
              "koABEEnAAIgkYABEEjAAIgkYAJEEDIBIAgZAJAEDIJKAARBJwACIJGAARBIwACIJGACRBAyASAIG\\\n",
              "QCQBAyCSgAEQScAAiCRgAEQSMAAiCRgAkQQMgEgCBkAkAQMgkoABEEnAAIgkYABEEjAAIgkYAJEE\\\n",
              "DIBIAgZAJAEDIJKAARBJwACIJGAARBIwACIJGACRBAyASAIGQCQBAyCSgAEQScAAiCRgAEQSMAAi\\\n",
              "CRgAkQQMgEgCBkAkAQMgkoABEEnAAIgkYABEEjAAIgkYAJEEDIBIAgZAJAEDIJKAARBJwACIJGAA\\\n",
              "RBIwACIJGACR5rpeAPaKa3/8dd379B/bZkdf/1EdOP5qRxtBNgGDXXJ/9UqtXf3Lttl4a0PAYIcc\\\n",
              "QoQOtW3b9QoQS8BgF/wnVGIF0yRgsAvur16pu59cmpg/+8KJDraBfhAw2AXtaKvGWxsT88OnvtfB\\\n",
              "NtAPAgZAJAEDIJKAARBJwGAXrF//6H9Mm6qm2fVdoC8EDHbBZx9/MDFbOr5Szx5xFiLslIBBRwZz\\\n",
              "CzUYzne9BsQSMAAiCRgAkQQMZmw82qpqx12vAb0jYDBjdz+5VPdufjwxX3rxmx1sA/0hYDBj7Xg0\\\n",
              "+Q6saergS9/uZiHoCQEDIJKAARBJwACIJGAwQ23b1ng0+TUqzWDObaTgKQkYzFRb1//0m4np4Zff\\\n",
              "qH0HljvYB/pDwGCW2qp2tDkxbgZz1TRefvA0vIIAiCRgAEQSMAAiCRjM0L0b/6zNB2vbZs1gWAdO\\\n",
              "vNbRRtAfAgYz9ODOtRo9ur9t1gyGtXj0Gx1tBP0hYABEEjAAIgkYAJEEDGakbdsaPbo3MR8u7K9y\\\n",
              "ETM8Na8imJHx1kbd+PD3E/MjKz+suWcWO9gI+kXAYIbaL36RZVVV01TjRr7w1AQMgEgCBkAkAQMg\\\n",
              "koDBjHz+8Qc12th+F47hwv56/uTrHW0E/SJgMCMPP/+02tHWtlkznK99B492tBH0i4ABEEnAAIgk\\\n",
              "YABEEjCYgXY8qs37n3e9BvSagMEMbD28V7c/em9ifvjlN2ownOtgI+gfAYNd9Myhr1YzGHa9BvSC\\\n",
              "gAEQScAAiCRgAEQSMJiB1b+9W+PR5rZZM5yv+f1LHW0E/SNgMAMb67eq2nbbbGHxcB186TsdbQT9\\\n",
              "I2AARBIwACIJGACRBAymbLT5qDbW73S9BvSegMGUbd67U2tX/zwxX/7W6aqm6WAj6CcBg12yb+lI\\\n",
              "NQIGUyNgAEQSMAAiCRhMWfuFC5iB2RAwmLIbH/5u4i4cw4Vna27/gY42gn4SMJiyrQd3J2bPHDpW\\\n",
              "z33l6x1sA/3VtI53wP917dq1OnPmTI3H48d6/E++e7BeObpv2+xfdzbrF+99+bVhg8Gg3nrrrTp+\\\n",
              "/PiOdoW9xHebw5dYX1+vd955p0aj0WM9/gfHflxfO7Ly35/nBw/r9u1b9fbbv/rS3x0Oh3Xu3Lkd\\\n",
              "7wp7iYDBlF25v1KPbv60qpqqamtl6Q/V1vWu14Le8RkYTNnNRydq1C7UqJ2vUbtQf137fn22caTr\\\n",
              "taB3BAym6MSLJ+vVU69tm41rrn7528lbSwFPR8Bgip7f/6COLq5vm803D2ttfa2jjaC/fAYGU/Ro\\\n",
              "Y1Tjtfdr9W7Vwef216GlfbWy9H4dmLvV9WrQOwIGU/T3q7fqzM9+Xm019cqJF2rl5JF6t6qu3vQO\\\n",
              "DKZtzwTs/PnzXa9AqNXV1ce+Bqyqaty2VdXWpSs369KVm0/0XOPxuC5cuFDLy8tPuCXszNmzZ7te\\\n",
              "Ycf2zIXM1687jZmduXz5cp0+ffqxrwN7GoPBoC5evFinTp2a+XNBVdWxY8e6XmHH9sw7sOQ/Et1a\\\n",
              "W9u9w39N09Ty8rL/V3gMzkIEIJKAARBJwACIJGAARBIwACLtmbMQYacWFxfrzTfffKJrwXZqMBjU\\\n",
              "4uLizJ8H+mDPXAcGQL84hAhAJAEDIJKAARBJwACIJGAARBIwACIJGACRBAyASAIGQCQBAyCSgAEQ\\\n",
              "ScAAiCRgAEQSMAAiCRgAkQQMgEgCBkAkAQMgkoABEEnAAIgkYABEEjAAIgkYAJEEDIBIAgZAJAED\\\n",
              "IJKAARBJwACIJGAARBIwACIJGACRBAyASAIGQCQBAyCSgAEQScAAiCRgAEQSMAAiCRgAkQQMgEgC\\\n",
              "BkAkAQMgkoABEEnAAIgkYABEEjAAIgkYAJEEDIBIAgZAJAEDIJKAARBJwACIJGAARBIwACIJGACR\\\n",
              "BAyASAIGQCQBAyCSgAEQScAAiCRgAEQSMAAiCRgAkQQMgEgCBkAkAQMgkoABEEnAAIgkYABEEjAA\\\n",
              "IgkYAJEEDIBIAgZAJAEDIJKAARBJwACIJGAARBIwACIJGACRBAyASAIGQKR/Ay3eKJeo8NQvAAAA\\\n",
              "AElFTkSuQmCC\\\n",
              "\"\n",
              "  frames[10] = \"data:image/png;base64,iVBORw0KGgoAAAANSUhEUgAAAbAAAAEgCAYAAADVKCZpAAAABHNCSVQICAgIfAhkiAAAAAlwSFlz\\\n",
              "AAALEgAACxIB0t1+/AAAADh0RVh0U29mdHdhcmUAbWF0cGxvdGxpYiB2ZXJzaW9uMy4yLjIsIGh0\\\n",
              "dHA6Ly9tYXRwbG90bGliLm9yZy+WH4yJAAAITUlEQVR4nO3d32uVhx3H8e9zTn40GqvVZDpc2Vq6\\\n",
              "1jHYWKEIY/Oyd6NXu98/4KX/ggzKbnovbH/AoEJhFMbAu/3AsSvb7ocFa7OsiWZEa4zJOc/uBmlg\\\n",
              "tfGcPPs8eb0uvxjOB/ThTTTn2LRt2xYAhBl0PQAADkLAAIgkYABEEjAAIgkYAJEEDIBIAgZAJAED\\\n",
              "IJKAARBJwACIJGAARBIwACIJGACRBAyASAIGQCQBAyCSgAEQScAAiCRgAEQSMAAiCRgAkQQMgEgC\\\n",
              "BkAkAQMgkoABEEnAAIgkYABEEjAAIgkYAJEEDIBIAgZAJAEDIJKAARBJwACIJGAARBIwACIJGACR\\\n",
              "BAyASAIGQCQBAyCSgAEQScAAiCRgAEQSMAAiCRgAkQQMgEgCBkAkAQMgkoABEEnAAIgkYABEEjAA\\\n",
              "IgkYAJEEDIBIAgZAJAEDIJKAARBJwACIJGAARBIwACIJGACRBAyASAIGQCQBAyCSgAEQScAAiCRg\\\n",
              "AEQSMAAiCRgAkQQMgEgCBkAkAQMgkoABEEnAAIgkYABEEjAAIgkYAJEEDIBIAgZAJAEDIJKAARBJ\\\n",
              "wACIJGAARBIwACIJGACRBAyASAIGQCQBAyCSgAEQScAAiCRgAEQSMAAiCRgAkQQMgEgCBkAkAQMg\\\n",
              "koABEEnAAIgkYABEEjAAIgkYAJEEDIBIAgZAJAEDIJKAARBJwACIJGAARBIwACIJGACRBAyASAIG\\\n",
              "QCQBAyCSgAEQScAAiCRgAEQSMAAiCRgAkQQMgEgCBkAkAQMgkoABEEnAAIgkYABEEjAAIgkYAJEE\\\n",
              "DIBIAgZApJmuB8BRsXLzvfr8X//Yczv7/Tfr+fPf6WgRZBMwOCSP1u/U5t1be27j3ScCBgfkrxCh\\\n",
              "Q23bdj0BYgkYAJEEDIBIAgaHYHf7Ue0+frjv/tzJr3WwBvpBwOAQPN74576fQKyqWrrw4w7WQD8I\\\n",
              "GACRBAyASAIGQCQBg0Pw6N4nXU+A3hEwOAT3//7HfbfFr79aC2e+0cEa6AcBg44M5xZqODvf9QyI\\\n",
              "JWAARBIwACIJGExZ246rav+H9jYDjx88C08QTNmDTz+qR2t3vnBt6uz33uxkD/SFgMGUjXefVDve\\\n",
              "3Xtsqmbmj3UzCHpCwACIJGAARBIwmKK2bWs8etL1DOglAYOpamv1L+/vuy6cPl/D+eMd7IH+EDCY\\\n",
              "praqHe3sOx9ffqlmF050MAj6Q8AAiCRgAEQSMAAiCRhM0eeffVw7W5t7bs1gWM+/+N2OFkF/CBhM\\\n",
              "0dbGSo22H+25NYNhLZ59uaNF0B8CBkAkAQMgkoABEEnAYErGo53auH1z3304t1DVePTgWXmKYEra\\\n",
              "8bi27n+677504Uc189xiB4ugXwQMDlvTVNM0Xa+AeAIGQCQBAyCSgMGU7G5tVjse7bk1g2HNLpzs\\\n",
              "aBH0i4DBlNz72x9qtP35nttw/nid/vbFjhZBvwgYAJEEDIBIAgZAJAGDKRiPdmp7c63rGdBrAgZT\\\n",
              "MNreqn9//Od996XXfliD4WwHi6B/BAwO0dyJpWoGHjuYBE8SAJEEDIBIAgZT0XY9AHpPwGAK1m7d\\\n",
              "qPHuzp7b3Ikz9cJLP+hoEfSPgMEU7Gxt1he/C2sGMzWcO9bNIOghAQMgkoABEEnAYMLatq12PO56\\\n",
              "BvSegMGEPXmwXhu3b+67H1/+VlXTHP4g6CkBgwlrx6Ma727vu7/w8uvVCBhMjIABEEnAAIgkYABE\\\n",
              "EjCYsAcrH1W1e9/EPHv8VM2fPNvRIugnAYMJ27x7a99tbvF0PXfqXAdroL8EDIBIAgZApKZtW//v\\\n",
              "A/wPKysrdfny5Ro/5adr/PT1k/Xa2fk9t082dupXv9/40q8dDAb1zjvv1Pnz5w+0FY6Sma4HwP+7\\\n",
              "hw8f1vXr12s0Gn3prz2/dKJ+9sZPant06r+32cHjuruyWu+++5sv/frhcFhXr159pr1wVAgYTNAL\\\n",
              "J47VzsLF+t3aG1XVVFVbF078qX75/ntdT4Pe8W9gMEGbu0v1webFGrVzNWpna9TO1QebF2t963TX\\\n",
              "06B3BAwmaNwOatQO995qpsatRw0mzVMFEzTT7NTcYO8H+c42j2tmsNPRIugvAYMJmmvX6tTjd2t9\\\n",
              "/ePa2VqtxZmNenXhtzXfftb1NOgdP8QBE/TXu/fq8s9/UW019dqLZ+rCN5fq1/cf1Id31rueBr1z\\\n",
              "ZAL29ttvdz2BUOvr60/9HrCqqnHbVlVbH95Zqw/vrH2l1xqPx3Xt2rVaXl7+iivhYK5cudL1hAM7\\\n",
              "Mm9kXl1d7XoCoW7fvl2XLl16qveBPavBYFA3btyoV155ZeqvBVVV587lfkbnkfkOLPk3iW5tbm4e\\\n",
              "2ms1TVPLy8v+vMJT8EMcAEQSMAAiCRgAkQQMgEgCBkCkI/NTiHBQi4uL9dZbb32l94Id1GAwqMXF\\\n",
              "xam/DvTBkXkfGAD94q8QAYgkYABEEjAAIgkYAJEEDIBIAgZAJAEDIJKAARBJwACIJGAARBIwACIJ\\\n",
              "GACRBAyASAIGQCQBAyCSgAEQScAAiCRgAEQSMAAiCRgAkQQMgEgCBkAkAQMgkoABEEnAAIgkYABE\\\n",
              "EjAAIgkYAJEEDIBIAgZAJAEDIJKAARBJwACIJGAARBIwACIJGACRBAyASAIGQCQBAyCSgAEQScAA\\\n",
              "iCRgAEQSMAAiCRgAkQQMgEgCBkAkAQMgkoABEEnAAIgkYABEEjAAIgkYAJEEDIBIAgZAJAEDIJKA\\\n",
              "ARBJwACIJGAARBIwACIJGACRBAyASAIGQCQBAyCSgAEQScAAiCRgAEQSMAAiCRgAkQQMgEgCBkAk\\\n",
              "AQMgkoABEEnAAIgkYABEEjAAIgkYAJEEDIBIAgZAJAEDIJKAARBJwACI9B87xy3KtYa/AwAAAABJ\\\n",
              "RU5ErkJggg==\\\n",
              "\"\n",
              "  frames[11] = \"data:image/png;base64,iVBORw0KGgoAAAANSUhEUgAAAbAAAAEgCAYAAADVKCZpAAAABHNCSVQICAgIfAhkiAAAAAlwSFlz\\\n",
              "AAALEgAACxIB0t1+/AAAADh0RVh0U29mdHdhcmUAbWF0cGxvdGxpYiB2ZXJzaW9uMy4yLjIsIGh0\\\n",
              "dHA6Ly9tYXRwbG90bGliLm9yZy+WH4yJAAAIU0lEQVR4nO3dz4tdBxnH4ff+mJm0maSJZtra2DbU\\\n",
              "mqZFKdRFcROKKAguuvLPyMJF/oUgBDfdF3ThvgVB3KilKEpdabGttZGmYZh0phlnMklmktx73BWn\\\n",
              "t5B0cu8cvmeeZ/lyL/eFmcOHe+acM72maZoCgDD9thcAgL0QMAAiCRgAkQQMgEgCBkAkAQMgkoAB\\\n",
              "EEnAAIgkYABEEjAAIgkYAJEEDIBIAgZAJAEDIJKAARBJwACIJGAARBIwACIJGACRBAyASAIGQCQB\\\n",
              "AyCSgAEQScAAiCRgAEQSMAAiCRgAkQQMgEgCBkAkAQMgkoABEEnAAIgkYABEEjAAIgkYAJEEDIBI\\\n",
              "AgZAJAEDIJKAARBJwACIJGAARBIwACIJGACRBAyASAIGQCQBAyCSgAEQScAAiCRgAEQSMAAiCRgA\\\n",
              "kQQMgEgCBkAkAQMgkoABEEnAAIgkYABEEjAAIgkYAJEEDIBIAgZAJAEDIJKAARBJwACIJGAARBIw\\\n",
              "ACIJGACRBAyASAIGQCQBAyCSgAEQScAAiCRgAEQSMAAiCRgAkQQMgEgCBkAkAQMgkoABEEnAAIgk\\\n",
              "YABEEjAAIgkYAJEEDIBIAgZAJAEDIJKAARBJwACIJGAARBIwACIJGACRBAyASAIGQCQBAyCSgAEQ\\\n",
              "ScAAiCRgAEQSMAAiCRgAkQQMgEgCBkAkAQMgkoABEEnAAIgkYABEEjAAIgkYAJEEDIBIAgZAJAED\\\n",
              "IJKAARBJwACIJGAARBIwACIJGACRBAyASAIGQCQBAyCSgAEQScAAiCRgAEQSMAAiCRgAkQQMgEgC\\\n",
              "BkAkAQMgkoABEGnY9gJwUNzeulYfv/3rqmb8+WzphVfqyBOnazD/UIubQSYBg32y9sGfa/OTd3fN\\\n",
              "dq5/Vqd/8jMBgz1wChH2yc21yxOz4aHFml883sI2kE/AAIgkYABEEjAAIgkY7INb68t14+qlifn8\\\n",
              "4WMtbAPdIGCwD0Y7t+ru9vWJ+aPf+UEL20A3CBi0qtf2AhBLwACIJGAARBIw2Ac7m59OzIaHFmuw\\\n",
              "4AkcsFcCBvtg9b23J2aHH/tWPXT8iRa2gW4QMAAiCRgAkQQMgEgCBjN2e2v9S29iBh6MgMGM3Vy7\\\n",
              "XDsbX7wKsecpHPCABAza0PMcRHhQAgZAJAEDIJKAwQw1TVNbKx9OzHs9hx48KEcRzFLT1Mblf0yM\\\n",
              "jz/zvVo4utTCQtAdAgYt6A8XqtcftL0GRBMwACIJGACRBAxmqBnfraYZT8z7w7kWtoFuETCYoWsf\\\n",
              "/a12NlZ3zfrD+Xr0uz9saSPoDgGDGWrGo6pqJub9wXD/l4GOETAAIgkYAJEEDGakaZoa7dxoew3o\\\n",
              "LAGDGRnfvV2fvvuHifmRJ85Uf+5QCxtBtwgYzNCXXUL/8NJTNZhbaGEb6BYBAyCSgAEQScAAiCRg\\\n",
              "MCMbH/+9Rrdv7poN5h+qY0+/2NJG0C0CBjOyvXG1mtHdXbPeYK4WHnmspY2gWwQMgEgCBkAkAQMg\\\n",
              "koDBDNzduVHrH70zMZ8/fKx6vV4LG0H3CBjMQDMa1e2taxPzE8+frd7AP7OEaRAw2Ge+gcF0CBgA\\\n",
              "kQQMgEgCBjOwvXF14kn0/eFCzS8eb2kj6B4Bgxm49u+/TjyFY+7wsTp68oWWNoLuETAAIgkYAJEE\\\n",
              "DIBIAgZTNrp9q7b/e3VifnjpVJV7wGBqBAym7M7Njdpa+XBifvyZl9zEDFMkYABEEjAAIgkYAJEE\\\n",
              "DKbs+vIHVU3zhWmvqudwg2lyRMGUbV7558Ts4RNP1dGTz7ewDXSXgME+6A0G1RsM214DOkXAAIjU\\\n",
              "a5qJk/XA/1leXq5z587VeDy+94ur6qcvPVLPPbawa/bJ+p361V/W7/nefr9fr732Wp08eXJPu8JB\\\n",
              "4pwG3MPW1la9+eabNRqN7vna4aBfr3zzx3XqxLc/n831t+vK8kq98cZv7/n+wWBQFy5ceKB94aAQ\\\n",
              "MJii00+eqG+c+lH9fvXlqupVVVNnjrxTv/zdb9peDTrH38BgirZGS/XB1vdr1MzXqJmrUTNf722+\\\n",
              "XGu3vtb2atA5AgZTNG76NWoGu2c1rHHjUINpc1TBFA17d2q+v7NrNtfbrmH/TksbQXcJGEzRfLNa\\\n",
              "x7bfqLW1/9SdWyu1OFyvF4/9sY4OP2t7NegcF3HAFP3rymd17ue/qKZ69dyTX68zT5+oP1XVldXN\\\n",
              "tleDzjkwAbt48WLbKxBqbW3tvu8Bq6oaN01VNfX+5dV6//LqV/qs8Xhcr7/+ei0tLX3FLWFvzp8/\\\n",
              "3/YKe3ZgbmReWVlpewVCXbp0qc6ePXtf94E9qH6/X2+99VY9++yzM/8sqKp6/PHH215hzw7MN7Dk\\\n",
              "HxLt2tzcv9N/vV6vlpaW/L7CfXARBwCRBAyASAIGQCQBAyCSgAEQ6cBchQh7tbi4WK+++upXuhds\\\n",
              "r/r9fi0uLs78c6ALDsx9YAB0i1OIAEQSMAAiCRgAkQQMgEgCBkAkAQMgkoABEEnAAIgkYABEEjAA\\\n",
              "IgkYAJEEDIBIAgZAJAEDIJKAARBJwACIJGAARBIwACIJGACRBAyASAIGQCQBAyCSgAEQScAAiCRg\\\n",
              "AEQSMAAiCRgAkQQMgEgCBkAkAQMgkoABEEnAAIgkYABEEjAAIgkYAJEEDIBIAgZAJAEDIJKAARBJ\\\n",
              "wACIJGAARBIwACIJGACRBAyASAIGQCQBAyCSgAEQScAAiCRgAEQSMAAiCRgAkQQMgEgCBkAkAQMg\\\n",
              "koABEEnAAIgkYABEEjAAIgkYAJEEDIBIAgZAJAEDIJKAARBJwACIJGAARBIwACIJGACRBAyASAIG\\\n",
              "QCQBAyCSgAEQScAAiCRgAEQSMAAiCRgAkQQMgEgCBkAkAQMgkoABEEnAAIgkYABE+h/ayCXs7Q+R\\\n",
              "3gAAAABJRU5ErkJggg==\\\n",
              "\"\n",
              "  frames[12] = \"data:image/png;base64,iVBORw0KGgoAAAANSUhEUgAAAbAAAAEgCAYAAADVKCZpAAAABHNCSVQICAgIfAhkiAAAAAlwSFlz\\\n",
              "AAALEgAACxIB0t1+/AAAADh0RVh0U29mdHdhcmUAbWF0cGxvdGxpYiB2ZXJzaW9uMy4yLjIsIGh0\\\n",
              "dHA6Ly9tYXRwbG90bGliLm9yZy+WH4yJAAAIDUlEQVR4nO3dzY/UBx3H8e/sLsuysAVkoVssbWlo\\\n",
              "SxoNaQ+uiZoYE6NHLl5M+As8N+HcK38Bxx5Mr8QTiZ60EetTIBFBsGopSimPXSgPuzv786AxWaaJ\\\n",
              "Wzozv3x++3odvxkyn8NO3mFnd6fXNE1TABBmou0BAPA0BAyASAIGQCQBAyCSgAEQScAAiCRgAEQS\\\n",
              "MAAiCRgAkQQMgEgCBkAkAQMgkoABEEnAAIgkYABEEjAAIgkYAJEEDIBIAgZAJAEDIJKAARBJwACI\\\n",
              "JGAARBIwACIJGACRBAyASAIGQCQBAyCSgAEQScAAiCRgAEQSMAAiCRgAkQQMgEgCBkAkAQMgkoAB\\\n",
              "EEnAAIgkYABEEjAAIgkYAJEEDIBIAgZAJAEDIJKAARBJwACIJGAARBIwACIJGACRBAyASAIGQCQB\\\n",
              "AyCSgAEQScAAiCRgAEQSMAAiCRgAkQQMgEgCBkAkAQMgkoABEEnAAIgkYABEEjAAIgkYAJEEDIBI\\\n",
              "AgZAJAEDIJKAARBJwACIJGAARBIwACIJGACRBAyASAIGQCQBAyCSgAEQScAAiCRgAEQSMAAiCRgA\\\n",
              "kQQMgEgCBkAkAQMgkoABEEnAAIgkYABEEjAAIgkYAJEEDIBIAgZAJAEDIJKAARBJwACIJGAARBIw\\\n",
              "ACIJGACRBAyASAIGQCQBAyCSgAEQScAAiCRgAEQSMAAiCRgAkQQMgEgCBkAkAQMgkoABEEnAAIgk\\\n",
              "YABEEjAAIgkYAJEEDIBIAgZAJAEDIJKAARBJwACIJGAARBIwACIJGACRBAyASAIGQCQBAyCSgAEQ\\\n",
              "ScAAiCRgAESaansAbBbL92/Xh7/6aVWz9r/b3te/W3P7X63J6W0tLoNMAgZjcvMvv66lj/607nbv\\\n",
              "2qU69IOf1DPPv97SKsjlW4gwJg9uXhm4zc6/UHNfPdzCGsgnYNCqXvV6XobwNLxyAIgkYABEEjAY\\\n",
              "g/7K4+ovPxy4T2/f1cIa6AYBgzF4eOtq3b92aeC+72vfa2ENdIOAQat6bQ+AWAIGQCQBAyCSgAEQ\\\n",
              "ScBgDG5efG/gtv3Zl2tm93MtrIFuEDAYg0efXh+4Tc3M1dTW2RbWQDcIGACRBAyASAIGQCQBgxFb\\\n",
              "eXjvc/+M1MzOfS2sge4QMBixz67/rR7d+df6Y69X84e/3c4g6AgBAyCSgAEQScAAiCRgMEJN09SD\\\n",
              "W1fangGdJGAwSk1Tdz74/cB510tv1PTcnhYGQXcIGLRgauv2mpjc0vYMiCZgAEQSMAAiCRiMUNOs\\\n",
              "tT0BOkvAYITu/v2P9ejTT9YfexO1bc/z7QyCDhEwGKH+yuOqJ/4XNjE5VbsPvtHSIugOAQMgkoAB\\\n",
              "EEnAAIgkYDAizVq/7n/814H79n0Ha2JqawuLoFsEDEZkrb9aS1f/PHDf8dwrNTk908Ii6BYBAyCS\\\n",
              "gAEQScAAiCRgMCJNf6WqaZ649vwVehgSAYMRuXnxvVp9dG/dbWrbjpo//J2WFkG3CBiMyFp/9XOu\\\n",
              "vepNTo19C3SRgAEQScAAiCRgAEQSMBiB/vLDuvfPCwP3nS98vSa8BwZDIWAwAmurK/Xg5pWB+/Z9\\\n",
              "B6s3MdnCIugeAQMgkoABEEnAAIgkYDACtz/43cAvMvcmJn2MCgyRgMEIPLp7rapZW3ebnpuv3Qff\\\n",
              "bGkRdI+AwVj12h4AnSFgAEQSMAAiCRgM2drqcq0+vPf/Hwh8KQIGQ7Z8/3bd/fDcwH3PK9+s6nkP\\\n",
              "DIZFwGBMtn1lf/UEDIZGwACIJGAARBIwACIJGAzZjQu/rGqadbeZ3ftrx8KhlhZBN/Wa5olXGjDg\\\n",
              "5MmTdfr06Q099kdv7qzXnt267vbRnZV65zd3NvTvFxcX6/jx4194I2w2PhoWNuDcuXN16tSpDT32\\\n",
              "Wwvfr5f3vlprzX9eXhO9ft2+/XGdOvWzUU6ETUfAYMger83Wb2//sJZW56uqavvkUk3332l5FXSP\\\n",
              "98BgyC4sLdadlYXqN1uq32yppdU99bA/1/Ys6BwBgyGam52uXc/srCf/6vz7/9jRziDoMAGDIXpp\\\n",
              "YVd949BsVa3/2aj3//CLdgZBh3kPDIbo8XK/tn7281pdelDN9Iu1a8dMzU3dqbmpu21Pg84RMBii\\\n",
              "S1dv1Y/ffreaerdeOzBfh1/cW71q6vqtT9qeBp2zaQJ24sSJticQ7OzZsxt+7Np/f7Xy4pUbdfHK\\\n",
              "jS/8XJcvX/b1yti89dZbbU94apsmYMeOHWt7AsHOnz9fZ86cGctzHThwwNcrbMCmCdjCwkLbEwg2\\\n",
              "Ozs7tueamZnx9Qob4KcQAYgkYABEEjAAIgkYAJEEDIBIm+anEOHLOHLkSB09enQsz7W4uDiW54F0\\\n",
              "PtASgEi+hQhAJAEDIJKAARBJwACIJGAARBIwACIJGACRBAyASAIGQCQBAyCSgAEQScAAiCRgAEQS\\\n",
              "MAAiCRgAkQQMgEgCBkAkAQMgkoABEEnAAIgkYABEEjAAIgkYAJEEDIBIAgZAJAEDIJKAARBJwACI\\\n",
              "JGAARBIwACIJGACRBAyASAIGQCQBAyCSgAEQScAAiCRgAEQSMAAiCRgAkQQMgEgCBkAkAQMgkoAB\\\n",
              "EEnAAIgkYABEEjAAIgkYAJEEDIBIAgZAJAEDIJKAARBJwACIJGAARBIwACIJGACRBAyASAIGQCQB\\\n",
              "AyCSgAEQScAAiCRgAEQSMAAiCRgAkQQMgEgCBkAkAQMgkoABEEnAAIgkYABEEjAAIgkYAJEEDIBI\\\n",
              "AgZAJAEDIJKAARBJwACIJGAARBIwACIJGACRBAyASAIGQKR/A/hRAPnUcrUyAAAAAElFTkSuQmCC\\\n",
              "\"\n",
              "  frames[13] = \"data:image/png;base64,iVBORw0KGgoAAAANSUhEUgAAAbAAAAEgCAYAAADVKCZpAAAABHNCSVQICAgIfAhkiAAAAAlwSFlz\\\n",
              "AAALEgAACxIB0t1+/AAAADh0RVh0U29mdHdhcmUAbWF0cGxvdGxpYiB2ZXJzaW9uMy4yLjIsIGh0\\\n",
              "dHA6Ly9tYXRwbG90bGliLm9yZy+WH4yJAAAH9UlEQVR4nO3dS29cBxnH4XfGtwQ7pJ3QNpGAVolU\\\n",
              "AgIJCS+CqrBAYhmWfAOE8gHyGbIIaz5CJBA7L8qGRSVSGgkqqkKhAbVUidokzc3JOM74dlhwkZwR\\\n",
              "SrBn5vAfP8/y1YzOK3lGP5/xmeNO0zRNAUCYbtsLAMBeCBgAkQQMgEgCBkAkAQMgkoABEEnAAIgk\\\n",
              "YABEEjAAIgkYAJEEDIBIAgZAJAEDIJKAARBJwACIJGAARBIwACIJGACRBAyASAIGQCQBAyCSgAEQ\\\n",
              "ScAAiCRgAEQSMAAiCRgAkQQMgEgCBkAkAQMgkoABEEnAAIgkYABEEjAAIgkYAJEEDIBIAgZAJAED\\\n",
              "IJKAARBJwACIJGAARBIwACIJGACRBAyASAIGQCQBAyCSgAEQScAAiCRgAEQSMAAiCRgAkQQMgEgC\\\n",
              "BkAkAQMgkoABEEnAAIgkYABEEjAAIgkYAJEEDIBIAgZAJAEDIJKAARBJwACIJGAARBIwACIJGACR\\\n",
              "BAyASAIGQCQBAyCSgAEQScAAiCRgAEQSMAAiCRgAkQQMgEgCBkAkAQMgkoABEEnAAIgkYABEEjAA\\\n",
              "IgkYAJEEDIBIAgZAJAEDIJKAARBJwACIJGAARBIwACIJGACRBAyASAIGQCQBAyCSgAEQScAAiCRg\\\n",
              "AEQSMAAiCRgAkQQMgEgCBkAkAQMgkoABEEnAAIgkYABEEjAAIgkYAJEEDIBIAgZAJAEDIJKAARBJ\\\n",
              "wACIJGAARBIwACIJGACRBAyASAIGQCQBAyCSgAEQScAAiCRgAEQSMAAiCRgAkQQMgEgCBkAkAQMg\\\n",
              "koABEEnAAIg02/YCcFCs3f64Pv39SlXT7Jqf+M65WnrlZEtbQS4Bgwm5+Ydf1cPrf9o1Wzj6cs0v\\\n",
              "vtDSRpDNR4gwIc1TZ15VVbOHjtT8Uq+FbSCfgAEQScAAiCRgAEQSMJiA7c1BbW+sD81dwAF7J2Aw\\\n",
              "Aet3b1T/s2tD85e/+f0WtoHpIGDQqk7bC0AsAQMgkoABEEnAAIgkYDABm48fDM1m5g9Xd26+hW1g\\\n",
              "OggYTMCt9389NFs68Xod7n25hW1gOggYtKjTcRUi7JWAARBJwACIJGAARBIwGLOtwePa2RoMzd0H\\\n",
              "EfZHwGDM+p/9tdbv3tg97HTcBxH2ScAAiCRgAEQSMAAiCRgAkQQMxqhpdurOX34zNJ9dWKrOzGwL\\\n",
              "G8H0EDAYp6Zq8PD20PiF175d80vHWlgIpoeAQUvcBxH2R8AAiCRgAEQSMAAiCRiM0er1P9ZG/95T\\\n",
              "007NuQ8i7JuAwRhtPl6tna2NXbPu7Fy99PWzLW0E00PAAIgkYABEEjAAIgkYAJEEDMZkZ2uz7n74\\\n",
              "9tD8xVPLNbOw2MJGMF0EDMakaXZq8OjO0Hx+qVddN/KFfRMwACIJGACRBAyASAIGQCQBgzG5/9Hv\\\n",
              "anuwtms2s/CFevHkcksbwXQRMBiTjf79ana2d8063dmaX+q1tBFMFwEDIJKAARBJwACIJGAwBjvb\\\n",
              "mzV4+Hnba8BUEzAYg+3Bej34+N2h+Ze+9kZ1Z+Za2Aimj4DBBM0fOVadrrcdjIJ3EgCRBAyASAIG\\\n",
              "QCQBgzF4snqrmman7TVgqgkYjMG9v12tZntr12x+qVdHv/qtljaC6SNgMCGdmbmaO/zFtteAqSFg\\\n",
              "AEQSMAAiCRgAkQQMRmx780lt9O+1vQZMPQGDEdtce1APb3wwNH/pG9+r6nRa2AimU6dpmqbtJeD/\\\n",
              "3erqap0/f77W19ef+dhjizP1k7O96j4Vq1+8u1rXbg2e63gXL16s06dP72lXOChm214AEgwGg1pZ\\\n",
              "Wal+v//Mx776ytH68Rs/qs06VFX/jNhcd1BX33mn3nrvk+c63oULF/azLhwIAgYj1lSnPn1yqj54\\\n",
              "dLaaf31Kf2rxvap6s93FYMoIGIzY460j9f7q2Wo6C/+ZfT74Sv37bAwYDRdxwIi9dqJXO0/9bnjz\\\n",
              "0Vz9/d7Cf3kGsBcCBiP2w++erEMzT3bNbt2+Xp9c/7CljWA6CRiM2KNHt+rY4Jd1/+5HdahzrxZn\\\n",
              "HtSri39uey2YOv4GBiP205+/XZ36bXW7P6sfLJ+qhfnZuv9wre21YOocmIBdunSp7RUI1u/3a2Nj\\\n",
              "47ke2zRVTTW1s71db169tqfjXb58ua5cubKn58L/IvkrGwfmi8w3b95sewWC3blzp86cOVNra5M5\\\n",
              "k1pZWanl5eWJHIuD7fjx422vsGcH5gws+YdE+7rdbnUmeBuoXq/nNQvP4CIOACIJGACRBAyASAIG\\\n",
              "QCQBAyDSgbkKEfZjYWGhzp0791z/D2wUer3eRI4DyQ7M98AAmC4+QgQgkoABEEnAAIgkYABEEjAA\\\n",
              "IgkYAJEEDIBIAgZAJAEDIJKAARBJwACIJGAARBIwACIJGACRBAyASAIGQCQBAyCSgAEQScAAiCRg\\\n",
              "AEQSMAAiCRgAkQQMgEgCBkAkAQMgkoABEEnAAIgkYABEEjAAIgkYAJEEDIBIAgZAJAEDIJKAARBJ\\\n",
              "wACIJGAARBIwACIJGACRBAyASAIGQCQBAyCSgAEQScAAiCRgAEQSMAAiCRgAkQQMgEgCBkAkAQMg\\\n",
              "koABEEnAAIgkYABEEjAAIgkYAJEEDIBIAgZAJAEDIJKAARBJwACIJGAARBIwACIJGACRBAyASAIG\\\n",
              "QCQBAyCSgAEQScAAiCRgAEQSMAAiCRgAkQQMgEgCBkAkAQMgkoABEEnAAIgkYABEEjAAIgkYAJEE\\\n",
              "DIBIAgZAJAEDINI/AHH/Bi6omsQlAAAAAElFTkSuQmCC\\\n",
              "\"\n",
              "  frames[14] = \"data:image/png;base64,iVBORw0KGgoAAAANSUhEUgAAAbAAAAEgCAYAAADVKCZpAAAABHNCSVQICAgIfAhkiAAAAAlwSFlz\\\n",
              "AAALEgAACxIB0t1+/AAAADh0RVh0U29mdHdhcmUAbWF0cGxvdGxpYiB2ZXJzaW9uMy4yLjIsIGh0\\\n",
              "dHA6Ly9tYXRwbG90bGliLm9yZy+WH4yJAAAHhklEQVR4nO3dQW8cBxnH4Xe9tmPHjuIkxQqhLRQi\\\n",
              "IkuoUhE9gBCH8gVy4YLIx4jEJ8glnwGJUy7pIUJUIhKXSrlAS0GoIAUUCjRKKXaaxI6dbOz1cOC0\\\n",
              "2kNSx7Oj//p5jq9mNe9hpJ92ZrzuNU3TFACEmel6AQA4CAEDIJKAARBJwACIJGAARBIwACIJGACR\\\n",
              "BAyASAIGQCQBAyCSgAEQScAAiCRgAEQSMAAiCRgAkQQMgEgCBkAkAQMgkoABEEnAAIgkYABEEjAA\\\n",
              "IgkYAJEEDIBIAgZAJAEDIJKAARBJwACIJGAARBIwACIJGACRBAyASAIGQCQBAyCSgAEQScAAiCRg\\\n",
              "AEQSMAAiCRgAkQQMgEgCBkAkAQMgkoABEEnAAIgkYABEEjAAIgkYAJEEDIBIAgZAJAEDIJKAARBJ\\\n",
              "wACIJGAARBIwACIJGACRBAyASAIGQCQBAyCSgAEQScAAiCRgAEQSMAAiCRgAkQQMgEgCBkAkAQMg\\\n",
              "koABEEnAAIgkYABEEjAAIgkYAJEEDIBIAgZAJAEDIJKAARBJwACIJGAARBIwACIJGACRBAyASAIG\\\n",
              "QCQBAyCSgAEQScAAiCRgAEQSMAAiCRgAkQQMgEgCBkAkAQMgkoABEEnAAIgkYABEEjAAIgkYAJEE\\\n",
              "DIBIAgZAJAEDIJKAARBJwACIJGAARBIwACIJGACRBAyASAIGQCQBAyCSgAEQScAAiCRgAEQSMAAi\\\n",
              "CRgAkQQMgEgCBkAkAQMgkoABEEnAAIgkYABEEjAAIgkYAJEEDIBIAgZAJAEDIJKAARBJwACIJGAA\\\n",
              "RBIwACIJGEzIYHO9mqbpeg2YGrNdLwBHxb0Pf1V7Tx+PzBZOnavXvv+TjjaCbAIGEzLcHdTm3b+O\\\n",
              "zYCDcQsRgEgCBkAkAQMgkoABEEnAYAKePLhX25//Y2w+v7TSwTYwHQQMJmA4eFJ7T7fG5qvfeaeD\\\n",
              "bWA6CBh0qtf1AhBLwACIJGAARBIwACIJGACRBAwm4Is7H4zNjr/yeh07udrBNjAdBAwmYGfj32Oz\\\n",
              "uaVTNbd4ooNtYDoIGACRBAyASAIGQCQBAyCSgAEQScCgZU++uFfPtjbG5itff7ODbWB6CBi0bLC5\\\n",
              "Xrs7j0aHvV4tnz3fzUIwJQQMgEgCBkAkAQMgkoABEEnAAIgkYNCipmlq67O/jc0XT79a/WNLHWwE\\\n",
              "00PAoE1NU5uffjw2XvrKN/wSPbwkAQMgkoABEEnAAIgkYABEEjBoUdPsV9M0Xa8BU0nAoEUPP/mo\\\n",
              "Bpvro8PeTC2eebWbhWCKCBi0aLg7qGr2R2Yz/dk69cZbHW0E00PAAIgkYABEEjAAIgkYAJEEDFry\\\n",
              "/9fnvUIPbREwaEkz3K31v7w/Nj/z7R/U7MJyBxvBdBEwaEnTNLX7ZHNsPru4XL2ZfgcbwXQRMAAi\\\n",
              "CRgAkQQMgEgCBkAkAQMgkoBBSx7c+bCGg+2RWf/YUp3+1tsdbQTTRcCgJc+2H1SzPxyZ9Wb6Nbd0\\\n",
              "qqONYLoIGACRBAyASAIGQCQBAyCSgAEQScCgBXuDnXr4zz+NzU+ff7tm+rMdbATTR8CgBc1wrwaP\\\n",
              "Ph+bL6x81S/RwyERMAAiCRgAkQQMgEgCBkCkXtM0TddLQILr16/XtWvXXujYr50+Xj/73lLN9Xsj\\\n",
              "8/c+3qw/fvr0uZ9fW1urK1euHGhPOCq8zwsv6Pbt23Xjxo0XOvbnP/1h9Xpv1mA4V1VVvd5+bW09\\\n",
              "qF+++5v65LOHz/38xsbGS+0KR4GAQQv2mmP10cMf1/1n56qqamFmu84M3q1//edRx5vB9PAMDFrw\\\n",
              "98dv1X8Hr9ewmathM1fbw5X686Mflfv1cHgEDFowbOaqavT5114zPzYDDk7AoAUL/cdVtT8yW+xv\\\n",
              "VfkOBofGMzBowcrwd9Xb+matD16rc6+cqJPzO3X+5PvVKwmDwyJg0IJf/Pr3Ve99UL3q1TvffaNO\\\n",
              "HJ+vxzuD2vdXK3BojkzArl692vUKhLt169YLH9tUVTVNNdXUb/9w50uf6+7du65ZJuLy5ctdr3Bg\\\n",
              "RyZgly5d6noFwt2/f79u3rw5kXOtrq66ZuE5jkzAzp492/UKhFteXp7Yuebn512z8BzeQgQgkoAB\\\n",
              "EEnAAIgkYABEEjAAIh2ZtxDhZV24cKEuXrw4kXOtra1N5DyQzD+0BCCSW4gARBIwACIJGACRBAyA\\\n",
              "SAIGQCQBAyCSgAEQScAAiCRgAEQSMAAiCRgAkQQMgEgCBkAkAQMgkoABEEnAAIgkYABEEjAAIgkY\\\n",
              "AJEEDIBIAgZAJAEDIJKAARBJwACIJGAARBIwACIJGACRBAyASAIGQCQBAyCSgAEQScAAiCRgAEQS\\\n",
              "MAAiCRgAkQQMgEgCBkAkAQMgkoABEEnAAIgkYABEEjAAIgkYAJEEDIBIAgZAJAEDIJKAARBJwACI\\\n",
              "JGAARBIwACIJGACRBAyASAIGQCQBAyCSgAEQScAAiCRgAEQSMAAiCRgAkQQMgEgCBkAkAQMgkoAB\\\n",
              "EEnAAIgkYABEEjAAIgkYAJEEDIBIAgZAJAEDIJKAARBJwACIJGAARBIwACIJGACRBAyASAIGQCQB\\\n",
              "AyCSgAEQScAAiCRgAET6Hyeb8cwxTGWUAAAAAElFTkSuQmCC\\\n",
              "\"\n",
              "  frames[15] = \"data:image/png;base64,iVBORw0KGgoAAAANSUhEUgAAAbAAAAEgCAYAAADVKCZpAAAABHNCSVQICAgIfAhkiAAAAAlwSFlz\\\n",
              "AAALEgAACxIB0t1+/AAAADh0RVh0U29mdHdhcmUAbWF0cGxvdGxpYiB2ZXJzaW9uMy4yLjIsIGh0\\\n",
              "dHA6Ly9tYXRwbG90bGliLm9yZy+WH4yJAAAHYElEQVR4nO3dT28cBxnH8Wd2vbGLE2MT0oQKE1Gl\\\n",
              "giDEAQ6IPxGCK5dcuCUvIwdeQxQpl7yKqFLUnCoFofYaDgQBQhxQI2ibCtLWwXE39u4OZ2tbHEJ2\\\n",
              "R7/x53N8NKt5LqPvaPZf07ZtWwAQZtD1AgDwIgQMgEgCBkAkAQMgkoABEEnAAIgkYABEEjAAIgkY\\\n",
              "AJEEDIBIAgZAJAEDIJKAARBJwACIJGAARBIwACIJGACRBAyASAIGQCQBAyCSgAEQScAAiCRgAEQS\\\n",
              "MAAiCRgAkQQMgEgCBkAkAQMgkoABEEnAAIgkYABEEjAAIgkYAJEEDIBIAgZAJAEDIJKAARBJwACI\\\n",
              "JGAARBIwACIJGACRBAyASAIGQCQBAyCSgAEQScAAiCRgAEQSMAAiCRgAkQQMgEgCBkAkAQMgkoAB\\\n",
              "EEnAAIgkYABEEjAAIgkYAJEEDIBIAgZAJAEDIJKAARBJwACIJGAARBIwACIJGACRBAyASAIGQCQB\\\n",
              "AyCSgAEQScAAiCRgAEQSMAAiCRgAkQQMgEgCBkAkAQMgkoABEEnAAIgkYABEEjAAIgkYAJEEDIBI\\\n",
              "AgZAJAEDIJKAARBJwACIJGAARBIwACIJGACRBAyASAIGQCQBAyCSgAEQScAAiCRgAEQSMAAiCRgA\\\n",
              "kQQMgEgCBkAkAQMgkoABEEnAAIgkYABEEjAAIgkYAJEEDIBIAgZAJAEDIJKAARBJwACIJGAARBIw\\\n",
              "ACIJGACRBAyASAIGQCQBAyCSgAEQScAAiCRgAEQSMAAiCRgAkQQMgEgCBkAkAQMgkoABEEnAAIgk\\\n",
              "YLAkz578s9q27XoN6I2VrheA4+KD371Vk/Huodna1mu1/aNfdbQRZBMwWJLpwbN68o8/z82AF+MR\\\n",
              "IgCRBAyASAIGSzAZ79bB00+7XgN6RcBgCcafflR7/3o4N3/1u7/oYBvoBwGDDp1Y3+p6BYglYABE\\\n",
              "EjAAIgkYAJEEDIBIAgZAJAEDIJKAwRJM9/e6XgF6R8BgCR49eHtutrb1Wp04dbqDbaAfBAyWoJ3N\\\n",
              "5marG2fqxPpmB9tAPwgYAJEEDIBIAgZAJAEDIJKAARBJwACIJGAARBIwWLCDz/79ub/Esfblsx1s\\\n",
              "A/0hYLBgTz/6W40/+fDwsGnqq9/+STcLQU8IGACRBAyASAIGQCQBAyCSgAEQScAAiCRgAEQSMFig\\\n",
              "tm1rNtmfmw+Go6qm6WAj6A8Bg4Vq69GDt+emW6//oFY3znSwD/SHgMEitVXt9GBu3AxWqmlcfvD/\\\n",
              "cAUBEEnAAIgkYABEEjAAIgkYAJEEDIBIAgZAJAGDBdr5+x9rf/fjQ7NmuFKnv/XjjjaC/hAwWKCD\\\n",
              "vZ25n5JqmkGtnjrd0UbQHwIGQCQBAyCSgAEQScAAiCRgAEQSMAAiCRgAkQQMFmQ2ndTuh3+dm6+/\\\n",
              "+noNRqsdbAT9ImCwIO1sWk/e/8vc/OTXLtRwtNbBRtAvAgZAJAEDIJKAARBJwACIJGAARBIwACIJ\\\n",
              "GACRBAwW5GBvp9rZ9NCsGQxr9KXNjjaCfmnatm27XgJS3Lt3r27duvVcx166sF4/e2P90Gz32bRu\\\n",
              "vfNxHUyPvuy2t7fr5s2bNRi4z4TPs9L1ApDk4cOHdefOnec69swvv18/vfDDmsxOVFVV08xqPP6k\\\n",
              "7t69W+P9yZGvv3jxYrm/hC8mYLAg03al/rBzqR6Nv1lVVaPmWZ0fvNXxVtAfnk3Agry39516/7M3\\\n",
              "atqOatqOajw7Wb/f+XlNW/eN8DIIGCzItB1VVXNoNpmNulkGekjAYEHWhk+rqcOfQnxluFtNeV8L\\\n",
              "XgbPMmBBTk0f1Gj3t/XB+EKd+8rJ2lg9qK9v/aYGzfToFwNHEjBYkDff+VO9+e6vq6qpS9/7Rp3e\\\n",
              "eKXG+5M6mAgYvAzHJmDXr1/vegV64P79+899bFtV1bZV1da7D977n8/1+PHjunHjRjVNc/TB8IKu\\\n",
              "XbvW9Qov7NgE7OrVq12vQA+srKzU7du3l3Kuzc3NunLlii8ywxc4NgE7d+5c1yvQAxsbG0s713A4\\\n",
              "rLNnz9ZwOFzaOSGJWzsAIgkYAJEEDIBIAgZAJAEDINKx+RQivAznz5+vy5cvL+Vc29vbvgMG/4U/\\\n",
              "tAQgkkeIAEQSMAAiCRgAkQQMgEgCBkAkAQMgkoABEEnAAIgkYABEEjAAIgkYAJEEDIBIAgZAJAED\\\n",
              "IJKAARBJwACIJGAARBIwACIJGACRBAyASAIGQCQBAyCSgAEQScAAiCRgAEQSMAAiCRgAkQQMgEgC\\\n",
              "BkAkAQMgkoABEEnAAIgkYABEEjAAIgkYAJEEDIBIAgZAJAEDIJKAARBJwACIJGAARBIwACIJGACR\\\n",
              "BAyASAIGQCQBAyCSgAEQScAAiCRgAEQSMAAiCRgAkQQMgEgCBkAkAQMgkoABEEnAAIgkYABEEjAA\\\n",
              "IgkYAJEEDIBIAgZAJAEDIJKAARBJwACIJGAARBIwACIJGACRBAyASAIGQCQBAyCSgAEQScAAiCRg\\\n",
              "AEQSMAAiCRgAkQQMgEgCBkAkAQMgkoABEEnAAIgkYABE+g91BNuMh6RBIgAAAABJRU5ErkJggg==\\\n",
              "\"\n",
              "  frames[16] = \"data:image/png;base64,iVBORw0KGgoAAAANSUhEUgAAAbAAAAEgCAYAAADVKCZpAAAABHNCSVQICAgIfAhkiAAAAAlwSFlz\\\n",
              "AAALEgAACxIB0t1+/AAAADh0RVh0U29mdHdhcmUAbWF0cGxvdGxpYiB2ZXJzaW9uMy4yLjIsIGh0\\\n",
              "dHA6Ly9tYXRwbG90bGliLm9yZy+WH4yJAAAHFklEQVR4nO3dz2pcdRzG4e+ZJP0To03H1klQEURB\\\n",
              "pVhRUAQFL6ELceGiW6+gt9BNF3bVC3DpKhsFqWjFRYViUUS7EDQqSmtLpTbTmNjJcSNiqdA/OnN8\\\n",
              "J8+zy48Zzguz+CSTM0zTtm1bABCm1/UAALgbAgZAJAEDIJKAARBJwACIJGAARBIwACIJGACRBAyA\\\n",
              "SAIGQCQBAyCSgAEQScAAiCRgAEQSMAAiCRgAkQQMgEgCBkAkAQMgkoABEEnAAIgkYABEEjAAIgkY\\\n",
              "AJEEDIBIAgZAJAEDIJKAARBJwACIJGAARBIwACIJGACRBAyASAIGQCQBAyCSgAEQScAAiCRgAEQS\\\n",
              "MAAiCRgAkQQMgEgCBkAkAQMgkoABEEnAAIgkYABEEjAAIgkYAJEEDIBIAgZAJAEDIJKAARBJwACI\\\n",
              "JGAARBIwACIJGACRBAyASAIGQCQBAyCSgAEQScAAiCRgAEQSMAAiCRgAkQQMgEgCBkAkAQMgkoAB\\\n",
              "EEnAAIgkYABEEjAAIgkYAJEEDIBIAgZAJAEDIJKAARBJwACIJGAARBIwACIJGACRBAyASAIGQCQB\\\n",
              "AyCSgAEQScAAiCRgAEQSMAAiCRgAkQQMgEgCBkAkAQMgkoABEEnAAIgkYABEEjAAIgkYAJEEDIBI\\\n",
              "AgZAJAEDIJKAARBJwACIJGAARBIwACIJGACRBAyASAIGQCQBAyCSgAEQScAAiCRgAEQSMAAiCRgA\\\n",
              "kQQMgEgCBkAkAQMgkoABEEnAAIgkYABEEjAAIgkYAJEEDIBIAgZAJAEDIJKAARBJwACIJGAARJrt\\\n",
              "egBsB6PN9Rpe/K56M7N1zwOPVtPzuyP8WwIGE7B++af6+p03q+nN1sLy49U0TVVVPfTia7V773LH\\\n",
              "6yCTgMEEtVvX6+qP5/76ebRxrcM1kM37GABEEjAAIgkYAJEEDIBIAgZAJAEDIJKAARBJwACIJGAA\\\n",
              "RBIwACIJGACRBAyASAIGQCQBgwlo261/OG2q/vxaFeDOCRhMwIXP37vp7N4Hn6j5fQ93sAamg4DB\\\n",
              "BFz/h+/96s3uqN7MXAdrYDoIGACRBAyASAIGQCQBAyCSgAEQScAAiCRgAEQSMAAiCRgAkQQMgEgC\\\n",
              "BkAkAQMgkoABEEnAAIgkYDBm65d/rM2rl246X3zk6Q7WwPQQMBizjV8v1e/Xrtx42DS1sPRYN4Ng\\\n",
              "SggYAJEEDIBIAgZAJAEDIJKAARBJwACIJGAARBIwACIJGACRBAyASAIGQCQBAyCSgAEQScAAiCRg\\\n",
              "MEZt29bm8PJN57O77q1mZq6DRTA9BAzGqW3r4penbjpefORg7VjoT34PTBEBg440TdP1BIgmYABE\\\n",
              "EjAAIgkYAJEEDIBIAgZAJAEDIJKAARBJwACIJGAARBIwACI1bdu2XY+AJGfOnKmjR4/e1mObpuqN\\\n",
              "l/q1b2H2hvOz36/Xu19eveXz+/1+nThxonbu3HlXW2Gazd76IcDfXbhwoVZWVm7rsb2mqdcPvlr3\\\n",
              "zS9V2/aqqq0dvd9qdXW1VlY+vuXzl5eXazQa/cvFMJ0EDMaorarV4VO1eunl+m3rnpppfq9n9nxU\\\n",
              "bZ3rehrE8z8wGKumVq8dqOFosUbtXG1uzddnV16pjdGurodBPAGDMXr2wPO1v//ADWfDjaq3T33V\\\n",
              "0SKYHgIGY/Twniu1f/7Gb2Te2RvWlbVhR4tgeggYjNHa+kYtrq/U8Jcvqrl+sfbM/VzPLZ6sud5G\\\n",
              "19Mgnps4YIze//Sb+uDst9XWW/XCkw/V8v0L9eFoq4brm11Pg3jbJmDHjh3regJT4ty5O7uDcOvP\\\n",
              "j1p+8tUPd3yttbW1On78eM3Nzd3xc+F2HDlypOsJd23bfJD5/PnzXU9gSpw8ebIOHz48kWsNBoM6\\\n",
              "ffp07d69eyLXY/tZWlrqesJd2zZ/gSW/SPy/7N27d2LX6vV6NRgMan5+fmLXhBRu4gAgkoABEEnA\\\n",
              "AIgkYABEEjAAIm2buxDhvzIYDOrQoUMTuVa/36+ZmZmJXAvSbJvPgQEwXbyFCEAkAQMgkoABEEnA\\\n",
              "AIgkYABEEjAAIgkYAJEEDIBIAgZAJAEDIJKAARBJwACIJGAARBIwACIJGACRBAyASAIGQCQBAyCS\\\n",
              "gAEQScAAiCRgAEQSMAAiCRgAkQQMgEgCBkAkAQMgkoABEEnAAIgkYABEEjAAIgkYAJEEDIBIAgZA\\\n",
              "JAEDIJKAARBJwACIJGAARBIwACIJGACRBAyASAIGQCQBAyCSgAEQScAAiCRgAEQSMAAiCRgAkQQM\\\n",
              "gEgCBkAkAQMgkoABEEnAAIgkYABEEjAAIgkYAJEEDIBIAgZAJAEDIJKAARBJwACIJGAARBIwACIJ\\\n",
              "GACRBAyASAIGQCQBAyCSgAEQScAAiCRgAEQSMAAiCRgAkQQMgEgCBkAkAQMgkoABEEnAAIgkYABE\\\n",
              "EjAAIgkYAJEEDIBIAgZApD8AHpi6ppddwngAAAAASUVORK5CYII=\\\n",
              "\"\n",
              "  frames[17] = \"data:image/png;base64,iVBORw0KGgoAAAANSUhEUgAAAbAAAAEgCAYAAADVKCZpAAAABHNCSVQICAgIfAhkiAAAAAlwSFlz\\\n",
              "AAALEgAACxIB0t1+/AAAADh0RVh0U29mdHdhcmUAbWF0cGxvdGxpYiB2ZXJzaW9uMy4yLjIsIGh0\\\n",
              "dHA6Ly9tYXRwbG90bGliLm9yZy+WH4yJAAAGY0lEQVR4nO3dvY4dBx2H4f/GXq9t8CYxG7AVQoGE\\\n",
              "WxcUhgtAchFR0lmUvgJfAZXlglugp1kJIRCNO7AVCW3hIsiKFMSHFa3Mh52wWePNoUiF0zgWnNG7\\\n",
              "+zzlaI7mV4z0SmfOx8ZqtVoNAMS8tvQAAHgVAgZAkoABkCRgACQJGABJAgZAkoABkCRgACQJGABJ\\\n",
              "AgZAkoABkCRgACQJGABJAgZAkoABkCRgACQJGABJAgZAkoABkCRgACQJGABJAgZAkoABkCRgACQJ\\\n",
              "GABJAgZAkoABkCRgACQJGABJAgZAkoABkCRgACQJGABJAgZAkoABkCRgACQJGABJAgZAkoABkCRg\\\n",
              "ACQJGABJAgZAkoABkCRgACQJGABJAgZAkoABkCRgACQJGABJAgZAkoABkCRgACQJGABJAgZAkoAB\\\n",
              "kCRgACQJGABJAgZAkoABkCRgACQJGABJAgZAkoABkCRgACQJGABJAgZAkoABkCRgACQJGABJAgZA\\\n",
              "koABkCRgACQJGABJAgZAkoABkCRgACQJGABJAgZAkoABkCRgACQJGABJAgZAkoABkCRgACQJGABJ\\\n",
              "AgZAkoABkCRgACQJGABJAgZAkoABkCRgACQJGABJAgZAkoABkCRgACQJGABJAgZAkoABkCRgACQJ\\\n",
              "GABJAgZAkoABkCRgACQJGABJAgZAkoABkCRgACQJGABJAgZAkoABkCRgACQJGABJAgZAkoABkCRg\\\n",
              "ACQJGABJAgZAkoABkCRgACQJGABJAgZAkoABkCRgACQJGABJAgZA0umlB8BJcPTsYD7Z/+PMzGxd\\\n",
              "2Jmt7Z2FF0GfgMEaHPztr/Pwlz+dmZmt7bdma/utmZn55vd/NOfevLzkNMgSMFizwyf7c/hkf2Zm\\\n",
              "jg7/tfAa6PIMDIAkAQMgScAASBIwAJIEDIAkAQMgScAASBIwAJIEDIAkAQMgScAASBIwAJIEDIAk\\\n",
              "AQMgScAASBIwAJIEDIAkAQMgScAASBIwAJIEDIAkAQMgScAASBIwAJIEDIAkAQMgScAASBIwAJIE\\\n",
              "DIAkAQMgScAASBIwAJIEDIAkAQMgScAASBIwAJIEDIAkAQMgScAASBIwAJIEDIAkAQMgScAASBIw\\\n",
              "AJIEDIAkAQMgScAASBIwAJIEDNbgHx/ufeHYuYtvz9b2zgJr4HgQMFiDjz/64AvHzlzYmc3zry+w\\\n",
              "Bo4HAQMgScAASBIwAJIEDIAkAQMgScAASBIwAJIEDIAkAQMgaWO1Wq2WHgFFt2/fnnv37r3UuT/+\\\n",
              "3hvzzptn/uvYHz46nJ///p8v9frr16/PzZs3v/RGOM5OLz0Aqu7fvz+7u7svde673/nhXHr9W/PZ\\\n",
              "6tTMzLy28XwePfpwdnd/81Kvv3z58iuuhONLwGANDo6+Mr97/O58cvT5bx9un348nx79ZeFV0OYZ\\\n",
              "GKzBwdFX58nzr83RanOOVpvz939/Y95/em3pWZAmYLAG+4fvvHBkY56vNhfZAseFgMEafH3rTy8c\\\n",
              "Wc25Ux8vsgWOC8/AYA2ePvnzPNvYm4PPLs7bO9tzcWt/zl54b+lZkCZgsAY/+dmvZubXs3Vmc37w\\\n",
              "3W/P6VMb8+jx06VnQdqJCdidO3eWnsAx8/Dhw5c+9/NvW67m08Nn84vfvv+lr7W3t+ce5v/i1q1b\\\n",
              "S094ZScmYDdu3Fh6AsfM3bt358GDB2u51pUrV9zD8IITE7BLly4tPYFj5uzZs2u71vnz593D8AKf\\\n",
              "QgQgScAASBIwAJIEDIAkAQMg6cR8ChH+165duzbr+ju9q1evruU6UOIPLQFI8hYiAEkCBkCSgAGQ\\\n",
              "JGAAJAkYAEkCBkCSgAGQJGAAJAkYAEkCBkCSgAGQJGAAJAkYAEkCBkCSgAGQJGAAJAkYAEkCBkCS\\\n",
              "gAGQJGAAJAkYAEkCBkCSgAGQJGAAJAkYAEkCBkCSgAGQJGAAJAkYAEkCBkCSgAGQJGAAJAkYAEkC\\\n",
              "BkCSgAGQJGAAJAkYAEkCBkCSgAGQJGAAJAkYAEkCBkCSgAGQJGAAJAkYAEkCBkCSgAGQJGAAJAkY\\\n",
              "AEkCBkCSgAGQJGAAJAkYAEkCBkCSgAGQJGAAJAkYAEkCBkCSgAGQJGAAJAkYAEkCBkCSgAGQJGAA\\\n",
              "JAkYAEkCBkCSgAGQJGAAJAkYAEkCBkCSgAGQJGAAJAkYAEkCBkCSgAGQJGAAJAkYAEkCBkCSgAGQ\\\n",
              "JGAAJAkYAEn/AccxjE2v3sTaAAAAAElFTkSuQmCC\\\n",
              "\"\n",
              "  frames[18] = \"data:image/png;base64,iVBORw0KGgoAAAANSUhEUgAAAbAAAAEgCAYAAADVKCZpAAAABHNCSVQICAgIfAhkiAAAAAlwSFlz\\\n",
              "AAALEgAACxIB0t1+/AAAADh0RVh0U29mdHdhcmUAbWF0cGxvdGxpYiB2ZXJzaW9uMy4yLjIsIGh0\\\n",
              "dHA6Ly9tYXRwbG90bGliLm9yZy+WH4yJAAAGy0lEQVR4nO3bz25UdRzG4e+UWqAUo0gIBqqpSAIV\\\n",
              "jbrQlTsTE1fcABeAey6BjVyBV4DBTZdKcGdC4oLIxlTU4L9ApVRK2oH+oT1uYAGNSYF4Tt6Z59n1\\\n",
              "l0nOu5jJp3Nyptc0TVMAEGak6wEA8CwEDIBIAgZAJAEDIJKAARBJwACIJGAARBIwACIJGACRBAyA\\\n",
              "SAIGQCQBAyCSgAEQScAAiCRgAEQSMAAiCRgAkQQMgEgCBkAkAQMgkoABEEnAAIgkYABEEjAAIgkY\\\n",
              "AJEEDIBIAgZAJAEDIJKAARBJwACIJGAARBIwACIJGACRBAyASAIGQCQBAyCSgAEQScAAiCRgAEQS\\\n",
              "MAAiCRgAkQQMgEgCBkAkAQMgkoABEEnAAIgkYABEEjAAIgkYAJEEDIBIAgZAJAEDIJKAARBJwACI\\\n",
              "JGAARBIwACIJGACRBAyASAIGQCQBAyCSgAEQScAAiCRgAEQSMAAiCRgAkQQMgEgCBkAkAQMgkoAB\\\n",
              "EEnAAIgkYABEEjAAIgkYAJEEDIBIAgZAJAEDIJKAARBJwACIJGAARBIwACIJGACRBAyASAIGQCQB\\\n",
              "AyCSgAEQScAAiCRgAEQSMAAiCRgAkQQMgEgCBkAkAQMgkoABEEnAAIgkYABEEjAAIgkYAJEEDIBI\\\n",
              "AgZAJAEDIJKAARBJwACIJGAARBIwACIJGACRBAyASAIGQCQBAyCSgAEQScAAiCRgAEQSMAAiCRgA\\\n",
              "kQQMgEgCBkAkAQMgkoABEEnAAIgkYABEEjAAIgkYAJEEDIBIAgZAJAEDIJKAARBJwACIJGDQsmZz\\\n",
              "s5bnfql7C391PQWijXY9AIbBn5e/qpU7N6qqqmmaWr55rV6cPFFvfvJZx8sgl4BBC/q3rlf/71+7\\\n",
              "ngEDxS1EACIJGACRBAyASAIGQCQBAyCSgAEQScAAiCRgAEQSMGjB+P7JLWfr/cVav7/UwRoYDAIG\\\n",
              "Ldh35IMtZ/du/16rd291sAYGg4ABEEnAAIgkYABEEjAAIgkYAJEEDIBIAgZAJAEDIJKAARBJwACI\\\n",
              "JGAARBIwACIJGACRBAyASAIGLeiNjFRvZMeW880Hax2sgcEgYNCC8f2v1d5Dx7ecz139uoM1MBgE\\\n",
              "DFrQG9nxH9/A1jtYA4NBwACIJGAARBIwACIJGACRBAyASAIGQCQBAyCSgAEQScAAiCRgAEQSMAAi\\\n",
              "CRgAkQQMgEgCBkAkAYOWvHL0w6rqPXa2sjhX/fnfOtkD6QQMWrJ736En+1Ubq/1a79/tZhCEEzAA\\\n",
              "IgkYAJEEDIBIAgZAJAEDIJKAARBJwACIJGAARBIwACIJGACRBAyASAIGQCQBAyCSgAEQScCgJSOj\\\n",
              "O2tsz74t5yuLN6tpmg4WQTYBg5aMTbxcLx4+vuV84drlqhIweFq9xr9+8FwuXLhQ58+f39ZrPz2x\\\n",
              "t96f3P3Y2e3lB/XFd//Udj6J09PTdfbs2WeZCQNntOsBkG52drZmZma29dq3Jj6qdw69XRvNC1VV\\\n",
              "1ett1tLSnZqZmdlWwBYWFp5nKgwUAYMWrW3urCuLH9fC2qtVVbVrpF/7H3zZ8SrIJGDQop+X36s9\\\n",
              "q5NV1auqqv7GS7Vy/+jDv93Nh6fhIQ5o0UYzVo/i9cjcyhvdjIFwAgYt2rVjuZ78pvX6+I/djIFw\\\n",
              "biFCi47suVpT4+/WrdXDdeP2Uo3W3dq99kO5fQhPT8CgRd98P1s//fF5NU3Vt1eu1/L91apqtvUE\\\n",
              "IvC4ofkd2Llz57qewIC6dOlSXbx4sZVrTU1N1enTp1u5FsPhzJkzXU94ZkPzDezUqVNdT2BAzc/P\\\n",
              "txawAwcOeC/DQ0MTsIMHD3Y9gQE1MTHR2rXGxsa8l+EhTyECEEnAAIgkYABEEjAAIgkYAJGG5ilE\\\n",
              "+L8cO3asTp482cq1pqenW7kOJBiaHzIDMFjcQgQgkoABEEnAAIgkYABEEjAAIgkYAJEEDIBIAgZA\\\n",
              "JAEDIJKAARBJwACIJGAARBIwACIJGACRBAyASAIGQCQBAyCSgAEQScAAiCRgAEQSMAAiCRgAkQQM\\\n",
              "gEgCBkAkAQMgkoABEEnAAIgkYABEEjAAIgkYAJEEDIBIAgZAJAEDIJKAARBJwACIJGAARBIwACIJ\\\n",
              "GACRBAyASAIGQCQBAyCSgAEQScAAiCRgAEQSMAAiCRgAkQQMgEgCBkAkAQMgkoABEEnAAIgkYABE\\\n",
              "EjAAIgkYAJEEDIBIAgZAJAEDIJKAARBJwACIJGAARBIwACIJGACRBAyASAIGQCQBAyCSgAEQScAA\\\n",
              "iCRgAEQSMAAiCRgAkQQMgEgCBkAkAQMgkoABEEnAAIgkYABEEjAAIgkYAJEEDIBIAgZAJAEDINK/\\\n",
              "n3i7LjBWzWcAAAAASUVORK5CYII=\\\n",
              "\"\n",
              "  frames[19] = \"data:image/png;base64,iVBORw0KGgoAAAANSUhEUgAAAbAAAAEgCAYAAADVKCZpAAAABHNCSVQICAgIfAhkiAAAAAlwSFlz\\\n",
              "AAALEgAACxIB0t1+/AAAADh0RVh0U29mdHdhcmUAbWF0cGxvdGxpYiB2ZXJzaW9uMy4yLjIsIGh0\\\n",
              "dHA6Ly9tYXRwbG90bGliLm9yZy+WH4yJAAAHxElEQVR4nO3dS29cdxnH8WdmPONL7i6qXTctEqjQ\\\n",
              "ikosu0SovIAs2WWD2LDOW8gmm6wi3gURiE12iEJUpYDowqQXVQ0kikMTkjZ23NieOaxYOIOUS5tz\\\n",
              "8ht/PstHx/4/kmV95Zlzxr2maZoCgDD9rhcAgGchYABEEjAAIgkYAJEEDIBIAgZAJAEDIJKAARBJ\\\n",
              "wACIJGAARBIwACIJGACRBAyASAIGQCQBAyCSgAEQScAAiCRgAEQSMAAiCRgAkQQMgEgCBkAkAQMg\\\n",
              "koABEEnAAIgkYABEEjAAIgkYAJEEDIBIAgZAJAEDIJKAARBJwACIJGAARBIwACIJGACRBAyASAIG\\\n",
              "QCQBAyCSgAEQScAAiCRgAEQSMAAiCRgAkQQMgEgCBkAkAQMgkoABEEnAAIgkYABEEjAAIgkYAJEE\\\n",
              "DIBIAgZAJAEDIJKAARBJwACIJGAARBIwACIJGACRBAyASAIGQCQBAyCSgAEQScAAiCRgAEQSMAAi\\\n",
              "CRgAkQQMgEgCBkAkAQMgkoABEEnAAIgkYABEEjAAIgkYAJEEDIBIAgZAJAEDIJKAARBJwACIJGAA\\\n",
              "RBIwACIJGACRBAyASAIGQCQBAyCSgAEQScAAiCRgAEQSMAAiCRgAkQQMgEgCBkAkAQMgkoABEEnA\\\n",
              "AIgkYABEEjAAIgkYAJEEDIBIAgZAJAEDIJKAARBJwACIJGAARBIwACIJGACRBAyASAIGQCQBAyCS\\\n",
              "gAEQScAAiCRgAEQSMAAiCRgAkQQMgEgCBkAkAQMgkoABEEnAAIgkYABEEjAAIgkYAJEEDIBIAgZA\\\n",
              "JAGDDuxs3avx7sOu14Boc10vALNu89ZndfMvv9s3233wZX3vZ7+swfHVjraCfAIGz9ne9v366vr6\\\n",
              "/mGv180yMEO8hAhAJAEDIJKAARBJwOA5m1s8XIPR4v5hU/X1l//uZiGYEQIGz9nhle/Xwom1R6ZN\\\n",
              "3b76Xif7wKwQMAAiCRgAkQQMgEgCBkAkAQMgkoBBC0aHjk/NxjvbPtAXvgEBgxa8/Pa7U7PNmx/X\\\n",
              "9p3rHWwDs0HAAIgkYABEEjAAIgkYAJEEDIBIAgYt6A3mqj83mprvPdzqYBuYDQIGLVj6zut15NU3\\\n",
              "p+a3PrzUwTYwGwQMWtDr9aqqNzVvJpP2l4EZIWAARBIwACIJGACRBAyASAIGXWomNRnvdb0FRBIw\\\n",
              "aMmRV34wNdv64lrdv3G1g20gn4BBS469/nZV75Fb6ZtJNZNxNwtBOAEDIJKAARBJwACIJGAARBIw\\\n",
              "ACIJGLSkP1yo+aMvT80f3P5nNU3TwUaQTcCgJaNDx+vIK29Mze9+9kFVCRg8LQEDIJKAARBJwACI\\\n",
              "JGAARBIwACIJGLRo/tjK1Af6jncf1s7m3Y42glwCBi166Y13qj8Y7pvtbt2tr66vd7QR5BIwACIJ\\\n",
              "GACRBAyASAIGQCQBAyCSgMELYHfrbjXNpOs1IIqAQYsGo6U69t0fT81vX32vJnu7HWwEuQQMWtSf\\\n",
              "G9bC8ZWpuf8HBk9PwACIJGAARBIwACIJGACRBAxeBM2kxjsPut4CoggYtOzoq29Vf7iwb7b39Wbd\\\n",
              "+ejPHW0EmQQMWrb40mvVnxtNzd1KD09HwACIJGAARBIwACL1Gi+8w7fiypUrdfbs2cdeNxz06lc/\\\n",
              "Wa7D84N98z98slV//HTric5aXl6uCxcu1Pz8/DPtCrNgrusFYFZsbGzUxYsXH3vdwmiufvHOz2tx\\\n",
              "dLj2Jv8LUFPr//igLv7+r0901traWo3H42+wLeQTMGjZ3nhSVz66VSd/+G79a/vNqqoa9Hbr5MkH\\\n",
              "tTj6sLZ39jreEDJ4Dwxatjee1G//vlDXHvyoxs2wxs2wdiZLdXztpzUaLTz+GwBVJWDQiXEzV80j\\\n",
              "v35fPHyt9prp58OA/0/AoAPz/e3q1/6XCtcWPq1h/2FHG0EeAYMOrCxcq7eOvl+HBvdq6/6Nunfn\\\n",
              "4+pv/qmaife/4Em5iQM68LdPblb95tfVVNX76zdq4z+b1aumJp5qgSd2YAJ27ty5rldgxq2vrz/x\\\n",
              "tZ9v3KvPN+7tmz1NujY3N+v8+fM1HA6f4qtg2pkzZ7pe4ZkdmAeZNzY2ul6BGXfp0qU6ffp0K2et\\\n",
              "rKzU5cuXa3FxsZXzmF2rq6tdr/DMDsxfYMk/JDKcOHGitbMGg0GtrKzU0tJSa2fCi8ZNHABEEjAA\\\n",
              "IgkYAJEEDIBIAgZApANzFyI8b6urq3Xq1KlWzlpeXq7BYPD4C2GGHZjnwACYLV5CBCCSgAEQScAA\\\n",
              "iCRgAEQSMAAiCRgAkQQMgEgCBkAkAQMgkoABEEnAAIgkYABEEjAAIgkYAJEEDIBIAgZAJAEDIJKA\\\n",
              "ARBJwACIJGAARBIwACIJGACRBAyASAIGQCQBAyCSgAEQScAAiCRgAEQSMAAiCRgAkQQMgEgCBkAk\\\n",
              "AQMgkoABEEnAAIgkYABEEjAAIgkYAJEEDIBIAgZAJAEDIJKAARBJwACIJGAARBIwACIJGACRBAyA\\\n",
              "SAIGQCQBAyCSgAEQScAAiCRgAEQSMAAiCRgAkQQMgEgCBkAkAQMgkoABEEnAAIgkYABEEjAAIgkY\\\n",
              "AJEEDIBIAgZAJAEDIJKAARBJwACIJGAARBIwACIJGACRBAyASAIGQCQBAyCSgAEQScAAiCRgAEQS\\\n",
              "MAAiCRgAkQQMgEgCBkAkAQMg0n8BigwA0irk1s0AAAAASUVORK5CYII=\\\n",
              "\"\n",
              "  frames[20] = \"data:image/png;base64,iVBORw0KGgoAAAANSUhEUgAAAbAAAAEgCAYAAADVKCZpAAAABHNCSVQICAgIfAhkiAAAAAlwSFlz\\\n",
              "AAALEgAACxIB0t1+/AAAADh0RVh0U29mdHdhcmUAbWF0cGxvdGxpYiB2ZXJzaW9uMy4yLjIsIGh0\\\n",
              "dHA6Ly9tYXRwbG90bGliLm9yZy+WH4yJAAAIJElEQVR4nO3dzY9VBx3G8d+ZF7gMyFCwMMWWhKaE\\\n",
              "alqJRiXEXV2xMIaVK7b8B2xdkxD3blm6Y2V8iURjYjNNjQtBW02pFgNCocPbMAMzd46LJk3gqsDE\\\n",
              "OYfnzuez/GXIfRZDvmE4c2/Ttm1bABBmou8BALAeAgZAJAEDIJKAARBJwACIJGAARBIwACIJGACR\\\n",
              "BAyASAIGQCQBAyCSgAEQScAAiCRgAEQSMAAiCRgAkQQMgEgCBkAkAQMgkoABEEnAAIgkYABEEjAA\\\n",
              "IgkYAJEEDIBIAgZAJAEDIJKAARBJwACIJGAARBIwACIJGACRBAyASAIGQCQBAyCSgAEQScAAiCRg\\\n",
              "AEQSMAAiCRgAkQQMgEgCBkAkAQMgkoABEEnAAIgkYABEEjAAIgkYAJEEDIBIAgZAJAEDIJKAARBJ\\\n",
              "wACIJGAARBIwACIJGACRBAyASAIGQCQBAyCSgAEQScAAiCRgAEQSMAAiCRgAkQQMgEgCBkAkAQMg\\\n",
              "koABEEnAAIgkYABEEjAAIgkYAJEEDIBIAgZAJAEDIJKAARBJwACIJGAARBIwACIJGACRBAyASAIG\\\n",
              "QCQBAyCSgAEQScAAiCRgAEQSMAAiCRgAkQQMgEgCBkAkAQMgkoABEEnAAIgkYABEEjAAIgkYAJEE\\\n",
              "DIBIAgZAJAEDIJKAARBJwACIJGAARBIwACIJGACRBAyASAIGQCQBAyCSgAEQScAAiCRgAEQSMAAi\\\n",
              "CRgAkQQMgEgCBkAkAQMgkoABEEnAAIgkYABEEjAAIgkYAJEEDIBIAgZAJAEDIJKAARBJwACIJGAA\\\n",
              "RBIwACJN9T0AxlnbtvXwzvVavn29Pv3zb764zx54u/a+9U5/w2AMCBhspLatj375k1q+fe2x85Yd\\\n",
              "e3oaBOPDjxBhw7V9D4CxJGCwkZqmdsy9MXJeWrhaqw8XexgE40PAYAM1TVOzB74+cl+8cblWl+71\\\n",
              "sAjGh4ABEEnAAIgkYABEEjDYYIOXXhl9bL5t684nf+pnEIwJAYMNNpjdW9Pbd43c7137Ww9rYHwI\\\n",
              "GACRBAyASAIGQCQBgw7sfuPbI7cHNz+p5TvXe1gD40HAoAMzew6M3FYWF2p16X4Pa2A8CBgAkQQM\\\n",
              "gEgCBkAkAYMODF56pbbve33kfvOD3/WwBsaDgEEHprbO1NTgSyP35Ts3elgD40HAAIgkYABEEjDo\\\n",
              "SNM0//Hetm3HS2A8CBh0ZO9b71TV4xFbunWl7ntXelgXAYOOTM/MPtmvWlt9VMNHS/0MgnACBkAk\\\n",
              "AQMgkoBBh5pm9K/cvWt/9SAHrIOAQUe27ny5dh385sj97pWLVSVg8LwEDDrSTEzW5PTWvmfA2BAw\\\n",
              "ACIJGACRBAw6NDG1ZeS2snS3Fq9/3MMayCZg0KG9b39vJGLDhw9qaeFqT4sgl4BBhyYmp/ueAGND\\\n",
              "wACIJGAARBIw6FIzUZNbZkbOC5ffr7XhSg+DIJeAQYemBjvqy29+d+S+9NnVatfWelgEuQQMOtQ0\\\n",
              "TdV/+WBL4PkIGACRBAyASAIGHZveNlv1xMeqDB8u1sLlP/S0CDIJGHRs96GjNTXY8ditXRvWo/uf\\\n",
              "9bQIMgkYAJEEDIBIAgYvkLb1yczwrAQMOtY0EzWY3Tdyv/Xh72v4cLGHRZBJwKBjE1PTtfvQd0bu\\\n",
              "q8v3vRsHPAcBAyCSgAEQScDghdFWuzbsewTEEDDowWB2X01u2fbYbW31Ud24+OueFkEeAYMe7Jg7\\\n",
              "VFPbdo7chyvLPayBTAIGQCQBAyCSgMELZG11xYMc8IwEDPrQNLXzK2+OnBcuv18P793sYRDkETDo\\\n",
              "QdM0tfPVr43c27VhlfdDhGciYABEEjAAIjWtz2+A/6szZ87U/Pz8U7/utdmJ+uG3dtVgy9QXt7W2\\\n",
              "rZ/+cak+un7/mV7r+PHjderUqXVvhWRTT/8S4HnMz8/X+fPnn+lrv7HvB/XVg6/VWjtZVVUTzWrt\\\n",
              "q7/Xj8//6pn+/P79+9e9E9IJGPTowXB7vXvr+7U4/PxdOXZO3axH7T97XgUZ/B8Y9Oja8ut1d3VP\\\n",
              "DdvpGrbTtbAyV3+5e7TvWRBBwKBH15YOPnFparWd7mULpBEw6NHW5feeuLQ1t3OlZraKGDyNgEGP\\\n",
              "fvvuz2tu68e1ffJ2rSz9q1bvvFfH9l+sV18efad64HEe4oAeXb91o37xsx9VW0198I9P68MrN6up\\\n",
              "zx+nB/63TfN7YGfPnu17ApvEuXPn6tKlS5281rFjx+rEiROdvBbj6fTp031PWLdN8y+wkydP9j2B\\\n",
              "TeLChQudBezw4cO+t9m0Nk3A5ubm+p7AJjEYDDp7rZmZGd/bbFoe4gAgkoABEEnAAIgkYABEEjAA\\\n",
              "Im2apxChK0ePdvdmvEeOHOnsteBFs2l+kRmA8eJHiABEEjAAIgkYAJEEDIBIAgZAJAEDIJKAARBJ\\\n",
              "wACIJGAARBIwACIJGACRBAyASAIGQCQBAyCSgAEQScAAiCRgAEQSMAAiCRgAkQQMgEgCBkAkAQMg\\\n",
              "koABEEnAAIgkYABEEjAAIgkYAJEEDIBIAgZAJAEDIJKAARBJwACIJGAARBIwACIJGACRBAyASAIG\\\n",
              "QCQBAyCSgAEQScAAiCRgAEQSMAAiCRgAkQQMgEgCBkAkAQMgkoABEEnAAIgkYABEEjAAIgkYAJEE\\\n",
              "DIBIAgZAJAEDIJKAARBJwACIJGAARBIwACIJGACRBAyASAIGQCQBAyCSgAEQScAAiCRgAEQSMAAi\\\n",
              "CRgAkQQMgEgCBkAkAQMgkoABEEnAAIgkYABEEjAAIgkYAJEEDIBIAgZAJAEDIJKAARBJwACIJGAA\\\n",
              "RPo3wxQabQKvFo4AAAAASUVORK5CYII=\\\n",
              "\"\n",
              "  frames[21] = \"data:image/png;base64,iVBORw0KGgoAAAANSUhEUgAAAbAAAAEgCAYAAADVKCZpAAAABHNCSVQICAgIfAhkiAAAAAlwSFlz\\\n",
              "AAALEgAACxIB0t1+/AAAADh0RVh0U29mdHdhcmUAbWF0cGxvdGxpYiB2ZXJzaW9uMy4yLjIsIGh0\\\n",
              "dHA6Ly9tYXRwbG90bGliLm9yZy+WH4yJAAAI7UlEQVR4nO3dS29cdxnH8efY41suTXNpk1BUCigJ\\\n",
              "VK0QKRIRqALEogvULVvWfQGV+haqvosqr4A0G1CLlC4ACRpBE26FRk1Lm8ZtPIljx/HYPmwA4U5R\\\n",
              "Lo3n+Df+fHZ+NNY8UjL6ao5nzr9p27YtAAgz0fUCAHA/BAyASAIGQCQBAyCSgAEQScAAiCRgAEQS\\\n",
              "MAAiCRgAkQQMgEgCBkAkAQMgkoABEEnAAIgkYABEEjAAIgkYAJEEDIBIAgZAJAEDIJKAARBJwACI\\\n",
              "JGAARBIwACIJGACRBAyASAIGQCQBAyCSgAEQScAAiCRgAEQSMAAiCRgAkQQMgEgCBkAkAQMgkoAB\\\n",
              "EEnAAIgkYABEEjAAIgkYAJEEDIBIAgZAJAEDIJKAARBJwACIJGAARBIwACIJGACRBAyASAIGQCQB\\\n",
              "AyCSgAEQScAAiCRgAEQSMAAiCRgAkQQMgEgCBkAkAQMgkoABEEnAAIgkYABEEjAAIgkYAJEEDIBI\\\n",
              "AgZAJAEDIJKAARBJwACIJGAARBIwACIJGACRBAyASAIGQCQBAyCSgAEQScAAiCRgAEQSMAAiCRgA\\\n",
              "kQQMgEgCBkAkAQMgkoABEEnAAIgkYABEEjAAIgkYAJEEDIBIAgZAJAEDIJKAARBJwACIJGAARBIw\\\n",
              "ACIJGACRBAyASAIGQCQBAyCSgAEQScAAiCRgAEQSMAAiCRgAkQQMgEgCBkAkAQMgkoABEEnAAIgk\\\n",
              "YABEEjAAIgkYAJEEDIBIAgZAJAEDIJKAARBJwACIJGAARBIwACIJGACRBAyASAIGQCQBAyCSgAEQ\\\n",
              "ScAAiCRgAETqdb0AjLO1lZu1utT/78/9S2/V8qcf1BM//Fn1ZnZ3uBnkEzDYQguXztflN09vmjWT\\\n",
              "U7V2a1HA4AtyCRG20O5Hnqje7N5Ns3Z9UFcvvNHRRjA+BAy20NyBx6o3O/xOq93Y6GAbGC8CBkAk\\\n",
              "AYMODJb7tT643fUaEE3AYCs1TR088f2h8fX3L9RgaaGDhWB8CBhsoaZpanbf4a7XgLEkYABEEjDY\\\n",
              "ak0zPGvbunnl76PfBcaIgMEWe+ixb9SuQ18Zmvff+2MH28D4EDDYYhO96Wom3fQGHjQBAyCSgMEI\\\n",
              "9GZ2Dc2WP7lcK9c/7mAbGA8CBiNw+FvPDc0GSwu1dutmB9vAeBAwGIGm8VKDB82rCoBIAgYjMDkz\\\n",
              "V73ZPUPzqxde72AbGA8CBiMwt/9Ltfvw14fm/3taM3BvBAyASAIGXWo3amN9restIJKAwYjsPXps\\\n",
              "aLY0/14t/vMvHWwD+QQMRmTf408P39i33ah2Y72bhSCcgAEQScCgY4PlfrVt2/UaEEfAYESmdu2r\\\n",
              "vUdPDM2vXnijqgQM7pWAwYhMTs/VzEOHul4DxoaAARBJwGCkmqHJ+uqtun19voNdIJuAwQg98uQP\\\n",
              "qpmc2jQbLF+vxY/+1tFGkEvAYISmdj1UzWe/CwbcFwEDIJKAwUg1Q5cQq6puvH/BPRHhHgkYjFBv\\\n",
              "bm898s1nh+Y3P37XLaXgHgkYjFDTNNVM9rpeA8aCgAEQScBgxKbm9lU1m19667eXauHd33e0EWQS\\\n",
              "MBixA8e+W73ZPZtm7cZ6rd681tFGkEnAAIgkYNCBZuJzXnrthmNV4B4IGIzYRG+6Hn3qx0Pz+T+/\\\n",
              "WWsrNzvYCDIJGIxY0zQ1OT07NN8Y3K7yDgzumoABEEnAoAOTU3PVTEx+ZtrW2u2lTvaBRAIGHdj/\\\n",
              "tZM1vXfz6cwba6s1f/FXHW0EeQQMOvH5R6q07caI94BcAgZAJAGDLjRVsw8fGRqv3lyo9cHtDhaC\\\n",
              "PAIGHWiaiTp04ntD8xsfXKzB0kIHG0EeAQMgkoABEEnAoCMz+w7X1O6HNw/bthY//Gs3C0EYAYOO\\\n",
              "zO0/WtN7DgzNb3zwpw62gTwCBkAkAQMgkoBBhw4eOzU0W7p6qVb6VzrYBrIIGHRo7sBjQ7PB8nU3\\\n",
              "9YW7IGAARBIw2I6cawl3JGDQoV2HHq89R48PzT9++5cdbANZBAw6NNGbrsnp2aH52q3FDraBLE3b\\\n",
              "ti5WwAPW7/frhRdeqJWVlTs+9qcn99XxwzObZpevrdarv+3f9fO9/PLLdfz48Ds5GGe9rheAcbSy\\\n",
              "slJnzpyppaU7f5rwmQM/qmOPHqvVjdn6z0GX/f4ndfa1n9dg7e4OuHzppZe+yLoQScCgY6/+4g/1\\\n",
              "1NPP1cUbz1b776v6Xz10vr5z4nf164uXO94Oti9/A4OO3Rr06r2lJ2utnan1dqrW26n6x9IztbD2\\\n",
              "5a5Xg21NwKBjK+u76trq5tOZ25qsjXayo40gg4BBxyY2+jW1uvkIlV6zWo8fmupoI8ggYNCxq9f6\\\n",
              "9eG7Z2pv79PaPblQ/YXLtffWa/WTb09V03S9HWxfPsQB28Bvzp+rjz56u6qtev2tS7V063a11ZYv\\\n",
              "ucD/t2MC9sorr3S9AjvI4uJiDQaDu378+Xeu1Pl37v8O9KdPn65z587d9++zc7344otdr3DfdswX\\\n",
              "ma9ccTwFozM/P1+nTp2q5eXlkTzf2bNn6+TJkyN5LsbLkSNH7vygbWrHvANL/kciUzPCP2AdPHjQ\\\n",
              "/3F2HB/iACCSgAEQScAAiCRgAEQSMAAi7ZhPIcIozc7O1vPPP39X54E9CPv37x/J88B2smO+BwbA\\\n",
              "eHEJEYBIAgZAJAEDIJKAARBJwACIJGAARBIwACIJGACRBAyASAIGQCQBAyCSgAEQScAAiCRgAEQS\\\n",
              "MAAiCRgAkQQMgEgCBkAkAQMgkoABEEnAAIgkYABEEjAAIgkYAJEEDIBIAgZAJAEDIJKAARBJwACI\\\n",
              "JGAARBIwACIJGACRBAyASAIGQCQBAyCSgAEQScAAiCRgAEQSMAAiCRgAkQQMgEgCBkAkAQMgkoAB\\\n",
              "EEnAAIgkYABEEjAAIgkYAJEEDIBIAgZAJAEDIJKAARBJwACIJGAARBIwACIJGACRBAyASAIGQCQB\\\n",
              "AyCSgAEQScAAiCRgAEQSMAAiCRgAkQQMgEgCBkAkAQMgkoABEEnAAIgkYABEEjAAIgkYAJEEDIBI\\\n",
              "AgZAJAEDIJKAARBJwACIJGAARBIwACIJGACRBAyASP8CdqldVosgF5cAAAAASUVORK5CYII=\\\n",
              "\"\n",
              "  frames[22] = \"data:image/png;base64,iVBORw0KGgoAAAANSUhEUgAAAbAAAAEgCAYAAADVKCZpAAAABHNCSVQICAgIfAhkiAAAAAlwSFlz\\\n",
              "AAALEgAACxIB0t1+/AAAADh0RVh0U29mdHdhcmUAbWF0cGxvdGxpYiB2ZXJzaW9uMy4yLjIsIGh0\\\n",
              "dHA6Ly9tYXRwbG90bGliLm9yZy+WH4yJAAAJRklEQVR4nO3dy4+ddR3H8e9z5sz0NrTTGx0DlBqK\\\n",
              "ogVJlIWXoDHGuGXJAv4M/gLdQUJcsfYPIEF3YnQhgmlMQJFQEEJbtFzaoXQ67UynnTnHhS5sz5Be\\\n",
              "cM5vPjOv1/KXk5zPopP39JxnnqcbDofDAoAwvdYDAOBOCBgAkQQMgEgCBkAkAQMgkoABEEnAAIgk\\\n",
              "YABEEjAAIgkYAJEEDIBIAgZAJAEDIJKAARBJwACIJGAARBIwACIJGACRBAyASAIGQCQBAyCSgAEQ\\\n",
              "ScAAiCRgAEQSMAAiCRgAkQQMgEgCBkAkAQMgkoABEEnAAIgkYABEEjAAIgkYAJEEDIBIAgZAJAED\\\n",
              "IJKAARBJwACIJGAARBIwACIJGACRBAyASAIGQCQBAyCSgAEQScAAiCRgAEQSMAAiCRgAkQQMgEgC\\\n",
              "BkAkAQMgkoABEEnAAIgkYABEEjAAIgkYAJEEDIBIAgZAJAEDIJKAARBJwACIJGAARBIwACIJGACR\\\n",
              "BAyASAIGQCQBAyCSgAEQScAAiCRgAEQSMAAiCRgAkQQMgEgCBkAkAQMgkoABEEnAAIgkYABEEjAA\\\n",
              "IgkYAJEEDIBIAgZAJAEDIJKAARBJwACIJGAARBIwACIJGACRBAyASAIGQCQBAyCSgAEQScAAiCRg\\\n",
              "AEQSMAAiCRgAkQQMgEgCBkAkAQMgkoABEEnAAIgkYABEEjAAIgkYAJEEDIBIAgZAJAEDIJKAARBJ\\\n",
              "wACIJGAARBIwACIJGACRBAyASAIGQCQBAyCSgAEQScAAiCRgAEQSMAAiCRgAkQQMgEgCBkAkAQMg\\\n",
              "koABEEnAAIjUbz0AtoIr82drsHK1qqq6rqvtM7PV9SYar4JsAgbraOGjd2vu3Vfr4j/frpUrC1VV\\\n",
              "1etvq4ef/HlN7tzTeB1kEzBYR1fmz9b5947fcDpssgU2G9+BwTrqum7N8+FQxODLEjBYRzNf/XZt\\\n",
              "233wurPBytU6+9YfGi2CzUPAYB1NTG5f82KN1eXFBmtgcxEwaGBl+XINVq+1ngHRBAzWU9fV3gce\\\n",
              "Gzm+cOqNurrwWYNBsHkIGKyjrutq5/7DrWfApiRg0MhwMGg9AaIJGKyzyV0z1d8+ff3hcFifvvm7\\\n",
              "NoNgkxAwWGe7Dt5f2/YcGjlfWb7cYA1sHgIGQCQBgzHob9s5crY492Fdmf+0wRrYHAQMxuDQoz8b\\\n",
              "Obt2+fNaWbrUYA1sDgIGY9B1ftTg/81PFTS0+NmHrSdALAGDMdix/96a/srXRs7Pv/+XBmtgcxAw\\\n",
              "GIOJyW01MbWj9QzYVAQMGhqurtRg5WrrGRBJwGBMZu7/1sjZ4tzpunjmnQZrIJ+AwZhMzx6tWusJ\\\n",
              "zZ7ODHdEwGADGIoY3DYBgzHp9adqcufMyPnZt35fVQIGt0vAYEympvfVnvuOjZxfW5xvsAbyCRgA\\\n",
              "kQQMxqjXnxo5u7Z0sS6fPdlgDWQTMBijux/5yUjEVpcXa+n8R40WQS4BgzHqTUy2ngCbhoDBBrB8\\\n",
              "8VwNB4PWMyCKgMEYTWzbVXsfeGzk/LN//LkGq9caLIJcAgZj1Jvo19T0vtYzYFMQMBiz/3wPduMt\\\n",
              "pYY19D8wuC0CBmN24KHHq799+rqzlaWFmnvnT40WQSYBgzHrJvpr3tR3sLrSYA3kEjDYIK4uzIkY\\\n",
              "3AYBgzHrTUzWga9/f+T88w9er9XlxQaLIJOAwZh1vV5N3bW/9QyIJ2CwYQxrsHK19QiIIWDQwI59\\\n",
              "99bEtl3XnQ1Wrv732WDArRAwaGDXwSMjl9JXlbtxwG0QMAAiCRi00FVNTe8dOZ7/8O919dL5BoMg\\\n",
              "j4BBA13Xq7uP/Xjk/NrivAs54BYJGACRBAxa6boauanvcFgLH73bZA6kETBoZPc936idBw6PnF/8\\\n",
              "19sN1kAeAYNGev2p6iYmWs+AWAIGG8zK8uVavXal9QzY8AQMGtr/4HdHzi59/F4tnT/TYA1kETBo\\\n",
              "aMe+e1pPgFgCBhvQcLDaegJseAIGDfV37K7JXaN35Pjkr79tsAayCBg0tH3P3bXzwH0j5wMXccBN\\\n",
              "CRgAkQQMGlvrsSpLn39cl8+dGv8YCCJg0NihR35aN95SanX5cl1bnG8zCEIIGLTWdTd/DTBCwKCx\\\n",
              "iakdtX3m0Mj54rnTNRwOGyyCDAIGjU3tmqnp2aMj559/8HpVCRh8EQEDIFI39BkFrJuXX365Xnjh\\\n",
              "hZu+7gdHJutHD81U73++D7uwNKxfHZ+vhaVbe0Lz4cOH6/nnn69ez++lbA391gNgMzt16lS99NJL\\\n",
              "N33dq3t21vd+8WRNTm6rlcFUVVXtmBrU/Ok/1m9eu7UHXB47duxLbYU0AgYbwGA4rJVBv05c+GF9\\\n",
              "snykqqqmelfq4srrVeUJzbAWnzXABnHy8jfrzJWjtTqcrNXhZC2t3lW7Dj5eXeehl7AWAYMN4MKl\\\n",
              "K/Xr107WjX/Q/J2HH61+X8BgLQIGG8DqYFjLS+erq+sfo3LP9verVx6tAmvxHRhsEPftfKcenH6j\\\n",
              "ziwdrU/OL9Rw9VLtnThRrhOGtQkYbBCvvHmyzl34ZQ2rq1f+drrOLyxV1dDdOOALbJmAPfvss60n\\\n",
              "sAUdP378ll974vRcnTg9d8fvNTc3V88991x17q3IbXjmmWdaT7hjWyZgTz/9dOsJbEFd19WLL744\\\n",
              "lveamZmpp556yh8ys2VsmYDNzs62nsAWtHv37rG9V7/fr9nZWQFjy/AvHYBIAgZAJAEDIJKAARBJ\\\n",
              "wACItGWuQoQWjhw5Uk888cRY3uvw4cNjeR/YKDzQEoBIPkIEIJKAARBJwACIJGAARBIwACIJGACR\\\n",
              "BAyASAIGQCQBAyCSgAEQScAAiCRgAEQSMAAiCRgAkQQMgEgCBkAkAQMgkoABEEnAAIgkYABEEjAA\\\n",
              "IgkYAJEEDIBIAgZAJAEDIJKAARBJwACIJGAARBIwACIJGACRBAyASAIGQCQBAyCSgAEQScAAiCRg\\\n",
              "AEQSMAAiCRgAkQQMgEgCBkAkAQMgkoABEEnAAIgkYABEEjAAIgkYAJEEDIBIAgZAJAEDIJKAARBJ\\\n",
              "wACIJGAARBIwACIJGACRBAyASAIGQCQBAyCSgAEQScAAiCRgAEQSMAAiCRgAkQQMgEgCBkAkAQMg\\\n",
              "koABEEnAAIgkYABEEjAAIgkYAJEEDIBIAgZAJAEDIJKAARBJwACIJGAARBIwACIJGACRBAyASAIG\\\n",
              "QCQBAyDSvwFPg2c0UVFW2wAAAABJRU5ErkJggg==\\\n",
              "\"\n",
              "  frames[23] = \"data:image/png;base64,iVBORw0KGgoAAAANSUhEUgAAAbAAAAEgCAYAAADVKCZpAAAABHNCSVQICAgIfAhkiAAAAAlwSFlz\\\n",
              "AAALEgAACxIB0t1+/AAAADh0RVh0U29mdHdhcmUAbWF0cGxvdGxpYiB2ZXJzaW9uMy4yLjIsIGh0\\\n",
              "dHA6Ly9tYXRwbG90bGliLm9yZy+WH4yJAAAJwElEQVR4nO3dS2+cZxXA8fPOzXacxI1DGyctQbSE\\\n",
              "W9NWUCGxAHERFyGB1I/QL8Cyn6GLLrrMmh0LJLJDZQEIJELDpSqClKao6SVp3TpO7PgSX2bmZVFA\\\n",
              "ssdV7IDnmWP/fsujkd4jefHXeJ55pqrrug4ASKZRegEAuB8CBkBKAgZASgIGQEoCBkBKAgZASgIG\\\n",
              "QEoCBkBKAgZASgIGQEoCBkBKAgZASgIGQEoCBkBKAgZASgIGQEoCBkBKAgZASgIGQEoCBkBKAgZA\\\n",
              "SgIGQEoCBkBKAgZASgIGQEoCBkBKAgZASgIGQEoCBkBKAgZASgIGQEoCBkBKAgZASgIGQEoCBkBK\\\n",
              "AgZASgIGQEoCBkBKAgZASgIGQEoCBkBKAgZASgIGQEoCBkBKAgZASgIGQEoCBkBKAgZASgIGQEoC\\\n",
              "BkBKAgZASgIGQEoCBkBKAgZASgIGQEoCBkBKAgZASgIGQEoCBkBKAgZASgIGQEoCBkBKAgZASgIG\\\n",
              "QEoCBkBKAgZASgIGQEoCBkBKAgZASgIGQEoCBkBKAgZASgIGQEoCBkBKAgZASgIGQEoCBkBKAgZA\\\n",
              "SgIGQEoCBkBKAgZASgIGQEoCBkBKAgZASgIGQEoCBkBKAgZASgIGQEoCBkBKAgZASgIGQEoCBkBK\\\n",
              "AgZASgIGQEoCBkBKAgZASgIGQEoCBkBKAgZASgIGQEoCBkBKAgZASgIGQEoCBkBKAgZASgIGQEoC\\\n",
              "BkBKAgZASgIGQEoCBkBKAgZASgIGQEoCBkBKAgZASgIGQEoCBkBKAgZASgIGQEoCBkBKAgZASgIG\\\n",
              "QEoCBkBKAgZASgIGQEoCBkBKAgZASgIGQEqt0gvAYbG+dDN6G2vRnjge7SPHS68D6QkY7JO6rmPx\\\n",
              "7Vfj9rW/RETE0ntXY3Pldpx++odx5ukfFd4O8hMw2Cd1bzOu/+FnsX5nbst86b2r0XtiLZqd8UKb\\\n",
              "wcHgMzDYJ1WzHQ8+/q2B+ercW9HvrhfYCA4WAYN9UlVVNFqd0mvAgSVgsI/aR6YGItbvbsbca78t\\\n",
              "tBEcHAIG+2jqk+ejc3R627SOzZXFIvvAQSJgUEC/ux51v1d6DUhNwGA/VVVMnX1iYHz7zT8PnE4E\\\n",
              "9kbAYB9VVRVHZ84NzOu6X2AbOFgEDEqoI1bn3y29BaQmYLDPjp4+FxMnH9k2rePWP/9YZB84KAQM\\\n",
              "9llr7Eg0WmOl14ADR8CgkH53I/q9zdJrQFoCBkOw00nEpRv/iNWbPgeD+yVgMATHTn92h2kdUddD\\\n",
              "3wUOCgGDglbn3ym9AqQlYDAEEycfiaM7vAtzEhHun4DBEDTbY9HsTJReAw4UAYMhaY1NDszWFz+I\\\n",
              "lbm3C2wD+QkYDMmpJ78bEdWWWXdtOTZXFsosBMkJGAxJ1Whs71dEfHQvYu00IuyZgMGQNNrjMXb8\\\n",
              "wYH5B6/+MiIEDPZKwGBIOpMP7Ph9sN7GaoFtID8Bg8L6vc3ori2XXgPSETAYohOPPh1Vo7VltrE0\\\n",
              "H4tv/7XQRpCXgMEQTUw//NFhjm0c4oC9EzAYBU4iwp4JGAxR1WzH+IkzA/MP//arqP20CuyJgMEQ\\\n",
              "tcaOxNTZ8wPz7vqqd2CwRwIGI6Du96J7907pNSAVAYMhmzr75MDFvr31lZh/4+VCG0FOAgZDNv7A\\\n",
              "TFTNduk1ID0BgwJ2Okq/8uG16G2uF9gGchIwGLJGqxMPnf/2wHz5/TeiL2CwawIGQ1ZVlR+3hP8D\\\n",
              "AYMCWuPHompuvVKq39uI+au/L7QR5CNgUMADn3oqOkdPbh3Wdawv3SyzECQkYACkJGBQSNVoDszu\\\n",
              "zl+P7tpKgW0gHwGDEqoqZp763sB4Ze6t6K4tFVgI8hEwKMBJRPjfCRgU0uwciUZrbOuwrmPutd+V\\\n",
              "WQiSETAo5OjpczFx8uGB+YaTiLArAgaFVFW147zf60bd7w15G8hHwKCgY2c+PzC7c/1KrN58p8A2\\\n",
              "kIuAQUFTn3x8cFj3o677w18GkhEwGEFrt2dLrwAjT8CgoInph2Py1GMDc3ciwr0JGBTU7ExEa3yy\\\n",
              "9BqQkoBBYQPfBYuI9TtzcffWjQLbQB4CBoXNPPX9iNh6pH5zddHN9HAPAgaFbf9dMGB3BAxG1NrC\\\n",
              "bNR1XXoNGFkCBoWNHTsZU2fPD8znX78UEQIGH0fAoLBGqxPtI1Ol14B0BAxGQKPVGZhtri7Gygdv\\\n",
              "FtgGchAwGAEPPfGdqJrtLbPexmqsLbiRAz6OgMEIaDRbO95OX9e1gxzwMQQMRkDVbEXn2CcG5nN/\\\n",
              "/03UvW6BjWD0CRiMgNbYZJz49JcG5t21pXASEXZW1f4/Afvq8uXL8fzzz9/zdd84Nxlf/8zWexFX\\\n",
              "N+v4yctLMb+0tqtnTU9Px4ULF6LTGTwUAgeNKwBgn83OzsbFixfv+bprj52KL//4BzE+Ph7d/kf3\\\n",
              "IzYbdfRv/iku/uKVXT3rzJkz0ev5NWcOBwGDEXH1+nysbtRxbeOr8e7dz0VERLPajFubb0bE7gIG\\\n",
              "h4mAwQi5cffRuFF/Mep/fzzdq9txe2Om8FYwmhzigBGxttGNn/769f/G6z++9pVvxuSE3wyD7QQM\\\n",
              "RkRdR6yu3o5GbD02/9j0rei0fK4F2wkYjJCZsbfiC8cvx2RzIVaWbsTC/NVYX3w1en2HhWE7n4HB\\\n",
              "CHnljfej/vmFqKOKl69cj9lby1FFHX3fdoEBhyZgL7zwQukVOKSuXLmy69dem12Ia7MLW2Z7Sdfy\\\n",
              "8nK8+OKL0W637/1iiIjnnnuu9Ar37dB8kXl21qWolPHSSy/Fs88+O5RnzczMxKVLl2J8fHwozyO/\\\n",
              "mZm8p1wPzTuwzH8kcjtx4sTQntVoNOLUqVMxMTExtGdCKQ5xAJCSgAGQkoABkJKAAZCSgAGQ0qE5\\\n",
              "hQilzMzMxDPPPDOUZ01PT0ez2RzKs6C0Q/M9MAAOFv9CBCAlAQMgJQEDICUBAyAlAQMgJQEDICUB\\\n",
              "AyAlAQMgJQEDICUBAyAlAQMgJQEDICUBAyAlAQMgJQEDICUBAyAlAQMgJQEDICUBAyAlAQMgJQED\\\n",
              "ICUBAyAlAQMgJQEDICUBAyAlAQMgJQEDICUBAyAlAQMgJQEDICUBAyAlAQMgJQEDICUBAyAlAQMg\\\n",
              "JQEDICUBAyAlAQMgJQEDICUBAyAlAQMgJQEDICUBAyAlAQMgJQEDICUBAyAlAQMgJQEDICUBAyAl\\\n",
              "AQMgJQEDICUBAyAlAQMgJQEDICUBAyAlAQMgJQEDICUBAyAlAQMgJQEDICUBAyAlAQMgJQEDICUB\\\n",
              "AyAlAQMgJQEDICUBAyAlAQMgJQEDICUBAyAlAQMgJQEDICUBAyAlAQMgJQEDICUBAyAlAQMgJQED\\\n",
              "ICUBAyAlAQMgJQEDIKV/AUNfqkeCcEg6AAAAAElFTkSuQmCC\\\n",
              "\"\n",
              "  frames[24] = \"data:image/png;base64,iVBORw0KGgoAAAANSUhEUgAAAbAAAAEgCAYAAADVKCZpAAAABHNCSVQICAgIfAhkiAAAAAlwSFlz\\\n",
              "AAALEgAACxIB0t1+/AAAADh0RVh0U29mdHdhcmUAbWF0cGxvdGxpYiB2ZXJzaW9uMy4yLjIsIGh0\\\n",
              "dHA6Ly9tYXRwbG90bGliLm9yZy+WH4yJAAAJ3ElEQVR4nO3dW4/cdR3H8e9/Znen7XbdlnZpKcpJ\\\n",
              "qaJCikg0EXvRaCAabwx3hIfBTR+CXMuj4MoYSAhqQDGKB5CDFDHQM5bS7XZP3Z3T3wuutrOFtmTn\\\n",
              "N9/Z1+vyt7OZz8Vu3pmZ/8xUdV3XAQDJNEoPAIBbIWAApCRgAKQkYACkJGAApCRgAKQkYACkJGAA\\\n",
              "pCRgAKQkYACkJGAApCRgAKQkYACkJGAApCRgAKQkYACkJGAApCRgAKQkYACkJGAApCRgAKQkYACk\\\n",
              "JGAApCRgAKQkYACkJGAApCRgAKQkYACkJGAApCRgAKQkYACkJGAApCRgAKQkYACkJGAApCRgAKQk\\\n",
              "YACkJGAApCRgAKQkYACkJGAApCRgAKQkYACkJGAApCRgAKQkYACkJGAApCRgAKQkYACkJGAApCRg\\\n",
              "AKQkYACkJGAApCRgAKQkYACkJGAApCRgAKQkYACkJGAApCRgAKQkYACkJGAApCRgAKQkYACkJGAA\\\n",
              "pCRgAKQkYACkJGAApCRgAKQkYACkJGAApCRgAKQkYACkJGAApCRgAKQkYACkJGAApCRgAKQkYACk\\\n",
              "JGAApCRgAKQkYACkJGAApCRgAKQkYACkJGAApCRgAKQkYACkJGAApCRgAKQkYACkJGAApCRgAKQk\\\n",
              "YACkJGAApCRgAKQkYACkJGAApCRgAKQkYACkJGAApCRgAKQkYACkJGAApCRgAKQkYACkJGAApCRg\\\n",
              "AKQkYACkJGAApCRgAKQkYACkJGAApCRgAKQkYACkJGAApCRgAKQkYACkJGAApCRgAKQkYACkJGAA\\\n",
              "pCRgAKQkYACkJGAApCRgAKQkYACkJGAwJP1eJ1YvnY3O6mLpKTAWJkoPgHFV13V0VhbiwtsvR3dt\\\n",
              "KXrttbhy6q2445Gfx6FHflF6HqQnYLBF+t12vP+bX0V7eb70FBhLnkKELVT3+wNnqxdPRa+zXmAN\\\n",
              "jBcBgy3SmJiK2797bOB86fz70e+sFVgE40XAYItUVRXN1q7SM2BsCRhsoYnWdFTNjS8193uduPTB\\\n",
              "XwotgvEhYLCF9txzJFoz+zce1nWsX7lYZhCMEQGDrVRFVM3JgeOVix9F5+pSgUEwPgQMtlQVB488\\\n",
              "PnB6df5c9NZXCuyB8SFgsIWqqopGc6r0DBhLAgZbbGLn7mhO7dx4WNfxyTu/LzMIxoSAwRbbfeDr\\\n",
              "sWPvoYHz9spCgTUwPgQMCul329HvdUrPgLQEDIZg9q4HB86Wzp2I1U/PFFgD40HAYAhm7ji8yWkd\\\n",
              "UddD3wLjQsCgoNVLp0tPgLQEDIZg576vxu5NHoXN//dvBdbAeBAwGILmZGvwUnrgSxEwGJKJ1vTA\\\n",
              "2fqVC7Fy8VSBNZCfgMGQHHjopxFRbTjrri1Hx/vB4JYIGAxJ1WhE1Rj8l1v+3wdRuxoRbpqAwZC0\\\n",
              "vjIXe+793sD5ldNvR4SAwc0SMBiSqtGM5mSr9AwYGwIGQzS5a09c+zpYe3k+Fs+8W2YQJCZgMERz\\\n",
              "3z4ajYmNX3DZ77Z9sC/cAgGDEVD3Oi7kgJskYDBEjYlW7Jq7Z+D8wtsvR+2T6eGmCBgMUXNqR8wc\\\n",
              "GvxIqX7XIzC4WQIGI6Dud6O9fKn0DEhFwGDI9t73/Wi2dm04662vxuUP/1loEeQkYDBkU7tvi6ox\\\n",
              "UXoGpCdgUMC1l9JHRCydPxG99lqBNZCTgMGQNSam4sCDPxk4X714OvrddoFFkJOAwZBVVRVVc/Ap\\\n",
              "xLruxeqlMwUWQU4CBgXsuefhmJrZt+Gs7nVj4eQbhRZBPgIGBUy0pl3IAV+SgEEJVcTEjt0Dx0vn\\\n",
              "TvhcRLhBAgZFVHHgocELOdaXPo1+x5WIcCMEDAqoqiqqavN/v7rfH/IayEnAoJCp3bcNPo1Y13Hh\\\n",
              "rZfKDIJkBAwK2bX/rmjN3j5w3mtfLbAG8hEwGDHd9dXoeR0MvpCAQUH77v/hwNnyx/+Jq/PnCqyB\\\n",
              "XAQMCtp5252lJ0BaAgZFVRFVNXC6dO79AlsgFwGDgnbN3R0zh741cL549t0CayAXAYOCGs2JTb9a\\\n",
              "pbu+Ep3VxQKLIA8Bg8LmHjgaERufRly7/HGsXPyozCBIQsCgsKmZ/aUnQEoCBoVVVWPTpxEXTv4r\\\n",
              "6rousAhyEDAorDU7F3vve2TgfOXChxEhYHA9AgaFVVUjqkZzk5/U+gWfQ8BgBLRmDwy8H2x98dNY\\\n",
              "OPlmoUUw+gQMRsC++38QjebG18Hqfjd67dVCi2D0CRiMsO7asgs54DoEDEZAY3JHzNw5+Ikcn7zz\\\n",
              "h6h7nQKLYPQJGIyA5mQrdu372iY/8egLrkfAYIT1u21frQLXIWAwIvZ980fRbE1vOOu1r8bi2X8X\\\n",
              "WgSjTcBgREzsmI6qMfgv2V5ZiLrfK7AIRltVu8QJttzx48fjvffe+9zb1P1+fGd2MX752OEN5+1u\\\n",
              "P379ynystPs3dF9PPfVUPPnkk7e8FbKYKD0AtoNXX301XnvttS+8XfPHD0Q8djja/VbU9WePxtY7\\\n",
              "q/HCiy/E5aW1G7qvRx999EtthSwEDEZIr9+Pxc5s/OPy47HW/+z1sNnGmXjoG3+MV944UXgdjBav\\\n",
              "gcEIeenvH8brpw/GSm9P9OrJ6NWTMd+7N2bv/FnpaTByBAxGyFq7F2dX777mtIpePfh1K7DdCRiM\\\n",
              "lDqm1l6/5qwfjz+8P27fO73pb8B2JWAwQuq6jj//9bexf+pMTDcXYm3lfFRLf4pPTr8QS6vrpefB\\\n",
              "SHERB4yYU+dPx+9ePB51VPHmBx/HqQsLEXXtQ6XgGtvmfWDPPvts6QlsY88991ycPHlyKPf1xBNP\\\n",
              "xLFjx4ZyX+T3zDPPlJ5wy7bNI7Cnn3669AS2seeff35oATty5Ii/d7aFbROwgwcPlp7ANjY5Obyr\\\n",
              "CGdmZvy9sy24iAOAlAQMgJQEDICUBAyAlAQMgJS2zVWIUNLRo0djbm5uKPd1+PDhL74RjIFt80Zm\\\n",
              "AMaLpxABSEnAAEhJwABIScAASEnAAEhJwABIScAASEnAAEhJwABIScAASEnAAEhJwABIScAASEnA\\\n",
              "AEhJwABIScAASEnAAEhJwABIScAASEnAAEhJwABIScAASEnAAEhJwABIScAASEnAAEhJwABIScAA\\\n",
              "SEnAAEhJwABIScAASEnAAEhJwABIScAASEnAAEhJwABIScAASEnAAEhJwABIScAASEnAAEhJwABI\\\n",
              "ScAASEnAAEhJwABIScAASEnAAEhJwABIScAASEnAAEhJwABIScAASEnAAEhJwABIScAASEnAAEhJ\\\n",
              "wABIScAASEnAAEhJwABIScAASEnAAEhJwABIScAASEnAAEhJwABIScAASEnAAEhJwABIScAASEnA\\\n",
              "AEhJwABIScAASEnAAEhJwABIScAASEnAAEhJwABIScAASEnAAEhJwABI6f9GU7eogJdEqwAAAABJ\\\n",
              "RU5ErkJggg==\\\n",
              "\"\n",
              "\n",
              "\n",
              "    /* set a timeout to make sure all the above elements are created before\n",
              "       the object is initialized. */\n",
              "    setTimeout(function() {\n",
              "        anim882f8e3fd6774a3892cf110f9c3cb804 = new Animation(frames, img_id, slider_id, 40.0,\n",
              "                                 loop_select_id);\n",
              "    }, 0);\n",
              "  })()\n",
              "</script>\n"
            ],
            "text/plain": [
              "<matplotlib.animation.FuncAnimation at 0x7fa5c9163ed0>"
            ]
          },
          "metadata": {},
          "execution_count": 15
        }
      ]
    },
    {
      "cell_type": "markdown",
      "metadata": {
        "id": "EIlx2Nk14K9z"
      },
      "source": [
        "If you were to run this policy, you will find that after ~70 actions, the pole falls or moves off screen. This policy is not the best, so lets try use machine learning! "
      ]
    },
    {
      "cell_type": "markdown",
      "metadata": {
        "id": "3yVd3mEx4Wac"
      },
      "source": [
        "## Neural Network Policy "
      ]
    },
    {
      "cell_type": "markdown",
      "metadata": {
        "id": "YgOOjh1yAeeZ"
      },
      "source": [
        "Building a neural network is fairly easy, the input are the outputs from the observation and the output of the network is effectively the action. In this case, we will have 1 output neuron which predicts the probability of taking the action left (followed by a sigmoid function to allow classes 0 or 1). \n",
        "\n",
        "However, the training can be difficult because we do not know about the actions we need to take in order to maximize rewards. The reward may often be delayed and sparse, making some actions not responsible for a given reward. This is where the **discount factor $\\gamma$** comes in. "
      ]
    },
    {
      "cell_type": "code",
      "metadata": {
        "id": "8J7ePXIA4eXx"
      },
      "source": [
        "import tensorflow as tf\n",
        "from tensorflow import keras\n",
        "\n",
        "n_inputs = 4 # number of observations from environments\n",
        "\n",
        "model = keras.models.Sequential([\n",
        "  keras.layers.Dense(5, activation='elu', input_shape=[n_inputs]),\n",
        "  keras.layers.Dense(1, activation='sigmoid')\n",
        "])"
      ],
      "execution_count": null,
      "outputs": []
    },
    {
      "cell_type": "markdown",
      "metadata": {
        "id": "wlngg6SLCqJH"
      },
      "source": [
        "### Training Neural Networks: Credit Assignment Problem\n"
      ]
    },
    {
      "cell_type": "markdown",
      "metadata": {
        "id": "6hYDgP_YDeul"
      },
      "source": [
        "As mentioned, the discount factor is used to evaluate an action based on the actions that occured after it. The **sum of discounted rewards** is called the **action's return**. \n",
        "\n",
        "When the discount factor, $\\gamma$, is close to zero then immediate actions will look more closely at immediate rewards; meanwhile, when closer to 1 then the future rewards will count almost as much as immediate rewards.\n",
        "\n",
        "Typical, values are 0.99 or 0.95, a reward 13 steps into the future will count half as much the immediate rewards $0.95^{13} \\approx 0.5$. To pick the right discount factor you must thing about what are the effects of an action in the short term or long term, if the later then you should opt for a higher discount factor. \n",
        "\n",
        "You might be thinking that some actions might be unfairly penalised. This is correct, they will. However, on average, the bad actions will return lower returns while good actions will return higher. "
      ]
    },
    {
      "cell_type": "markdown",
      "metadata": {
        "id": "q3FakckoKdQf"
      },
      "source": [
        "## Policy Gradient"
      ]
    },
    {
      "cell_type": "markdown",
      "metadata": {
        "id": "o4mHsn0dlMIp"
      },
      "source": [
        "Policy gradients (PG) tries to optimize the policy to increase the rewards. It needs to explore the game for a very long time before it can start to learn what the best actions are; moreover, we are required to run multiple episodes to then estimate the advantage of each action. This is a good example of highly sample inefficient.\n",
        "\n",
        "The PG algorithm optimizes the parameters (of a neural network for example) by following the gradient toward high rewards. The REINFORCE algorithms was introduced in 1992: \n",
        "\n",
        "1. Let the neural network train by playing the game, computing the gradients at each step but not applying them.\n",
        "\n",
        "2. Calculate each action's advantage. \n",
        "\n",
        "3. If action's are positive these are good and they should be applied to the gradients computed to make the action even more likely to selected in the future. Multiply each action vector with the corrosponding action's advantage. \n",
        "\n",
        "4. Compute mean of all resulting gradient vectors to perform gradient decent step.\n",
        "\n",
        "\n",
        "The `code` to create this can be found on [Ageron's Chapter 16 Notebook](https://github.com/ageron/handson-ml2/blob/master/18_reinforcement_learning.ipynb)"
      ]
    },
    {
      "cell_type": "markdown",
      "metadata": {
        "id": "lETZzKrel32-"
      },
      "source": [
        "# Markov Deicison Process (MDPs)\n"
      ]
    },
    {
      "cell_type": "markdown",
      "metadata": {
        "id": "7CKOJ33mr4Lb"
      },
      "source": [
        "MDP is a process when there is fixed number of states and probabilies of evolving from one state to another (i.e. fixed number of actions).  \n",
        "![MDP Diagram](https://miro.medium.com/max/1400/0*hwpvyDrwZl5PkU7r)\n",
        "\n",
        "For every action given a state we know the rewards (positive and negative) and the probability (called the transition probability). Below is a diagram that shows states in yellow circles and actions in blue diamonds alongside its transition probability and reward.  \n",
        "\n",
        "MDP is process that highlights that the present state contains all the information neccessary to predict the future. Check out [this](https://www.coursera.org/lecture/fundamentals-of-reinforcement-learning/markov-decision-processes-8T0GQ) Coursera course to learn more about this. \n",
        " \n",
        " <br/>\n",
        "\n",
        "##### **Optimal State Value**\n",
        "MDP provides a general framework for sequential decision making. However, the problem now is which state or action is the \"best\" to take to maximize the more rewards? This is where the **Bellman Optimality Equation** is used. It helps estimate the optimal state value of any state, $V^*(s)$. The value can be considered as the average reward achieved after taking an action, it is the sum of all discounted future rewards (i.e. it uses the discount factor discussed earlier). \n",
        "\n",
        "$V^*(s) = \\max_\\alpha \\Sigma \\space T(s, a, s')[R(s, a, s') + \\gamma . V_k(s')]$\n",
        "\n",
        "where, $T(s, a, s')$ is the transitional probability from $s$ to $s'$, $R(s, a, s')$ is the reward given the agent chose $a$ action and $\\gamma$ is the discount factor.\n",
        "\n",
        "After knowing the optimal states values, can help **evaluate** a policy, however, it does not give us the **optimal policy** for the agent. Fortunately, we can find the state-action values (also called Q-Values) by using the **Q-Value Iteration algorithm**. This formula is similiar to the $V*(s)$. \n",
        "\n",
        "$Q_{k+1}(s) \\leftarrow \\Sigma_{s'} \\space T(s, a, s')[R(s, a, s') + \\max Q_k(s', a')]$\n",
        "\n",
        "This will help us determine which action the agent should take when they are in state $s$, it should choose the action with the highest Q-value.  \n",
        "\n"
      ]
    },
    {
      "cell_type": "code",
      "metadata": {
        "id": "j9qkcQMnl8Gv"
      },
      "source": [
        "transition_probabilities = [ # shape = [s, a, s']\n",
        "          [[0.5, 0.5, 0.0], [1.0, 0.0, 0.0], [0.2, 0.8, 0.0]],\n",
        "           [None, [0.8, 0.2, 0.0], [0.0, 0.0, 1.0]],\n",
        "           [None, [1.0, 0.0, 0.0], None]]\n",
        "\n",
        "\n",
        "rewards = [ # shape = [s, a, s']\n",
        "          [[-10, -10, 0], [+20, 0, 0], [0, 0, 0]],\n",
        "           [[0, 0, 0], [+40, +30, 0], [0, 0, -10]],\n",
        "           [[0, 0, 0], [+100, 0, 0], [0, 0, 0]]]\n",
        "\n",
        "possible_actions = [[0, 1, 2], [1, 2], [1]]"
      ],
      "execution_count": null,
      "outputs": []
    },
    {
      "cell_type": "code",
      "metadata": {
        "colab": {
          "base_uri": "https://localhost:8080/"
        },
        "id": "nlxiYM3tv1yA",
        "outputId": "830da3a4-633b-42c8-a347-6e0c424387fc"
      },
      "source": [
        "# example, going from state 2 talking action a1 to state 0, the probability would be\n",
        "transition_probabilities[2][1][0]"
      ],
      "execution_count": null,
      "outputs": [
        {
          "output_type": "execute_result",
          "data": {
            "text/plain": [
              "1.0"
            ]
          },
          "metadata": {},
          "execution_count": 18
        }
      ]
    },
    {
      "cell_type": "code",
      "metadata": {
        "colab": {
          "base_uri": "https://localhost:8080/"
        },
        "id": "GuEBTtECwpkE",
        "outputId": "277843f2-1cba-4768-a1c4-e0b2453f0d7a"
      },
      "source": [
        "# ditto but the reward would be \n",
        "rewards[2][1][0]"
      ],
      "execution_count": null,
      "outputs": [
        {
          "output_type": "execute_result",
          "data": {
            "text/plain": [
              "100"
            ]
          },
          "metadata": {},
          "execution_count": 19
        }
      ]
    },
    {
      "cell_type": "code",
      "metadata": {
        "colab": {
          "base_uri": "https://localhost:8080/"
        },
        "id": "cGbj2Su4wpWK",
        "outputId": "d23c2a34-a989-401c-d86e-ead9d859cfba"
      },
      "source": [
        "#ditto, possible actions\n",
        "possible_actions[2]"
      ],
      "execution_count": null,
      "outputs": [
        {
          "output_type": "execute_result",
          "data": {
            "text/plain": [
              "[1]"
            ]
          },
          "metadata": {},
          "execution_count": 20
        }
      ]
    },
    {
      "cell_type": "markdown",
      "metadata": {
        "id": "eJwcd-MdxRjI"
      },
      "source": [
        "In order to find the Q-value, we need to initialize them to zero (apart from the impossible actions, which we set to zero)."
      ]
    },
    {
      "cell_type": "code",
      "metadata": {
        "colab": {
          "base_uri": "https://localhost:8080/"
        },
        "id": "Lnt2R3OzwpKb",
        "outputId": "4689e103-1bbb-49dd-b99d-47bdfc775046"
      },
      "source": [
        "Q_values = np.full((3, 3), -np.inf)\n",
        "for state, actions in enumerate(possible_actions):\n",
        "  Q_values[state, actions] = 0.0\n",
        "Q_values # matches possible actions "
      ],
      "execution_count": null,
      "outputs": [
        {
          "output_type": "execute_result",
          "data": {
            "text/plain": [
              "array([[  0.,   0.,   0.],\n",
              "       [-inf,   0.,   0.],\n",
              "       [-inf,   0., -inf]])"
            ]
          },
          "metadata": {},
          "execution_count": 21
        }
      ]
    },
    {
      "cell_type": "markdown",
      "metadata": {
        "id": "yQtKeaHyyvKi"
      },
      "source": [
        "### Apply Q-Value Iteration Algorithm\n"
      ]
    },
    {
      "cell_type": "markdown",
      "metadata": {
        "id": "J9kAshd8y3MY"
      },
      "source": [
        "\n",
        "$Q_{k+1}(s) \\leftarrow \\Sigma_{s'} \\space T(s, a, s')[R(s, a, s') + \\max Q_k(s', a')]$\n"
      ]
    },
    {
      "cell_type": "code",
      "metadata": {
        "colab": {
          "base_uri": "https://localhost:8080/"
        },
        "id": "0mnUJQ7Lym79",
        "outputId": "f5c37449-0e6b-446d-f70f-caef2be785c5"
      },
      "source": [
        "# discount factor\n",
        "gamma = 0.95\n",
        "\n",
        "for iteration in range(50):\n",
        "  Q_prev = Q_values.copy()\n",
        "  for s in range(3):\n",
        "    for a in possible_actions[s]:\n",
        "      Q_values[s, a] = np.sum([transition_probabilities[s][a][sp] \n",
        "                               * (rewards[s][a][sp] + gamma * np.max(Q_prev[sp])) for sp in range(3)])\n",
        "\n",
        "Q_values"
      ],
      "execution_count": null,
      "outputs": [
        {
          "output_type": "execute_result",
          "data": {
            "text/plain": [
              "array([[460.19986325, 473.93184952, 479.96067149],\n",
              "       [        -inf, 498.43905501, 514.20250447],\n",
              "       [        -inf, 553.93184952,         -inf]])"
            ]
          },
          "metadata": {},
          "execution_count": 22
        }
      ]
    },
    {
      "cell_type": "code",
      "metadata": {
        "colab": {
          "base_uri": "https://localhost:8080/"
        },
        "id": "ftZJTC9z0Cqh",
        "outputId": "8fecf962-52cd-4baf-a029-efdde5c9d0a6"
      },
      "source": [
        "np.argmax(Q_values, axis=1)"
      ],
      "execution_count": null,
      "outputs": [
        {
          "output_type": "execute_result",
          "data": {
            "text/plain": [
              "array([2, 2, 1])"
            ]
          },
          "metadata": {},
          "execution_count": 23
        }
      ]
    },
    {
      "cell_type": "markdown",
      "metadata": {
        "id": "ajrR1qcv3VJ_"
      },
      "source": [
        "Starting at state 0 (tired), the algorithm chose action sleep to state 1 (energetic), followed action gym to state 2 (healthier) then taking the only action work. The \"route\" effectively produced the optimal policy for this MDP.  "
      ]
    },
    {
      "cell_type": "markdown",
      "metadata": {
        "id": "BQ-yfD3b58os"
      },
      "source": [
        "##### Discount Factor changes - **Life Lesson!**\n",
        "If we were to decrease the discount factor ~ 0.7, then the best policy would be sleep, work and sleep\n",
        "\n",
        "```\n",
        "reduced_gamma = 0.7\n",
        "np.argmax(Q_values, axis=1)\n",
        "\n",
        "Returns: array([1, 2, 1]) # sleep work sleep\n",
        "```\n",
        "\n",
        "This highlgihts that the less value you put on future rewards (i.e. reduced discount factor) the less willing you are to put up with pain now for the promise of future rewards. Increasing gamma allows you to value more future rewards. \n"
      ]
    },
    {
      "cell_type": "markdown",
      "metadata": {
        "id": "CXH5r0Ji8GJJ"
      },
      "source": [
        "### Temporal Difference Learning\n",
        "\n",
        "In reality, we do not know what the `transition_probabilities` and `rewards` are. The agent must experience each state and transitions to know what the rewards are. The Temporal Difference Learning (TD learning) algorithm is similiar to the Value Iteration algorithm and uses an *Exploration policy** (a random policy) to explore MDP. The algorithm keeps a running track of the immediate rewards plus the rewards it expects to get later.\n",
        "\n",
        "\n",
        "$V(s) \\leftarrow r + \\gamma .V(s')$\n",
        "\n",
        "This is similiar to Stochastic gradient descent, where the learning rate should gradually redice as it converges to the optimal Q-value. Otherwise, it will bounce around it.  "
      ]
    },
    {
      "cell_type": "markdown",
      "metadata": {
        "id": "I2ZO8Knu-tbl"
      },
      "source": [
        "# Q-Learning\n"
      ]
    },
    {
      "cell_type": "markdown",
      "metadata": {
        "id": "iauCGacgeKp0"
      },
      "source": [
        "Similiar to the Q-Value Iteration algorithm above, Q-learning is an adaption whereby we do not know the transition probabilities and rewards. The agent plays randomly and we gradually improve the Q-values by keeping track of the running average of the rewards from the state action pairs (plus the discounted rewards from future rewards). The optimal policy is the action that has the highest Q-value."
      ]
    },
    {
      "cell_type": "code",
      "metadata": {
        "id": "5o9yAVf9-tK7"
      },
      "source": [
        "# implement Q-value step\n",
        "\n",
        "def step(state, action):\n",
        "  \"\"\"\n",
        "  Returns the next state and reward to perform some action. \n",
        "  \"\"\"\n",
        "  proba = transition_probabilities[state][action]\n",
        "  next_state = np.random.choice([0, 1, 2], p=proba)\n",
        "  reward = rewards[state][action][next_state]\n",
        "  return next_state, reward\n",
        "\n",
        "def exploration_policy(state):\n",
        "  return np.random.choice(possible_actions[state])"
      ],
      "execution_count": null,
      "outputs": []
    },
    {
      "cell_type": "markdown",
      "metadata": {
        "id": "kNDzzqKyiLr1"
      },
      "source": [
        "Lets try perform the same policy as above but without knowing the probabilities and rewards."
      ]
    },
    {
      "cell_type": "code",
      "metadata": {
        "id": "Qi_4i6prhjOi"
      },
      "source": [
        "np.random.seed(42)\n",
        "\n",
        "# initialize Q-values \n",
        "\n",
        "Q_values = np.full((3, 3), -np.inf)\n",
        "\n",
        "for state, actions in enumerate(possible_actions):\n",
        "  Q_values[state][actions] = 0\n",
        "\n",
        "# define hyperparameters\n",
        "alpha0 = 0.05\n",
        "decay = 0.0005\n",
        "gamma = 0.9 \n",
        "state = 0 # initial state\n",
        "history = []\n",
        "\n",
        "for iteration in range(20000):\n",
        "  history.append(Q_values.copy())\n",
        "  action = exploration_policy(state)\n",
        "  next_state, reward = step(state, action)\n",
        "  next_value = np.max(Q_values[next_state]) # greedy policy at the next step\n",
        "  alpha = alpha0 / (1 + iteration * decay)\n",
        "  Q_values[state, action] *= 1 - alpha\n",
        "  Q_values[state, action] += alpha * (reward + gamma * next_value)\n",
        "  state = next_state\n",
        "\n",
        "history = np.array(history)"
      ],
      "execution_count": null,
      "outputs": []
    },
    {
      "cell_type": "code",
      "metadata": {
        "colab": {
          "base_uri": "https://localhost:8080/"
        },
        "id": "vSQ5llEaixJ9",
        "outputId": "c45db0cd-2d8b-4d60-ca21-0463e26e4462"
      },
      "source": [
        "Q_values"
      ],
      "execution_count": null,
      "outputs": [
        {
          "output_type": "execute_result",
          "data": {
            "text/plain": [
              "array([[218.55252333, 234.37537293, 238.48722404],\n",
              "       [        -inf, 258.43473336, 271.97805115],\n",
              "       [        -inf, 314.18381789,         -inf]])"
            ]
          },
          "metadata": {},
          "execution_count": 26
        }
      ]
    },
    {
      "cell_type": "code",
      "metadata": {
        "colab": {
          "base_uri": "https://localhost:8080/"
        },
        "id": "GPloBHBAj8VE",
        "outputId": "7a9fdc67-da6b-4318-b296-f725aa4ad40c"
      },
      "source": [
        "# optimal actions for each state\n",
        "np.argmax(Q_values, axis=1)"
      ],
      "execution_count": null,
      "outputs": [
        {
          "output_type": "execute_result",
          "data": {
            "text/plain": [
              "array([2, 2, 1])"
            ]
          },
          "metadata": {},
          "execution_count": 27
        }
      ]
    },
    {
      "cell_type": "markdown",
      "metadata": {
        "id": "dFLQ8pWYkFSz"
      },
      "source": [
        "This matches what we had previously, however we had to do a lot more iterations because we did not know the probabilities or rewards."
      ]
    },
    {
      "cell_type": "code",
      "metadata": {
        "colab": {
          "base_uri": "https://localhost:8080/",
          "height": 282
        },
        "id": "0R61TC2hpqpx",
        "outputId": "f19aa2d5-80ad-4ce6-859d-155987e4d22b"
      },
      "source": [
        "plt.plot(np.arange(len(history)), history[:, 0, 0], \"b-\", linewidth=2)"
      ],
      "execution_count": null,
      "outputs": [
        {
          "output_type": "execute_result",
          "data": {
            "text/plain": [
              "[<matplotlib.lines.Line2D at 0x7fa5c9b89fd0>]"
            ]
          },
          "metadata": {},
          "execution_count": 28
        },
        {
          "output_type": "display_data",
          "data": {
            "image/png": "[encoded data removed]",
            "text/plain": [
              "<Figure size 432x288 with 1 Axes>"
            ]
          },
          "metadata": {
            "needs_background": "light"
          }
        }
      ]
    },
    {
      "cell_type": "markdown",
      "metadata": {
        "id": "SKg-rH7Clrjd"
      },
      "source": [
        "####  Off-Policy and On-Policy Algorithms \n",
        "\n",
        "The Q-Learning algorithm is called an **off-policy** algorithm because the policy being trained is not neccesarily the policy being executed. This is called the exploration policy because it is completely random. While the policy being trained the optimal policy with the highest Q-values. Meanwhile, the Policy Gradient algorithm is an **on-policy** because the policy being trained is the policy being explored.\n",
        "\n",
        "\n",
        "#### Exploration Policies \n",
        "\n",
        "We can add a hyperparameter to help only explore interesting parts of the environment. This is usally $\\epsilon$, where it uses a greedy policy to spend more time exploring highest Q-value actions while still visiting unknown regions of the MDP. This approach is far better than having to randomly visit actions.\n",
        "\n",
        "Another approach is to keep track of the number of times we try actions. We can then try actions that have not been explored much. \n",
        "\n",
        "$Q(s, a) \\leftarrow r + \\gamma . max f((Q:s', a'), N(s', a'))$\n",
        "\n",
        "Where $N(s', a')$ is the number of times of an action that was chosen in state $s'$."
      ]
    },
    {
      "cell_type": "markdown",
      "metadata": {
        "id": "NGln36Ril8hH"
      },
      "source": [
        "# Deep Qnetworks (DQNs)\n"
      ]
    },
    {
      "cell_type": "markdown",
      "metadata": {
        "id": "e0DuUzB71Y_L"
      },
      "source": [
        "The problem with Q-Learning is that it does not scale well. We have to keep track of all the action and state pairs, and perform them many times. If we want to be play a basic Atari game this would creep up to the order of $10^{45}$ possible states which is larger than the number of atoms on our planet. The solution is to approximate the Q-Values by finidng a function $Q_\\theta(s, a)$ for any state action pair ($s, a)$ and managing number of parameters. This is called **Approximate Q Learning**.\n",
        "\n",
        "Initially, it was thought to create handcrafted features but through DeepMind's work it became clear that using deep neural networks are far better, even with complex problems. \n",
        "\n",
        "- DNN is used to approximate Q-values is called a Deep Q-Network (DQN)\n",
        "- Using a DQN we can approximate the Q-Learning called Deep Q-Learning. \n",
        "\n",
        "Training the DQN to approximate the Q-values, we know that we want the Q-value to be as close as possible to the reward after playing an action at a given state (plus the discounted value). To estimate the discounted value we execute the next state for all possible actions which gives us a future Q-value for each possible action. We then pick the highest (apply the discount factor) giving us an estimate for future rewards. \n",
        "\n",
        "$Q_{target}(s, a) = r + \\gamma . max Q_\\theta(s', a')$\n",
        "\n",
        "The $Q_{target}$ is the target Q-value that can be used for any Gradient Descent algorithm. We want to minimize the squared error between the estimate Q-value $Q(s, a)$ and the target $Q_{target}$.\n",
        "\n",
        "To implement a DQN we need a neural network that takes in the state and outputs one approximate Q-value for each possible action. "
      ]
    },
    {
      "cell_type": "code",
      "metadata": {
        "id": "Ro89p5XH1TrA"
      },
      "source": [
        "env = gym.make('CartPole-v0')\n",
        "input_shape = [4]\n",
        "n_outputs = 2\n",
        "\n",
        "# this neural net takes in states and outputs q-value for each action\n",
        "dqn_model = keras.models.Sequential([\n",
        "  keras.layers.Dense(32, activation='elu', input_shape=input_shape),\n",
        "  keras.layers.Dense(32, activation='elu'),\n",
        "  keras.layers.Dense(n_outputs)\n",
        "])"
      ],
      "execution_count": null,
      "outputs": []
    },
    {
      "cell_type": "code",
      "metadata": {
        "id": "jrOlvvhy1RD8"
      },
      "source": [
        "def select_greedy_policy(state, epsilon=0):\n",
        "  \"\"\"\n",
        "  Greedily selects the action with largets Q-value but still exposes\n",
        "  the network to random actions.\n",
        "  \"\"\"\n",
        "  if np.random.rand() < epsilon: return np.random.randint(n_outputs)\n",
        "  else:\n",
        "    Q_values = model.predict(state[np.newaxis])\n",
        "    return np.argmax(Q_values[0])\n"
      ],
      "execution_count": null,
      "outputs": []
    },
    {
      "cell_type": "markdown",
      "metadata": {
        "id": "WS1qZCC3VPvr"
      },
      "source": [
        "We will be using the [`deque`](https://docs.python.org/3/library/collections.html#deque-objects) class within the `Collections` library, pronounced 'Deck'. Deques are generalization of stacks and queues and are O(1) performant when it comes to appending and popping from either side of the deque. They are useful for tracking data when the most recent activity is of interest. \n",
        "They are similiar to TensorFlow's [Replay Buffers](https://www.tensorflow.org/agents/tutorials/5_replay_buffers_tutorial#introduction).\n",
        "\n",
        "Once we have the buffer we can batch them to train the agent.\n",
        "\n",
        "![DQN Training](https://drek4537l1klr.cloudfront.net/morales/v-4/Figures/image056.jpg)\n"
      ]
    },
    {
      "cell_type": "code",
      "metadata": {
        "id": "LF_7tA-gYj6R"
      },
      "source": [
        "from collections import deque\n",
        "replay_memory = deque(maxlen=2000) # track most recent activity"
      ],
      "execution_count": null,
      "outputs": []
    },
    {
      "cell_type": "markdown",
      "metadata": {
        "id": "3DlsZXbwdxYN"
      },
      "source": [
        "Implement Deep Q-Learning\n"
      ]
    },
    {
      "cell_type": "code",
      "metadata": {
        "id": "eZM50meNYjwY"
      },
      "source": [
        "def sample_experience(batch_size):\n",
        "  \"\"\"\n",
        "  Samples a random batch from the replay buffer.\n",
        "  \"\"\"\n",
        "  indices = np.random.randint(len(replay_memory), size=batch_size)\n",
        "  batch = [replay_memory[index] for index in indices]\n",
        "  states, actions, rewards, next_states, dones = [\n",
        "      np.array([experience[field_index] for experience in batch]) for field_index in range(5)] # returns 5 experiences\n",
        "  return states, actions, rewards, next_states, dones"
      ],
      "execution_count": null,
      "outputs": []
    },
    {
      "cell_type": "code",
      "metadata": {
        "id": "9ScH36-sHc5V"
      },
      "source": [
        "def play_one_step(env, state, epsilon):\n",
        "  \"\"\"\n",
        "  Plays one step and appends into replay_memory deque.\n",
        "  \"\"\"\n",
        "  action = select_greedy_policy(state, epsilon)\n",
        "  next_state, reward, done, info = env.step(action)\n",
        "  replay_memory.append((state, action, reward, next_state, done))\n",
        "  return next_state, reward, done, info"
      ],
      "execution_count": null,
      "outputs": []
    },
    {
      "cell_type": "code",
      "metadata": {
        "id": "nDHi-UyRHcv5"
      },
      "source": [
        "batch_size = 32\n",
        "discount_factor = 0.95\n",
        "optimizer = keras.optimizers.Adam(learning_rate=1e-3)\n",
        "loss_fn = keras.losses.mean_squared_error\n",
        "\n",
        "def training_step(batch_size):\n",
        "  \"\"\"\n",
        "  Takes a training step using the functions and model above.\n",
        "  \"\"\"\n",
        "  experience = sample_experience(batch_size)\n",
        "  states, actions, rewards, next_state, dones = experience\n",
        "  next_Q_values = model.predict(next_state)\n",
        "  max_Q_values = np.max(next_Q_values, axis=1)\n",
        "  # use Target Q-value formula to find the Q-value for each state-action pair\n",
        "  target_Q_values = (rewards + (1 - dones) * discount_factor * max_Q_values)\n",
        "  \n",
        "  # zeros out all the Q-values we do not need.\n",
        "  # actions contain an array [1, 1, 0]\n",
        "  # using one hot function will return [[0, 1], [0, 1], [1, 0]]\n",
        "  mask = tf.one_hot(actions, n_outputs) # use this to multiply the calculation for all Q_values\n",
        "\n",
        "  with tf.GradientTape() as tape:\n",
        "    all_Q_values = model(states)\n",
        "    Q_values = tf.reduce_sum(all_Q_values * mask, axis=1, keepdims=True)\n",
        "    loss = tf.reduce_mean(loss_fn(target_Q_values, Q_values))\n",
        "  grads = tape.gradient(loss, model.trainable_variables)\n",
        "  optimizer.apply_gradients(zip(grads, model.trainable_variables))\n",
        " "
      ],
      "execution_count": null,
      "outputs": []
    },
    {
      "cell_type": "code",
      "metadata": {
        "id": "QofkM8lALNa4"
      },
      "source": [
        "# perform training \n",
        "rewards = []\n",
        "\n",
        "for episode in range(600):\n",
        "  obs = env.reset()\n",
        "  for step in range(200):\n",
        "    epsilon = max(1 - episode/ 500, 0.01)\n",
        "    obs, reward, done, info = play_one_step(env, obs, epsilon)\n",
        "    if done: break\n",
        "  \n",
        "  rewards.append(step)\n",
        "  if episode > 50: training_step(batch_size) # allows replay buffer to gain a few samples\n"
      ],
      "execution_count": null,
      "outputs": []
    },
    {
      "cell_type": "code",
      "metadata": {
        "colab": {
          "base_uri": "https://localhost:8080/",
          "height": 283
        },
        "id": "_xh-c1-iLNTA",
        "outputId": "431d347b-c760-4968-8edc-696c05e4971c"
      },
      "source": [
        "plt.figure(figsize=(8, 4))\n",
        "plt.plot(rewards)\n",
        "plt.xlabel(\"Episode\", fontsize=14)\n",
        "plt.ylabel(\"Sum of rewards\", fontsize=14)\n",
        "plt.show()"
      ],
      "execution_count": null,
      "outputs": [
        {
          "output_type": "display_data",
          "data": {
            "image/png": "[encoded data removed]",
            "text/plain": [
              "<Figure size 576x288 with 1 Axes>"
            ]
          },
          "metadata": {
            "needs_background": "light"
          }
        }
      ]
    },
    {
      "cell_type": "markdown",
      "metadata": {
        "id": "jau7FUFGRttQ"
      },
      "source": [
        "The RL model performs well initially but then **catestrophically forgets**. This is one of the biggest problems with RL is this forgetting of what it has learnt earlier. There are many hyperparameters that we are required to tune, such as the reply buffer size (increasing this results in may decrease the catestrophic forgetting problem), learning rate, neural network architecture etc. In reality, RL is difficult, Andrej Karpathy said, \"RL must be forced to work\", while \"Supervised learning wants to work\". \n",
        "\n",
        "The next step in improving RL is to modify the Q-learning algorithm to speed up training and stabilize the rewards. "
      ]
    },
    {
      "cell_type": "markdown",
      "metadata": {
        "id": "AZ81VdUddTHH"
      },
      "source": [
        "# Deep Q-Learning Variants"
      ]
    },
    {
      "cell_type": "markdown",
      "metadata": {
        "id": "wioV0jLUdZXL"
      },
      "source": [
        "## Fixed Q-Value Targets"
      ]
    },
    {
      "cell_type": "markdown",
      "metadata": {
        "id": "UtrfXAzCUFdZ"
      },
      "source": [
        "DeepMind amended the learning algorithm by changing the DQN. The problem with the current DQN was the constant feedback loop, it is learning to find the targets as well as make the predictions.\n",
        "\n",
        "To avoid this DeepMind introduced another model, the online model, that learns at each step and moves the agent around. While the second model, the target model, defines the targets. \n",
        "\n",
        "```\n",
        "# clone model; online and target models are the same\n",
        "target = keras.models.clone(model)\n",
        "target.set_weights(model.get_weights)\n",
        "```\n",
        "\n",
        "They then updated the `target` model every 50 epochs. This allows the Q-values to be more stable and prevents the oscillations we observed earlier. This dampening effect alongside a tiny learning rate, larger replay buffer (to hold more experiences), decreasing epsilon slowly and running the algorithm for more steps introduces stability within the training. By introducing these changes DeepMind was able to play Atari games. \n"
      ]
    },
    {
      "cell_type": "code",
      "metadata": {
        "id": "Lmfj0xQxdWVf",
        "colab": {
          "base_uri": "https://localhost:8080/"
        },
        "outputId": "954659f9-cda7-404f-9eb5-f54b20fecabb"
      },
      "source": [
        "keras.backend.clear_session()\n",
        "tf.random.set_seed(42)\n",
        "np.random.seed(42)\n",
        "\n",
        "model = keras.models.Sequential([\n",
        "    keras.layers.Dense(32, activation=\"elu\", input_shape=[4]),\n",
        "    keras.layers.Dense(32, activation=\"elu\"),\n",
        "    keras.layers.Dense(n_outputs)\n",
        "])\n",
        "\n",
        "target = keras.models.clone_model(model)\n",
        "target.set_weights(model.get_weights())\n",
        "\n",
        "batch_size = 32\n",
        "discount_rate = 0.95\n",
        "optimizer = keras.optimizers.Adam(learning_rate=6e-3)\n",
        "loss_fn = keras.losses.Huber()\n",
        "\n",
        "def training_step(batch_size):\n",
        "    experiences = sample_experience(batch_size)\n",
        "    states, actions, rewards, next_states, dones = experiences\n",
        "    next_Q_values = model.predict(next_states)\n",
        "    best_next_actions = np.argmax(next_Q_values, axis=1)\n",
        "    next_mask = tf.one_hot(best_next_actions, n_outputs).numpy()\n",
        "    next_best_Q_values = (target.predict(next_states) * next_mask).sum(axis=1)\n",
        "    target_Q_values = (rewards + \n",
        "                       (1 - dones) * discount_rate * next_best_Q_values)\n",
        "    target_Q_values = target_Q_values.reshape(-1, 1)\n",
        "    mask = tf.one_hot(actions, n_outputs)\n",
        "    with tf.GradientTape() as tape:\n",
        "        all_Q_values = model(states)\n",
        "        Q_values = tf.reduce_sum(all_Q_values * mask, axis=1, keepdims=True)\n",
        "        loss = tf.reduce_mean(loss_fn(target_Q_values, Q_values))\n",
        "    grads = tape.gradient(loss, model.trainable_variables)\n",
        "    optimizer.apply_gradients(zip(grads, model.trainable_variables))\n",
        "\n",
        "replay_memory = deque(maxlen=2000)\n",
        "\n",
        "\n",
        "env.seed(42)\n",
        "np.random.seed(42)\n",
        "tf.random.set_seed(42)\n",
        "\n",
        "rewards = []\n",
        "best_score = 0\n",
        "\n",
        "for episode in range(600):\n",
        "    obs = env.reset()    \n",
        "    for step in range(200):\n",
        "        epsilon = max(1 - episode / 500, 0.01)\n",
        "        obs, reward, done, info = play_one_step(env, obs, epsilon)\n",
        "        if done:\n",
        "            break\n",
        "    rewards.append(step)\n",
        "    if step >= best_score:\n",
        "        best_weights = model.get_weights()\n",
        "        best_score = step\n",
        "    print(\"\\rEpisode: {}, Steps: {}, eps: {:.3f}\".format(episode, step + 1, epsilon), end=\"\")\n",
        "    if episode >= 50:\n",
        "        training_step(batch_size)\n",
        "        if episode % 50 == 0: # set target model weights less frequently \n",
        "            target.set_weights(model.get_weights())\n",
        "\n",
        "model.set_weights(best_weights)"
      ],
      "execution_count": null,
      "outputs": [
        {
          "output_type": "stream",
          "name": "stdout",
          "text": [
            "Episode: 599, Steps: 182, eps: 0.010"
          ]
        }
      ]
    },
    {
      "cell_type": "code",
      "metadata": {
        "colab": {
          "base_uri": "https://localhost:8080/",
          "height": 283
        },
        "id": "w5ymcc-ysDXG",
        "outputId": "cae11199-2eb1-422c-9085-a6670fc354f1"
      },
      "source": [
        "plt.figure(figsize=(8, 4))\n",
        "plt.plot(rewards)\n",
        "plt.xlabel(\"Episode\", fontsize=14)\n",
        "plt.ylabel(\"Sum of rewards\", fontsize=14)\n",
        "plt.show()"
      ],
      "execution_count": null,
      "outputs": [
        {
          "output_type": "display_data",
          "data": {
            "image/png": "[encoded data removed]",
            "text/plain": [
              "<Figure size 576x288 with 1 Axes>"
            ]
          },
          "metadata": {
            "needs_background": "light"
          }
        }
      ]
    },
    {
      "cell_type": "markdown",
      "metadata": {
        "id": "uj968Oi_3FBS"
      },
      "source": [
        "Better than the vanilla with a slow increase and stability on the sum of rewards."
      ]
    },
    {
      "cell_type": "markdown",
      "metadata": {
        "id": "3Lrn-gRWdcWr"
      },
      "source": [
        "## Double DQN"
      ]
    },
    {
      "cell_type": "markdown",
      "metadata": {
        "id": "VOyNcCLht16j"
      },
      "source": [
        "In 2015, DeepMind then tweaked their algorithm further to stabalize training and thus increasing performance, this variant was called Double DQN. The target model frequently overestimates Q-Values. \n",
        "\n",
        "To fix this we use online model instead of the target model to select the best actions, and using the target model to estimate the Q-values for the best actions. \n",
        "\n",
        "### Prioritized Experience Replay\n",
        "\n",
        "So far, we are taking experiences from the replay buffer randomly and uniformly. Another approach could be to take a sample that are more important experiences. This idea is called **Importance Sampling (IS)** or **Experienced Replay (PER)**.\n",
        "\n",
        "Important experiences are those that lead to fast learning, we can measure this by using the temporal difference algorithm (TD). A large TD error represents a transition that is very surprising and worth learning from. These experiences are considered very large importances. \n",
        "\n",
        "The issue with sampling in this way will cause the samples to be biased towards important experiences and the model will start to overfit the important experiences only. We want the important experiences to be sampled more often but we have to lower their weight during training, the authors then introduced a weight formula with several hyperparameters that controls the importance sampling bias, $w = (n P)^{-\\beta}$ - where ${\\beta}$=0 means no sampling bias while ${\\beta}$=1 increases samplings bias entirely.   \n"
      ]
    },
    {
      "cell_type": "markdown",
      "metadata": {
        "id": "nE_fkK6R1Rug"
      },
      "source": [
        "### Dueling DQN\n",
        "\n",
        "Another variant is the Dueling DQN, the model estimates the value of the state and advantage of each possible action. The formula used: $Q(s, a) = V(s) + A(s, a)$, where $V(s)$ is the value of the state and $A(s, a)$ is the advantage of taking the action a in state s. \n",
        "\n",
        "The best action should have an advantage of 0 and the model subtracts the maximum predicted advantages from all predicted advantages. \n",
        "```\n",
        "raw_advantages = model(predict)\n",
        "advantages = raw_advantages - max(raw_advantages, axis=1)\n",
        "Q_values = state_values + advantages\n",
        "```\n",
        "\n",
        "The benefits of learning about the various variants is that they can be combined together. They tried this and called this the Rainbow technique. Rather than reinventing the wheel, you can implement the these variants by using the `TF Agents` Library. "
      ]
    },
    {
      "cell_type": "markdown",
      "metadata": {
        "id": "UrJNQootHLGc"
      },
      "source": [
        "# TF-Agents"
      ]
    },
    {
      "cell_type": "markdown",
      "metadata": {
        "id": "CMKkRIqqH3z-"
      },
      "source": [
        "The [TensorFlow Agents library](https://github.com/tensorflow/agents) is a Reinforcement library that allows us to implement the variants of Q-Learning and many RL algorithms such as REINFORCE, DQN, DDQN plus more efficient memory buffers (replay buffers). \n",
        "\n",
        "The library has many environment and allows you to customize many components within the RL pipeline. \n",
        "\n",
        "- Environment Specifications: the TF-Agents library returns details about the observations, actions including their shapes, data types, names and, max and min values.\n",
        "\n",
        "- Environment Wrappers: they are wrappers that wrap an environment. These allow you to interact with the environment \n",
        "\n",
        "- Training Architecture: there are many ways to do this but generally, there is a collection architecture (which interacts directly with the environment through a driver) and a training data (which stores the outcomes via the replay buffer) - this is where the nueral network and training sits. "
      ]
    }
  ]
}