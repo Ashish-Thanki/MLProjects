{
  "nbformat": 4,
  "nbformat_minor": 0,
  "metadata": {
    "colab": {
      "name": "6.RecurrentNeuralNetworks.ipynb",
      "provenance": [],
      "collapsed_sections": []
    },
    "kernelspec": {
      "name": "python3",
      "display_name": "Python 3"
    },
    "language_info": {
      "name": "python"
    },
    "accelerator": "TPU"
  },
  "cells": [
    {
      "cell_type": "markdown",
      "metadata": {
        "id": "oJV9CwVRBvcf"
      },
      "source": [
        "# Processing Sequences using RNNs and CNNs\n",
        "\n",
        "Recurrent Neural Networks (RNNs) can work with sequences with arbitrary lengths, rather than fixed input shape neural networks. These arbitrary sequences can be sentences, documents or audio samples, RNNs aid with Natural Language processing tasks such as transalation and speech-to-text.\n",
        "\n",
        "RNNs can handle sequential data (i.e. time series) although, small sequences can be handled by regular dense networks too while CNNs can handle longer sequences too. \n",
        "\n",
        "## Recurrent Neurons and Layers\n",
        "\n",
        "So far we have only seen feedforward neural networks. RNNs produces an output that sends it back to itself as an input. At each time step, $t$, the neurons receives an input $x_{(t)}$ and its own output $y_{(t-1)}$. \n",
        "\n",
        "RNNs have weights, $W_x$ and $W_y$ for the input $x_{(t)}$ and weights for its output of the previous time step $y_{(t-1)}$. \n",
        "\n",
        "Therefore the output of a RNN would be:\n",
        "$y_{(t)} = \\phi(W_x^Tx_{(t)} + W_y^Ty_{(t-1)} + b$)\n",
        "where $\\phi$ is the activation function - either tanh or ReLU should work ok - and at $t=0$ outputs are considered to be zero.\n",
        "\n",
        "#### Memory Cell\n",
        "\n",
        "A recurrent neuron is capable of preserving state across time steps ~ around 10 steps long ~ this is called memory cell. It is capable of learning basic patterns which more complex architectures can learn a lot longer patterns, x10 more.\n",
        "\n",
        "#### Input and Output Sequences\n",
        "RNNs are able to produce many number of outputs depending on the functionality required. There are several types of networks:\n",
        "\n",
        "- **Sequence to Sequence**: \n",
        "This is where the network is given a sequence and outputs a sequence. This is useful for predicting stock prices (i.e. time series data).\n",
        "\n",
        "- **Sequences to Vector**: Feed the network a sequence and return a single vector an output. For example, given a movie review input we can output a sentiment score.\n",
        "\n",
        "- **Vector to Sequence**: Feed the network an input vector over and over again at each time step and outputs a sequence. This can be usful for predicting a caption for an image/output of a CNN. \n",
        "\n",
        "- **Encoder Decoder**: This is essentially a Sequence to Vector (Encoder) followed by Vector to Sequence (Decoder) network. This sort of network can be used to translate multiple inputs to a vector representation and then decode to another sequence. For example, translating from one language to another. We have to read the entire sentence to enable a proper translation of the sentence.\n"
      ]
    },
    {
      "cell_type": "markdown",
      "metadata": {
        "id": "T9BDfsIMIye3"
      },
      "source": [
        "## Training RNNs - backpropagation through time (BPTT)\n",
        "\n",
        "To train a RNN, we unroll it through time. This strategy is called backpropagation through time. \n",
        "\n",
        "We first pass through the network then calculate the cost function, where only the relevant outputs are used during the backward pass. Fortunately, `keras` takes care of this for us."
      ]
    },
    {
      "cell_type": "markdown",
      "metadata": {
        "id": "ROoL2QS-I22A"
      },
      "source": [
        "## Forecasting a Time Series\n",
        "\n",
        "There are two types of time series data: \n",
        "\n",
        "1. Univariate time series: a single value per time step. For example, number of active users on a website.\n",
        "2. Multivariate time series: multiple values per time step. For example, financial data that contain the company's revenue, debt etc.).\n",
        "\n",
        "With time series data we typically like to carry out a task called **forecasting**, predicting future values, or **postdict**, imputing missing values. \n",
        "\n"
      ]
    },
    {
      "cell_type": "code",
      "metadata": {
        "id": "usrRyqL2TQwS"
      },
      "source": [
        "import numpy as np\n",
        "import matplotlib.pyplot as plt\n",
        "import tensorflow as tf\n",
        "from tensorflow import keras\n",
        "assert tf.__version__ >= \"2.0\""
      ],
      "execution_count": 1,
      "outputs": []
    },
    {
      "cell_type": "code",
      "metadata": {
        "id": "m_c1zCBQBMH1"
      },
      "source": [
        "def generate_time_series(batch_size, n_steps):\n",
        "  \"\"\"\n",
        "  Function for creating time series data\n",
        "  \"\"\"\n",
        "  freq1, freq2, offsets1, offsets2 = np.random.rand(4, batch_size, 1) # returns array of shape(4, batch_size, 1)\n",
        "  time = np.linspace(0, 1, n_steps)\n",
        "  series = 0.5 * np.sin((time - offsets1) * (freq1 * 10 + 10))\n",
        "  series += 0.2 * np.sin((time - offsets2) * (freq2 * 20 + 20))\n",
        "  series += 0.1 * (np.random.rand(batch_size, n_steps) - 0.5)\n",
        "  return series[..., np.newaxis].astype(np.float32)\n"
      ],
      "execution_count": 2,
      "outputs": []
    },
    {
      "cell_type": "markdown",
      "metadata": {
        "id": "uZQydujdeJhJ"
      },
      "source": [
        "Create time series data: train, valid, test datasets\n",
        "\n",
        "In each numpy array we have `batch_size` number of time series each containing a time step of `n_steps`.\n",
        "\n",
        "Note: the X dataset contains all the values including, what we we would define as the \"label\". The y dataset contains all the values at the n_steps (i.e. the last step), this is the value that we are trying to predicting using all available data."
      ]
    },
    {
      "cell_type": "code",
      "metadata": {
        "id": "jRDtlyZtI1aD"
      },
      "source": [
        "np.random.seed(24)\n",
        "\n",
        "n_steps = 50\n",
        "series = generate_time_series(10000, n_steps + 1) # note: plus 1 as this is the time step values we are predicting\n",
        "X_train, y_train = series[:7000, :n_steps], series[:7000, -1] # upto but not including 7,000th row\n",
        "X_valid, y_valid = series[7000:9000, :n_steps], series[7000:9000, -1] #  inclusive 7,000 to 8,999\n",
        "X_test, y_test = series[9000:, :n_steps], series[9000:, -1] #  inclusive 9,000 to end"
      ],
      "execution_count": 3,
      "outputs": []
    },
    {
      "cell_type": "markdown",
      "metadata": {
        "id": "mY_Ol8LOoUa2"
      },
      "source": [
        "Below, we are plotting just 1 time series instance within the dataset. "
      ]
    },
    {
      "cell_type": "code",
      "metadata": {
        "colab": {
          "base_uri": "https://localhost:8080/",
          "height": 281
        },
        "id": "ABFaJK5PlrVP",
        "outputId": "e3756c4a-0361-4c68-d85c-15f230d3b1bf"
      },
      "source": [
        "plt.plot(X_valid[0, :, 0])\n",
        "plt.plot(50, y_valid[0], 'rx')"
      ],
      "execution_count": 4,
      "outputs": [
        {
          "output_type": "execute_result",
          "data": {
            "text/plain": [
              "[<matplotlib.lines.Line2D at 0x7f0601b546d0>]"
            ]
          },
          "metadata": {
            "tags": []
          },
          "execution_count": 4
        },
        {
          "output_type": "display_data",
          "data": {
            "image/png": "[encoded data removed]",
            "text/plain": [
              "<Figure size 432x288 with 1 Axes>"
            ]
          },
          "metadata": {
            "tags": [],
            "needs_background": "light"
          }
        }
      ]
    },
    {
      "cell_type": "code",
      "metadata": {
        "id": "VDGQ-UkxI2eg"
      },
      "source": [
        "def plot_series(series, y=None, y_pred=None, x_label=\"$t$\", y_label=\"$x(t)$\"):\n",
        "  \"\"\"\n",
        "  Create a function to plot time series data\n",
        "  \"\"\"\n",
        "  plt.plot(series, \".-\")\n",
        "  if y is not None:\n",
        "      plt.plot(n_steps, y, \"bx\", markersize=10)\n",
        "  if y_pred is not None:\n",
        "      plt.plot(n_steps, y_pred, \"ro\")\n",
        "  plt.grid(True)\n",
        "  if x_label:\n",
        "      plt.xlabel(x_label, fontsize=16)\n",
        "  if y_label:\n",
        "      plt.ylabel(y_label, fontsize=16, rotation=0)\n",
        "  plt.hlines(0, 0, 100, linewidth=1)\n",
        "  plt.axis([0, n_steps + 1, -1, 1])"
      ],
      "execution_count": 5,
      "outputs": []
    },
    {
      "cell_type": "code",
      "metadata": {
        "colab": {
          "base_uri": "https://localhost:8080/",
          "height": 288
        },
        "id": "wX0avX6yVgKe",
        "outputId": "fa6e7a88-dd05-4541-cfb4-0fb01d074ccf"
      },
      "source": [
        "# visualize time series data\n",
        "fig, axes = plt.subplots(nrows=1, ncols=3, sharey=True, figsize=(12, 4))\n",
        "for col in range(3):\n",
        "    plt.sca(axes[col])\n",
        "    plot_series(X_valid[col, :, 0], y_valid[col, 0],\n",
        "                y_label=(\"$x(t)$\" if col==0 else None))\n",
        "plt.show()"
      ],
      "execution_count": 6,
      "outputs": [
        {
          "output_type": "display_data",
          "data": {
            "image/png": "[encoded data removed]",
            "text/plain": [
              "<Figure size 864x288 with 3 Axes>"
            ]
          },
          "metadata": {
            "tags": [],
            "needs_background": "light"
          }
        }
      ]
    },
    {
      "cell_type": "markdown",
      "metadata": {
        "id": "xegxxVTxWGog"
      },
      "source": [
        "When dealing with time series the data shape tends to be:\n",
        "```\n",
        "(batch_size, time-step, dimensionality)\n",
        "```\n",
        "**dimensionality is 1 for univariate and >1 multi-variate time series.**\n"
      ]
    },
    {
      "cell_type": "code",
      "metadata": {
        "colab": {
          "base_uri": "https://localhost:8080/"
        },
        "id": "ZsldVfzbWDV1",
        "outputId": "49bb0219-a1aa-4829-aac3-a05ccf8dae60"
      },
      "source": [
        "X_train.shape"
      ],
      "execution_count": 7,
      "outputs": [
        {
          "output_type": "execute_result",
          "data": {
            "text/plain": [
              "(7000, 50, 1)"
            ]
          },
          "metadata": {
            "tags": []
          },
          "execution_count": 7
        }
      ]
    },
    {
      "cell_type": "code",
      "metadata": {
        "colab": {
          "base_uri": "https://localhost:8080/"
        },
        "id": "w6hz4CkKWtnV",
        "outputId": "df67f8de-a25a-4e2b-fe86-673ad5c22dd8"
      },
      "source": [
        "# naive approach\n",
        "# use the last observed value as the prediction for t+1\n",
        "y_pred = X_valid[:, -1]\n",
        "np.mean(keras.metrics.mean_squared_error(y_pred=y_pred, y_true=y_valid))"
      ],
      "execution_count": 8,
      "outputs": [
        {
          "output_type": "execute_result",
          "data": {
            "text/plain": [
              "0.020327685"
            ]
          },
          "metadata": {
            "tags": []
          },
          "execution_count": 8
        }
      ]
    },
    {
      "cell_type": "markdown",
      "metadata": {
        "id": "zKpGxCfihQDN"
      },
      "source": [
        "This mean squared error is not that bad. "
      ]
    },
    {
      "cell_type": "code",
      "metadata": {
        "colab": {
          "base_uri": "https://localhost:8080/",
          "height": 288
        },
        "id": "48IaQj0IfL37",
        "outputId": "803d9f23-e1ec-498c-e995-122a28ad4b6e"
      },
      "source": [
        "# plot 1 of the time series\n",
        "plot_series(X_valid[1, :, 0], y_valid[1, 0], y_pred[1, 0])"
      ],
      "execution_count": 9,
      "outputs": [
        {
          "output_type": "display_data",
          "data": {
            "image/png": "[encoded data removed]",
            "text/plain": [
              "<Figure size 432x288 with 1 Axes>"
            ]
          },
          "metadata": {
            "tags": [],
            "needs_background": "light"
          }
        }
      ]
    },
    {
      "cell_type": "markdown",
      "metadata": {
        "id": "u9YyTpZEha19"
      },
      "source": [
        "#### Linear Regression"
      ]
    },
    {
      "cell_type": "code",
      "metadata": {
        "colab": {
          "base_uri": "https://localhost:8080/"
        },
        "id": "eWPhimPlhdCc",
        "outputId": "8507fc58-b7f1-4f12-9a08-fa64313df7df"
      },
      "source": [
        "# create model\n",
        "model = keras.models.Sequential([\n",
        "                                 keras.layers.Flatten(input_shape=[50, 1]),\n",
        "                                 keras.layers.Dense(1)\n",
        "])\n",
        "\n",
        "model.compile(loss='mse', optimizer='adam')\n",
        "model.fit(X_train, y_train, epochs=20, validation_data=(X_valid, y_valid))\n"
      ],
      "execution_count": 10,
      "outputs": [
        {
          "output_type": "stream",
          "text": [
            "Epoch 1/20\n",
            "219/219 [==============================] - 1s 2ms/step - loss: 0.1335 - val_loss: 0.0593\n",
            "Epoch 2/20\n",
            "219/219 [==============================] - 0s 1ms/step - loss: 0.0401 - val_loss: 0.0279\n",
            "Epoch 3/20\n",
            "219/219 [==============================] - 0s 1ms/step - loss: 0.0205 - val_loss: 0.0170\n",
            "Epoch 4/20\n",
            "219/219 [==============================] - 0s 1ms/step - loss: 0.0141 - val_loss: 0.0130\n",
            "Epoch 5/20\n",
            "219/219 [==============================] - 0s 1ms/step - loss: 0.0118 - val_loss: 0.0112\n",
            "Epoch 6/20\n",
            "219/219 [==============================] - 0s 1ms/step - loss: 0.0104 - val_loss: 0.0100\n",
            "Epoch 7/20\n",
            "219/219 [==============================] - 0s 1ms/step - loss: 0.0094 - val_loss: 0.0091\n",
            "Epoch 8/20\n",
            "219/219 [==============================] - 0s 1ms/step - loss: 0.0084 - val_loss: 0.0082\n",
            "Epoch 9/20\n",
            "219/219 [==============================] - 0s 1ms/step - loss: 0.0076 - val_loss: 0.0075\n",
            "Epoch 10/20\n",
            "219/219 [==============================] - 0s 1ms/step - loss: 0.0069 - val_loss: 0.0068\n",
            "Epoch 11/20\n",
            "219/219 [==============================] - 0s 1ms/step - loss: 0.0063 - val_loss: 0.0064\n",
            "Epoch 12/20\n",
            "219/219 [==============================] - 0s 1ms/step - loss: 0.0058 - val_loss: 0.0059\n",
            "Epoch 13/20\n",
            "219/219 [==============================] - 0s 1ms/step - loss: 0.0055 - val_loss: 0.0055\n",
            "Epoch 14/20\n",
            "219/219 [==============================] - 0s 1ms/step - loss: 0.0052 - val_loss: 0.0053\n",
            "Epoch 15/20\n",
            "219/219 [==============================] - 0s 1ms/step - loss: 0.0049 - val_loss: 0.0051\n",
            "Epoch 16/20\n",
            "219/219 [==============================] - 0s 1ms/step - loss: 0.0047 - val_loss: 0.0049\n",
            "Epoch 17/20\n",
            "219/219 [==============================] - 0s 1ms/step - loss: 0.0045 - val_loss: 0.0047\n",
            "Epoch 18/20\n",
            "219/219 [==============================] - 0s 1ms/step - loss: 0.0043 - val_loss: 0.0046\n",
            "Epoch 19/20\n",
            "219/219 [==============================] - 0s 1ms/step - loss: 0.0042 - val_loss: 0.0044\n",
            "Epoch 20/20\n",
            "219/219 [==============================] - 0s 1ms/step - loss: 0.0041 - val_loss: 0.0042\n"
          ],
          "name": "stdout"
        },
        {
          "output_type": "execute_result",
          "data": {
            "text/plain": [
              "<tensorflow.python.keras.callbacks.History at 0x7f05fe391e90>"
            ]
          },
          "metadata": {
            "tags": []
          },
          "execution_count": 10
        }
      ]
    },
    {
      "cell_type": "code",
      "metadata": {
        "colab": {
          "base_uri": "https://localhost:8080/"
        },
        "id": "RZ4hRLSxiFnz",
        "outputId": "78ba36b5-0c62-4cf2-fab5-50fc94ee2c45"
      },
      "source": [
        "model.evaluate(X_valid, y_valid)"
      ],
      "execution_count": 11,
      "outputs": [
        {
          "output_type": "stream",
          "text": [
            "63/63 [==============================] - 0s 773us/step - loss: 0.0042\n"
          ],
          "name": "stdout"
        },
        {
          "output_type": "execute_result",
          "data": {
            "text/plain": [
              "0.0042021796107292175"
            ]
          },
          "metadata": {
            "tags": []
          },
          "execution_count": 11
        }
      ]
    },
    {
      "cell_type": "code",
      "metadata": {
        "colab": {
          "base_uri": "https://localhost:8080/",
          "height": 288
        },
        "id": "3KzcK81ylb3K",
        "outputId": "73839f41-bb07-4089-b41d-c0a3addf1c41"
      },
      "source": [
        "y_pred = model.predict(X_valid)\n",
        "plot_series(X_valid[1, :, 0], y_valid[1, 0], y_pred[1, 0])"
      ],
      "execution_count": 12,
      "outputs": [
        {
          "output_type": "display_data",
          "data": {
            "image/png": "[encoded data removed]",
            "text/plain": [
              "<Figure size 432x288 with 1 Axes>"
            ]
          },
          "metadata": {
            "tags": [],
            "needs_background": "light"
          }
        }
      ]
    },
    {
      "cell_type": "markdown",
      "metadata": {
        "id": "GyZx4IP_fdH3"
      },
      "source": [
        "The naive approach worked fairly well and this, alongisde the linear model, can form a great baseline metric to assess more complex models against."
      ]
    },
    {
      "cell_type": "markdown",
      "metadata": {
        "id": "fZdrlJkviMjW"
      },
      "source": [
        "#### Simple RNNs"
      ]
    },
    {
      "cell_type": "code",
      "metadata": {
        "colab": {
          "base_uri": "https://localhost:8080/"
        },
        "id": "3qRHFhTpiOZW",
        "outputId": "ffe74401-1c1c-401b-c611-13ece0167fa2"
      },
      "source": [
        "keras.backend.clear_session()\n",
        "np.random.seed(42)\n",
        "tf.random.set_seed(42)\n",
        "\n",
        "model = keras.models.Sequential([\n",
        "  keras.layers.SimpleRNN(1, input_shape=[None, 1]) # contains only 1 neuron\n",
        "])\n",
        "optimizer = keras.optimizers.Adam(learning_rate=0.005)\n",
        "model.compile(optimizer=optimizer, loss='mse')\n",
        "model.fit(X_train, y_train, epochs=20, validation_data=(X_valid, y_valid))"
      ],
      "execution_count": 13,
      "outputs": [
        {
          "output_type": "stream",
          "text": [
            "Epoch 1/20\n",
            "219/219 [==============================] - 2s 8ms/step - loss: 0.0955 - val_loss: 0.0477\n",
            "Epoch 2/20\n",
            "219/219 [==============================] - 1s 7ms/step - loss: 0.0362 - val_loss: 0.0292\n",
            "Epoch 3/20\n",
            "219/219 [==============================] - 1s 7ms/step - loss: 0.0247 - val_loss: 0.0215\n",
            "Epoch 4/20\n",
            "219/219 [==============================] - 1s 7ms/step - loss: 0.0193 - val_loss: 0.0174\n",
            "Epoch 5/20\n",
            "219/219 [==============================] - 1s 7ms/step - loss: 0.0161 - val_loss: 0.0150\n",
            "Epoch 6/20\n",
            "219/219 [==============================] - 2s 7ms/step - loss: 0.0141 - val_loss: 0.0133\n",
            "Epoch 7/20\n",
            "219/219 [==============================] - 1s 7ms/step - loss: 0.0128 - val_loss: 0.0123\n",
            "Epoch 8/20\n",
            "219/219 [==============================] - 2s 7ms/step - loss: 0.0120 - val_loss: 0.0116\n",
            "Epoch 9/20\n",
            "219/219 [==============================] - 2s 7ms/step - loss: 0.0115 - val_loss: 0.0112\n",
            "Epoch 10/20\n",
            "219/219 [==============================] - 2s 7ms/step - loss: 0.0112 - val_loss: 0.0111\n",
            "Epoch 11/20\n",
            "219/219 [==============================] - 2s 7ms/step - loss: 0.0111 - val_loss: 0.0110\n",
            "Epoch 12/20\n",
            "219/219 [==============================] - 1s 7ms/step - loss: 0.0110 - val_loss: 0.0109\n",
            "Epoch 13/20\n",
            "219/219 [==============================] - 2s 7ms/step - loss: 0.0110 - val_loss: 0.0110\n",
            "Epoch 14/20\n",
            "219/219 [==============================] - 2s 7ms/step - loss: 0.0110 - val_loss: 0.0110\n",
            "Epoch 15/20\n",
            "219/219 [==============================] - 2s 7ms/step - loss: 0.0110 - val_loss: 0.0110\n",
            "Epoch 16/20\n",
            "219/219 [==============================] - 2s 7ms/step - loss: 0.0110 - val_loss: 0.0110\n",
            "Epoch 17/20\n",
            "219/219 [==============================] - 2s 7ms/step - loss: 0.0110 - val_loss: 0.0109\n",
            "Epoch 18/20\n",
            "219/219 [==============================] - 2s 7ms/step - loss: 0.0110 - val_loss: 0.0109\n",
            "Epoch 19/20\n",
            "219/219 [==============================] - 2s 7ms/step - loss: 0.0110 - val_loss: 0.0110\n",
            "Epoch 20/20\n",
            "219/219 [==============================] - 2s 7ms/step - loss: 0.0110 - val_loss: 0.0110\n"
          ],
          "name": "stdout"
        },
        {
          "output_type": "execute_result",
          "data": {
            "text/plain": [
              "<tensorflow.python.keras.callbacks.History at 0x7f05fd1c1090>"
            ]
          },
          "metadata": {
            "tags": []
          },
          "execution_count": 13
        }
      ]
    },
    {
      "cell_type": "code",
      "metadata": {
        "colab": {
          "base_uri": "https://localhost:8080/"
        },
        "id": "8jSM22pXlUyi",
        "outputId": "08965a21-243c-40f9-eb24-b466e539b7a3"
      },
      "source": [
        "model.evaluate(X_valid, y_valid)"
      ],
      "execution_count": 14,
      "outputs": [
        {
          "output_type": "stream",
          "text": [
            "63/63 [==============================] - 0s 3ms/step - loss: 0.0110\n"
          ],
          "name": "stdout"
        },
        {
          "output_type": "execute_result",
          "data": {
            "text/plain": [
              "0.010972266085445881"
            ]
          },
          "metadata": {
            "tags": []
          },
          "execution_count": 14
        }
      ]
    },
    {
      "cell_type": "code",
      "metadata": {
        "colab": {
          "base_uri": "https://localhost:8080/",
          "height": 288
        },
        "id": "LEHPqFoclV3H",
        "outputId": "ba39ea40-4666-40ec-e724-0a5e88645ab8"
      },
      "source": [
        "y_pred = model.predict(X_valid)\n",
        "plot_series(X_valid[1, :, 0], y_valid[1, 0], y_pred[1, 0]) # plot value for 1st time series"
      ],
      "execution_count": 15,
      "outputs": [
        {
          "output_type": "display_data",
          "data": {
            "image/png": "[encoded data removed]",
            "text/plain": [
              "<Figure size 432x288 with 1 Axes>"
            ]
          },
          "metadata": {
            "tags": [],
            "needs_background": "light"
          }
        }
      ]
    },
    {
      "cell_type": "code",
      "metadata": {
        "colab": {
          "base_uri": "https://localhost:8080/"
        },
        "id": "qeOtY7PBl6Ef",
        "outputId": "711d31ff-a50c-4d69-b76b-24e9af0e0273"
      },
      "source": [
        "X_valid[0,:,0].shape"
      ],
      "execution_count": 16,
      "outputs": [
        {
          "output_type": "execute_result",
          "data": {
            "text/plain": [
              "(50,)"
            ]
          },
          "metadata": {
            "tags": []
          },
          "execution_count": 16
        }
      ]
    },
    {
      "cell_type": "markdown",
      "metadata": {
        "id": "w8tuemxdoksi"
      },
      "source": [
        "## Other models, Trends and Seasonality \n",
        "\n",
        "1. Weighted moving averages\n",
        "2. Autoregressive integrated Moving Average (ARIMA)\n",
        "\n",
        "Both of these models require that you remove the trend and seasonality. For example, if a product sales increases every month then you would remove this trend. Similiarly, if sales tend to increase during summer then you would remove this by computing the difference from the year before - called *differencing*. \n",
        "\n",
        "Once the model is trained you would add the trends and seasonality back into the predictions to obtain final predictions. \n",
        "\n",
        "For RNNs, it may not be neccessary to compute this but it may improve performance, as trends and seasonality does not need to be learned.\n"
      ]
    },
    {
      "cell_type": "markdown",
      "metadata": {
        "id": "lB_sPko1qQG6"
      },
      "source": [
        "## Deep RNNs\n",
        "\n",
        "As we saw earlier, a single layer RNN with a single neuron unit did not do much better when compared against the linear model. Lets try a deep RNNs. \n",
        "\n",
        "Remeber to specify `return_sequences = True`, as this will tell the RNN layer to output a 3D array (containing outputs from all time steps). Otherwise, the output will be a 2D vector (containing an output from just the last time step)."
      ]
    },
    {
      "cell_type": "code",
      "metadata": {
        "id": "kX9582MDqdeU",
        "colab": {
          "base_uri": "https://localhost:8080/"
        },
        "outputId": "ed8228f7-b53f-4a92-bffd-9f8f5d8f5a7c"
      },
      "source": [
        "model = keras.models.Sequential([\n",
        "    keras.layers.SimpleRNN(20, return_sequences=True, input_shape=[None, 1]),\n",
        "    keras.layers.SimpleRNN(20, return_sequences=True),\n",
        "    keras.layers.SimpleRNN(1) # this is not ideal!\n",
        "])\n",
        "optimizer = keras.optimizers.Adam(learning_rate=0.005)\n",
        "model.compile(loss='mse', optimizer=optimizer)\n",
        "model.fit(X_train, y_train, epochs=20, validation_data=(X_valid, y_valid))"
      ],
      "execution_count": 17,
      "outputs": [
        {
          "output_type": "stream",
          "text": [
            "Epoch 1/20\n",
            "219/219 [==============================] - 8s 27ms/step - loss: 0.0268 - val_loss: 0.0095\n",
            "Epoch 2/20\n",
            "219/219 [==============================] - 5s 25ms/step - loss: 0.0068 - val_loss: 0.0060\n",
            "Epoch 3/20\n",
            "219/219 [==============================] - 5s 24ms/step - loss: 0.0056 - val_loss: 0.0063\n",
            "Epoch 4/20\n",
            "219/219 [==============================] - 6s 25ms/step - loss: 0.0049 - val_loss: 0.0050\n",
            "Epoch 5/20\n",
            "219/219 [==============================] - 6s 25ms/step - loss: 0.0044 - val_loss: 0.0043\n",
            "Epoch 6/20\n",
            "219/219 [==============================] - 6s 26ms/step - loss: 0.0040 - val_loss: 0.0054\n",
            "Epoch 7/20\n",
            "219/219 [==============================] - 6s 25ms/step - loss: 0.0038 - val_loss: 0.0035\n",
            "Epoch 8/20\n",
            "219/219 [==============================] - 6s 25ms/step - loss: 0.0036 - val_loss: 0.0037\n",
            "Epoch 9/20\n",
            "219/219 [==============================] - 5s 25ms/step - loss: 0.0034 - val_loss: 0.0033\n",
            "Epoch 10/20\n",
            "219/219 [==============================] - 6s 25ms/step - loss: 0.0035 - val_loss: 0.0031\n",
            "Epoch 11/20\n",
            "219/219 [==============================] - 6s 25ms/step - loss: 0.0033 - val_loss: 0.0031\n",
            "Epoch 12/20\n",
            "219/219 [==============================] - 5s 25ms/step - loss: 0.0033 - val_loss: 0.0033\n",
            "Epoch 13/20\n",
            "219/219 [==============================] - 6s 25ms/step - loss: 0.0032 - val_loss: 0.0031\n",
            "Epoch 14/20\n",
            "219/219 [==============================] - 5s 25ms/step - loss: 0.0033 - val_loss: 0.0030\n",
            "Epoch 15/20\n",
            "219/219 [==============================] - 5s 25ms/step - loss: 0.0031 - val_loss: 0.0031\n",
            "Epoch 16/20\n",
            "219/219 [==============================] - 6s 25ms/step - loss: 0.0032 - val_loss: 0.0035\n",
            "Epoch 17/20\n",
            "219/219 [==============================] - 5s 25ms/step - loss: 0.0032 - val_loss: 0.0046\n",
            "Epoch 18/20\n",
            "219/219 [==============================] - 6s 25ms/step - loss: 0.0032 - val_loss: 0.0030\n",
            "Epoch 19/20\n",
            "219/219 [==============================] - 6s 26ms/step - loss: 0.0032 - val_loss: 0.0038\n",
            "Epoch 20/20\n",
            "219/219 [==============================] - 5s 25ms/step - loss: 0.0032 - val_loss: 0.0032\n"
          ],
          "name": "stdout"
        },
        {
          "output_type": "execute_result",
          "data": {
            "text/plain": [
              "<tensorflow.python.keras.callbacks.History at 0x7f05fc6140d0>"
            ]
          },
          "metadata": {
            "tags": []
          },
          "execution_count": 17
        }
      ]
    },
    {
      "cell_type": "code",
      "metadata": {
        "colab": {
          "base_uri": "https://localhost:8080/"
        },
        "id": "6VHPPXFyfSP-",
        "outputId": "da2762b3-8c72-4879-c9b2-57356888aa62"
      },
      "source": [
        "model.evaluate(X_valid, y_valid)"
      ],
      "execution_count": 18,
      "outputs": [
        {
          "output_type": "stream",
          "text": [
            "63/63 [==============================] - 0s 7ms/step - loss: 0.0032\n"
          ],
          "name": "stdout"
        },
        {
          "output_type": "execute_result",
          "data": {
            "text/plain": [
              "0.0032039079815149307"
            ]
          },
          "metadata": {
            "tags": []
          },
          "execution_count": 18
        }
      ]
    },
    {
      "cell_type": "code",
      "metadata": {
        "colab": {
          "base_uri": "https://localhost:8080/",
          "height": 288
        },
        "id": "-smlBg-YiYVT",
        "outputId": "0239f5af-60b3-4602-9f78-f4fdf61abe5c"
      },
      "source": [
        "y_pred = model.predict(X_valid)\n",
        "plot_series(X_valid[1, :, 0], y_valid[1, 0], y_pred[1, 0])"
      ],
      "execution_count": 19,
      "outputs": [
        {
          "output_type": "display_data",
          "data": {
            "image/png": "[encoded data removed]",
            "text/plain": [
              "<Figure size 432x288 with 1 Axes>"
            ]
          },
          "metadata": {
            "tags": [],
            "needs_background": "light"
          }
        }
      ]
    },
    {
      "cell_type": "markdown",
      "metadata": {
        "id": "yWQ3pECxgYlH"
      },
      "source": [
        "This beats the linear model by a good margin. \n",
        "\n",
        "However, we should understand that the last layer can be improved if we use a `Dense` layer instead. This is because the 1 recurrent neuron is not that useful and will probably only use information from previous layers. Also we cannot use other activation functions. "
      ]
    },
    {
      "cell_type": "code",
      "metadata": {
        "colab": {
          "base_uri": "https://localhost:8080/"
        },
        "id": "mUvwye5zfSIh",
        "outputId": "98811b11-2214-4453-e2fe-3164a49d4d07"
      },
      "source": [
        "# using a dense layer\n",
        "model = keras.models.Sequential([\n",
        "    keras.layers.SimpleRNN(20, return_sequences=True, input_shape=[None, 1]),\n",
        "    keras.layers.SimpleRNN(20),\n",
        "    keras.layers.Dense(1) # we are only changing the last layer\n",
        "])\n",
        "optimizer = keras.optimizers.Adam(learning_rate=0.005)\n",
        "model.compile(loss='mse', optimizer=optimizer)\n",
        "model.fit(X_train, y_train, epochs=20, validation_data=(X_valid, y_valid))"
      ],
      "execution_count": 20,
      "outputs": [
        {
          "output_type": "stream",
          "text": [
            "Epoch 1/20\n",
            "219/219 [==============================] - 5s 19ms/step - loss: 0.0116 - val_loss: 0.0037\n",
            "Epoch 2/20\n",
            "219/219 [==============================] - 4s 18ms/step - loss: 0.0037 - val_loss: 0.0038\n",
            "Epoch 3/20\n",
            "219/219 [==============================] - 4s 18ms/step - loss: 0.0035 - val_loss: 0.0035\n",
            "Epoch 4/20\n",
            "219/219 [==============================] - 4s 18ms/step - loss: 0.0032 - val_loss: 0.0032\n",
            "Epoch 5/20\n",
            "219/219 [==============================] - 4s 18ms/step - loss: 0.0033 - val_loss: 0.0037\n",
            "Epoch 6/20\n",
            "219/219 [==============================] - 4s 17ms/step - loss: 0.0033 - val_loss: 0.0039\n",
            "Epoch 7/20\n",
            "219/219 [==============================] - 4s 18ms/step - loss: 0.0034 - val_loss: 0.0035\n",
            "Epoch 8/20\n",
            "219/219 [==============================] - 4s 18ms/step - loss: 0.0032 - val_loss: 0.0032\n",
            "Epoch 9/20\n",
            "219/219 [==============================] - 4s 18ms/step - loss: 0.0031 - val_loss: 0.0032\n",
            "Epoch 10/20\n",
            "219/219 [==============================] - 4s 17ms/step - loss: 0.0031 - val_loss: 0.0034\n",
            "Epoch 11/20\n",
            "219/219 [==============================] - 4s 18ms/step - loss: 0.0032 - val_loss: 0.0033\n",
            "Epoch 12/20\n",
            "219/219 [==============================] - 4s 18ms/step - loss: 0.0031 - val_loss: 0.0030\n",
            "Epoch 13/20\n",
            "219/219 [==============================] - 4s 18ms/step - loss: 0.0031 - val_loss: 0.0029\n",
            "Epoch 14/20\n",
            "219/219 [==============================] - 4s 17ms/step - loss: 0.0033 - val_loss: 0.0035\n",
            "Epoch 15/20\n",
            "219/219 [==============================] - 4s 18ms/step - loss: 0.0031 - val_loss: 0.0030\n",
            "Epoch 16/20\n",
            "219/219 [==============================] - 4s 17ms/step - loss: 0.0032 - val_loss: 0.0032\n",
            "Epoch 17/20\n",
            "219/219 [==============================] - 4s 18ms/step - loss: 0.0032 - val_loss: 0.0030\n",
            "Epoch 18/20\n",
            "219/219 [==============================] - 4s 18ms/step - loss: 0.0031 - val_loss: 0.0031\n",
            "Epoch 19/20\n",
            "219/219 [==============================] - 4s 18ms/step - loss: 0.0036 - val_loss: 0.0036\n",
            "Epoch 20/20\n",
            "219/219 [==============================] - 4s 18ms/step - loss: 0.0035 - val_loss: 0.0032\n"
          ],
          "name": "stdout"
        },
        {
          "output_type": "execute_result",
          "data": {
            "text/plain": [
              "<tensorflow.python.keras.callbacks.History at 0x7f05f8a21050>"
            ]
          },
          "metadata": {
            "tags": []
          },
          "execution_count": 20
        }
      ]
    },
    {
      "cell_type": "code",
      "metadata": {
        "colab": {
          "base_uri": "https://localhost:8080/"
        },
        "id": "6MAmu6OWfSGB",
        "outputId": "2c5e228d-582e-4ed6-e72e-2feb3d427df8"
      },
      "source": [
        "model.evaluate(X_valid, y_valid)"
      ],
      "execution_count": 21,
      "outputs": [
        {
          "output_type": "stream",
          "text": [
            "63/63 [==============================] - 0s 5ms/step - loss: 0.0032\n"
          ],
          "name": "stdout"
        },
        {
          "output_type": "execute_result",
          "data": {
            "text/plain": [
              "0.003238341072574258"
            ]
          },
          "metadata": {
            "tags": []
          },
          "execution_count": 21
        }
      ]
    },
    {
      "cell_type": "code",
      "metadata": {
        "colab": {
          "base_uri": "https://localhost:8080/",
          "height": 288
        },
        "id": "RZGCuERVfR_5",
        "outputId": "6615b6b1-a777-4ea2-a3f2-1d58f98390b6"
      },
      "source": [
        "y_pred = model.predict(X_valid)\n",
        "plot_series(X_valid[1, :, 0], y_valid[1, 0], y_pred[1, 0])"
      ],
      "execution_count": 22,
      "outputs": [
        {
          "output_type": "display_data",
          "data": {
            "image/png": "[encoded data removed]",
            "text/plain": [
              "<Figure size 432x288 with 1 Axes>"
            ]
          },
          "metadata": {
            "tags": [],
            "needs_background": "light"
          }
        }
      ]
    },
    {
      "cell_type": "markdown",
      "metadata": {
        "id": "ObEjIYdtjvh5"
      },
      "source": [
        "This model was marginally better than, both, the SimpleRNN and linear models. "
      ]
    },
    {
      "cell_type": "markdown",
      "metadata": {
        "id": "sTBhUFGHlcPv"
      },
      "source": [
        "### Predicting 10 time steps ahead"
      ]
    },
    {
      "cell_type": "markdown",
      "metadata": {
        "id": "CvOSjMWYkShP"
      },
      "source": [
        "As you can see predicting a single value 1 time step ahead is relatively easy to do. What if we wanted to predict several time steps ahead?\n",
        "\n",
        "One way could be to predict the next value and then add that value back into the 'training' set so you can then predict the next value after that. This is not the best method since errors can accumulate, typically growing larger after the first time step prediction. \n",
        "\n",
        "#### Individual predictions "
      ]
    },
    {
      "cell_type": "code",
      "metadata": {
        "id": "t03zlYlOlf5k"
      },
      "source": [
        "# generate fake data that add the prediction onto the \n",
        "np.random.seed(4)\n",
        "\n",
        "series = generate_time_series(1, n_steps + 10)\n",
        "X_new, Y_new = series[:, :n_steps], series[:, n_steps:]\n",
        "X = X_new\n",
        "for step_ahead in range(10):\n",
        "    y_pred_one = model.predict(X[:, step_ahead:])[:, np.newaxis, :]\n",
        "    X = np.concatenate([X, y_pred_one], axis=1)\n",
        "\n",
        "Y_pred = X[:, n_steps:]"
      ],
      "execution_count": 23,
      "outputs": []
    },
    {
      "cell_type": "code",
      "metadata": {
        "colab": {
          "base_uri": "https://localhost:8080/",
          "height": 288
        },
        "id": "6PPMXQ36lfzS",
        "outputId": "80c975be-33fd-4ebd-a1be-82bb727cdbde"
      },
      "source": [
        "def plot_multiple_forecasts(X, Y, Y_pred):\n",
        "    n_steps = X.shape[1]\n",
        "    ahead = Y.shape[1]\n",
        "    plot_series(X[0, :, 0])\n",
        "    plt.plot(np.arange(n_steps, n_steps + ahead), Y[0, :, 0], \"ro-\", label=\"Actual\")\n",
        "    plt.plot(np.arange(n_steps, n_steps + ahead), Y_pred[0, :, 0], \"bx-\", label=\"Forecast\", markersize=10)\n",
        "    plt.axis([0, n_steps + ahead, -1, 1])\n",
        "    plt.legend(fontsize=14)\n",
        "\n",
        "plot_multiple_forecasts(X_new, Y_new, Y_pred)"
      ],
      "execution_count": 24,
      "outputs": [
        {
          "output_type": "display_data",
          "data": {
            "image/png": "[encoded data removed]",
            "text/plain": [
              "<Figure size 432x288 with 1 Axes>"
            ]
          },
          "metadata": {
            "tags": [],
            "needs_background": "light"
          }
        }
      ]
    },
    {
      "cell_type": "markdown",
      "metadata": {
        "id": "ERG8o_MXm0Fu"
      },
      "source": [
        "#### Multiple predictions\n",
        "\n",
        "There are quite a few ways to approach predicting the next $x$ number of  this:\n",
        "\n",
        "1. Predict the next $x$ steps by changing the target value to include those steps and forecasting the next 10 steps based on the very last step only. For example, if we wanted to predict the next 10 values then we would insert the next 10 values into the target and changing the model output to have 10 outputs instead of 1. \n",
        "\n",
        "Making the model a **Sequence to Vector** model. \n",
        "\n",
        "2. Another way is training the model is to predict the next steps 10 at each and every time step. For example, train the model on 0 to 9, then predict 1 to 10. Then train again for 1 to 10 and predict 2 to 11 etc. This will allow more gradients flowing through the model because a loss will calculated at every time step. Using this approach will stablise and speed up training. \n",
        "\n",
        "Making the model a **Sequence to Sequence** model. Each input sequence is the same length as the target sequence.\n",
        "\n",
        "Note. The model is NOT cheating (i.e. data leakage), even though it learns using the data from the targets its trying to predict. The model is considered a **Casual model** and it only knows the targets for the past time steps and cannot look ahead!\n",
        "\n"
      ]
    },
    {
      "cell_type": "code",
      "metadata": {
        "id": "1YjfVrAhm9PM"
      },
      "source": [
        "# generate time series where the target contains the next 10 values\n",
        "\n",
        "np.random.seed(42)\n",
        "\n",
        "n_steps = 50\n",
        "series = generate_time_series(10000, n_steps + 10)\n",
        "X_train = series[:7000, :n_steps]\n",
        "X_valid = series[7000:9000, :n_steps]\n",
        "X_test = series[9000:, :n_steps]\n",
        "Y = np.empty((10000, n_steps, 10))\n",
        "for step_ahead in range(1, 10 + 1):\n",
        "    Y[..., step_ahead - 1] = series[..., step_ahead:step_ahead + n_steps, 0]\n",
        "Y_train = Y[:7000]\n",
        "Y_valid = Y[7000:9000]\n",
        "Y_test = Y[9000:]"
      ],
      "execution_count": 25,
      "outputs": []
    },
    {
      "cell_type": "code",
      "metadata": {
        "colab": {
          "base_uri": "https://localhost:8080/"
        },
        "id": "GrHWlWv-zp_z",
        "outputId": "468ca211-18a4-4719-a9f4-4890b9ea380b"
      },
      "source": [
        "Y_train[0, 0] # shape (10,), which are the 10 steps ahead"
      ],
      "execution_count": 26,
      "outputs": [
        {
          "output_type": "execute_result",
          "data": {
            "text/plain": [
              "array([ 0.33874455,  0.18980233,  0.00611999, -0.19590542, -0.38614848,\n",
              "       -0.54409838, -0.62904716, -0.66339582, -0.65724516, -0.51447874])"
            ]
          },
          "metadata": {
            "tags": []
          },
          "execution_count": 26
        }
      ]
    },
    {
      "cell_type": "code",
      "metadata": {
        "colab": {
          "base_uri": "https://localhost:8080/"
        },
        "id": "3B3voHSLlfwY",
        "outputId": "0ec48b18-156d-47ca-b9af-3c743afb6560"
      },
      "source": [
        "# Use TimeDistributed - applies Dense layer at every time step\n",
        "model = keras.models.Sequential([\n",
        "    keras.layers.SimpleRNN(20, return_sequences=True, input_shape=[None, 1]),\n",
        "    keras.layers.SimpleRNN(20, return_sequences=True), # change to True to make into a s-to-s model\n",
        "    keras.layers.TimeDistributed(keras.layers.Dense(10)) # we are only changing the units on last layer\n",
        "])\n",
        "\n",
        "# we only care about the last value's mse not the rest\n",
        "def last_time_step_mse(Y_true, Y_pred):\n",
        "    return keras.metrics.mean_squared_error(Y_true[:, -1], Y_pred[:, -1])\n",
        "\n",
        "\n",
        "optimizer = keras.optimizers.Adam(learning_rate=0.005)\n",
        "model.compile(loss='mse', optimizer=optimizer, metrics=[last_time_step_mse])\n",
        "model.fit(X_train, Y_train, epochs=20, validation_data=(X_valid, Y_valid))"
      ],
      "execution_count": 27,
      "outputs": [
        {
          "output_type": "stream",
          "text": [
            "Epoch 1/20\n",
            "219/219 [==============================] - 6s 19ms/step - loss: 0.0534 - last_time_step_mse: 0.0419 - val_loss: 0.0438 - val_last_time_step_mse: 0.0311\n",
            "Epoch 2/20\n",
            "219/219 [==============================] - 4s 18ms/step - loss: 0.0432 - last_time_step_mse: 0.0311 - val_loss: 0.0409 - val_last_time_step_mse: 0.0290\n",
            "Epoch 3/20\n",
            "219/219 [==============================] - 4s 18ms/step - loss: 0.0375 - last_time_step_mse: 0.0244 - val_loss: 0.0351 - val_last_time_step_mse: 0.0212\n",
            "Epoch 4/20\n",
            "219/219 [==============================] - 4s 18ms/step - loss: 0.0335 - last_time_step_mse: 0.0207 - val_loss: 0.0302 - val_last_time_step_mse: 0.0173\n",
            "Epoch 5/20\n",
            "219/219 [==============================] - 4s 18ms/step - loss: 0.0298 - last_time_step_mse: 0.0169 - val_loss: 0.0293 - val_last_time_step_mse: 0.0167\n",
            "Epoch 6/20\n",
            "219/219 [==============================] - 4s 18ms/step - loss: 0.0286 - last_time_step_mse: 0.0158 - val_loss: 0.0274 - val_last_time_step_mse: 0.0148\n",
            "Epoch 7/20\n",
            "219/219 [==============================] - 4s 19ms/step - loss: 0.0268 - last_time_step_mse: 0.0140 - val_loss: 0.0249 - val_last_time_step_mse: 0.0117\n",
            "Epoch 8/20\n",
            "219/219 [==============================] - 4s 18ms/step - loss: 0.0251 - last_time_step_mse: 0.0124 - val_loss: 0.0241 - val_last_time_step_mse: 0.0115\n",
            "Epoch 9/20\n",
            "219/219 [==============================] - 4s 18ms/step - loss: 0.0237 - last_time_step_mse: 0.0107 - val_loss: 0.0227 - val_last_time_step_mse: 0.0096\n",
            "Epoch 10/20\n",
            "219/219 [==============================] - 4s 19ms/step - loss: 0.0225 - last_time_step_mse: 0.0095 - val_loss: 0.0214 - val_last_time_step_mse: 0.0081\n",
            "Epoch 11/20\n",
            "219/219 [==============================] - 4s 20ms/step - loss: 0.0212 - last_time_step_mse: 0.0080 - val_loss: 0.0203 - val_last_time_step_mse: 0.0067\n",
            "Epoch 12/20\n",
            "219/219 [==============================] - 4s 20ms/step - loss: 0.0207 - last_time_step_mse: 0.0075 - val_loss: 0.0197 - val_last_time_step_mse: 0.0063\n",
            "Epoch 13/20\n",
            "219/219 [==============================] - 4s 18ms/step - loss: 0.0203 - last_time_step_mse: 0.0072 - val_loss: 0.0196 - val_last_time_step_mse: 0.0066\n",
            "Epoch 14/20\n",
            "219/219 [==============================] - 4s 18ms/step - loss: 0.0198 - last_time_step_mse: 0.0068 - val_loss: 0.0200 - val_last_time_step_mse: 0.0081\n",
            "Epoch 15/20\n",
            "219/219 [==============================] - 4s 18ms/step - loss: 0.0196 - last_time_step_mse: 0.0068 - val_loss: 0.0190 - val_last_time_step_mse: 0.0065\n",
            "Epoch 16/20\n",
            "219/219 [==============================] - 4s 18ms/step - loss: 0.0192 - last_time_step_mse: 0.0064 - val_loss: 0.0192 - val_last_time_step_mse: 0.0065\n",
            "Epoch 17/20\n",
            "219/219 [==============================] - 4s 18ms/step - loss: 0.0191 - last_time_step_mse: 0.0065 - val_loss: 0.0186 - val_last_time_step_mse: 0.0059\n",
            "Epoch 18/20\n",
            "219/219 [==============================] - 4s 19ms/step - loss: 0.0189 - last_time_step_mse: 0.0063 - val_loss: 0.0194 - val_last_time_step_mse: 0.0072\n",
            "Epoch 19/20\n",
            "219/219 [==============================] - 4s 19ms/step - loss: 0.0186 - last_time_step_mse: 0.0062 - val_loss: 0.0185 - val_last_time_step_mse: 0.0059\n",
            "Epoch 20/20\n",
            "219/219 [==============================] - 4s 18ms/step - loss: 0.0185 - last_time_step_mse: 0.0062 - val_loss: 0.0179 - val_last_time_step_mse: 0.0054\n"
          ],
          "name": "stdout"
        },
        {
          "output_type": "execute_result",
          "data": {
            "text/plain": [
              "<tensorflow.python.keras.callbacks.History at 0x7f05f6c00050>"
            ]
          },
          "metadata": {
            "tags": []
          },
          "execution_count": 27
        }
      ]
    },
    {
      "cell_type": "code",
      "metadata": {
        "colab": {
          "base_uri": "https://localhost:8080/"
        },
        "id": "1-oL8TUU0W_C",
        "outputId": "4a4a563b-1cb6-426c-bd42-f60afc3bf334"
      },
      "source": [
        "model.evaluate(X_valid, Y_valid)"
      ],
      "execution_count": 28,
      "outputs": [
        {
          "output_type": "stream",
          "text": [
            "63/63 [==============================] - 0s 5ms/step - loss: 0.0179 - last_time_step_mse: 0.0054\n"
          ],
          "name": "stdout"
        },
        {
          "output_type": "execute_result",
          "data": {
            "text/plain": [
              "[0.017897022888064384, 0.005372166633605957]"
            ]
          },
          "metadata": {
            "tags": []
          },
          "execution_count": 28
        }
      ]
    },
    {
      "cell_type": "code",
      "metadata": {
        "colab": {
          "base_uri": "https://localhost:8080/",
          "height": 288
        },
        "id": "mENAx9NW0Quz",
        "outputId": "f1865008-a1ec-4a49-eb40-6471e7bc5d9c"
      },
      "source": [
        "np.random.seed(43)\n",
        "\n",
        "series = generate_time_series(1, 50 + 10)\n",
        "X_new, Y_new = series[:, :50, :], series[:, 50:, :]\n",
        "Y_pred = model.predict(X_new)[:, -1][..., np.newaxis]\n",
        "\n",
        "plot_multiple_forecasts(X_new, Y_new, Y_pred)\n",
        "plt.show()"
      ],
      "execution_count": 29,
      "outputs": [
        {
          "output_type": "display_data",
          "data": {
            "image/png": "[encoded data removed]",
            "text/plain": [
              "<Figure size 432x288 with 1 Axes>"
            ]
          },
          "metadata": {
            "tags": [],
            "needs_background": "light"
          }
        }
      ]
    },
    {
      "cell_type": "markdown",
      "metadata": {
        "id": "jSeHruhz2l4Y"
      },
      "source": [
        "The Sequence to Sequence model is much better when compared to the Sequence to Vector model. \n",
        "\n",
        "This approach will work okay for short sequences but handling long sequences can be a challenge because of Short Term memory or Unstable gradient problems observed with RNNs."
      ]
    },
    {
      "cell_type": "markdown",
      "metadata": {
        "id": "meKLvrBzI_Am"
      },
      "source": [
        "## Handling Long Sequences\n",
        "\n",
        "Unlike the short sequences we have seen, above, long sequences over many time steps makes unrolled RNNs a very deep network. As with other deep networks, it will suffer from unstable gradients - vanishing gradients. Furthermore, it will forget the first inputs in the sequence. \n",
        "\n",
        "### Unstable Gradient Problem\n",
        "The problem of gradients growing larger and larger or vanishing completely is observed with other deep neural networks. Therefore, common solutions are: good parameter initialization, dropout, faster optimization and so on. \n",
        "\n",
        "But wait! Non-saturating activation functions won't help us! This is because during gradient descent weights are updated after every time step, which will gradually increase. To clarify the difference between the saturated and nonsaturated:\n",
        "\n",
        "- **Non-saturating activation functions:** Where $\\lim_{z \\rightarrow \\infty} f(z) = + \\infty$, as $z$ increases $f(z)$ increases towards infinity. For example, ReLU and its variants.\n",
        "- **Saturating activation functions:** have a limit, such as sigmoid $[0, 1]$ or tanh $[-1, +1]$. \n",
        "\n",
        "The unstable gradient problems tend to be even worse when activation functions are non-saturated such as ReLU - which is why tanh is the default in `keras`.\n",
        "\n",
        "<br> \n",
        "#### What about what `Batch Normalization`?\n",
        "\n",
        "`BatchNormalization` work well with feedforward networks but not as efficiently for RNNs - however, it will improve the model but not by much. This is because BN's cannot be used between time steps and only between RNN layers. Researchers also found that applying BN between neurons (with the same same parameters) did not yield better results.\n",
        "\n",
        "### Layer Normalization\n",
        "\n",
        "Another approach is required. Layer normalization is applied across features dimensions. It has the advantage of calculating the required statistics on the fly at each time step. Making it behave the same way during training and testing. \n",
        "\n",
        "\n"
      ]
    },
    {
      "cell_type": "code",
      "metadata": {
        "id": "Qc8rV1wrkRxZ"
      },
      "source": [
        "# create RNN class that has LayerNormalization\n",
        "\n",
        "class LNSimpleRNNCell(keras.layers.Layer):\n",
        "  \"\"\"\n",
        "  Simple RNN cell with layer normalization.\n",
        "  \"\"\"\n",
        "  def __init__(self, units, activation='tanh', **kwargs):\n",
        "    super().__init__(**kwargs)\n",
        "    self.state_size = units\n",
        "    self.output_size = units\n",
        "    self.simple_rnn_cell = keras.layers.SimpleRNNCell(units, activation=None)\n",
        "    self.layer_norm = keras.layers.LayerNormalization()\n",
        "    self.activation = keras.activations.get(activation)\n",
        "  \n",
        "  def call(self, inputs, states):\n",
        "    outputs, _ = self.simple_rnn_cell(inputs, states) # RNN cells return 2 values\n",
        "    norm_outputs = self.activation(self.layer_norm(outputs))\n",
        "    return norm_outputs, [norm_outputs]\n"
      ],
      "execution_count": 30,
      "outputs": []
    },
    {
      "cell_type": "code",
      "metadata": {
        "colab": {
          "base_uri": "https://localhost:8080/"
        },
        "id": "W23U1iQIHkPh",
        "outputId": "806efcb9-ab57-4f10-bd67-b5fd6281cecf"
      },
      "source": [
        "np.random.seed(42)\n",
        "tf.random.set_seed(42)\n",
        "\n",
        "model = keras.models.Sequential([\n",
        "    keras.layers.RNN(LNSimpleRNNCell(20), return_sequences=True,\n",
        "                     input_shape=[None, 1]),\n",
        "    keras.layers.RNN(LNSimpleRNNCell(20), return_sequences=True),\n",
        "    keras.layers.TimeDistributed(keras.layers.Dense(10))\n",
        "])\n",
        "\n",
        "model.compile(loss=\"mse\", optimizer=\"adam\", metrics=[last_time_step_mse])\n",
        "history = model.fit(X_train, Y_train, epochs=20,\n",
        "                    validation_data=(X_valid, Y_valid))"
      ],
      "execution_count": 31,
      "outputs": [
        {
          "output_type": "stream",
          "text": [
            "Epoch 1/20\n",
            "219/219 [==============================] - 11s 41ms/step - loss: 0.1561 - last_time_step_mse: 0.1497 - val_loss: 0.0714 - val_last_time_step_mse: 0.0572\n",
            "Epoch 2/20\n",
            "219/219 [==============================] - 9s 40ms/step - loss: 0.0627 - last_time_step_mse: 0.0497 - val_loss: 0.0562 - val_last_time_step_mse: 0.0426\n",
            "Epoch 3/20\n",
            "219/219 [==============================] - 9s 39ms/step - loss: 0.0540 - last_time_step_mse: 0.0396 - val_loss: 0.0498 - val_last_time_step_mse: 0.0354\n",
            "Epoch 4/20\n",
            "219/219 [==============================] - 8s 39ms/step - loss: 0.0481 - last_time_step_mse: 0.0330 - val_loss: 0.0449 - val_last_time_step_mse: 0.0298\n",
            "Epoch 5/20\n",
            "219/219 [==============================] - 8s 39ms/step - loss: 0.0445 - last_time_step_mse: 0.0300 - val_loss: 0.0418 - val_last_time_step_mse: 0.0270\n",
            "Epoch 6/20\n",
            "219/219 [==============================] - 8s 38ms/step - loss: 0.0408 - last_time_step_mse: 0.0262 - val_loss: 0.0385 - val_last_time_step_mse: 0.0233\n",
            "Epoch 7/20\n",
            "219/219 [==============================] - 9s 39ms/step - loss: 0.0414 - last_time_step_mse: 0.0276 - val_loss: 0.0392 - val_last_time_step_mse: 0.0259\n",
            "Epoch 8/20\n",
            "219/219 [==============================] - 9s 40ms/step - loss: 0.0366 - last_time_step_mse: 0.0228 - val_loss: 0.0345 - val_last_time_step_mse: 0.0198\n",
            "Epoch 9/20\n",
            "219/219 [==============================] - 9s 40ms/step - loss: 0.0346 - last_time_step_mse: 0.0200 - val_loss: 0.0334 - val_last_time_step_mse: 0.0190\n",
            "Epoch 10/20\n",
            "219/219 [==============================] - 8s 39ms/step - loss: 0.0328 - last_time_step_mse: 0.0186 - val_loss: 0.0333 - val_last_time_step_mse: 0.0193\n",
            "Epoch 11/20\n",
            "219/219 [==============================] - 8s 38ms/step - loss: 0.0325 - last_time_step_mse: 0.0181 - val_loss: 0.0311 - val_last_time_step_mse: 0.0171\n",
            "Epoch 12/20\n",
            "219/219 [==============================] - 8s 39ms/step - loss: 0.0317 - last_time_step_mse: 0.0180 - val_loss: 0.0342 - val_last_time_step_mse: 0.0222\n",
            "Epoch 13/20\n",
            "219/219 [==============================] - 9s 39ms/step - loss: 0.0362 - last_time_step_mse: 0.0244 - val_loss: 0.0309 - val_last_time_step_mse: 0.0178\n",
            "Epoch 14/20\n",
            "219/219 [==============================] - 9s 39ms/step - loss: 0.0312 - last_time_step_mse: 0.0180 - val_loss: 0.0298 - val_last_time_step_mse: 0.0169\n",
            "Epoch 15/20\n",
            "219/219 [==============================] - 9s 39ms/step - loss: 0.0301 - last_time_step_mse: 0.0170 - val_loss: 0.0296 - val_last_time_step_mse: 0.0166\n",
            "Epoch 16/20\n",
            "219/219 [==============================] - 9s 40ms/step - loss: 0.0315 - last_time_step_mse: 0.0187 - val_loss: 0.0297 - val_last_time_step_mse: 0.0166\n",
            "Epoch 17/20\n",
            "219/219 [==============================] - 9s 39ms/step - loss: 0.0296 - last_time_step_mse: 0.0162 - val_loss: 0.0290 - val_last_time_step_mse: 0.0152\n",
            "Epoch 18/20\n",
            "219/219 [==============================] - 8s 39ms/step - loss: 0.0301 - last_time_step_mse: 0.0168 - val_loss: 0.0293 - val_last_time_step_mse: 0.0162\n",
            "Epoch 19/20\n",
            "219/219 [==============================] - 8s 39ms/step - loss: 0.0307 - last_time_step_mse: 0.0183 - val_loss: 0.0287 - val_last_time_step_mse: 0.0157\n",
            "Epoch 20/20\n",
            "219/219 [==============================] - 9s 39ms/step - loss: 0.0286 - last_time_step_mse: 0.0158 - val_loss: 0.0279 - val_last_time_step_mse: 0.0145\n"
          ],
          "name": "stdout"
        }
      ]
    },
    {
      "cell_type": "markdown",
      "metadata": {
        "id": "lQaPP38Bh3w1"
      },
      "source": [
        "By using Layer Normalization and a dropout rate for the hidden states we can handle unstable gradients. "
      ]
    },
    {
      "cell_type": "markdown",
      "metadata": {
        "id": "j1H7kk58Fyzk"
      },
      "source": [
        "### Short Term Memory Problem \n",
        "\n",
        "As the data progresses through a RNN network, information is lost at every time step. At the end, the network contains no traces of the very first input. For example, imagine a sentence and not being able to recall how it started, this will make the sentence translation very difficult.\n",
        "\n",
        "The solution is Long Short-Term Memory (LTSM) cells. They have proven so successful that they are used instead of the basic cells.\n",
        "\n",
        "### Long Short Term Memory (LSTM)\n",
        "\n",
        "The LSTM cell converges faster and detects long term dependencies in the data. To add this into your network you can use `keras.layers.LSTM` or pass it as an argument into `keras.layers.RNN`*. The benefit of the `LSTM` layer is the additional GPU support. \n",
        "\n",
        "**typically, you would do this to customise the simple RNN layer.*  \n",
        "\n",
        "The **output** of the LSTM are 2 vectors: $h_{(t)}$ and $c_{(t)}$ - which can be thought of a the short and long term states respectively.\n",
        "\n",
        "The architecture of LSTM is complex, it consists of fully connected layers, logistc and tanh activation functions, multiple gates (i.e. forget, input and output) and gate controllers. The network looks similiar to a transistor! It stores information in the long term, decides what to throw away and what to read from it.\n",
        "\n",
        "The output from the fully connected layers are passed to the gates which either removes or adds to the long term state or, more granularly, at each time step both to $h_{(t)}$ and $y_{(t)}$. \n",
        "\n",
        "The responsibility of each gate varies:\n",
        "\n",
        "- **forget gate**: performs element wise multiplication and removes parts of the long term states. It preserves information for as long as it is needed.\n",
        "- **input gate**: performs element wise multiplication and then adds this to the long term memory state. It recognises which inputs are important and inputs into longer term. \n",
        "- **output gate**: controls which parts of the long term states needs to be passed into short term state $h_{(t)}$ and the output $y_{(t)}$. It extracts information from the long term state when it is needed.\n",
        "\n",
        "Concretely, to put this into multiple formulas: \n",
        "\n",
        "$i_{(t)} = \\sigma(W_{xi}^T X_{t} + W_{hi}^T h_{(t-1)} + b_i)$\n",
        "\n",
        "$f_{(t)} = \\sigma(W_{xf}^T X_{t} + W_{hf}^T h_{(t-1)} + b_f)$\n",
        "\n",
        "$o_{(t)} = \\sigma(W_{xo}^T X_{t} + W_{ho}^T h_{(t-1)} + b_o)$\n",
        "\n",
        "$g_{(t)} = \\tanh (W_{xg}^T X_{t} + W_{hg}^T h_{(t-1)} + b_i)$\n",
        "\n",
        "Using the output from the formulae above, we can find the states - $c$ and $h$, as well as the output $y$.\n",
        "\n",
        "$c_{(t)} = f_{(t)} \\otimes c_{(t-1)} + i_{(t)} \\otimes g_{(t)}$\n",
        "\n",
        "$h_{(t)} = o_{(t)} \\otimes \\tanh (c_{(t)})$\n",
        "\n",
        "$W$ are the weight matrices for each of the (4) fully connected layers, $b$ are the biases that are all initialised to 1 which prevents forgetting everything at the beginning of training. "
      ]
    },
    {
      "cell_type": "code",
      "metadata": {
        "id": "Gqrv2OEJJGXN",
        "colab": {
          "base_uri": "https://localhost:8080/"
        },
        "outputId": "14597e75-a902-4695-b19d-61791cc5cd9d"
      },
      "source": [
        "np.random.seed(42)\n",
        "tf.random.set_seed(42)\n",
        "\n",
        "model = keras.models.Sequential([\n",
        "    keras.layers.LSTM(20, return_sequences=True, input_shape=[None, 1]),\n",
        "    keras.layers.LSTM(20, return_sequences=True),\n",
        "    keras.layers.TimeDistributed(keras.layers.Dense(10))\n",
        "])\n",
        "\n",
        "model.compile(loss=\"mse\", optimizer=\"adam\", metrics=[last_time_step_mse])\n",
        "history = model.fit(X_train, Y_train, epochs=20,\n",
        "                    validation_data=(X_valid, Y_valid))"
      ],
      "execution_count": 32,
      "outputs": [
        {
          "output_type": "stream",
          "text": [
            "Epoch 1/20\n",
            "219/219 [==============================] - 13s 42ms/step - loss: 0.0760 - last_time_step_mse: 0.0615 - val_loss: 0.0554 - val_last_time_step_mse: 0.0364\n",
            "Epoch 2/20\n",
            "219/219 [==============================] - 9s 39ms/step - loss: 0.0480 - last_time_step_mse: 0.0283 - val_loss: 0.0427 - val_last_time_step_mse: 0.0222\n",
            "Epoch 3/20\n",
            "219/219 [==============================] - 8s 38ms/step - loss: 0.0391 - last_time_step_mse: 0.0181 - val_loss: 0.0367 - val_last_time_step_mse: 0.0157\n",
            "Epoch 4/20\n",
            "219/219 [==============================] - 8s 38ms/step - loss: 0.0350 - last_time_step_mse: 0.0151 - val_loss: 0.0334 - val_last_time_step_mse: 0.0132\n",
            "Epoch 5/20\n",
            "219/219 [==============================] - 8s 37ms/step - loss: 0.0325 - last_time_step_mse: 0.0133 - val_loss: 0.0314 - val_last_time_step_mse: 0.0121\n",
            "Epoch 6/20\n",
            "219/219 [==============================] - 8s 38ms/step - loss: 0.0308 - last_time_step_mse: 0.0122 - val_loss: 0.0298 - val_last_time_step_mse: 0.0112\n",
            "Epoch 7/20\n",
            "219/219 [==============================] - 8s 37ms/step - loss: 0.0297 - last_time_step_mse: 0.0118 - val_loss: 0.0291 - val_last_time_step_mse: 0.0120\n",
            "Epoch 8/20\n",
            "219/219 [==============================] - 8s 38ms/step - loss: 0.0286 - last_time_step_mse: 0.0109 - val_loss: 0.0278 - val_last_time_step_mse: 0.0099\n",
            "Epoch 9/20\n",
            "219/219 [==============================] - 8s 37ms/step - loss: 0.0280 - last_time_step_mse: 0.0108 - val_loss: 0.0278 - val_last_time_step_mse: 0.0113\n",
            "Epoch 10/20\n",
            "219/219 [==============================] - 8s 38ms/step - loss: 0.0273 - last_time_step_mse: 0.0105 - val_loss: 0.0268 - val_last_time_step_mse: 0.0101\n",
            "Epoch 11/20\n",
            "219/219 [==============================] - 8s 38ms/step - loss: 0.0269 - last_time_step_mse: 0.0102 - val_loss: 0.0263 - val_last_time_step_mse: 0.0096\n",
            "Epoch 12/20\n",
            "219/219 [==============================] - 8s 38ms/step - loss: 0.0264 - last_time_step_mse: 0.0101 - val_loss: 0.0263 - val_last_time_step_mse: 0.0105\n",
            "Epoch 13/20\n",
            "219/219 [==============================] - 8s 37ms/step - loss: 0.0259 - last_time_step_mse: 0.0097 - val_loss: 0.0257 - val_last_time_step_mse: 0.0100\n",
            "Epoch 14/20\n",
            "219/219 [==============================] - 8s 38ms/step - loss: 0.0257 - last_time_step_mse: 0.0096 - val_loss: 0.0252 - val_last_time_step_mse: 0.0091\n",
            "Epoch 15/20\n",
            "219/219 [==============================] - 8s 38ms/step - loss: 0.0253 - last_time_step_mse: 0.0095 - val_loss: 0.0251 - val_last_time_step_mse: 0.0092\n",
            "Epoch 16/20\n",
            "219/219 [==============================] - 8s 38ms/step - loss: 0.0251 - last_time_step_mse: 0.0095 - val_loss: 0.0248 - val_last_time_step_mse: 0.0089\n",
            "Epoch 17/20\n",
            "219/219 [==============================] - 8s 38ms/step - loss: 0.0248 - last_time_step_mse: 0.0094 - val_loss: 0.0248 - val_last_time_step_mse: 0.0098\n",
            "Epoch 18/20\n",
            "219/219 [==============================] - 8s 38ms/step - loss: 0.0245 - last_time_step_mse: 0.0093 - val_loss: 0.0246 - val_last_time_step_mse: 0.0091\n",
            "Epoch 19/20\n",
            "219/219 [==============================] - 8s 38ms/step - loss: 0.0242 - last_time_step_mse: 0.0091 - val_loss: 0.0238 - val_last_time_step_mse: 0.0085\n",
            "Epoch 20/20\n",
            "219/219 [==============================] - 8s 38ms/step - loss: 0.0239 - last_time_step_mse: 0.0089 - val_loss: 0.0238 - val_last_time_step_mse: 0.0086\n"
          ],
          "name": "stdout"
        }
      ]
    },
    {
      "cell_type": "code",
      "metadata": {
        "colab": {
          "base_uri": "https://localhost:8080/"
        },
        "id": "DZe4lT2VOfIb",
        "outputId": "6e9218ef-3fa5-4d94-e942-4a18e19c7839"
      },
      "source": [
        "model.evaluate(X_valid, Y_valid)"
      ],
      "execution_count": 33,
      "outputs": [
        {
          "output_type": "stream",
          "text": [
            "63/63 [==============================] - 1s 9ms/step - loss: 0.0238 - last_time_step_mse: 0.0086\n"
          ],
          "name": "stdout"
        },
        {
          "output_type": "execute_result",
          "data": {
            "text/plain": [
              "[0.023788681253790855, 0.008560794405639172]"
            ]
          },
          "metadata": {
            "tags": []
          },
          "execution_count": 33
        }
      ]
    },
    {
      "cell_type": "code",
      "metadata": {
        "colab": {
          "base_uri": "https://localhost:8080/",
          "height": 288
        },
        "id": "_DNK6klkOgGc",
        "outputId": "d2b8e216-19a9-4910-a2a0-42f6d2b78c42"
      },
      "source": [
        "np.random.seed(43)\n",
        "\n",
        "series = generate_time_series(1, 50 + 10)\n",
        "X_new, Y_new = series[:, :50, :], series[:, 50:, :]\n",
        "Y_pred = model.predict(X_new)[:, -1][..., np.newaxis]\n",
        "\n",
        "plot_multiple_forecasts(X_new, Y_new, Y_pred)\n",
        "plt.show()"
      ],
      "execution_count": 34,
      "outputs": [
        {
          "output_type": "display_data",
          "data": {
            "image/png": "[encoded data removed]",
            "text/plain": [
              "<Figure size 432x288 with 1 Axes>"
            ]
          },
          "metadata": {
            "tags": [],
            "needs_background": "light"
          }
        }
      ]
    },
    {
      "cell_type": "markdown",
      "metadata": {
        "id": "WqlP0Sp2LWH5"
      },
      "source": [
        "## LSTM Variants \n",
        " A paper in 2015, showed that all LSTM variants performed roughly the same but this is still worth exploring. https://arxiv.org/abs/1503.04069\n",
        "\n",
        " The paper showed that the activation functions contributed the most towards improving model performance.\n",
        "\n",
        "### Peephole Connection\n",
        "\n",
        "This is a small variation to the regular LSTM cell, where a 'peephole' connection is added. The previous long term state, $c_{(t-1)}$, is added as an input to the forget and input gates. While the current long term state, $c_{(t)}$ is added as input to the controller of the output gate.\n",
        "\n",
        "The may improve the performance but it is not a gaurentee. A popular variant to LSTM cell is GRU cells.\n",
        "\n",
        "\n"
      ]
    },
    {
      "cell_type": "markdown",
      "metadata": {
        "id": "uNU2N4SyHJbp"
      },
      "source": [
        "\n",
        "## GRU Cells\n",
        "\n",
        "The Gated Recurrent Unit (GRU) cell is growing in popularity because it simiplifies the LSTM architecture. \n",
        "\n",
        "The state vectors $h$ and $c$ are merged into a single vector $h$. The single gate controller $z$ controls becomes both the forget and input gates. It erases the memory before it stores it in that location. \n",
        "\n",
        "The output is the full state vector at every time step, and because of this there is a new gate controller, $r$ that controls which part to show to the main layer $(g_{(t)})$. \n",
        "\n",
        "Concretely, to put this into multiple formulas: \n",
        "\n",
        "$z_{(t)} = \\sigma(W_{xy}^T X_{t} + W_{hz}^T h_{(t-1)} + b_z)$ -> controls the forget and input gates.\n",
        "\n",
        "\n",
        "$r_{(t)} = \\sigma(W_{xt}^T X_{t} + W_{hr}^T h_{(t-1)} + b_r)$ -> controls which part to show mian layer, $g$.\n",
        "\n",
        "\n",
        "$g_{(t)} = \\tanh(W_{xg}^T X_{t} + W_{xg}^T (r_{(t)} \\otimes h_{(t-1)}) + b_g)$ -> main layer gate.\n",
        "\n",
        "From the above, we can gain the output of the cell:\n",
        "$h_{(t)} = z_{(t)} \\otimes h_{(t-1)} + (1 - z_{(t)}) \\otimes g_{(t)}$\n",
        "\n",
        "Looking at the equation above, we can see that previous hidden state and the main layer gate contributes towards the final output. However, the struggle to learn long term patterns when sequences are 100 time steps or more. To solve this we can shorten the input sequences by using 1D convolutional layers.\n"
      ]
    },
    {
      "cell_type": "markdown",
      "metadata": {
        "id": "kQa7EHc_HPeJ"
      },
      "source": [
        "#### Process Sequences using 1D Convolutional Layers\n",
        "\n",
        "As with CNNs, we saw that filter maps are produced which extract useful features within the data. Similiarly, a `1D convolutional` layer which outputs short sequence patterns, no larger than the kernel size. Using a 1D convolutional layer offers no memory since it does not hold any states between time steps. \n",
        "\n",
        "The 1D layer effectively downsamples (reduces temporal resolution) and, therefore, allows the RNN to detect long term solutions and alleviates unstable gradients. Having them within the architecture is recommended. \n",
        "\n",
        "Be careful of using strides and padding, because the length of the target may be affected. \n",
        "\n",
        "The short sequences allow the GRU to detect longer patterns. \n"
      ]
    },
    {
      "cell_type": "code",
      "metadata": {
        "colab": {
          "base_uri": "https://localhost:8080/"
        },
        "id": "fjdHa2Qxbswy",
        "outputId": "2317fe06-e189-4562-ae33-448716fad3e7"
      },
      "source": [
        "np.random.seed(42)\n",
        "tf.random.set_seed(42)\n",
        "\n",
        "model = keras.models.Sequential([\n",
        "    keras.layers.GRU(20, return_sequences=True, input_shape=[None, 1]),\n",
        "    keras.layers.GRU(20, return_sequences=True),\n",
        "    keras.layers.TimeDistributed(keras.layers.Dense(10))\n",
        "])\n",
        "\n",
        "model.compile(loss=\"mse\", optimizer=\"adam\", metrics=[last_time_step_mse])\n",
        "history = model.fit(X_train, Y_train, epochs=20,\n",
        "                    validation_data=(X_valid, Y_valid))"
      ],
      "execution_count": 35,
      "outputs": [
        {
          "output_type": "stream",
          "text": [
            "Epoch 1/20\n",
            "219/219 [==============================] - 13s 44ms/step - loss: 0.0738 - last_time_step_mse: 0.0655 - val_loss: 0.0538 - val_last_time_step_mse: 0.0450\n",
            "Epoch 2/20\n",
            "219/219 [==============================] - 9s 41ms/step - loss: 0.0476 - last_time_step_mse: 0.0367 - val_loss: 0.0441 - val_last_time_step_mse: 0.0326\n",
            "Epoch 3/20\n",
            "219/219 [==============================] - 9s 41ms/step - loss: 0.0417 - last_time_step_mse: 0.0301 - val_loss: 0.0390 - val_last_time_step_mse: 0.0275\n",
            "Epoch 4/20\n",
            "219/219 [==============================] - 9s 41ms/step - loss: 0.0368 - last_time_step_mse: 0.0243 - val_loss: 0.0339 - val_last_time_step_mse: 0.0202\n",
            "Epoch 5/20\n",
            "219/219 [==============================] - 9s 41ms/step - loss: 0.0326 - last_time_step_mse: 0.0180 - val_loss: 0.0312 - val_last_time_step_mse: 0.0164\n",
            "Epoch 6/20\n",
            "219/219 [==============================] - 9s 41ms/step - loss: 0.0306 - last_time_step_mse: 0.0155 - val_loss: 0.0294 - val_last_time_step_mse: 0.0143\n",
            "Epoch 7/20\n",
            "219/219 [==============================] - 9s 41ms/step - loss: 0.0295 - last_time_step_mse: 0.0145 - val_loss: 0.0300 - val_last_time_step_mse: 0.0162\n",
            "Epoch 8/20\n",
            "219/219 [==============================] - 9s 41ms/step - loss: 0.0283 - last_time_step_mse: 0.0135 - val_loss: 0.0278 - val_last_time_step_mse: 0.0130\n",
            "Epoch 9/20\n",
            "219/219 [==============================] - 9s 41ms/step - loss: 0.0276 - last_time_step_mse: 0.0130 - val_loss: 0.0273 - val_last_time_step_mse: 0.0127\n",
            "Epoch 10/20\n",
            "219/219 [==============================] - 9s 41ms/step - loss: 0.0269 - last_time_step_mse: 0.0125 - val_loss: 0.0264 - val_last_time_step_mse: 0.0121\n",
            "Epoch 11/20\n",
            "219/219 [==============================] - 9s 41ms/step - loss: 0.0265 - last_time_step_mse: 0.0121 - val_loss: 0.0268 - val_last_time_step_mse: 0.0135\n",
            "Epoch 12/20\n",
            "219/219 [==============================] - 9s 41ms/step - loss: 0.0263 - last_time_step_mse: 0.0123 - val_loss: 0.0261 - val_last_time_step_mse: 0.0123\n",
            "Epoch 13/20\n",
            "219/219 [==============================] - 9s 42ms/step - loss: 0.0258 - last_time_step_mse: 0.0116 - val_loss: 0.0254 - val_last_time_step_mse: 0.0116\n",
            "Epoch 14/20\n",
            "219/219 [==============================] - 9s 42ms/step - loss: 0.0256 - last_time_step_mse: 0.0117 - val_loss: 0.0254 - val_last_time_step_mse: 0.0116\n",
            "Epoch 15/20\n",
            "219/219 [==============================] - 9s 41ms/step - loss: 0.0253 - last_time_step_mse: 0.0114 - val_loss: 0.0250 - val_last_time_step_mse: 0.0112\n",
            "Epoch 16/20\n",
            "219/219 [==============================] - 9s 41ms/step - loss: 0.0251 - last_time_step_mse: 0.0114 - val_loss: 0.0250 - val_last_time_step_mse: 0.0114\n",
            "Epoch 17/20\n",
            "219/219 [==============================] - 9s 42ms/step - loss: 0.0248 - last_time_step_mse: 0.0112 - val_loss: 0.0249 - val_last_time_step_mse: 0.0118\n",
            "Epoch 18/20\n",
            "219/219 [==============================] - 9s 42ms/step - loss: 0.0245 - last_time_step_mse: 0.0110 - val_loss: 0.0244 - val_last_time_step_mse: 0.0108\n",
            "Epoch 19/20\n",
            "219/219 [==============================] - 9s 43ms/step - loss: 0.0243 - last_time_step_mse: 0.0108 - val_loss: 0.0240 - val_last_time_step_mse: 0.0105\n",
            "Epoch 20/20\n",
            "219/219 [==============================] - 9s 42ms/step - loss: 0.0240 - last_time_step_mse: 0.0106 - val_loss: 0.0238 - val_last_time_step_mse: 0.0103\n"
          ],
          "name": "stdout"
        }
      ]
    },
    {
      "cell_type": "code",
      "metadata": {
        "colab": {
          "base_uri": "https://localhost:8080/"
        },
        "id": "93jtADesbxOQ",
        "outputId": "dbfcb290-05bb-4356-e461-222e8db62598"
      },
      "source": [
        "model.evaluate(X_valid, Y_valid)"
      ],
      "execution_count": 36,
      "outputs": [
        {
          "output_type": "stream",
          "text": [
            "63/63 [==============================] - 1s 8ms/step - loss: 0.0238 - last_time_step_mse: 0.0103\n"
          ],
          "name": "stdout"
        },
        {
          "output_type": "execute_result",
          "data": {
            "text/plain": [
              "[0.023785505443811417, 0.010262807831168175]"
            ]
          },
          "metadata": {
            "tags": []
          },
          "execution_count": 36
        }
      ]
    },
    {
      "cell_type": "code",
      "metadata": {
        "colab": {
          "base_uri": "https://localhost:8080/",
          "height": 288
        },
        "id": "4r2g5wfIbxzF",
        "outputId": "c77c432f-64a7-4a34-c071-e2e05fe84f61"
      },
      "source": [
        "np.random.seed(43)\n",
        "\n",
        "series = generate_time_series(1, 50 + 10)\n",
        "X_new, Y_new = series[:, :50, :], series[:, 50:, :]\n",
        "Y_pred = model.predict(X_new)[:, -1][..., np.newaxis]\n",
        "\n",
        "\n",
        "plot_multiple_forecasts(X_new, Y_new, Y_pred)\n",
        "plt.show()"
      ],
      "execution_count": 37,
      "outputs": [
        {
          "output_type": "display_data",
          "data": {
            "image/png": "[encoded data removed]",
            "text/plain": [
              "<Figure size 432x288 with 1 Axes>"
            ]
          },
          "metadata": {
            "tags": [],
            "needs_background": "light"
          }
        }
      ]
    },
    {
      "cell_type": "markdown",
      "metadata": {
        "id": "-FUEbaZoJGut"
      },
      "source": [
        "## WaveNet"
      ]
    },
    {
      "cell_type": "markdown",
      "metadata": {
        "id": "KYC-f7XncGRX"
      },
      "source": [
        "WaveNet was introduced by Google's DeepMind researchers. The stacked 1D convolutional layers together with varius dilation rates. Meaning only a few neurons were connected to the next layer.\n",
        "\n",
        "The first layer starts of with 2 connection to the time steps, while the next will have 4, the next will have 8 connection to the layer before.\n",
        "\n",
        "Similiar to how convolutional layers detect smaller patterns low level and then larger patterns as data gets passed through the network, stacking 1D convolutional layers allows us to detect long term patterns. This can allow us to work with extremely long sequences.\n",
        "\n"
      ]
    }
  ]
}