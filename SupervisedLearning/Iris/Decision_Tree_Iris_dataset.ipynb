{
 "cells": [
  {
   "cell_type": "markdown",
   "metadata": {},
   "source": [
    "# Load Data\n",
    "note, we are not splitting the data like normal, we should split into test and train but for purposes of this tutorial, we are learning more about DecisionTree and how they work.\n",
    "\n",
    "### NOTE the benefit of DecisionTree is that they require very little data preparation, so we do NOT need to do any feature scaling at all! \n",
    "\n",
    "Decision Tree can also be used as a regressor. "
   ]
  },
  {
   "cell_type": "code",
   "execution_count": 1,
   "metadata": {},
   "outputs": [
    {
     "data": {
      "text/plain": [
       "DecisionTreeClassifier(ccp_alpha=0.0, class_weight=None, criterion='gini',\n",
       "                       max_depth=2, max_features=None, max_leaf_nodes=None,\n",
       "                       min_impurity_decrease=0.0, min_impurity_split=None,\n",
       "                       min_samples_leaf=1, min_samples_split=2,\n",
       "                       min_weight_fraction_leaf=0.0, presort='deprecated',\n",
       "                       random_state=42, splitter='best')"
      ]
     },
     "execution_count": 1,
     "metadata": {},
     "output_type": "execute_result"
    }
   ],
   "source": [
    "from sklearn.datasets import load_iris\n",
    "from sklearn.tree import DecisionTreeClassifier\n",
    "\n",
    "iris = load_iris()\n",
    "X= iris.data[:, 2:] #petal length and width\n",
    "y= iris['target']\n",
    "\n",
    "tree_clf = DecisionTreeClassifier(random_state=42, max_depth=2 ,criterion='gini')#keep thing simple for now\n",
    "tree_clf.fit(X, y)"
   ]
  },
  {
   "cell_type": "markdown",
   "metadata": {},
   "source": [
    "### Let's take a look at the tree that was created\n",
    "You use the export_graphviz() to do this."
   ]
  },
  {
   "cell_type": "code",
   "execution_count": 2,
   "metadata": {},
   "outputs": [],
   "source": [
    "from sklearn.tree import export_graphviz\n",
    "import os\n",
    "from graphviz import Source\n",
    "\n",
    "export_graphviz(\n",
    "                tree_clf,\n",
    "                out_file= os.path.join(os.getcwd(), 'DecisionTree_Iris.dot'),\n",
    "                feature_names= iris.feature_names[2:],\n",
    "                class_names= iris.target_names,\n",
    "                rounded= True,\n",
    "                filled= True)\n",
    "\n",
    "#This does not seem to work for me but let me know if it works for you, I am currently on Windows\n",
    "\n",
    "# Source.from_file(os.path.join(os.getcwd(), 'DecisionTree_Iris.dot'))\n"
   ]
  },
  {
   "cell_type": "markdown",
   "metadata": {},
   "source": [
    "### Decision Tree have attributes and their terminology includes:  \n",
    "\n",
    "1. Value: how many instances each node applies to\n",
    "2. Gini: measures impurity of each node. Pure (when gini=0), meaning all instances belong to that node's class. 1 - (ratio of value for each class/overall node sample)^2. If all the instances (i.e. decisions) are wrong then this value will be 1. \n",
    "3. Sample: How many instances the node applies to. \n",
    "\n",
    "Decision Tree uses yes or no answering so you will find that the depth of your tree will increase tremendously - i.e. Binary trees is produced when it uses something called the 'CART' algorithm. \n",
    "\n",
    "### Classification and Regression Tree (CART) \n",
    "Greedily Searches the data so that it searches the purest subset. The cost function is a very different to what you are used to seeing because it contains G (the left and right impurity of the subset) as well.\n",
    "The CART algorithm stops spliting the data until it:\n",
    "1. reaches the limit set out in the regularization hyperparameter (max_depth, min_samples_split, min_samples_leaf, max_leaf_nodes etc.)\n",
    "\n",
    "2. Fails to find a split that reduces impurity.  THE AIM IS TO REDUCE IMPURITY TO ZERO! In reality, this is not possible. \n",
    "\n",
    "The solution that the CART algorithm gives is not always optimal but is reasonable. \n",
    "<b> Computational Complexity </b>\n",
    "O(n x mlog2(m)), where n is the set max_features (if set) and m is the number of instances. So predictions are <b> really fast even with large training data. </b> \n",
    "For example, if the number of instances are 1,000,000 then the depth will be log2(1,000,000) ~ 20 nodes, but in reality the nodes will not be perfectly balanced so it will be more. \n",
    "For example, to calculate the how much time it will take to calculate m1=1,000,000 and m2= 10,000,000 instances. Knowing that it takes 1 hour to process m1 instances then to calculate m2 gives:\n",
    "K = (n x m2)log2(m2)/(n x m1)log2(m1)= 10m1 x log2(10m1)/ m1 x log2(m1) ~ 11.7 hours   \n"
   ]
  },
  {
   "cell_type": "code",
   "execution_count": 3,
   "metadata": {},
   "outputs": [
    {
     "data": {
      "image/png": "[encoded data removed]",
      "text/plain": [
       "<Figure size 720x432 with 1 Axes>"
      ]
     },
     "metadata": {
      "needs_background": "light"
     },
     "output_type": "display_data"
    }
   ],
   "source": [
    "from matplotlib.colors import ListedColormap\n",
    "import matplotlib.pyplot as plt\n",
    "import numpy as np\n",
    "\n",
    "#Make a function that we can reuse to plot\n",
    "def plot_decision_boundary(clf, X, y, axes=[0, 7.5, 0, 3],\n",
    "                           iris=True, legend=False, plot_training=True):\n",
    "    #obtain all the points of the graph and lines you would like to plot\n",
    "    x1s = np.linspace(axes[0], axes[1], 100)\n",
    "    x2s = np.linspace(axes[2], axes[3], 100)\n",
    "    x1, x2 = np.meshgrid(x1s, x2s)\n",
    "    X_new = np.c_[x1.ravel(), x2.ravel()]\n",
    "    \n",
    "    #make predictions on the classifier so you can use this value to plot\n",
    "    y_pred = clf.predict(X_new).reshape(x1.shape)\n",
    "    \n",
    "    #make it look pretty\n",
    "    custom_cmap = ListedColormap(['#9898ff','#fafab0','#a0faa0'])\n",
    "    plt.contourf(x1, x2, y_pred, alpha=0.3, cmap=custom_cmap)\n",
    "    \n",
    "    #Assign different colours if not the iris data set\n",
    "    if not iris:\n",
    "        custom_cmap2 = ListedColormap(['#7d7d58','#4c4c7f','#507d50'])\n",
    "        plt.contour(x1, x2, y_pred, cmap=custom_cmap2, alpha=0.8)\n",
    "    \n",
    "    #Plot training \n",
    "    if plot_training:\n",
    "        plt.plot(X[:, 0][y==0], X[:, 1][y==0], \"yo\", label=\"Iris setosa\")\n",
    "        plt.plot(X[:, 0][y==1], X[:, 1][y==1], \"bs\", label=\"Iris versicolor\")\n",
    "        plt.plot(X[:, 0][y==2], X[:, 1][y==2], \"g^\", label=\"Iris virginica\")\n",
    "        plt.axis(axes)\n",
    "    \n",
    "    #Label axis\n",
    "    if iris:\n",
    "        plt.xlabel(\"Petal length\", fontsize=14)\n",
    "        plt.ylabel(\"Petal width\", fontsize=14)\n",
    "    \n",
    "    #label axis if not iris\n",
    "    else:\n",
    "        plt.xlabel(r\"$x_1$\", fontsize=18)\n",
    "        plt.ylabel(r\"$x_2$\", fontsize=18, rotation=0)\n",
    "    \n",
    "    if legend:\n",
    "        plt.legend(loc=\"upper left\", fontsize=14)\n",
    "\n",
    "plt.figure(figsize=(10, 6))\n",
    "plot_decision_boundary(tree_clf, X, y, legend=True, iris= True)\n",
    "\n",
    "#plot decision boundary lines\n",
    "plt.plot([2.45, 2.45], [0, 3], \"b-\", linewidth=3)\n",
    "plt.plot([2.45, 7.5], [1.75, 1.75], \"r--\", linewidth=3)\n",
    "\n",
    "\n",
    "#if max_depth was 3! We should get further seperation on the hashed line, change it and give it\n",
    "# a go!\n",
    "plt.plot([4.95, 4.95], [0, 1.75], \"k:\", linewidth=3)\n",
    "\n",
    "#Plot depth of the lines, (depth2) occurs only then we use max_depth=3 (i.e. 3 levels down)\n",
    "plt.text(1.40, 1.0, \"Depth=0\", fontsize=15)\n",
    "plt.text(3.2, 1.80, \"Depth=1\", fontsize=13)\n",
    "plt.text(4.05, 0.5, \"(Depth=2)\", fontsize=11)\n",
    "\n",
    "plt.show()"
   ]
  },
  {
   "cell_type": "markdown",
   "metadata": {},
   "source": [
    "### Benefit of Decision Boundary is because they are considered a 'white boxes' you can see how the decision was made, for example less than 2.45cm Petal Length then it is an Iris Setosa. We can see this from the graph. \n",
    "\n",
    "### However, RandomForest and Neural Networks are considerd 'black boxes' often it difficult to explain why a certain decision was made. "
   ]
  },
  {
   "cell_type": "markdown",
   "metadata": {},
   "source": [
    "Decision Trees can be used for predicting probabilities by using the ratio of value for each class/overall node sample, we obtain a probability. \n",
    "\n",
    "For example, there are quite a few instances scattered around Petal Length= 5cm and Petal Width= 1.5cm. It appears that the decision should fall in the Iris Virginica but how does it determine this? It usues the ratio!\n",
    "\n",
    "We can obtain the probability that an instance belongs to each class by using the predict_proba method. "
   ]
  },
  {
   "cell_type": "code",
   "execution_count": 4,
   "metadata": {},
   "outputs": [
    {
     "data": {
      "text/plain": [
       "array([[0.        , 0.90740741, 0.09259259]])"
      ]
     },
     "execution_count": 4,
     "metadata": {},
     "output_type": "execute_result"
    }
   ],
   "source": [
    "tree_clf.predict_proba([[5., 1.5]]) #probability: Setosa: Versicolor: Virginica"
   ]
  },
  {
   "cell_type": "code",
   "execution_count": 5,
   "metadata": {},
   "outputs": [
    {
     "data": {
      "text/plain": [
       "array([1])"
      ]
     },
     "execution_count": 5,
     "metadata": {},
     "output_type": "execute_result"
    }
   ],
   "source": [
    "# now the maximum value determines the class the instance falls under\n",
    "tree_clf.predict([[5, 1.5]])"
   ]
  },
  {
   "cell_type": "code",
   "execution_count": 6,
   "metadata": {},
   "outputs": [
    {
     "data": {
      "text/plain": [
       "array([[0.        , 0.90740741, 0.09259259]])"
      ]
     },
     "execution_count": 6,
     "metadata": {},
     "output_type": "execute_result"
    }
   ],
   "source": [
    "tree_clf.predict_proba([[5., 0.5]]) #note how probabilities are the same throughout the area\n",
    "#because DecisionTree uses samples and values to calculate probability of each class "
   ]
  },
  {
   "cell_type": "markdown",
   "metadata": {},
   "source": [
    "# Gini vs Entropy Impurity? \n",
    "#### criterion= gini or criterion= entropy ???\n",
    "\n",
    "##### Before reading on, there is virtually no difference between the two impurities and you should not bog down too much on analysing the differences because they lead to similiar DecisionTrees. \n",
    "\n",
    "Entropy, in thermodynamics, is the movement of molecules disorder. Entropy is zero when at absolute zero. \n",
    "\n",
    "A set's (i.e. leaf node) instance is zero entropy when it only contains instances of one class. Similiar to calculating gini, we can use H = -sum(impurity ratio x log2(impurity ratio).\n",
    "The impurity ratio is the number of class instances by the number of instances - values /samples. \n",
    "\n",
    "<i> Reducing entropy is called information gain. </i> "
   ]
  },
  {
   "cell_type": "code",
   "execution_count": 7,
   "metadata": {},
   "outputs": [
    {
     "data": {
      "text/plain": [
       "DecisionTreeClassifier(ccp_alpha=0.0, class_weight=None, criterion='entropy',\n",
       "                       max_depth=2, max_features=None, max_leaf_nodes=None,\n",
       "                       min_impurity_decrease=0.0, min_impurity_split=None,\n",
       "                       min_samples_leaf=1, min_samples_split=2,\n",
       "                       min_weight_fraction_leaf=0.0, presort='deprecated',\n",
       "                       random_state=42, splitter='best')"
      ]
     },
     "execution_count": 7,
     "metadata": {},
     "output_type": "execute_result"
    }
   ],
   "source": [
    "entropy_tree_clf = DecisionTreeClassifier(random_state=42,max_depth=2, criterion='entropy')\n",
    "entropy_tree_clf.fit(X, y)"
   ]
  },
  {
   "cell_type": "code",
   "execution_count": 8,
   "metadata": {},
   "outputs": [
    {
     "data": {
      "image/png": "[encoded data removed]",
      "text/plain": [
       "<Figure size 720x432 with 1 Axes>"
      ]
     },
     "metadata": {
      "needs_background": "light"
     },
     "output_type": "display_data"
    }
   ],
   "source": [
    "from matplotlib.colors import ListedColormap\n",
    "import matplotlib.pyplot as plt\n",
    "import numpy as np\n",
    "\n",
    "plt.figure(figsize=(10, 6))\n",
    "plot_decision_boundary(entropy_tree_clf, X, y, legend=True, iris= True)\n",
    "\n",
    "#plot decision boundary lines\n",
    "plt.plot([2.45, 2.45], [0, 3], \"y-\", linewidth=3)\n",
    "plt.plot([2.45, 7.5], [1.75, 1.75], \"g--\", linewidth=3)\n",
    "\n",
    "\n",
    "#if max_depth was 3! We should get further seperation on the hashed line, change it and give it\n",
    "# a go!\n",
    "plt.plot([4.95, 4.95], [0, 1.75], \"k:\", linewidth=3)\n",
    "\n",
    "#Plot depth of the lines, (depth2) occurs only then we use max_depth=3 (i.e. 3 levels down)\n",
    "plt.text(1.40, 1.0, \"Depth=0\", fontsize=15)\n",
    "plt.text(3.2, 1.80, \"Depth=1\", fontsize=13)\n",
    "plt.text(4.05, 0.5, \"(Depth=2)\", fontsize=11)\n",
    "\n",
    "entrop_plot = plt.show()"
   ]
  },
  {
   "cell_type": "code",
   "execution_count": 9,
   "metadata": {},
   "outputs": [
    {
     "data": {
      "text/plain": [
       "array([[0.        , 0.90740741, 0.09259259]])"
      ]
     },
     "execution_count": 9,
     "metadata": {},
     "output_type": "execute_result"
    }
   ],
   "source": [
    "entropy_tree_clf.predict_proba([[5., 1.5]])"
   ]
  },
  {
   "cell_type": "markdown",
   "metadata": {},
   "source": [
    "# Instability\n",
    "\n",
    "#### Decision Tree problems\n",
    "\n",
    "1. Decision Trees are sensitive to small variations in the data.\n",
    "2. Trees are stochaistic they will yiel different models on the same training set - unless you assign random_state=42 \n",
    "3. All Decision Trees (decision boundary) split data either horizontally or vertically. So if the orientation of the rotated (say by 45 degrees) then we would have a stepped convoluted decision boundary, that would not generalize well, not a 45degree line that we would expect. \n",
    "\n",
    "# One way to obtain better orientation of your training data is to use Principal Component Analysis (PCA)"
   ]
  }
 ],
 "metadata": {
  "kernelspec": {
   "display_name": "TrainingPython3",
   "language": "python",
   "name": "trainingpython3"
  },
  "language_info": {
   "codemirror_mode": {
    "name": "ipython",
    "version": 3
   },
   "file_extension": ".py",
   "mimetype": "text/x-python",
   "name": "python",
   "nbconvert_exporter": "python",
   "pygments_lexer": "ipython3",
   "version": "3.8.2"
  }
 },
 "nbformat": 4,
 "nbformat_minor": 4
}
