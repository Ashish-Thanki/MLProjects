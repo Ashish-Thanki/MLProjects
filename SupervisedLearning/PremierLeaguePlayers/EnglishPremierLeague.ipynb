{
 "cells": [
  {
   "cell_type": "markdown",
   "metadata": {},
   "source": [
    "# Load Data\n",
    "https://www.sciencedirect.com/science/article/pii/S2210832717301485 \n",
    "aim is to be able to determine if a team will win or not against a given team\n",
    "OR \n",
    "determine the final league position? \n",
    "\n",
    "or determine how many goals a team will score? "
   ]
  },
  {
   "cell_type": "code",
   "execution_count": 15,
   "metadata": {},
   "outputs": [
    {
     "name": "stdout",
     "output_type": "stream",
     "text": [
      "<class 'pandas.core.frame.DataFrame'>\n",
      "RangeIndex: 576 entries, 0 to 575\n",
      "Data columns (total 45 columns):\n",
      " #   Column        Non-Null Count  Dtype  \n",
      "---  ------        --------------  -----  \n",
      " 0   Unnamed: 0    576 non-null    int64  \n",
      " 1   h_a           576 non-null    object \n",
      " 2   xG            576 non-null    float64\n",
      " 3   xGA           576 non-null    float64\n",
      " 4   npxG          576 non-null    float64\n",
      " 5   npxGA         576 non-null    float64\n",
      " 6   deep          576 non-null    int64  \n",
      " 7   deep_allowed  576 non-null    int64  \n",
      " 8   scored        576 non-null    int64  \n",
      " 9   missed        576 non-null    int64  \n",
      " 10  xpts          576 non-null    float64\n",
      " 11  result        576 non-null    object \n",
      " 12  date          576 non-null    object \n",
      " 13  wins          576 non-null    int64  \n",
      " 14  draws         576 non-null    int64  \n",
      " 15  loses         576 non-null    int64  \n",
      " 16  pts           576 non-null    int64  \n",
      " 17  npxGD         576 non-null    float64\n",
      " 18  teamId        576 non-null    object \n",
      " 19  ppda_cal      576 non-null    float64\n",
      " 20  allowed_ppda  576 non-null    float64\n",
      " 21  matchtime     576 non-null    int64  \n",
      " 22  tot_points    576 non-null    int64  \n",
      " 23  round         576 non-null    int64  \n",
      " 24  tot_goal      576 non-null    int64  \n",
      " 25  tot_con       576 non-null    int64  \n",
      " 26  Referee.x     576 non-null    object \n",
      " 27  HS.x          576 non-null    int64  \n",
      " 28  HST.x         576 non-null    int64  \n",
      " 29  HF.x          576 non-null    int64  \n",
      " 30  HC.x          576 non-null    int64  \n",
      " 31  HY.x          576 non-null    int64  \n",
      " 32  HR.x          576 non-null    int64  \n",
      " 33  AS.x          576 non-null    int64  \n",
      " 34  AST.x         576 non-null    int64  \n",
      " 35  AF.x          576 non-null    int64  \n",
      " 36  AC.x          576 non-null    int64  \n",
      " 37  AY.x          576 non-null    int64  \n",
      " 38  AR.x          576 non-null    int64  \n",
      " 39  B365H.x       576 non-null    float64\n",
      " 40  B365D.x       576 non-null    float64\n",
      " 41  B365A.x       576 non-null    float64\n",
      " 42  HtrgPerc      576 non-null    float64\n",
      " 43  AtrgPerc      576 non-null    float64\n",
      " 44  matchDay      576 non-null    object \n",
      "dtypes: float64(13), int64(26), object(6)\n",
      "memory usage: 189.1+ KB\n"
     ]
    }
   ],
   "source": [
    "import pandas as pd \n",
    "\n",
    "data = pd.read_csv('datasets_646273_1158966_epl2020.csv')\n",
    "data.info()"
   ]
  },
  {
   "cell_type": "markdown",
   "metadata": {},
   "source": [
    "#  Explore Data"
   ]
  },
  {
   "cell_type": "code",
   "execution_count": 21,
   "metadata": {},
   "outputs": [
    {
     "data": {
      "text/plain": [
       "0      w\n",
       "1      l\n",
       "2      w\n",
       "3      l\n",
       "4      d\n",
       "      ..\n",
       "571    l\n",
       "572    l\n",
       "573    w\n",
       "574    l\n",
       "575    w\n",
       "Name: result, Length: 576, dtype: object"
      ]
     },
     "execution_count": 21,
     "metadata": {},
     "output_type": "execute_result"
    }
   ],
   "source": [
    "pd.options.display.max_columns = 100\n",
    "\n",
    "data['teamId'].value_counts() #use one hot encorder\n",
    "data['matchDay'].value_counts() #use one hot encoder\n",
    "data['Referee.x'].value_counts()\n",
    "data['date'] #drop? \n",
    "data['h_a'] #one hot encoder\n",
    "data['result'] #= cam this be y? "
   ]
  },
  {
   "cell_type": "code",
   "execution_count": null,
   "metadata": {},
   "outputs": [],
   "source": []
  },
  {
   "cell_type": "markdown",
   "metadata": {},
   "source": [
    "# Can I use PCA?\n",
    "\n",
    "### Reduce dimensions and see what the clusters of teams look like? Maybe try condensing the teams down into groups and sum/average columns to clusters? \n",
    "\n",
    "### SVM Classifier to predict win, loss or draw"
   ]
  },
  {
   "cell_type": "code",
   "execution_count": null,
   "metadata": {},
   "outputs": [],
   "source": []
  }
 ],
 "metadata": {
  "kernelspec": {
   "display_name": "TrainingPython3",
   "language": "python",
   "name": "trainingpython3"
  },
  "language_info": {
   "codemirror_mode": {
    "name": "ipython",
    "version": 3
   },
   "file_extension": ".py",
   "mimetype": "text/x-python",
   "name": "python",
   "nbconvert_exporter": "python",
   "pygments_lexer": "ipython3",
   "version": "3.8.2"
  }
 },
 "nbformat": 4,
 "nbformat_minor": 4
}
